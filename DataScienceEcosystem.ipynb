{
  "nbformat": 4,
  "nbformat_minor": 0,
  "metadata": {
    "colab": {
      "provenance": []
    },
    "kernelspec": {
      "name": "python3",
      "display_name": "Python 3"
    },
    "language_info": {
      "name": "python"
    }
  },
  "cells": [
    {
      "cell_type": "markdown",
      "source": [
        "#Data Science Tools and Ecosystem\n"
      ],
      "metadata": {
        "id": "4lXUGKjCfkWM"
      }
    },
    {
      "cell_type": "markdown",
      "source": [
        "In this notebook, Data Science Tools and Ecosystem are summarized."
      ],
      "metadata": {
        "id": "NIZBiojoiSYK"
      }
    },
    {
      "cell_type": "markdown",
      "source": [
        "**Objectives:**\n",
        "\n",
        "- List of Popular Languages in DataScience\n",
        "- Open Source Data Science Tools\n",
        "- Phases of Data Analysis\n",
        "- Introduction to Python & R"
      ],
      "metadata": {
        "id": "rbeZDTnQsW_d"
      }
    },
    {
      "cell_type": "markdown",
      "source": [],
      "metadata": {
        "id": "O1mJ2xF0sXOS"
      }
    },
    {
      "cell_type": "markdown",
      "source": [
        "Some of the popular languages that Data Scientists use are:\n",
        "1. Python\n",
        "2. R\n",
        "3. C++\n"
      ],
      "metadata": {
        "id": "bz3ibqj7iUgv"
      }
    },
    {
      "cell_type": "markdown",
      "source": [
        "Some of the commonly used libraries used by Data Scientists include:\n",
        "1. Numpy\n",
        "2. Matplotlib\n",
        "3. Seaborn\n",
        "4. Pandas"
      ],
      "metadata": {
        "id": "N8a13lTFl9ST"
      }
    },
    {
      "cell_type": "markdown",
      "source": [
        "###Table of Data Science tools\n",
        "\n",
        "|Data Science Tools |\n",
        "| ------ |\n",
        "| Jupyter Notebook |\n",
        "| RStudio |\n",
        "| SAS |\n",
        "| Tensorflow |\n",
        "| Spark |"
      ],
      "metadata": {
        "id": "DGgBtSP9nAia"
      }
    },
    {
      "cell_type": "markdown",
      "source": [
        "###Below are a few examples of evaluating arithmetic expressions in Python"
      ],
      "metadata": {
        "id": "s8BZXgj8okXk"
      }
    },
    {
      "cell_type": "code",
      "source": [
        "(3*4)+5"
      ],
      "metadata": {
        "colab": {
          "base_uri": "https://localhost:8080/"
        },
        "id": "RatP1Z7Do5Cv",
        "outputId": "eeccd384-bf2d-4c2d-a039-d35f94227b53"
      },
      "execution_count": 1,
      "outputs": [
        {
          "output_type": "execute_result",
          "data": {
            "text/plain": [
              "17"
            ]
          },
          "metadata": {},
          "execution_count": 1
        }
      ]
    },
    {
      "cell_type": "code",
      "source": [
        "# This will convert 200 minutes to hours by diving by 60\n",
        "\n",
        "200/60"
      ],
      "metadata": {
        "colab": {
          "base_uri": "https://localhost:8080/"
        },
        "id": "Jemd3vZ0qpWt",
        "outputId": "29499e49-1710-48ee-ecbf-8f077c4a99d1"
      },
      "execution_count": 2,
      "outputs": [
        {
          "output_type": "execute_result",
          "data": {
            "text/plain": [
              "3.3333333333333335"
            ]
          },
          "metadata": {},
          "execution_count": 2
        }
      ]
    },
    {
      "cell_type": "markdown",
      "source": [
        "##Author:\n",
        "Ashok Kumar Bera"
      ],
      "metadata": {
        "id": "UHzUInbvukZK"
      }
    }
  ]
}