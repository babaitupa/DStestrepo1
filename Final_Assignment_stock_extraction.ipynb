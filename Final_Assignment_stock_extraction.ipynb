{
  "cells": [
    {
      "cell_type": "markdown",
      "metadata": {
        "id": "aa187149-dadf-4188-8c39-a8d7d3687c45"
      },
      "source": [
        "<p style=\"text-align:center\">\n",
        "    <a href=\"https://skills.network/?utm_medium=Exinfluencer&utm_source=Exinfluencer&utm_content=000026UJ&utm_term=10006555&utm_id=NA-SkillsNetwork-Channel-SkillsNetworkCoursesIBMDeveloperSkillsNetworkPY0220ENSkillsNetwork900-2022-01-01\" target=\"_blank\">\n",
        "    <img src=\"https://cf-courses-data.s3.us.cloud-object-storage.appdomain.cloud/assets/logos/SN_web_lightmode.png\" width=\"200\" alt=\"Skills Network Logo\">\n",
        "    </a>\n",
        "</p>\n"
      ]
    },
    {
      "cell_type": "markdown",
      "metadata": {
        "id": "10bf47eb-4157-46ab-bf34-11760c27187c"
      },
      "source": [
        "<h1>Extracting and Visualizing Stock Data</h1>\n",
        "<h2>Description</h2>\n"
      ]
    },
    {
      "cell_type": "markdown",
      "metadata": {
        "id": "3523f97d-8349-48a0-a0a2-b0ddcabb5d74"
      },
      "source": [
        "Extracting essential data from a dataset and displaying it is a necessary part of data science; therefore individuals can make correct decisions based on the data. In this assignment, you will extract some stock data, you will then display this data in a graph.\n"
      ]
    },
    {
      "cell_type": "markdown",
      "metadata": {
        "id": "ea4b58ef-f5fb-47c0-9695-4824b3993436"
      },
      "source": [
        "<h2>Table of Contents</h2>\n",
        "<div class=\"alert alert-block alert-info\" style=\"margin-top: 20px\">\n",
        "    <ul>\n",
        "        <li>Define a Function that Makes a Graph</li>\n",
        "        <li>Question 1: Use yfinance to Extract Stock Data</li>\n",
        "        <li>Question 2: Use Webscraping to Extract Tesla Revenue Data</li>\n",
        "        <li>Question 3: Use yfinance to Extract Stock Data</li>\n",
        "        <li>Question 4: Use Webscraping to Extract GME Revenue Data</li>\n",
        "        <li>Question 5: Plot Tesla Stock Graph</li>\n",
        "        <li>Question 6: Plot GameStop Stock Graph</li>\n",
        "    </ul>\n",
        "<p>\n",
        "    Estimated Time Needed: <strong>30 min</strong></p>\n",
        "</div>\n",
        "\n",
        "<hr>\n"
      ]
    },
    {
      "cell_type": "markdown",
      "metadata": {
        "id": "4b4b923b-46df-4c9f-8f23-c1a173844e20"
      },
      "source": [
        "***Note***:- If you are working Locally using anaconda, please uncomment the following code and execute it.\n"
      ]
    },
    {
      "cell_type": "code",
      "metadata": {
        "id": "89133bf7-030b-49d1-866a-5b0343984f8c"
      },
      "outputs": [],
      "source": [
        "#!pip install yfinance==0.2.38\n",
        "#!pip install pandas==2.2.2\n",
        "#!pip install nbformat"
      ],
      "execution_count": null
    },
    {
      "cell_type": "code",
      "metadata": {
        "id": "f457c8a6-4de8-42c2-a76f-8651b8e96d71"
      },
      "outputs": [],
      "source": [
        "!pip install yfinance\n",
        "!pip install bs4\n",
        "!pip install nbformat"
      ],
      "execution_count": null
    },
    {
      "cell_type": "code",
      "metadata": {
        "id": "a284503f-17a6-40d6-a558-63cd1e15de12"
      },
      "outputs": [],
      "source": [
        "import yfinance as yf\n",
        "import pandas as pd\n",
        "import requests\n",
        "from bs4 import BeautifulSoup\n",
        "import plotly.graph_objects as go\n",
        "from plotly.subplots import make_subplots"
      ],
      "execution_count": 1
    },
    {
      "cell_type": "markdown",
      "metadata": {
        "id": "b5ec07f4-f185-4b61-bfb4-179a64c14f5b"
      },
      "source": [
        "In Python, you can ignore warnings using the warnings module. You can use the filterwarnings function to filter or ignore specific warning messages or categories.\n"
      ]
    },
    {
      "cell_type": "code",
      "metadata": {
        "id": "c048f3c7-3ddf-4687-b58e-4c818010b902"
      },
      "outputs": [],
      "source": [
        "import warnings\n",
        "# Ignore all warnings\n",
        "warnings.filterwarnings(\"ignore\", category=FutureWarning)"
      ],
      "execution_count": 2
    },
    {
      "cell_type": "markdown",
      "metadata": {
        "id": "650d18a7-84c5-4f86-b756-08533e20d0da"
      },
      "source": [
        "## Define Graphing Function\n"
      ]
    },
    {
      "cell_type": "markdown",
      "metadata": {
        "id": "e88193b0-e644-4a34-ae88-3375a6b67d41"
      },
      "source": [
        "In this section, we define the function `make_graph`. **You don't have to know how the function works, you should only care about the inputs. It takes a dataframe with stock data (dataframe must contain Date and Close columns), a dataframe with revenue data (dataframe must contain Date and Revenue columns), and the name of the stock.**\n"
      ]
    },
    {
      "cell_type": "code",
      "metadata": {
        "id": "bbf60624-48dc-4100-a2df-cf8878db53c2"
      },
      "outputs": [],
      "source": [
        "def make_graph(stock_data, revenue_data, stock):\n",
        "    fig = make_subplots(rows=2, cols=1, shared_xaxes=True, subplot_titles=(\"Historical Share Price\", \"Historical Revenue\"), vertical_spacing = .3)\n",
        "    stock_data_specific = stock_data[stock_data.Date <= '2021--06-14']\n",
        "    revenue_data_specific = revenue_data[revenue_data.Date <= '2021-04-30']\n",
        "    fig.add_trace(go.Scatter(x=pd.to_datetime(stock_data_specific.Date), y=stock_data_specific.Close.astype(\"float\"), name=\"Share Price\"), row=1, col=1)\n",
        "    fig.add_trace(go.Scatter(x=pd.to_datetime(revenue_data_specific.Date), y=revenue_data_specific.Revenue.astype(\"float\"), name=\"Revenue\"), row=2, col=1)\n",
        "    fig.update_xaxes(title_text=\"Date\", row=1, col=1)\n",
        "    fig.update_xaxes(title_text=\"Date\", row=2, col=1)\n",
        "    fig.update_yaxes(title_text=\"Price ($US)\", row=1, col=1)\n",
        "    fig.update_yaxes(title_text=\"Revenue ($US Millions)\", row=2, col=1)\n",
        "    fig.update_layout(showlegend=False,\n",
        "    height=900,\n",
        "    title=stock,\n",
        "    xaxis_rangeslider_visible=True)\n",
        "    fig.show()"
      ],
      "execution_count": 3
    },
    {
      "cell_type": "markdown",
      "metadata": {
        "id": "434d3253-4697-4570-894b-31f8041d00ce"
      },
      "source": [
        "Use the make_graph function that we’ve already defined. You’ll need to invoke it in questions 5 and 6 to display the graphs and create the dashboard.\n",
        "> **Note: You don’t need to redefine the function for plotting graphs anywhere else in this notebook; just use the existing function.**\n"
      ]
    },
    {
      "cell_type": "markdown",
      "metadata": {
        "id": "4e1fab34-e7c6-4877-8172-b5f4e9c86557"
      },
      "source": [
        "## Question 1: Use yfinance to Extract Stock Data\n"
      ]
    },
    {
      "cell_type": "markdown",
      "metadata": {
        "id": "d5908b7e-e4fc-45fa-909e-a9e35e2177b7"
      },
      "source": [
        "Using the `Ticker` function enter the ticker symbol of the stock we want to extract data on to create a ticker object. The stock is Tesla and its ticker symbol is `TSLA`.\n"
      ]
    },
    {
      "cell_type": "code",
      "metadata": {
        "id": "6c74c251-cd7c-4409-98b8-a28fe4aeb5b6"
      },
      "outputs": [],
      "source": [
        "tesla = yf.Ticker(\"TSLA\")"
      ],
      "execution_count": 4
    },
    {
      "cell_type": "markdown",
      "metadata": {
        "id": "287cffc3-4554-452b-a222-17bf0c8ca523"
      },
      "source": [
        "Using the ticker object and the function `history` extract stock information and save it in a dataframe named `tesla_data`. Set the `period` parameter to ` \"max\" ` so we get information for the maximum amount of time.\n"
      ]
    },
    {
      "cell_type": "code",
      "metadata": {
        "id": "4c88b333-72c2-4f28-88d6-41f32937f70e"
      },
      "outputs": [],
      "source": [
        "tesla_data = tesla.history(period='max')"
      ],
      "execution_count": 6
    },
    {
      "cell_type": "markdown",
      "metadata": {
        "id": "7a823fc2-d9f8-49b9-9490-ff1d52a6213c"
      },
      "source": [
        "**Reset the index** using the `reset_index(inplace=True)` function on the tesla_data DataFrame and display the first five rows of the `tesla_data` dataframe using the `head` function. Take a screenshot of the results and code from the beginning of Question 1 to the results below.\n"
      ]
    },
    {
      "cell_type": "code",
      "metadata": {
        "colab": {
          "base_uri": "https://localhost:8080/",
          "height": 0
        },
        "collapsed": true,
        "id": "9bcfeb3d-f1ee-49d5-b9af-aca03350d5f9",
        "outputId": "c80569df-a2b6-4352-dd08-93bda604a3b0"
      },
      "outputs": [
        {
          "output_type": "execute_result",
          "data": {
            "text/plain": [
              "                       Date      Open      High       Low     Close  \\\n",
              "0 2010-06-29 00:00:00-04:00  1.266667  1.666667  1.169333  1.592667   \n",
              "1 2010-06-30 00:00:00-04:00  1.719333  2.028000  1.553333  1.588667   \n",
              "2 2010-07-01 00:00:00-04:00  1.666667  1.728000  1.351333  1.464000   \n",
              "3 2010-07-02 00:00:00-04:00  1.533333  1.540000  1.247333  1.280000   \n",
              "4 2010-07-06 00:00:00-04:00  1.333333  1.333333  1.055333  1.074000   \n",
              "\n",
              "      Volume  Dividends  Stock Splits  \n",
              "0  281494500        0.0           0.0  \n",
              "1  257806500        0.0           0.0  \n",
              "2  123282000        0.0           0.0  \n",
              "3   77097000        0.0           0.0  \n",
              "4  103003500        0.0           0.0  "
            ],
            "text/html": [
              "\n",
              "  <div id=\"df-0576c3e5-b033-44a9-95f1-8a975ef6a689\" class=\"colab-df-container\">\n",
              "    <div>\n",
              "<style scoped>\n",
              "    .dataframe tbody tr th:only-of-type {\n",
              "        vertical-align: middle;\n",
              "    }\n",
              "\n",
              "    .dataframe tbody tr th {\n",
              "        vertical-align: top;\n",
              "    }\n",
              "\n",
              "    .dataframe thead th {\n",
              "        text-align: right;\n",
              "    }\n",
              "</style>\n",
              "<table border=\"1\" class=\"dataframe\">\n",
              "  <thead>\n",
              "    <tr style=\"text-align: right;\">\n",
              "      <th></th>\n",
              "      <th>Date</th>\n",
              "      <th>Open</th>\n",
              "      <th>High</th>\n",
              "      <th>Low</th>\n",
              "      <th>Close</th>\n",
              "      <th>Volume</th>\n",
              "      <th>Dividends</th>\n",
              "      <th>Stock Splits</th>\n",
              "    </tr>\n",
              "  </thead>\n",
              "  <tbody>\n",
              "    <tr>\n",
              "      <th>0</th>\n",
              "      <td>2010-06-29 00:00:00-04:00</td>\n",
              "      <td>1.266667</td>\n",
              "      <td>1.666667</td>\n",
              "      <td>1.169333</td>\n",
              "      <td>1.592667</td>\n",
              "      <td>281494500</td>\n",
              "      <td>0.0</td>\n",
              "      <td>0.0</td>\n",
              "    </tr>\n",
              "    <tr>\n",
              "      <th>1</th>\n",
              "      <td>2010-06-30 00:00:00-04:00</td>\n",
              "      <td>1.719333</td>\n",
              "      <td>2.028000</td>\n",
              "      <td>1.553333</td>\n",
              "      <td>1.588667</td>\n",
              "      <td>257806500</td>\n",
              "      <td>0.0</td>\n",
              "      <td>0.0</td>\n",
              "    </tr>\n",
              "    <tr>\n",
              "      <th>2</th>\n",
              "      <td>2010-07-01 00:00:00-04:00</td>\n",
              "      <td>1.666667</td>\n",
              "      <td>1.728000</td>\n",
              "      <td>1.351333</td>\n",
              "      <td>1.464000</td>\n",
              "      <td>123282000</td>\n",
              "      <td>0.0</td>\n",
              "      <td>0.0</td>\n",
              "    </tr>\n",
              "    <tr>\n",
              "      <th>3</th>\n",
              "      <td>2010-07-02 00:00:00-04:00</td>\n",
              "      <td>1.533333</td>\n",
              "      <td>1.540000</td>\n",
              "      <td>1.247333</td>\n",
              "      <td>1.280000</td>\n",
              "      <td>77097000</td>\n",
              "      <td>0.0</td>\n",
              "      <td>0.0</td>\n",
              "    </tr>\n",
              "    <tr>\n",
              "      <th>4</th>\n",
              "      <td>2010-07-06 00:00:00-04:00</td>\n",
              "      <td>1.333333</td>\n",
              "      <td>1.333333</td>\n",
              "      <td>1.055333</td>\n",
              "      <td>1.074000</td>\n",
              "      <td>103003500</td>\n",
              "      <td>0.0</td>\n",
              "      <td>0.0</td>\n",
              "    </tr>\n",
              "  </tbody>\n",
              "</table>\n",
              "</div>\n",
              "    <div class=\"colab-df-buttons\">\n",
              "\n",
              "  <div class=\"colab-df-container\">\n",
              "    <button class=\"colab-df-convert\" onclick=\"convertToInteractive('df-0576c3e5-b033-44a9-95f1-8a975ef6a689')\"\n",
              "            title=\"Convert this dataframe to an interactive table.\"\n",
              "            style=\"display:none;\">\n",
              "\n",
              "  <svg xmlns=\"http://www.w3.org/2000/svg\" height=\"24px\" viewBox=\"0 -960 960 960\">\n",
              "    <path d=\"M120-120v-720h720v720H120Zm60-500h600v-160H180v160Zm220 220h160v-160H400v160Zm0 220h160v-160H400v160ZM180-400h160v-160H180v160Zm440 0h160v-160H620v160ZM180-180h160v-160H180v160Zm440 0h160v-160H620v160Z\"/>\n",
              "  </svg>\n",
              "    </button>\n",
              "\n",
              "  <style>\n",
              "    .colab-df-container {\n",
              "      display:flex;\n",
              "      gap: 12px;\n",
              "    }\n",
              "\n",
              "    .colab-df-convert {\n",
              "      background-color: #E8F0FE;\n",
              "      border: none;\n",
              "      border-radius: 50%;\n",
              "      cursor: pointer;\n",
              "      display: none;\n",
              "      fill: #1967D2;\n",
              "      height: 32px;\n",
              "      padding: 0 0 0 0;\n",
              "      width: 32px;\n",
              "    }\n",
              "\n",
              "    .colab-df-convert:hover {\n",
              "      background-color: #E2EBFA;\n",
              "      box-shadow: 0px 1px 2px rgba(60, 64, 67, 0.3), 0px 1px 3px 1px rgba(60, 64, 67, 0.15);\n",
              "      fill: #174EA6;\n",
              "    }\n",
              "\n",
              "    .colab-df-buttons div {\n",
              "      margin-bottom: 4px;\n",
              "    }\n",
              "\n",
              "    [theme=dark] .colab-df-convert {\n",
              "      background-color: #3B4455;\n",
              "      fill: #D2E3FC;\n",
              "    }\n",
              "\n",
              "    [theme=dark] .colab-df-convert:hover {\n",
              "      background-color: #434B5C;\n",
              "      box-shadow: 0px 1px 3px 1px rgba(0, 0, 0, 0.15);\n",
              "      filter: drop-shadow(0px 1px 2px rgba(0, 0, 0, 0.3));\n",
              "      fill: #FFFFFF;\n",
              "    }\n",
              "  </style>\n",
              "\n",
              "    <script>\n",
              "      const buttonEl =\n",
              "        document.querySelector('#df-0576c3e5-b033-44a9-95f1-8a975ef6a689 button.colab-df-convert');\n",
              "      buttonEl.style.display =\n",
              "        google.colab.kernel.accessAllowed ? 'block' : 'none';\n",
              "\n",
              "      async function convertToInteractive(key) {\n",
              "        const element = document.querySelector('#df-0576c3e5-b033-44a9-95f1-8a975ef6a689');\n",
              "        const dataTable =\n",
              "          await google.colab.kernel.invokeFunction('convertToInteractive',\n",
              "                                                    [key], {});\n",
              "        if (!dataTable) return;\n",
              "\n",
              "        const docLinkHtml = 'Like what you see? Visit the ' +\n",
              "          '<a target=\"_blank\" href=https://colab.research.google.com/notebooks/data_table.ipynb>data table notebook</a>'\n",
              "          + ' to learn more about interactive tables.';\n",
              "        element.innerHTML = '';\n",
              "        dataTable['output_type'] = 'display_data';\n",
              "        await google.colab.output.renderOutput(dataTable, element);\n",
              "        const docLink = document.createElement('div');\n",
              "        docLink.innerHTML = docLinkHtml;\n",
              "        element.appendChild(docLink);\n",
              "      }\n",
              "    </script>\n",
              "  </div>\n",
              "\n",
              "\n",
              "<div id=\"df-4f0c9b6b-9a58-43a3-9843-1647d9df3fe4\">\n",
              "  <button class=\"colab-df-quickchart\" onclick=\"quickchart('df-4f0c9b6b-9a58-43a3-9843-1647d9df3fe4')\"\n",
              "            title=\"Suggest charts\"\n",
              "            style=\"display:none;\">\n",
              "\n",
              "<svg xmlns=\"http://www.w3.org/2000/svg\" height=\"24px\"viewBox=\"0 0 24 24\"\n",
              "     width=\"24px\">\n",
              "    <g>\n",
              "        <path d=\"M19 3H5c-1.1 0-2 .9-2 2v14c0 1.1.9 2 2 2h14c1.1 0 2-.9 2-2V5c0-1.1-.9-2-2-2zM9 17H7v-7h2v7zm4 0h-2V7h2v10zm4 0h-2v-4h2v4z\"/>\n",
              "    </g>\n",
              "</svg>\n",
              "  </button>\n",
              "\n",
              "<style>\n",
              "  .colab-df-quickchart {\n",
              "      --bg-color: #E8F0FE;\n",
              "      --fill-color: #1967D2;\n",
              "      --hover-bg-color: #E2EBFA;\n",
              "      --hover-fill-color: #174EA6;\n",
              "      --disabled-fill-color: #AAA;\n",
              "      --disabled-bg-color: #DDD;\n",
              "  }\n",
              "\n",
              "  [theme=dark] .colab-df-quickchart {\n",
              "      --bg-color: #3B4455;\n",
              "      --fill-color: #D2E3FC;\n",
              "      --hover-bg-color: #434B5C;\n",
              "      --hover-fill-color: #FFFFFF;\n",
              "      --disabled-bg-color: #3B4455;\n",
              "      --disabled-fill-color: #666;\n",
              "  }\n",
              "\n",
              "  .colab-df-quickchart {\n",
              "    background-color: var(--bg-color);\n",
              "    border: none;\n",
              "    border-radius: 50%;\n",
              "    cursor: pointer;\n",
              "    display: none;\n",
              "    fill: var(--fill-color);\n",
              "    height: 32px;\n",
              "    padding: 0;\n",
              "    width: 32px;\n",
              "  }\n",
              "\n",
              "  .colab-df-quickchart:hover {\n",
              "    background-color: var(--hover-bg-color);\n",
              "    box-shadow: 0 1px 2px rgba(60, 64, 67, 0.3), 0 1px 3px 1px rgba(60, 64, 67, 0.15);\n",
              "    fill: var(--button-hover-fill-color);\n",
              "  }\n",
              "\n",
              "  .colab-df-quickchart-complete:disabled,\n",
              "  .colab-df-quickchart-complete:disabled:hover {\n",
              "    background-color: var(--disabled-bg-color);\n",
              "    fill: var(--disabled-fill-color);\n",
              "    box-shadow: none;\n",
              "  }\n",
              "\n",
              "  .colab-df-spinner {\n",
              "    border: 2px solid var(--fill-color);\n",
              "    border-color: transparent;\n",
              "    border-bottom-color: var(--fill-color);\n",
              "    animation:\n",
              "      spin 1s steps(1) infinite;\n",
              "  }\n",
              "\n",
              "  @keyframes spin {\n",
              "    0% {\n",
              "      border-color: transparent;\n",
              "      border-bottom-color: var(--fill-color);\n",
              "      border-left-color: var(--fill-color);\n",
              "    }\n",
              "    20% {\n",
              "      border-color: transparent;\n",
              "      border-left-color: var(--fill-color);\n",
              "      border-top-color: var(--fill-color);\n",
              "    }\n",
              "    30% {\n",
              "      border-color: transparent;\n",
              "      border-left-color: var(--fill-color);\n",
              "      border-top-color: var(--fill-color);\n",
              "      border-right-color: var(--fill-color);\n",
              "    }\n",
              "    40% {\n",
              "      border-color: transparent;\n",
              "      border-right-color: var(--fill-color);\n",
              "      border-top-color: var(--fill-color);\n",
              "    }\n",
              "    60% {\n",
              "      border-color: transparent;\n",
              "      border-right-color: var(--fill-color);\n",
              "    }\n",
              "    80% {\n",
              "      border-color: transparent;\n",
              "      border-right-color: var(--fill-color);\n",
              "      border-bottom-color: var(--fill-color);\n",
              "    }\n",
              "    90% {\n",
              "      border-color: transparent;\n",
              "      border-bottom-color: var(--fill-color);\n",
              "    }\n",
              "  }\n",
              "</style>\n",
              "\n",
              "  <script>\n",
              "    async function quickchart(key) {\n",
              "      const quickchartButtonEl =\n",
              "        document.querySelector('#' + key + ' button');\n",
              "      quickchartButtonEl.disabled = true;  // To prevent multiple clicks.\n",
              "      quickchartButtonEl.classList.add('colab-df-spinner');\n",
              "      try {\n",
              "        const charts = await google.colab.kernel.invokeFunction(\n",
              "            'suggestCharts', [key], {});\n",
              "      } catch (error) {\n",
              "        console.error('Error during call to suggestCharts:', error);\n",
              "      }\n",
              "      quickchartButtonEl.classList.remove('colab-df-spinner');\n",
              "      quickchartButtonEl.classList.add('colab-df-quickchart-complete');\n",
              "    }\n",
              "    (() => {\n",
              "      let quickchartButtonEl =\n",
              "        document.querySelector('#df-4f0c9b6b-9a58-43a3-9843-1647d9df3fe4 button');\n",
              "      quickchartButtonEl.style.display =\n",
              "        google.colab.kernel.accessAllowed ? 'block' : 'none';\n",
              "    })();\n",
              "  </script>\n",
              "</div>\n",
              "\n",
              "    </div>\n",
              "  </div>\n"
            ],
            "application/vnd.google.colaboratory.intrinsic+json": {
              "type": "dataframe",
              "variable_name": "tesla_data",
              "summary": "{\n  \"name\": \"tesla_data\",\n  \"rows\": 3564,\n  \"fields\": [\n    {\n      \"column\": \"Date\",\n      \"properties\": {\n        \"dtype\": \"date\",\n        \"min\": \"2010-06-29 00:00:00-04:00\",\n        \"max\": \"2024-08-26 00:00:00-04:00\",\n        \"num_unique_values\": 3564,\n        \"samples\": [\n          \"2020-06-02 00:00:00-04:00\",\n          \"2011-03-22 00:00:00-04:00\",\n          \"2017-11-01 00:00:00-04:00\"\n        ],\n        \"semantic_type\": \"\",\n        \"description\": \"\"\n      }\n    },\n    {\n      \"column\": \"Open\",\n      \"properties\": {\n        \"dtype\": \"number\",\n        \"std\": 102.7296400515478,\n        \"min\": 1.0759999752044678,\n        \"max\": 411.4700012207031,\n        \"num_unique_values\": 3257,\n        \"samples\": [\n          173.57000732421875,\n          1.6033329963684082,\n          140.4633331298828\n        ],\n        \"semantic_type\": \"\",\n        \"description\": \"\"\n      }\n    },\n    {\n      \"column\": \"High\",\n      \"properties\": {\n        \"dtype\": \"number\",\n        \"std\": 105.0117341367447,\n        \"min\": 1.108667016029358,\n        \"max\": 414.4966735839844,\n        \"num_unique_values\": 3250,\n        \"samples\": [\n          209.27999877929688,\n          20.016000747680664,\n          15.929332733154297\n        ],\n        \"semantic_type\": \"\",\n        \"description\": \"\"\n      }\n    },\n    {\n      \"column\": \"Low\",\n      \"properties\": {\n        \"dtype\": \"number\",\n        \"std\": 100.24487149407071,\n        \"min\": 0.9986670017242432,\n        \"max\": 405.6666564941406,\n        \"num_unique_values\": 3266,\n        \"samples\": [\n          231.02000427246094,\n          1.5779999494552612,\n          1.9646669626235962\n        ],\n        \"semantic_type\": \"\",\n        \"description\": \"\"\n      }\n    },\n    {\n      \"column\": \"Close\",\n      \"properties\": {\n        \"dtype\": \"number\",\n        \"std\": 102.65639302600259,\n        \"min\": 1.053333044052124,\n        \"max\": 409.9700012207031,\n        \"num_unique_values\": 3361,\n        \"samples\": [\n          17.319332122802734,\n          91.6259994506836,\n          15.660667419433594\n        ],\n        \"semantic_type\": \"\",\n        \"description\": \"\"\n      }\n    },\n    {\n      \"column\": \"Volume\",\n      \"properties\": {\n        \"dtype\": \"number\",\n        \"std\": 78477744,\n        \"min\": 1777500,\n        \"max\": 914082000,\n        \"num_unique_values\": 3533,\n        \"samples\": [\n          8635500,\n          87579000,\n          106945500\n        ],\n        \"semantic_type\": \"\",\n        \"description\": \"\"\n      }\n    },\n    {\n      \"column\": \"Dividends\",\n      \"properties\": {\n        \"dtype\": \"number\",\n        \"std\": 0.0,\n        \"min\": 0.0,\n        \"max\": 0.0,\n        \"num_unique_values\": 1,\n        \"samples\": [\n          0.0\n        ],\n        \"semantic_type\": \"\",\n        \"description\": \"\"\n      }\n    },\n    {\n      \"column\": \"Stock Splits\",\n      \"properties\": {\n        \"dtype\": \"number\",\n        \"std\": 0.09766002455135718,\n        \"min\": 0.0,\n        \"max\": 5.0,\n        \"num_unique_values\": 3,\n        \"samples\": [\n          0.0\n        ],\n        \"semantic_type\": \"\",\n        \"description\": \"\"\n      }\n    }\n  ]\n}"
            }
          },
          "metadata": {},
          "execution_count": 8
        }
      ],
      "source": [
        "tesla_data.reset_index(inplace=True)\n",
        "tesla_data.head()"
      ],
      "execution_count": 8
    },
    {
      "cell_type": "markdown",
      "metadata": {
        "id": "9fc7053f-f00c-4572-b757-85b9255ba69b"
      },
      "source": [
        "## Question 2: Use Webscraping to Extract Tesla Revenue Data\n"
      ]
    },
    {
      "cell_type": "markdown",
      "metadata": {
        "id": "a3b6fcf4-99af-480c-ad42-f5c90986ea37"
      },
      "source": [
        "Use the `requests` library to download the webpage https://cf-courses-data.s3.us.cloud-object-storage.appdomain.cloud/IBMDeveloperSkillsNetwork-PY0220EN-SkillsNetwork/labs/project/revenue.htm Save the text of the response as a variable named `html_data`.\n"
      ]
    },
    {
      "cell_type": "code",
      "metadata": {
        "id": "a4228af6-b84e-4928-963f-5131d476ea3d"
      },
      "outputs": [],
      "source": [
        "url = \"https://cf-courses-data.s3.us.cloud-object-storage.appdomain.cloud/IBMDeveloperSkillsNetwork-PY0220EN-SkillsNetwork/labs/project/revenue.htm\""
      ],
      "execution_count": 39
    },
    {
      "cell_type": "code",
      "source": [
        "html_data  = requests.get(url).text\n"
      ],
      "metadata": {
        "id": "RB0yCK4-wblS"
      },
      "execution_count": 40,
      "outputs": []
    },
    {
      "cell_type": "markdown",
      "metadata": {
        "id": "50176844-a2db-4107-b308-4e7a91989934"
      },
      "source": [
        "Parse the html data using `beautiful_soup` using parser i.e `html5lib` or `html.parser`. Make sure to use the `html_data` with the content parameter as follow `html_data.content` .\n"
      ]
    },
    {
      "cell_type": "code",
      "metadata": {
        "id": "79457109-6276-4cc1-b1e1-00c38dc280c2"
      },
      "outputs": [],
      "source": [
        "soup = BeautifulSoup(html_data, 'html.parser')"
      ],
      "execution_count": 41
    },
    {
      "cell_type": "markdown",
      "metadata": {
        "id": "2ecd176c-0aa7-4ca8-8484-215b010e1eae"
      },
      "source": [
        "Using `BeautifulSoup` or the `read_html` function extract the table with `Tesla Revenue` and store it into a dataframe named `tesla_revenue`. The dataframe should have columns `Date` and `Revenue`.\n"
      ]
    },
    {
      "cell_type": "markdown",
      "metadata": {
        "id": "c41d9ad2-ac02-458b-839d-cd950602c0a2"
      },
      "source": [
        "<details><summary>Step-by-step instructions</summary>\n",
        "\n",
        "```\n",
        "\n",
        "Here are the step-by-step instructions:\n",
        "\n",
        "1. Find All Tables: Start by searching for all HTML tables on a webpage using `soup.find_all('table')`.\n",
        "2. Identify the Relevant Table: then loops through each table. If a table contains the text “Tesla Quarterly Revenue,”, select that table.\n",
        "3. Initialize a DataFrame: Create an empty Pandas DataFrame called `tesla_revenue` with columns “Date” and “Revenue.”\n",
        "4. Loop Through Rows: For each row in the relevant table, extract the data from the first and second columns (date and revenue).\n",
        "5. Clean Revenue Data: Remove dollar signs and commas from the revenue value.\n",
        "6. Add Rows to DataFrame: Create a new row in the DataFrame with the extracted date and cleaned revenue values.\n",
        "7. Repeat for All Rows: Continue this process for all rows in the table.\n",
        "\n",
        "```\n",
        "</details>\n"
      ]
    },
    {
      "cell_type": "markdown",
      "metadata": {
        "id": "af05f799-a22d-4cfc-bc0e-8234b02e261e"
      },
      "source": [
        "<details><summary>Click here if you need help locating the table</summary>\n",
        "\n",
        "```\n",
        "    \n",
        "Below is the code to isolate the table, you will now need to loop through the rows and columns like in the previous lab\n",
        "    \n",
        "soup.find_all(\"tbody\")[1]\n",
        "    \n",
        "If you want to use the read_html function the table is located at index 1\n",
        "\n",
        "We are focusing on quarterly revenue in the lab.\n",
        "> Note: Instead of using the deprecated pd.append() method, consider using pd.concat([df, pd.DataFrame], ignore_index=True).\n",
        "```\n",
        "\n",
        "</details>\n"
      ]
    },
    {
      "cell_type": "code",
      "source": [
        "read_html_tesla_revenue = pd.read_html(str(soup))\n",
        "tesla_revenue = read_html_tesla_revenue[1]"
      ],
      "metadata": {
        "id": "SDNjPLZS10NX"
      },
      "execution_count": 42,
      "outputs": []
    },
    {
      "cell_type": "code",
      "source": [
        "tesla_revenue.columns"
      ],
      "metadata": {
        "colab": {
          "base_uri": "https://localhost:8080/"
        },
        "id": "hGER09tm5W3n",
        "outputId": "a9ce9a13-6268-452e-9d3a-f8cdffc9d827"
      },
      "execution_count": 45,
      "outputs": [
        {
          "output_type": "execute_result",
          "data": {
            "text/plain": [
              "Index(['Tesla Quarterly Revenue (Millions of US $)', 'Tesla Quarterly Revenue (Millions of US $).1'], dtype='object')"
            ]
          },
          "metadata": {},
          "execution_count": 45
        }
      ]
    },
    {
      "cell_type": "code",
      "source": [
        "tesla_revenue.rename(columns={'Tesla Quarterly Revenue (Millions of US $)':'Date', 'Tesla Quarterly Revenue (Millions of US $).1':'Revenue'}, inplace=True)"
      ],
      "metadata": {
        "collapsed": true,
        "id": "RdW618dezP4V"
      },
      "execution_count": 46,
      "outputs": []
    },
    {
      "cell_type": "code",
      "source": [
        "tesla_revenue.head()"
      ],
      "metadata": {
        "colab": {
          "base_uri": "https://localhost:8080/",
          "height": 0
        },
        "collapsed": true,
        "id": "zZkuvqpi6J9S",
        "outputId": "9113e15a-d982-44df-db1c-153a0fdd921f"
      },
      "execution_count": 47,
      "outputs": [
        {
          "output_type": "execute_result",
          "data": {
            "text/plain": [
              "         Date  Revenue\n",
              "0  2022-09-30  $21,454\n",
              "1  2022-06-30  $16,934\n",
              "2  2022-03-31  $18,756\n",
              "3  2021-12-31  $17,719\n",
              "4  2021-09-30  $13,757"
            ],
            "text/html": [
              "\n",
              "  <div id=\"df-b4a70c45-5d69-452d-b4d6-675fd89ab395\" class=\"colab-df-container\">\n",
              "    <div>\n",
              "<style scoped>\n",
              "    .dataframe tbody tr th:only-of-type {\n",
              "        vertical-align: middle;\n",
              "    }\n",
              "\n",
              "    .dataframe tbody tr th {\n",
              "        vertical-align: top;\n",
              "    }\n",
              "\n",
              "    .dataframe thead th {\n",
              "        text-align: right;\n",
              "    }\n",
              "</style>\n",
              "<table border=\"1\" class=\"dataframe\">\n",
              "  <thead>\n",
              "    <tr style=\"text-align: right;\">\n",
              "      <th></th>\n",
              "      <th>Date</th>\n",
              "      <th>Revenue</th>\n",
              "    </tr>\n",
              "  </thead>\n",
              "  <tbody>\n",
              "    <tr>\n",
              "      <th>0</th>\n",
              "      <td>2022-09-30</td>\n",
              "      <td>$21,454</td>\n",
              "    </tr>\n",
              "    <tr>\n",
              "      <th>1</th>\n",
              "      <td>2022-06-30</td>\n",
              "      <td>$16,934</td>\n",
              "    </tr>\n",
              "    <tr>\n",
              "      <th>2</th>\n",
              "      <td>2022-03-31</td>\n",
              "      <td>$18,756</td>\n",
              "    </tr>\n",
              "    <tr>\n",
              "      <th>3</th>\n",
              "      <td>2021-12-31</td>\n",
              "      <td>$17,719</td>\n",
              "    </tr>\n",
              "    <tr>\n",
              "      <th>4</th>\n",
              "      <td>2021-09-30</td>\n",
              "      <td>$13,757</td>\n",
              "    </tr>\n",
              "  </tbody>\n",
              "</table>\n",
              "</div>\n",
              "    <div class=\"colab-df-buttons\">\n",
              "\n",
              "  <div class=\"colab-df-container\">\n",
              "    <button class=\"colab-df-convert\" onclick=\"convertToInteractive('df-b4a70c45-5d69-452d-b4d6-675fd89ab395')\"\n",
              "            title=\"Convert this dataframe to an interactive table.\"\n",
              "            style=\"display:none;\">\n",
              "\n",
              "  <svg xmlns=\"http://www.w3.org/2000/svg\" height=\"24px\" viewBox=\"0 -960 960 960\">\n",
              "    <path d=\"M120-120v-720h720v720H120Zm60-500h600v-160H180v160Zm220 220h160v-160H400v160Zm0 220h160v-160H400v160ZM180-400h160v-160H180v160Zm440 0h160v-160H620v160ZM180-180h160v-160H180v160Zm440 0h160v-160H620v160Z\"/>\n",
              "  </svg>\n",
              "    </button>\n",
              "\n",
              "  <style>\n",
              "    .colab-df-container {\n",
              "      display:flex;\n",
              "      gap: 12px;\n",
              "    }\n",
              "\n",
              "    .colab-df-convert {\n",
              "      background-color: #E8F0FE;\n",
              "      border: none;\n",
              "      border-radius: 50%;\n",
              "      cursor: pointer;\n",
              "      display: none;\n",
              "      fill: #1967D2;\n",
              "      height: 32px;\n",
              "      padding: 0 0 0 0;\n",
              "      width: 32px;\n",
              "    }\n",
              "\n",
              "    .colab-df-convert:hover {\n",
              "      background-color: #E2EBFA;\n",
              "      box-shadow: 0px 1px 2px rgba(60, 64, 67, 0.3), 0px 1px 3px 1px rgba(60, 64, 67, 0.15);\n",
              "      fill: #174EA6;\n",
              "    }\n",
              "\n",
              "    .colab-df-buttons div {\n",
              "      margin-bottom: 4px;\n",
              "    }\n",
              "\n",
              "    [theme=dark] .colab-df-convert {\n",
              "      background-color: #3B4455;\n",
              "      fill: #D2E3FC;\n",
              "    }\n",
              "\n",
              "    [theme=dark] .colab-df-convert:hover {\n",
              "      background-color: #434B5C;\n",
              "      box-shadow: 0px 1px 3px 1px rgba(0, 0, 0, 0.15);\n",
              "      filter: drop-shadow(0px 1px 2px rgba(0, 0, 0, 0.3));\n",
              "      fill: #FFFFFF;\n",
              "    }\n",
              "  </style>\n",
              "\n",
              "    <script>\n",
              "      const buttonEl =\n",
              "        document.querySelector('#df-b4a70c45-5d69-452d-b4d6-675fd89ab395 button.colab-df-convert');\n",
              "      buttonEl.style.display =\n",
              "        google.colab.kernel.accessAllowed ? 'block' : 'none';\n",
              "\n",
              "      async function convertToInteractive(key) {\n",
              "        const element = document.querySelector('#df-b4a70c45-5d69-452d-b4d6-675fd89ab395');\n",
              "        const dataTable =\n",
              "          await google.colab.kernel.invokeFunction('convertToInteractive',\n",
              "                                                    [key], {});\n",
              "        if (!dataTable) return;\n",
              "\n",
              "        const docLinkHtml = 'Like what you see? Visit the ' +\n",
              "          '<a target=\"_blank\" href=https://colab.research.google.com/notebooks/data_table.ipynb>data table notebook</a>'\n",
              "          + ' to learn more about interactive tables.';\n",
              "        element.innerHTML = '';\n",
              "        dataTable['output_type'] = 'display_data';\n",
              "        await google.colab.output.renderOutput(dataTable, element);\n",
              "        const docLink = document.createElement('div');\n",
              "        docLink.innerHTML = docLinkHtml;\n",
              "        element.appendChild(docLink);\n",
              "      }\n",
              "    </script>\n",
              "  </div>\n",
              "\n",
              "\n",
              "<div id=\"df-20e48a77-d816-485d-93ee-364902173fd4\">\n",
              "  <button class=\"colab-df-quickchart\" onclick=\"quickchart('df-20e48a77-d816-485d-93ee-364902173fd4')\"\n",
              "            title=\"Suggest charts\"\n",
              "            style=\"display:none;\">\n",
              "\n",
              "<svg xmlns=\"http://www.w3.org/2000/svg\" height=\"24px\"viewBox=\"0 0 24 24\"\n",
              "     width=\"24px\">\n",
              "    <g>\n",
              "        <path d=\"M19 3H5c-1.1 0-2 .9-2 2v14c0 1.1.9 2 2 2h14c1.1 0 2-.9 2-2V5c0-1.1-.9-2-2-2zM9 17H7v-7h2v7zm4 0h-2V7h2v10zm4 0h-2v-4h2v4z\"/>\n",
              "    </g>\n",
              "</svg>\n",
              "  </button>\n",
              "\n",
              "<style>\n",
              "  .colab-df-quickchart {\n",
              "      --bg-color: #E8F0FE;\n",
              "      --fill-color: #1967D2;\n",
              "      --hover-bg-color: #E2EBFA;\n",
              "      --hover-fill-color: #174EA6;\n",
              "      --disabled-fill-color: #AAA;\n",
              "      --disabled-bg-color: #DDD;\n",
              "  }\n",
              "\n",
              "  [theme=dark] .colab-df-quickchart {\n",
              "      --bg-color: #3B4455;\n",
              "      --fill-color: #D2E3FC;\n",
              "      --hover-bg-color: #434B5C;\n",
              "      --hover-fill-color: #FFFFFF;\n",
              "      --disabled-bg-color: #3B4455;\n",
              "      --disabled-fill-color: #666;\n",
              "  }\n",
              "\n",
              "  .colab-df-quickchart {\n",
              "    background-color: var(--bg-color);\n",
              "    border: none;\n",
              "    border-radius: 50%;\n",
              "    cursor: pointer;\n",
              "    display: none;\n",
              "    fill: var(--fill-color);\n",
              "    height: 32px;\n",
              "    padding: 0;\n",
              "    width: 32px;\n",
              "  }\n",
              "\n",
              "  .colab-df-quickchart:hover {\n",
              "    background-color: var(--hover-bg-color);\n",
              "    box-shadow: 0 1px 2px rgba(60, 64, 67, 0.3), 0 1px 3px 1px rgba(60, 64, 67, 0.15);\n",
              "    fill: var(--button-hover-fill-color);\n",
              "  }\n",
              "\n",
              "  .colab-df-quickchart-complete:disabled,\n",
              "  .colab-df-quickchart-complete:disabled:hover {\n",
              "    background-color: var(--disabled-bg-color);\n",
              "    fill: var(--disabled-fill-color);\n",
              "    box-shadow: none;\n",
              "  }\n",
              "\n",
              "  .colab-df-spinner {\n",
              "    border: 2px solid var(--fill-color);\n",
              "    border-color: transparent;\n",
              "    border-bottom-color: var(--fill-color);\n",
              "    animation:\n",
              "      spin 1s steps(1) infinite;\n",
              "  }\n",
              "\n",
              "  @keyframes spin {\n",
              "    0% {\n",
              "      border-color: transparent;\n",
              "      border-bottom-color: var(--fill-color);\n",
              "      border-left-color: var(--fill-color);\n",
              "    }\n",
              "    20% {\n",
              "      border-color: transparent;\n",
              "      border-left-color: var(--fill-color);\n",
              "      border-top-color: var(--fill-color);\n",
              "    }\n",
              "    30% {\n",
              "      border-color: transparent;\n",
              "      border-left-color: var(--fill-color);\n",
              "      border-top-color: var(--fill-color);\n",
              "      border-right-color: var(--fill-color);\n",
              "    }\n",
              "    40% {\n",
              "      border-color: transparent;\n",
              "      border-right-color: var(--fill-color);\n",
              "      border-top-color: var(--fill-color);\n",
              "    }\n",
              "    60% {\n",
              "      border-color: transparent;\n",
              "      border-right-color: var(--fill-color);\n",
              "    }\n",
              "    80% {\n",
              "      border-color: transparent;\n",
              "      border-right-color: var(--fill-color);\n",
              "      border-bottom-color: var(--fill-color);\n",
              "    }\n",
              "    90% {\n",
              "      border-color: transparent;\n",
              "      border-bottom-color: var(--fill-color);\n",
              "    }\n",
              "  }\n",
              "</style>\n",
              "\n",
              "  <script>\n",
              "    async function quickchart(key) {\n",
              "      const quickchartButtonEl =\n",
              "        document.querySelector('#' + key + ' button');\n",
              "      quickchartButtonEl.disabled = true;  // To prevent multiple clicks.\n",
              "      quickchartButtonEl.classList.add('colab-df-spinner');\n",
              "      try {\n",
              "        const charts = await google.colab.kernel.invokeFunction(\n",
              "            'suggestCharts', [key], {});\n",
              "      } catch (error) {\n",
              "        console.error('Error during call to suggestCharts:', error);\n",
              "      }\n",
              "      quickchartButtonEl.classList.remove('colab-df-spinner');\n",
              "      quickchartButtonEl.classList.add('colab-df-quickchart-complete');\n",
              "    }\n",
              "    (() => {\n",
              "      let quickchartButtonEl =\n",
              "        document.querySelector('#df-20e48a77-d816-485d-93ee-364902173fd4 button');\n",
              "      quickchartButtonEl.style.display =\n",
              "        google.colab.kernel.accessAllowed ? 'block' : 'none';\n",
              "    })();\n",
              "  </script>\n",
              "</div>\n",
              "\n",
              "    </div>\n",
              "  </div>\n"
            ],
            "application/vnd.google.colaboratory.intrinsic+json": {
              "type": "dataframe",
              "variable_name": "tesla_revenue",
              "summary": "{\n  \"name\": \"tesla_revenue\",\n  \"rows\": 54,\n  \"fields\": [\n    {\n      \"column\": \"Date\",\n      \"properties\": {\n        \"dtype\": \"object\",\n        \"num_unique_values\": 54,\n        \"samples\": [\n          \"2017-12-31\",\n          \"2010-06-30\",\n          \"2010-09-30\"\n        ],\n        \"semantic_type\": \"\",\n        \"description\": \"\"\n      }\n    },\n    {\n      \"column\": \"Revenue\",\n      \"properties\": {\n        \"dtype\": \"string\",\n        \"num_unique_values\": 51,\n        \"samples\": [\n          \"$39\",\n          \"$50\",\n          \"$36\"\n        ],\n        \"semantic_type\": \"\",\n        \"description\": \"\"\n      }\n    }\n  ]\n}"
            }
          },
          "metadata": {},
          "execution_count": 47
        }
      ]
    },
    {
      "cell_type": "markdown",
      "metadata": {
        "id": "9968dda9-ee9c-4dbd-98ab-70645ca4c3f4"
      },
      "source": [
        "Execute the following line to remove the comma and dollar sign from the `Revenue` column.\n"
      ]
    },
    {
      "cell_type": "code",
      "metadata": {
        "id": "28dcdee7-a459-43e3-9bab-48bc4a78bbac"
      },
      "outputs": [],
      "source": [
        "tesla_revenue[\"Revenue\"] = tesla_revenue['Revenue'].str.replace(',|\\$',\"\", regex=True)"
      ],
      "execution_count": 48
    },
    {
      "cell_type": "markdown",
      "metadata": {
        "id": "282e356a-3047-4198-97cd-d137a8c85d11"
      },
      "source": [
        "Execute the following lines to remove an null or empty strings in the Revenue column.\n"
      ]
    },
    {
      "cell_type": "code",
      "metadata": {
        "id": "0da190fa-4789-4f76-92cb-98181c9f9add"
      },
      "outputs": [],
      "source": [
        "tesla_revenue.dropna(inplace=True)\n",
        "\n",
        "tesla_revenue = tesla_revenue[tesla_revenue['Revenue'] != \"\"]"
      ],
      "execution_count": 50
    },
    {
      "cell_type": "markdown",
      "metadata": {
        "id": "8201fd00-480f-4f06-a423-bc34b8da1ab6"
      },
      "source": [
        "Display the last 5 row of the `tesla_revenue` dataframe using the `tail` function. Take a screenshot of the results.\n"
      ]
    },
    {
      "cell_type": "code",
      "metadata": {
        "colab": {
          "base_uri": "https://localhost:8080/",
          "height": 206
        },
        "id": "58f0d1b4-ab70-47ee-83b3-28ddd62ec96d",
        "outputId": "c5e0165c-bd99-4979-e9dd-e4ccec53760d"
      },
      "outputs": [
        {
          "output_type": "execute_result",
          "data": {
            "text/plain": [
              "          Date Revenue\n",
              "48  2010-09-30      31\n",
              "49  2010-06-30      28\n",
              "50  2010-03-31      21\n",
              "52  2009-09-30      46\n",
              "53  2009-06-30      27"
            ],
            "text/html": [
              "\n",
              "  <div id=\"df-599b339b-177f-49fc-9761-4f32361378e8\" class=\"colab-df-container\">\n",
              "    <div>\n",
              "<style scoped>\n",
              "    .dataframe tbody tr th:only-of-type {\n",
              "        vertical-align: middle;\n",
              "    }\n",
              "\n",
              "    .dataframe tbody tr th {\n",
              "        vertical-align: top;\n",
              "    }\n",
              "\n",
              "    .dataframe thead th {\n",
              "        text-align: right;\n",
              "    }\n",
              "</style>\n",
              "<table border=\"1\" class=\"dataframe\">\n",
              "  <thead>\n",
              "    <tr style=\"text-align: right;\">\n",
              "      <th></th>\n",
              "      <th>Date</th>\n",
              "      <th>Revenue</th>\n",
              "    </tr>\n",
              "  </thead>\n",
              "  <tbody>\n",
              "    <tr>\n",
              "      <th>48</th>\n",
              "      <td>2010-09-30</td>\n",
              "      <td>31</td>\n",
              "    </tr>\n",
              "    <tr>\n",
              "      <th>49</th>\n",
              "      <td>2010-06-30</td>\n",
              "      <td>28</td>\n",
              "    </tr>\n",
              "    <tr>\n",
              "      <th>50</th>\n",
              "      <td>2010-03-31</td>\n",
              "      <td>21</td>\n",
              "    </tr>\n",
              "    <tr>\n",
              "      <th>52</th>\n",
              "      <td>2009-09-30</td>\n",
              "      <td>46</td>\n",
              "    </tr>\n",
              "    <tr>\n",
              "      <th>53</th>\n",
              "      <td>2009-06-30</td>\n",
              "      <td>27</td>\n",
              "    </tr>\n",
              "  </tbody>\n",
              "</table>\n",
              "</div>\n",
              "    <div class=\"colab-df-buttons\">\n",
              "\n",
              "  <div class=\"colab-df-container\">\n",
              "    <button class=\"colab-df-convert\" onclick=\"convertToInteractive('df-599b339b-177f-49fc-9761-4f32361378e8')\"\n",
              "            title=\"Convert this dataframe to an interactive table.\"\n",
              "            style=\"display:none;\">\n",
              "\n",
              "  <svg xmlns=\"http://www.w3.org/2000/svg\" height=\"24px\" viewBox=\"0 -960 960 960\">\n",
              "    <path d=\"M120-120v-720h720v720H120Zm60-500h600v-160H180v160Zm220 220h160v-160H400v160Zm0 220h160v-160H400v160ZM180-400h160v-160H180v160Zm440 0h160v-160H620v160ZM180-180h160v-160H180v160Zm440 0h160v-160H620v160Z\"/>\n",
              "  </svg>\n",
              "    </button>\n",
              "\n",
              "  <style>\n",
              "    .colab-df-container {\n",
              "      display:flex;\n",
              "      gap: 12px;\n",
              "    }\n",
              "\n",
              "    .colab-df-convert {\n",
              "      background-color: #E8F0FE;\n",
              "      border: none;\n",
              "      border-radius: 50%;\n",
              "      cursor: pointer;\n",
              "      display: none;\n",
              "      fill: #1967D2;\n",
              "      height: 32px;\n",
              "      padding: 0 0 0 0;\n",
              "      width: 32px;\n",
              "    }\n",
              "\n",
              "    .colab-df-convert:hover {\n",
              "      background-color: #E2EBFA;\n",
              "      box-shadow: 0px 1px 2px rgba(60, 64, 67, 0.3), 0px 1px 3px 1px rgba(60, 64, 67, 0.15);\n",
              "      fill: #174EA6;\n",
              "    }\n",
              "\n",
              "    .colab-df-buttons div {\n",
              "      margin-bottom: 4px;\n",
              "    }\n",
              "\n",
              "    [theme=dark] .colab-df-convert {\n",
              "      background-color: #3B4455;\n",
              "      fill: #D2E3FC;\n",
              "    }\n",
              "\n",
              "    [theme=dark] .colab-df-convert:hover {\n",
              "      background-color: #434B5C;\n",
              "      box-shadow: 0px 1px 3px 1px rgba(0, 0, 0, 0.15);\n",
              "      filter: drop-shadow(0px 1px 2px rgba(0, 0, 0, 0.3));\n",
              "      fill: #FFFFFF;\n",
              "    }\n",
              "  </style>\n",
              "\n",
              "    <script>\n",
              "      const buttonEl =\n",
              "        document.querySelector('#df-599b339b-177f-49fc-9761-4f32361378e8 button.colab-df-convert');\n",
              "      buttonEl.style.display =\n",
              "        google.colab.kernel.accessAllowed ? 'block' : 'none';\n",
              "\n",
              "      async function convertToInteractive(key) {\n",
              "        const element = document.querySelector('#df-599b339b-177f-49fc-9761-4f32361378e8');\n",
              "        const dataTable =\n",
              "          await google.colab.kernel.invokeFunction('convertToInteractive',\n",
              "                                                    [key], {});\n",
              "        if (!dataTable) return;\n",
              "\n",
              "        const docLinkHtml = 'Like what you see? Visit the ' +\n",
              "          '<a target=\"_blank\" href=https://colab.research.google.com/notebooks/data_table.ipynb>data table notebook</a>'\n",
              "          + ' to learn more about interactive tables.';\n",
              "        element.innerHTML = '';\n",
              "        dataTable['output_type'] = 'display_data';\n",
              "        await google.colab.output.renderOutput(dataTable, element);\n",
              "        const docLink = document.createElement('div');\n",
              "        docLink.innerHTML = docLinkHtml;\n",
              "        element.appendChild(docLink);\n",
              "      }\n",
              "    </script>\n",
              "  </div>\n",
              "\n",
              "\n",
              "<div id=\"df-df7d9dd3-efa0-4bcc-a097-83c9588d3fa2\">\n",
              "  <button class=\"colab-df-quickchart\" onclick=\"quickchart('df-df7d9dd3-efa0-4bcc-a097-83c9588d3fa2')\"\n",
              "            title=\"Suggest charts\"\n",
              "            style=\"display:none;\">\n",
              "\n",
              "<svg xmlns=\"http://www.w3.org/2000/svg\" height=\"24px\"viewBox=\"0 0 24 24\"\n",
              "     width=\"24px\">\n",
              "    <g>\n",
              "        <path d=\"M19 3H5c-1.1 0-2 .9-2 2v14c0 1.1.9 2 2 2h14c1.1 0 2-.9 2-2V5c0-1.1-.9-2-2-2zM9 17H7v-7h2v7zm4 0h-2V7h2v10zm4 0h-2v-4h2v4z\"/>\n",
              "    </g>\n",
              "</svg>\n",
              "  </button>\n",
              "\n",
              "<style>\n",
              "  .colab-df-quickchart {\n",
              "      --bg-color: #E8F0FE;\n",
              "      --fill-color: #1967D2;\n",
              "      --hover-bg-color: #E2EBFA;\n",
              "      --hover-fill-color: #174EA6;\n",
              "      --disabled-fill-color: #AAA;\n",
              "      --disabled-bg-color: #DDD;\n",
              "  }\n",
              "\n",
              "  [theme=dark] .colab-df-quickchart {\n",
              "      --bg-color: #3B4455;\n",
              "      --fill-color: #D2E3FC;\n",
              "      --hover-bg-color: #434B5C;\n",
              "      --hover-fill-color: #FFFFFF;\n",
              "      --disabled-bg-color: #3B4455;\n",
              "      --disabled-fill-color: #666;\n",
              "  }\n",
              "\n",
              "  .colab-df-quickchart {\n",
              "    background-color: var(--bg-color);\n",
              "    border: none;\n",
              "    border-radius: 50%;\n",
              "    cursor: pointer;\n",
              "    display: none;\n",
              "    fill: var(--fill-color);\n",
              "    height: 32px;\n",
              "    padding: 0;\n",
              "    width: 32px;\n",
              "  }\n",
              "\n",
              "  .colab-df-quickchart:hover {\n",
              "    background-color: var(--hover-bg-color);\n",
              "    box-shadow: 0 1px 2px rgba(60, 64, 67, 0.3), 0 1px 3px 1px rgba(60, 64, 67, 0.15);\n",
              "    fill: var(--button-hover-fill-color);\n",
              "  }\n",
              "\n",
              "  .colab-df-quickchart-complete:disabled,\n",
              "  .colab-df-quickchart-complete:disabled:hover {\n",
              "    background-color: var(--disabled-bg-color);\n",
              "    fill: var(--disabled-fill-color);\n",
              "    box-shadow: none;\n",
              "  }\n",
              "\n",
              "  .colab-df-spinner {\n",
              "    border: 2px solid var(--fill-color);\n",
              "    border-color: transparent;\n",
              "    border-bottom-color: var(--fill-color);\n",
              "    animation:\n",
              "      spin 1s steps(1) infinite;\n",
              "  }\n",
              "\n",
              "  @keyframes spin {\n",
              "    0% {\n",
              "      border-color: transparent;\n",
              "      border-bottom-color: var(--fill-color);\n",
              "      border-left-color: var(--fill-color);\n",
              "    }\n",
              "    20% {\n",
              "      border-color: transparent;\n",
              "      border-left-color: var(--fill-color);\n",
              "      border-top-color: var(--fill-color);\n",
              "    }\n",
              "    30% {\n",
              "      border-color: transparent;\n",
              "      border-left-color: var(--fill-color);\n",
              "      border-top-color: var(--fill-color);\n",
              "      border-right-color: var(--fill-color);\n",
              "    }\n",
              "    40% {\n",
              "      border-color: transparent;\n",
              "      border-right-color: var(--fill-color);\n",
              "      border-top-color: var(--fill-color);\n",
              "    }\n",
              "    60% {\n",
              "      border-color: transparent;\n",
              "      border-right-color: var(--fill-color);\n",
              "    }\n",
              "    80% {\n",
              "      border-color: transparent;\n",
              "      border-right-color: var(--fill-color);\n",
              "      border-bottom-color: var(--fill-color);\n",
              "    }\n",
              "    90% {\n",
              "      border-color: transparent;\n",
              "      border-bottom-color: var(--fill-color);\n",
              "    }\n",
              "  }\n",
              "</style>\n",
              "\n",
              "  <script>\n",
              "    async function quickchart(key) {\n",
              "      const quickchartButtonEl =\n",
              "        document.querySelector('#' + key + ' button');\n",
              "      quickchartButtonEl.disabled = true;  // To prevent multiple clicks.\n",
              "      quickchartButtonEl.classList.add('colab-df-spinner');\n",
              "      try {\n",
              "        const charts = await google.colab.kernel.invokeFunction(\n",
              "            'suggestCharts', [key], {});\n",
              "      } catch (error) {\n",
              "        console.error('Error during call to suggestCharts:', error);\n",
              "      }\n",
              "      quickchartButtonEl.classList.remove('colab-df-spinner');\n",
              "      quickchartButtonEl.classList.add('colab-df-quickchart-complete');\n",
              "    }\n",
              "    (() => {\n",
              "      let quickchartButtonEl =\n",
              "        document.querySelector('#df-df7d9dd3-efa0-4bcc-a097-83c9588d3fa2 button');\n",
              "      quickchartButtonEl.style.display =\n",
              "        google.colab.kernel.accessAllowed ? 'block' : 'none';\n",
              "    })();\n",
              "  </script>\n",
              "</div>\n",
              "\n",
              "    </div>\n",
              "  </div>\n"
            ],
            "application/vnd.google.colaboratory.intrinsic+json": {
              "type": "dataframe",
              "repr_error": "0"
            }
          },
          "metadata": {},
          "execution_count": 51
        }
      ],
      "source": [
        "tesla_revenue.tail()"
      ],
      "execution_count": 51
    },
    {
      "cell_type": "markdown",
      "metadata": {
        "id": "eee79fef-dd0f-4ced-9fd6-3ef923cbaef6"
      },
      "source": [
        "## Question 3: Use yfinance to Extract Stock Data\n"
      ]
    },
    {
      "cell_type": "markdown",
      "metadata": {
        "id": "b36a0fc1-5a14-4080-983f-f9d20f4b960a"
      },
      "source": [
        "Using the `Ticker` function enter the ticker symbol of the stock we want to extract data on to create a ticker object. The stock is GameStop and its ticker symbol is `GME`.\n"
      ]
    },
    {
      "cell_type": "code",
      "metadata": {
        "id": "d3da8ea9-4fd2-402a-87ce-f047ecbfd655"
      },
      "outputs": [],
      "source": [
        "gamestop = yf.Ticker(\"GME\")"
      ],
      "execution_count": 52
    },
    {
      "cell_type": "markdown",
      "metadata": {
        "id": "cfef197e-5e2e-4ae0-9ac5-2f26295c6527"
      },
      "source": [
        "Using the ticker object and the function `history` extract stock information and save it in a dataframe named `gme_data`. Set the `period` parameter to ` \"max\" ` so we get information for the maximum amount of time.\n"
      ]
    },
    {
      "cell_type": "code",
      "metadata": {
        "id": "f2eebdf3-0a4f-4b9c-928c-293db2265b3c"
      },
      "outputs": [],
      "source": [
        "gme_data = gamestop.history(period=\"max\")"
      ],
      "execution_count": 53
    },
    {
      "cell_type": "markdown",
      "metadata": {
        "id": "14cc4c21-408f-4aee-9f4e-865971d98933"
      },
      "source": [
        "**Reset the index** using the `reset_index(inplace=True)` function on the gme_data DataFrame and display the first five rows of the `gme_data` dataframe using the `head` function. Take a screenshot of the results and code from the beginning of Question 3 to the results below.\n"
      ]
    },
    {
      "cell_type": "code",
      "metadata": {
        "colab": {
          "base_uri": "https://localhost:8080/",
          "height": 0
        },
        "collapsed": true,
        "id": "deab424e-5f92-499d-bd5d-edd60e337123",
        "outputId": "e882b305-5037-478e-de25-98be344d500c"
      },
      "outputs": [
        {
          "output_type": "execute_result",
          "data": {
            "text/plain": [
              "                       Date      Open      High       Low     Close    Volume  \\\n",
              "0 2002-02-13 00:00:00-05:00  1.620128  1.693349  1.603295  1.691666  76216000   \n",
              "1 2002-02-14 00:00:00-05:00  1.712707  1.716074  1.670626  1.683251  11021600   \n",
              "2 2002-02-15 00:00:00-05:00  1.683250  1.687458  1.658001  1.674834   8389600   \n",
              "3 2002-02-19 00:00:00-05:00  1.666418  1.666418  1.578047  1.607504   7410400   \n",
              "4 2002-02-20 00:00:00-05:00  1.615921  1.662210  1.603296  1.662210   6892800   \n",
              "\n",
              "   Dividends  Stock Splits  \n",
              "0        0.0           0.0  \n",
              "1        0.0           0.0  \n",
              "2        0.0           0.0  \n",
              "3        0.0           0.0  \n",
              "4        0.0           0.0  "
            ],
            "text/html": [
              "\n",
              "  <div id=\"df-07bbc47b-6a7f-476a-ba58-81094d772c1b\" class=\"colab-df-container\">\n",
              "    <div>\n",
              "<style scoped>\n",
              "    .dataframe tbody tr th:only-of-type {\n",
              "        vertical-align: middle;\n",
              "    }\n",
              "\n",
              "    .dataframe tbody tr th {\n",
              "        vertical-align: top;\n",
              "    }\n",
              "\n",
              "    .dataframe thead th {\n",
              "        text-align: right;\n",
              "    }\n",
              "</style>\n",
              "<table border=\"1\" class=\"dataframe\">\n",
              "  <thead>\n",
              "    <tr style=\"text-align: right;\">\n",
              "      <th></th>\n",
              "      <th>Date</th>\n",
              "      <th>Open</th>\n",
              "      <th>High</th>\n",
              "      <th>Low</th>\n",
              "      <th>Close</th>\n",
              "      <th>Volume</th>\n",
              "      <th>Dividends</th>\n",
              "      <th>Stock Splits</th>\n",
              "    </tr>\n",
              "  </thead>\n",
              "  <tbody>\n",
              "    <tr>\n",
              "      <th>0</th>\n",
              "      <td>2002-02-13 00:00:00-05:00</td>\n",
              "      <td>1.620128</td>\n",
              "      <td>1.693349</td>\n",
              "      <td>1.603295</td>\n",
              "      <td>1.691666</td>\n",
              "      <td>76216000</td>\n",
              "      <td>0.0</td>\n",
              "      <td>0.0</td>\n",
              "    </tr>\n",
              "    <tr>\n",
              "      <th>1</th>\n",
              "      <td>2002-02-14 00:00:00-05:00</td>\n",
              "      <td>1.712707</td>\n",
              "      <td>1.716074</td>\n",
              "      <td>1.670626</td>\n",
              "      <td>1.683251</td>\n",
              "      <td>11021600</td>\n",
              "      <td>0.0</td>\n",
              "      <td>0.0</td>\n",
              "    </tr>\n",
              "    <tr>\n",
              "      <th>2</th>\n",
              "      <td>2002-02-15 00:00:00-05:00</td>\n",
              "      <td>1.683250</td>\n",
              "      <td>1.687458</td>\n",
              "      <td>1.658001</td>\n",
              "      <td>1.674834</td>\n",
              "      <td>8389600</td>\n",
              "      <td>0.0</td>\n",
              "      <td>0.0</td>\n",
              "    </tr>\n",
              "    <tr>\n",
              "      <th>3</th>\n",
              "      <td>2002-02-19 00:00:00-05:00</td>\n",
              "      <td>1.666418</td>\n",
              "      <td>1.666418</td>\n",
              "      <td>1.578047</td>\n",
              "      <td>1.607504</td>\n",
              "      <td>7410400</td>\n",
              "      <td>0.0</td>\n",
              "      <td>0.0</td>\n",
              "    </tr>\n",
              "    <tr>\n",
              "      <th>4</th>\n",
              "      <td>2002-02-20 00:00:00-05:00</td>\n",
              "      <td>1.615921</td>\n",
              "      <td>1.662210</td>\n",
              "      <td>1.603296</td>\n",
              "      <td>1.662210</td>\n",
              "      <td>6892800</td>\n",
              "      <td>0.0</td>\n",
              "      <td>0.0</td>\n",
              "    </tr>\n",
              "  </tbody>\n",
              "</table>\n",
              "</div>\n",
              "    <div class=\"colab-df-buttons\">\n",
              "\n",
              "  <div class=\"colab-df-container\">\n",
              "    <button class=\"colab-df-convert\" onclick=\"convertToInteractive('df-07bbc47b-6a7f-476a-ba58-81094d772c1b')\"\n",
              "            title=\"Convert this dataframe to an interactive table.\"\n",
              "            style=\"display:none;\">\n",
              "\n",
              "  <svg xmlns=\"http://www.w3.org/2000/svg\" height=\"24px\" viewBox=\"0 -960 960 960\">\n",
              "    <path d=\"M120-120v-720h720v720H120Zm60-500h600v-160H180v160Zm220 220h160v-160H400v160Zm0 220h160v-160H400v160ZM180-400h160v-160H180v160Zm440 0h160v-160H620v160ZM180-180h160v-160H180v160Zm440 0h160v-160H620v160Z\"/>\n",
              "  </svg>\n",
              "    </button>\n",
              "\n",
              "  <style>\n",
              "    .colab-df-container {\n",
              "      display:flex;\n",
              "      gap: 12px;\n",
              "    }\n",
              "\n",
              "    .colab-df-convert {\n",
              "      background-color: #E8F0FE;\n",
              "      border: none;\n",
              "      border-radius: 50%;\n",
              "      cursor: pointer;\n",
              "      display: none;\n",
              "      fill: #1967D2;\n",
              "      height: 32px;\n",
              "      padding: 0 0 0 0;\n",
              "      width: 32px;\n",
              "    }\n",
              "\n",
              "    .colab-df-convert:hover {\n",
              "      background-color: #E2EBFA;\n",
              "      box-shadow: 0px 1px 2px rgba(60, 64, 67, 0.3), 0px 1px 3px 1px rgba(60, 64, 67, 0.15);\n",
              "      fill: #174EA6;\n",
              "    }\n",
              "\n",
              "    .colab-df-buttons div {\n",
              "      margin-bottom: 4px;\n",
              "    }\n",
              "\n",
              "    [theme=dark] .colab-df-convert {\n",
              "      background-color: #3B4455;\n",
              "      fill: #D2E3FC;\n",
              "    }\n",
              "\n",
              "    [theme=dark] .colab-df-convert:hover {\n",
              "      background-color: #434B5C;\n",
              "      box-shadow: 0px 1px 3px 1px rgba(0, 0, 0, 0.15);\n",
              "      filter: drop-shadow(0px 1px 2px rgba(0, 0, 0, 0.3));\n",
              "      fill: #FFFFFF;\n",
              "    }\n",
              "  </style>\n",
              "\n",
              "    <script>\n",
              "      const buttonEl =\n",
              "        document.querySelector('#df-07bbc47b-6a7f-476a-ba58-81094d772c1b button.colab-df-convert');\n",
              "      buttonEl.style.display =\n",
              "        google.colab.kernel.accessAllowed ? 'block' : 'none';\n",
              "\n",
              "      async function convertToInteractive(key) {\n",
              "        const element = document.querySelector('#df-07bbc47b-6a7f-476a-ba58-81094d772c1b');\n",
              "        const dataTable =\n",
              "          await google.colab.kernel.invokeFunction('convertToInteractive',\n",
              "                                                    [key], {});\n",
              "        if (!dataTable) return;\n",
              "\n",
              "        const docLinkHtml = 'Like what you see? Visit the ' +\n",
              "          '<a target=\"_blank\" href=https://colab.research.google.com/notebooks/data_table.ipynb>data table notebook</a>'\n",
              "          + ' to learn more about interactive tables.';\n",
              "        element.innerHTML = '';\n",
              "        dataTable['output_type'] = 'display_data';\n",
              "        await google.colab.output.renderOutput(dataTable, element);\n",
              "        const docLink = document.createElement('div');\n",
              "        docLink.innerHTML = docLinkHtml;\n",
              "        element.appendChild(docLink);\n",
              "      }\n",
              "    </script>\n",
              "  </div>\n",
              "\n",
              "\n",
              "<div id=\"df-68c6b567-b91a-40a4-9c4c-415b54e20739\">\n",
              "  <button class=\"colab-df-quickchart\" onclick=\"quickchart('df-68c6b567-b91a-40a4-9c4c-415b54e20739')\"\n",
              "            title=\"Suggest charts\"\n",
              "            style=\"display:none;\">\n",
              "\n",
              "<svg xmlns=\"http://www.w3.org/2000/svg\" height=\"24px\"viewBox=\"0 0 24 24\"\n",
              "     width=\"24px\">\n",
              "    <g>\n",
              "        <path d=\"M19 3H5c-1.1 0-2 .9-2 2v14c0 1.1.9 2 2 2h14c1.1 0 2-.9 2-2V5c0-1.1-.9-2-2-2zM9 17H7v-7h2v7zm4 0h-2V7h2v10zm4 0h-2v-4h2v4z\"/>\n",
              "    </g>\n",
              "</svg>\n",
              "  </button>\n",
              "\n",
              "<style>\n",
              "  .colab-df-quickchart {\n",
              "      --bg-color: #E8F0FE;\n",
              "      --fill-color: #1967D2;\n",
              "      --hover-bg-color: #E2EBFA;\n",
              "      --hover-fill-color: #174EA6;\n",
              "      --disabled-fill-color: #AAA;\n",
              "      --disabled-bg-color: #DDD;\n",
              "  }\n",
              "\n",
              "  [theme=dark] .colab-df-quickchart {\n",
              "      --bg-color: #3B4455;\n",
              "      --fill-color: #D2E3FC;\n",
              "      --hover-bg-color: #434B5C;\n",
              "      --hover-fill-color: #FFFFFF;\n",
              "      --disabled-bg-color: #3B4455;\n",
              "      --disabled-fill-color: #666;\n",
              "  }\n",
              "\n",
              "  .colab-df-quickchart {\n",
              "    background-color: var(--bg-color);\n",
              "    border: none;\n",
              "    border-radius: 50%;\n",
              "    cursor: pointer;\n",
              "    display: none;\n",
              "    fill: var(--fill-color);\n",
              "    height: 32px;\n",
              "    padding: 0;\n",
              "    width: 32px;\n",
              "  }\n",
              "\n",
              "  .colab-df-quickchart:hover {\n",
              "    background-color: var(--hover-bg-color);\n",
              "    box-shadow: 0 1px 2px rgba(60, 64, 67, 0.3), 0 1px 3px 1px rgba(60, 64, 67, 0.15);\n",
              "    fill: var(--button-hover-fill-color);\n",
              "  }\n",
              "\n",
              "  .colab-df-quickchart-complete:disabled,\n",
              "  .colab-df-quickchart-complete:disabled:hover {\n",
              "    background-color: var(--disabled-bg-color);\n",
              "    fill: var(--disabled-fill-color);\n",
              "    box-shadow: none;\n",
              "  }\n",
              "\n",
              "  .colab-df-spinner {\n",
              "    border: 2px solid var(--fill-color);\n",
              "    border-color: transparent;\n",
              "    border-bottom-color: var(--fill-color);\n",
              "    animation:\n",
              "      spin 1s steps(1) infinite;\n",
              "  }\n",
              "\n",
              "  @keyframes spin {\n",
              "    0% {\n",
              "      border-color: transparent;\n",
              "      border-bottom-color: var(--fill-color);\n",
              "      border-left-color: var(--fill-color);\n",
              "    }\n",
              "    20% {\n",
              "      border-color: transparent;\n",
              "      border-left-color: var(--fill-color);\n",
              "      border-top-color: var(--fill-color);\n",
              "    }\n",
              "    30% {\n",
              "      border-color: transparent;\n",
              "      border-left-color: var(--fill-color);\n",
              "      border-top-color: var(--fill-color);\n",
              "      border-right-color: var(--fill-color);\n",
              "    }\n",
              "    40% {\n",
              "      border-color: transparent;\n",
              "      border-right-color: var(--fill-color);\n",
              "      border-top-color: var(--fill-color);\n",
              "    }\n",
              "    60% {\n",
              "      border-color: transparent;\n",
              "      border-right-color: var(--fill-color);\n",
              "    }\n",
              "    80% {\n",
              "      border-color: transparent;\n",
              "      border-right-color: var(--fill-color);\n",
              "      border-bottom-color: var(--fill-color);\n",
              "    }\n",
              "    90% {\n",
              "      border-color: transparent;\n",
              "      border-bottom-color: var(--fill-color);\n",
              "    }\n",
              "  }\n",
              "</style>\n",
              "\n",
              "  <script>\n",
              "    async function quickchart(key) {\n",
              "      const quickchartButtonEl =\n",
              "        document.querySelector('#' + key + ' button');\n",
              "      quickchartButtonEl.disabled = true;  // To prevent multiple clicks.\n",
              "      quickchartButtonEl.classList.add('colab-df-spinner');\n",
              "      try {\n",
              "        const charts = await google.colab.kernel.invokeFunction(\n",
              "            'suggestCharts', [key], {});\n",
              "      } catch (error) {\n",
              "        console.error('Error during call to suggestCharts:', error);\n",
              "      }\n",
              "      quickchartButtonEl.classList.remove('colab-df-spinner');\n",
              "      quickchartButtonEl.classList.add('colab-df-quickchart-complete');\n",
              "    }\n",
              "    (() => {\n",
              "      let quickchartButtonEl =\n",
              "        document.querySelector('#df-68c6b567-b91a-40a4-9c4c-415b54e20739 button');\n",
              "      quickchartButtonEl.style.display =\n",
              "        google.colab.kernel.accessAllowed ? 'block' : 'none';\n",
              "    })();\n",
              "  </script>\n",
              "</div>\n",
              "\n",
              "    </div>\n",
              "  </div>\n"
            ],
            "application/vnd.google.colaboratory.intrinsic+json": {
              "type": "dataframe",
              "variable_name": "gme_data",
              "summary": "{\n  \"name\": \"gme_data\",\n  \"rows\": 5672,\n  \"fields\": [\n    {\n      \"column\": \"Date\",\n      \"properties\": {\n        \"dtype\": \"date\",\n        \"min\": \"2002-02-13 00:00:00-05:00\",\n        \"max\": \"2024-08-26 00:00:00-04:00\",\n        \"num_unique_values\": 5672,\n        \"samples\": [\n          \"2006-08-08 00:00:00-04:00\",\n          \"2005-10-25 00:00:00-04:00\",\n          \"2009-03-10 00:00:00-04:00\"\n        ],\n        \"semantic_type\": \"\",\n        \"description\": \"\"\n      }\n    },\n    {\n      \"column\": \"Open\",\n      \"properties\": {\n        \"dtype\": \"number\",\n        \"std\": 10.65475982713917,\n        \"min\": 0.6438431596553329,\n        \"max\": 94.92749786376953,\n        \"num_unique_values\": 5408,\n        \"samples\": [\n          2.751640695910548,\n          7.022518841647119,\n          4.571707657406053\n        ],\n        \"semantic_type\": \"\",\n        \"description\": \"\"\n      }\n    },\n    {\n      \"column\": \"High\",\n      \"properties\": {\n        \"dtype\": \"number\",\n        \"std\": 11.31391596533515,\n        \"min\": 0.6724585033651954,\n        \"max\": 120.75,\n        \"num_unique_values\": 5439,\n        \"samples\": [\n          8.199093168959477,\n          1.2100000381469727,\n          3.2150084220299093\n        ],\n        \"semantic_type\": \"\",\n        \"description\": \"\"\n      }\n    },\n    {\n      \"column\": \"Low\",\n      \"properties\": {\n        \"dtype\": \"number\",\n        \"std\": 10.005430773725973,\n        \"min\": 0.6312188885749066,\n        \"max\": 72.87750244140625,\n        \"num_unique_values\": 5426,\n        \"samples\": [\n          2.7058250941437887,\n          5.164183889093564,\n          7.052326993571036\n        ],\n        \"semantic_type\": \"\",\n        \"description\": \"\"\n      }\n    },\n    {\n      \"column\": \"Close\",\n      \"properties\": {\n        \"dtype\": \"number\",\n        \"std\": 10.561959960424531,\n        \"min\": 0.6387935280799866,\n        \"max\": 86.87750244140625,\n        \"num_unique_values\": 4641,\n        \"samples\": [\n          1.2624378204345703,\n          2.8707168102264404,\n          4.251891136169434\n        ],\n        \"semantic_type\": \"\",\n        \"description\": \"\"\n      }\n    },\n    {\n      \"column\": \"Volume\",\n      \"properties\": {\n        \"dtype\": \"number\",\n        \"std\": 29755064,\n        \"min\": 260000,\n        \"max\": 788631600,\n        \"num_unique_values\": 5383,\n        \"samples\": [\n          16160000,\n          10021600,\n          11782000\n        ],\n        \"semantic_type\": \"\",\n        \"description\": \"\"\n      }\n    },\n    {\n      \"column\": \"Dividends\",\n      \"properties\": {\n        \"dtype\": \"number\",\n        \"std\": 0.005991812143565004,\n        \"min\": 0.0,\n        \"max\": 0.095,\n        \"num_unique_values\": 8,\n        \"samples\": [\n          0.0375,\n          0.09,\n          0.0\n        ],\n        \"semantic_type\": \"\",\n        \"description\": \"\"\n      }\n    },\n    {\n      \"column\": \"Stock Splits\",\n      \"properties\": {\n        \"dtype\": \"number\",\n        \"std\": 0.059376726651618784,\n        \"min\": 0.0,\n        \"max\": 4.0,\n        \"num_unique_values\": 3,\n        \"samples\": [\n          0.0,\n          2.0,\n          4.0\n        ],\n        \"semantic_type\": \"\",\n        \"description\": \"\"\n      }\n    }\n  ]\n}"
            }
          },
          "metadata": {},
          "execution_count": 54
        }
      ],
      "source": [
        "gme_data.reset_index(inplace=True)\n",
        "gme_data.head()"
      ],
      "execution_count": 54
    },
    {
      "cell_type": "markdown",
      "metadata": {
        "id": "0f2a1ecc-ce26-4c62-aa82-a55ab6631d0b"
      },
      "source": [
        "## Question 4: Use Webscraping to Extract GME Revenue Data\n"
      ]
    },
    {
      "cell_type": "markdown",
      "metadata": {
        "id": "0bd2faeb-66af-4b0c-b1c9-6090cc67f027"
      },
      "source": [
        "Use the `requests` library to download the webpage https://cf-courses-data.s3.us.cloud-object-storage.appdomain.cloud/IBMDeveloperSkillsNetwork-PY0220EN-SkillsNetwork/labs/project/stock.html. Save the text of the response as a variable named `html_data_2`.\n"
      ]
    },
    {
      "cell_type": "code",
      "metadata": {
        "id": "3a54bc5a-9236-448b-8586-8dacb3c0838b"
      },
      "outputs": [],
      "source": [
        "url1 = \"https://cf-courses-data.s3.us.cloud-object-storage.appdomain.cloud/IBMDeveloperSkillsNetwork-PY0220EN-SkillsNetwork/labs/project/stock.html\"\n",
        "html_data_2  = requests.get(url1).text"
      ],
      "execution_count": 60
    },
    {
      "cell_type": "markdown",
      "metadata": {
        "id": "8ba80a9d-9da4-4305-9d75-349553c195e9"
      },
      "source": [
        "Parse the html data using `beautiful_soup` using parser i.e `html5lib` or `html.parser`.\n"
      ]
    },
    {
      "cell_type": "code",
      "metadata": {
        "id": "7b9071cc-605a-4401-99b7-24a57cdfa119"
      },
      "outputs": [],
      "source": [
        "soup1 = BeautifulSoup(html_data_2, 'html.parser')"
      ],
      "execution_count": 61
    },
    {
      "cell_type": "markdown",
      "metadata": {
        "id": "f0eeb02d-8e59-4f48-86b1-76896b557b45"
      },
      "source": [
        "Using `BeautifulSoup` or the `read_html` function extract the table with `GameStop Revenue` and store it into a dataframe named `gme_revenue`. The dataframe should have columns `Date` and `Revenue`. Make sure the comma and dollar sign is removed from the `Revenue` column.\n"
      ]
    },
    {
      "cell_type": "markdown",
      "metadata": {
        "id": "12813bb0-d8bb-4a73-814e-42b019bb93d0"
      },
      "source": [
        "> **Note: Use the method similar to what you did in question 2.**  \n"
      ]
    },
    {
      "cell_type": "markdown",
      "metadata": {
        "id": "85b7f204-041c-4ce4-88c3-7ae6a4f03a74"
      },
      "source": [
        "<details><summary>Click here if you need help locating the table</summary>\n",
        "\n",
        "```\n",
        "    \n",
        "Below is the code to isolate the table, you will now need to loop through the rows and columns like in the previous lab\n",
        "    \n",
        "soup.find_all(\"tbody\")[1]\n",
        "    \n",
        "If you want to use the read_html function the table is located at index 1\n",
        "\n",
        "\n",
        "```\n",
        "\n",
        "</details>\n"
      ]
    },
    {
      "cell_type": "code",
      "metadata": {
        "id": "e1ddcbc3-5917-472b-990f-cfc1dd4adda0"
      },
      "outputs": [],
      "source": [
        "read_html_gme_revenue = pd.read_html(str(soup1))\n",
        "gme_revenue = read_html_gme_revenue[1]"
      ],
      "execution_count": 62
    },
    {
      "cell_type": "code",
      "source": [
        "gme_revenue.rename(columns={'GameStop Quarterly Revenue (Millions of US $)':'Date', 'GameStop Quarterly Revenue (Millions of US $).1':'Revenue'}, inplace=True)"
      ],
      "metadata": {
        "id": "ufiJexJb-GJi"
      },
      "execution_count": 64,
      "outputs": []
    },
    {
      "cell_type": "code",
      "source": [
        "gme_revenue.head()"
      ],
      "metadata": {
        "colab": {
          "base_uri": "https://localhost:8080/",
          "height": 0
        },
        "collapsed": true,
        "id": "V5VnI1YO_B3R",
        "outputId": "97051f5a-1a6e-448f-d333-5d3aa6a868db"
      },
      "execution_count": 65,
      "outputs": [
        {
          "output_type": "execute_result",
          "data": {
            "text/plain": [
              "         Date Revenue\n",
              "0  2020-04-30  $1,021\n",
              "1  2020-01-31  $2,194\n",
              "2  2019-10-31  $1,439\n",
              "3  2019-07-31  $1,286\n",
              "4  2019-04-30  $1,548"
            ],
            "text/html": [
              "\n",
              "  <div id=\"df-69801d61-bcb8-4825-a028-4163d496c119\" class=\"colab-df-container\">\n",
              "    <div>\n",
              "<style scoped>\n",
              "    .dataframe tbody tr th:only-of-type {\n",
              "        vertical-align: middle;\n",
              "    }\n",
              "\n",
              "    .dataframe tbody tr th {\n",
              "        vertical-align: top;\n",
              "    }\n",
              "\n",
              "    .dataframe thead th {\n",
              "        text-align: right;\n",
              "    }\n",
              "</style>\n",
              "<table border=\"1\" class=\"dataframe\">\n",
              "  <thead>\n",
              "    <tr style=\"text-align: right;\">\n",
              "      <th></th>\n",
              "      <th>Date</th>\n",
              "      <th>Revenue</th>\n",
              "    </tr>\n",
              "  </thead>\n",
              "  <tbody>\n",
              "    <tr>\n",
              "      <th>0</th>\n",
              "      <td>2020-04-30</td>\n",
              "      <td>$1,021</td>\n",
              "    </tr>\n",
              "    <tr>\n",
              "      <th>1</th>\n",
              "      <td>2020-01-31</td>\n",
              "      <td>$2,194</td>\n",
              "    </tr>\n",
              "    <tr>\n",
              "      <th>2</th>\n",
              "      <td>2019-10-31</td>\n",
              "      <td>$1,439</td>\n",
              "    </tr>\n",
              "    <tr>\n",
              "      <th>3</th>\n",
              "      <td>2019-07-31</td>\n",
              "      <td>$1,286</td>\n",
              "    </tr>\n",
              "    <tr>\n",
              "      <th>4</th>\n",
              "      <td>2019-04-30</td>\n",
              "      <td>$1,548</td>\n",
              "    </tr>\n",
              "  </tbody>\n",
              "</table>\n",
              "</div>\n",
              "    <div class=\"colab-df-buttons\">\n",
              "\n",
              "  <div class=\"colab-df-container\">\n",
              "    <button class=\"colab-df-convert\" onclick=\"convertToInteractive('df-69801d61-bcb8-4825-a028-4163d496c119')\"\n",
              "            title=\"Convert this dataframe to an interactive table.\"\n",
              "            style=\"display:none;\">\n",
              "\n",
              "  <svg xmlns=\"http://www.w3.org/2000/svg\" height=\"24px\" viewBox=\"0 -960 960 960\">\n",
              "    <path d=\"M120-120v-720h720v720H120Zm60-500h600v-160H180v160Zm220 220h160v-160H400v160Zm0 220h160v-160H400v160ZM180-400h160v-160H180v160Zm440 0h160v-160H620v160ZM180-180h160v-160H180v160Zm440 0h160v-160H620v160Z\"/>\n",
              "  </svg>\n",
              "    </button>\n",
              "\n",
              "  <style>\n",
              "    .colab-df-container {\n",
              "      display:flex;\n",
              "      gap: 12px;\n",
              "    }\n",
              "\n",
              "    .colab-df-convert {\n",
              "      background-color: #E8F0FE;\n",
              "      border: none;\n",
              "      border-radius: 50%;\n",
              "      cursor: pointer;\n",
              "      display: none;\n",
              "      fill: #1967D2;\n",
              "      height: 32px;\n",
              "      padding: 0 0 0 0;\n",
              "      width: 32px;\n",
              "    }\n",
              "\n",
              "    .colab-df-convert:hover {\n",
              "      background-color: #E2EBFA;\n",
              "      box-shadow: 0px 1px 2px rgba(60, 64, 67, 0.3), 0px 1px 3px 1px rgba(60, 64, 67, 0.15);\n",
              "      fill: #174EA6;\n",
              "    }\n",
              "\n",
              "    .colab-df-buttons div {\n",
              "      margin-bottom: 4px;\n",
              "    }\n",
              "\n",
              "    [theme=dark] .colab-df-convert {\n",
              "      background-color: #3B4455;\n",
              "      fill: #D2E3FC;\n",
              "    }\n",
              "\n",
              "    [theme=dark] .colab-df-convert:hover {\n",
              "      background-color: #434B5C;\n",
              "      box-shadow: 0px 1px 3px 1px rgba(0, 0, 0, 0.15);\n",
              "      filter: drop-shadow(0px 1px 2px rgba(0, 0, 0, 0.3));\n",
              "      fill: #FFFFFF;\n",
              "    }\n",
              "  </style>\n",
              "\n",
              "    <script>\n",
              "      const buttonEl =\n",
              "        document.querySelector('#df-69801d61-bcb8-4825-a028-4163d496c119 button.colab-df-convert');\n",
              "      buttonEl.style.display =\n",
              "        google.colab.kernel.accessAllowed ? 'block' : 'none';\n",
              "\n",
              "      async function convertToInteractive(key) {\n",
              "        const element = document.querySelector('#df-69801d61-bcb8-4825-a028-4163d496c119');\n",
              "        const dataTable =\n",
              "          await google.colab.kernel.invokeFunction('convertToInteractive',\n",
              "                                                    [key], {});\n",
              "        if (!dataTable) return;\n",
              "\n",
              "        const docLinkHtml = 'Like what you see? Visit the ' +\n",
              "          '<a target=\"_blank\" href=https://colab.research.google.com/notebooks/data_table.ipynb>data table notebook</a>'\n",
              "          + ' to learn more about interactive tables.';\n",
              "        element.innerHTML = '';\n",
              "        dataTable['output_type'] = 'display_data';\n",
              "        await google.colab.output.renderOutput(dataTable, element);\n",
              "        const docLink = document.createElement('div');\n",
              "        docLink.innerHTML = docLinkHtml;\n",
              "        element.appendChild(docLink);\n",
              "      }\n",
              "    </script>\n",
              "  </div>\n",
              "\n",
              "\n",
              "<div id=\"df-7c716338-5cbc-4079-a1f5-d75b87a2c92f\">\n",
              "  <button class=\"colab-df-quickchart\" onclick=\"quickchart('df-7c716338-5cbc-4079-a1f5-d75b87a2c92f')\"\n",
              "            title=\"Suggest charts\"\n",
              "            style=\"display:none;\">\n",
              "\n",
              "<svg xmlns=\"http://www.w3.org/2000/svg\" height=\"24px\"viewBox=\"0 0 24 24\"\n",
              "     width=\"24px\">\n",
              "    <g>\n",
              "        <path d=\"M19 3H5c-1.1 0-2 .9-2 2v14c0 1.1.9 2 2 2h14c1.1 0 2-.9 2-2V5c0-1.1-.9-2-2-2zM9 17H7v-7h2v7zm4 0h-2V7h2v10zm4 0h-2v-4h2v4z\"/>\n",
              "    </g>\n",
              "</svg>\n",
              "  </button>\n",
              "\n",
              "<style>\n",
              "  .colab-df-quickchart {\n",
              "      --bg-color: #E8F0FE;\n",
              "      --fill-color: #1967D2;\n",
              "      --hover-bg-color: #E2EBFA;\n",
              "      --hover-fill-color: #174EA6;\n",
              "      --disabled-fill-color: #AAA;\n",
              "      --disabled-bg-color: #DDD;\n",
              "  }\n",
              "\n",
              "  [theme=dark] .colab-df-quickchart {\n",
              "      --bg-color: #3B4455;\n",
              "      --fill-color: #D2E3FC;\n",
              "      --hover-bg-color: #434B5C;\n",
              "      --hover-fill-color: #FFFFFF;\n",
              "      --disabled-bg-color: #3B4455;\n",
              "      --disabled-fill-color: #666;\n",
              "  }\n",
              "\n",
              "  .colab-df-quickchart {\n",
              "    background-color: var(--bg-color);\n",
              "    border: none;\n",
              "    border-radius: 50%;\n",
              "    cursor: pointer;\n",
              "    display: none;\n",
              "    fill: var(--fill-color);\n",
              "    height: 32px;\n",
              "    padding: 0;\n",
              "    width: 32px;\n",
              "  }\n",
              "\n",
              "  .colab-df-quickchart:hover {\n",
              "    background-color: var(--hover-bg-color);\n",
              "    box-shadow: 0 1px 2px rgba(60, 64, 67, 0.3), 0 1px 3px 1px rgba(60, 64, 67, 0.15);\n",
              "    fill: var(--button-hover-fill-color);\n",
              "  }\n",
              "\n",
              "  .colab-df-quickchart-complete:disabled,\n",
              "  .colab-df-quickchart-complete:disabled:hover {\n",
              "    background-color: var(--disabled-bg-color);\n",
              "    fill: var(--disabled-fill-color);\n",
              "    box-shadow: none;\n",
              "  }\n",
              "\n",
              "  .colab-df-spinner {\n",
              "    border: 2px solid var(--fill-color);\n",
              "    border-color: transparent;\n",
              "    border-bottom-color: var(--fill-color);\n",
              "    animation:\n",
              "      spin 1s steps(1) infinite;\n",
              "  }\n",
              "\n",
              "  @keyframes spin {\n",
              "    0% {\n",
              "      border-color: transparent;\n",
              "      border-bottom-color: var(--fill-color);\n",
              "      border-left-color: var(--fill-color);\n",
              "    }\n",
              "    20% {\n",
              "      border-color: transparent;\n",
              "      border-left-color: var(--fill-color);\n",
              "      border-top-color: var(--fill-color);\n",
              "    }\n",
              "    30% {\n",
              "      border-color: transparent;\n",
              "      border-left-color: var(--fill-color);\n",
              "      border-top-color: var(--fill-color);\n",
              "      border-right-color: var(--fill-color);\n",
              "    }\n",
              "    40% {\n",
              "      border-color: transparent;\n",
              "      border-right-color: var(--fill-color);\n",
              "      border-top-color: var(--fill-color);\n",
              "    }\n",
              "    60% {\n",
              "      border-color: transparent;\n",
              "      border-right-color: var(--fill-color);\n",
              "    }\n",
              "    80% {\n",
              "      border-color: transparent;\n",
              "      border-right-color: var(--fill-color);\n",
              "      border-bottom-color: var(--fill-color);\n",
              "    }\n",
              "    90% {\n",
              "      border-color: transparent;\n",
              "      border-bottom-color: var(--fill-color);\n",
              "    }\n",
              "  }\n",
              "</style>\n",
              "\n",
              "  <script>\n",
              "    async function quickchart(key) {\n",
              "      const quickchartButtonEl =\n",
              "        document.querySelector('#' + key + ' button');\n",
              "      quickchartButtonEl.disabled = true;  // To prevent multiple clicks.\n",
              "      quickchartButtonEl.classList.add('colab-df-spinner');\n",
              "      try {\n",
              "        const charts = await google.colab.kernel.invokeFunction(\n",
              "            'suggestCharts', [key], {});\n",
              "      } catch (error) {\n",
              "        console.error('Error during call to suggestCharts:', error);\n",
              "      }\n",
              "      quickchartButtonEl.classList.remove('colab-df-spinner');\n",
              "      quickchartButtonEl.classList.add('colab-df-quickchart-complete');\n",
              "    }\n",
              "    (() => {\n",
              "      let quickchartButtonEl =\n",
              "        document.querySelector('#df-7c716338-5cbc-4079-a1f5-d75b87a2c92f button');\n",
              "      quickchartButtonEl.style.display =\n",
              "        google.colab.kernel.accessAllowed ? 'block' : 'none';\n",
              "    })();\n",
              "  </script>\n",
              "</div>\n",
              "\n",
              "    </div>\n",
              "  </div>\n"
            ],
            "application/vnd.google.colaboratory.intrinsic+json": {
              "type": "dataframe",
              "variable_name": "gme_revenue",
              "summary": "{\n  \"name\": \"gme_revenue\",\n  \"rows\": 62,\n  \"fields\": [\n    {\n      \"column\": \"Date\",\n      \"properties\": {\n        \"dtype\": \"object\",\n        \"num_unique_values\": 62,\n        \"samples\": [\n          \"2007-10-31\",\n          \"2006-04-30\",\n          \"2020-04-30\"\n        ],\n        \"semantic_type\": \"\",\n        \"description\": \"\"\n      }\n    },\n    {\n      \"column\": \"Revenue\",\n      \"properties\": {\n        \"dtype\": \"string\",\n        \"num_unique_values\": 62,\n        \"samples\": [\n          \"$1,611\",\n          \"$1,040\",\n          \"$1,021\"\n        ],\n        \"semantic_type\": \"\",\n        \"description\": \"\"\n      }\n    }\n  ]\n}"
            }
          },
          "metadata": {},
          "execution_count": 65
        }
      ]
    },
    {
      "cell_type": "code",
      "source": [
        "gme_revenue[\"Revenue\"] = gme_revenue['Revenue'].str.replace(',|\\$',\"\", regex=True)"
      ],
      "metadata": {
        "id": "3RVgI_fH_m2w"
      },
      "execution_count": 66,
      "outputs": []
    },
    {
      "cell_type": "code",
      "source": [
        "gme_revenue.dropna(inplace=True)\n",
        "\n",
        "gme_revenue = gme_revenue[gme_revenue['Revenue'] != \"\"]"
      ],
      "metadata": {
        "id": "CioSFvXp_sbr"
      },
      "execution_count": 67,
      "outputs": []
    },
    {
      "cell_type": "markdown",
      "metadata": {
        "id": "ca16878d-90c9-48a6-9516-3af246d13781"
      },
      "source": [
        "Display the last five rows of the `gme_revenue` dataframe using the `tail` function. Take a screenshot of the results.\n"
      ]
    },
    {
      "cell_type": "code",
      "metadata": {
        "colab": {
          "base_uri": "https://localhost:8080/",
          "height": 206
        },
        "id": "ee03fbe2-54cb-42dd-a0c7-f91e33f81b84",
        "outputId": "94e5467f-e892-4e32-9c7d-e48a88261b42"
      },
      "outputs": [
        {
          "output_type": "execute_result",
          "data": {
            "text/plain": [
              "          Date Revenue\n",
              "57  2006-01-31    1667\n",
              "58  2005-10-31     534\n",
              "59  2005-07-31     416\n",
              "60  2005-04-30     475\n",
              "61  2005-01-31     709"
            ],
            "text/html": [
              "\n",
              "  <div id=\"df-0484bb97-a244-4390-a6e0-843ab17c5944\" class=\"colab-df-container\">\n",
              "    <div>\n",
              "<style scoped>\n",
              "    .dataframe tbody tr th:only-of-type {\n",
              "        vertical-align: middle;\n",
              "    }\n",
              "\n",
              "    .dataframe tbody tr th {\n",
              "        vertical-align: top;\n",
              "    }\n",
              "\n",
              "    .dataframe thead th {\n",
              "        text-align: right;\n",
              "    }\n",
              "</style>\n",
              "<table border=\"1\" class=\"dataframe\">\n",
              "  <thead>\n",
              "    <tr style=\"text-align: right;\">\n",
              "      <th></th>\n",
              "      <th>Date</th>\n",
              "      <th>Revenue</th>\n",
              "    </tr>\n",
              "  </thead>\n",
              "  <tbody>\n",
              "    <tr>\n",
              "      <th>57</th>\n",
              "      <td>2006-01-31</td>\n",
              "      <td>1667</td>\n",
              "    </tr>\n",
              "    <tr>\n",
              "      <th>58</th>\n",
              "      <td>2005-10-31</td>\n",
              "      <td>534</td>\n",
              "    </tr>\n",
              "    <tr>\n",
              "      <th>59</th>\n",
              "      <td>2005-07-31</td>\n",
              "      <td>416</td>\n",
              "    </tr>\n",
              "    <tr>\n",
              "      <th>60</th>\n",
              "      <td>2005-04-30</td>\n",
              "      <td>475</td>\n",
              "    </tr>\n",
              "    <tr>\n",
              "      <th>61</th>\n",
              "      <td>2005-01-31</td>\n",
              "      <td>709</td>\n",
              "    </tr>\n",
              "  </tbody>\n",
              "</table>\n",
              "</div>\n",
              "    <div class=\"colab-df-buttons\">\n",
              "\n",
              "  <div class=\"colab-df-container\">\n",
              "    <button class=\"colab-df-convert\" onclick=\"convertToInteractive('df-0484bb97-a244-4390-a6e0-843ab17c5944')\"\n",
              "            title=\"Convert this dataframe to an interactive table.\"\n",
              "            style=\"display:none;\">\n",
              "\n",
              "  <svg xmlns=\"http://www.w3.org/2000/svg\" height=\"24px\" viewBox=\"0 -960 960 960\">\n",
              "    <path d=\"M120-120v-720h720v720H120Zm60-500h600v-160H180v160Zm220 220h160v-160H400v160Zm0 220h160v-160H400v160ZM180-400h160v-160H180v160Zm440 0h160v-160H620v160ZM180-180h160v-160H180v160Zm440 0h160v-160H620v160Z\"/>\n",
              "  </svg>\n",
              "    </button>\n",
              "\n",
              "  <style>\n",
              "    .colab-df-container {\n",
              "      display:flex;\n",
              "      gap: 12px;\n",
              "    }\n",
              "\n",
              "    .colab-df-convert {\n",
              "      background-color: #E8F0FE;\n",
              "      border: none;\n",
              "      border-radius: 50%;\n",
              "      cursor: pointer;\n",
              "      display: none;\n",
              "      fill: #1967D2;\n",
              "      height: 32px;\n",
              "      padding: 0 0 0 0;\n",
              "      width: 32px;\n",
              "    }\n",
              "\n",
              "    .colab-df-convert:hover {\n",
              "      background-color: #E2EBFA;\n",
              "      box-shadow: 0px 1px 2px rgba(60, 64, 67, 0.3), 0px 1px 3px 1px rgba(60, 64, 67, 0.15);\n",
              "      fill: #174EA6;\n",
              "    }\n",
              "\n",
              "    .colab-df-buttons div {\n",
              "      margin-bottom: 4px;\n",
              "    }\n",
              "\n",
              "    [theme=dark] .colab-df-convert {\n",
              "      background-color: #3B4455;\n",
              "      fill: #D2E3FC;\n",
              "    }\n",
              "\n",
              "    [theme=dark] .colab-df-convert:hover {\n",
              "      background-color: #434B5C;\n",
              "      box-shadow: 0px 1px 3px 1px rgba(0, 0, 0, 0.15);\n",
              "      filter: drop-shadow(0px 1px 2px rgba(0, 0, 0, 0.3));\n",
              "      fill: #FFFFFF;\n",
              "    }\n",
              "  </style>\n",
              "\n",
              "    <script>\n",
              "      const buttonEl =\n",
              "        document.querySelector('#df-0484bb97-a244-4390-a6e0-843ab17c5944 button.colab-df-convert');\n",
              "      buttonEl.style.display =\n",
              "        google.colab.kernel.accessAllowed ? 'block' : 'none';\n",
              "\n",
              "      async function convertToInteractive(key) {\n",
              "        const element = document.querySelector('#df-0484bb97-a244-4390-a6e0-843ab17c5944');\n",
              "        const dataTable =\n",
              "          await google.colab.kernel.invokeFunction('convertToInteractive',\n",
              "                                                    [key], {});\n",
              "        if (!dataTable) return;\n",
              "\n",
              "        const docLinkHtml = 'Like what you see? Visit the ' +\n",
              "          '<a target=\"_blank\" href=https://colab.research.google.com/notebooks/data_table.ipynb>data table notebook</a>'\n",
              "          + ' to learn more about interactive tables.';\n",
              "        element.innerHTML = '';\n",
              "        dataTable['output_type'] = 'display_data';\n",
              "        await google.colab.output.renderOutput(dataTable, element);\n",
              "        const docLink = document.createElement('div');\n",
              "        docLink.innerHTML = docLinkHtml;\n",
              "        element.appendChild(docLink);\n",
              "      }\n",
              "    </script>\n",
              "  </div>\n",
              "\n",
              "\n",
              "<div id=\"df-42b20a52-c3d7-402b-bdbf-e288bbcbc800\">\n",
              "  <button class=\"colab-df-quickchart\" onclick=\"quickchart('df-42b20a52-c3d7-402b-bdbf-e288bbcbc800')\"\n",
              "            title=\"Suggest charts\"\n",
              "            style=\"display:none;\">\n",
              "\n",
              "<svg xmlns=\"http://www.w3.org/2000/svg\" height=\"24px\"viewBox=\"0 0 24 24\"\n",
              "     width=\"24px\">\n",
              "    <g>\n",
              "        <path d=\"M19 3H5c-1.1 0-2 .9-2 2v14c0 1.1.9 2 2 2h14c1.1 0 2-.9 2-2V5c0-1.1-.9-2-2-2zM9 17H7v-7h2v7zm4 0h-2V7h2v10zm4 0h-2v-4h2v4z\"/>\n",
              "    </g>\n",
              "</svg>\n",
              "  </button>\n",
              "\n",
              "<style>\n",
              "  .colab-df-quickchart {\n",
              "      --bg-color: #E8F0FE;\n",
              "      --fill-color: #1967D2;\n",
              "      --hover-bg-color: #E2EBFA;\n",
              "      --hover-fill-color: #174EA6;\n",
              "      --disabled-fill-color: #AAA;\n",
              "      --disabled-bg-color: #DDD;\n",
              "  }\n",
              "\n",
              "  [theme=dark] .colab-df-quickchart {\n",
              "      --bg-color: #3B4455;\n",
              "      --fill-color: #D2E3FC;\n",
              "      --hover-bg-color: #434B5C;\n",
              "      --hover-fill-color: #FFFFFF;\n",
              "      --disabled-bg-color: #3B4455;\n",
              "      --disabled-fill-color: #666;\n",
              "  }\n",
              "\n",
              "  .colab-df-quickchart {\n",
              "    background-color: var(--bg-color);\n",
              "    border: none;\n",
              "    border-radius: 50%;\n",
              "    cursor: pointer;\n",
              "    display: none;\n",
              "    fill: var(--fill-color);\n",
              "    height: 32px;\n",
              "    padding: 0;\n",
              "    width: 32px;\n",
              "  }\n",
              "\n",
              "  .colab-df-quickchart:hover {\n",
              "    background-color: var(--hover-bg-color);\n",
              "    box-shadow: 0 1px 2px rgba(60, 64, 67, 0.3), 0 1px 3px 1px rgba(60, 64, 67, 0.15);\n",
              "    fill: var(--button-hover-fill-color);\n",
              "  }\n",
              "\n",
              "  .colab-df-quickchart-complete:disabled,\n",
              "  .colab-df-quickchart-complete:disabled:hover {\n",
              "    background-color: var(--disabled-bg-color);\n",
              "    fill: var(--disabled-fill-color);\n",
              "    box-shadow: none;\n",
              "  }\n",
              "\n",
              "  .colab-df-spinner {\n",
              "    border: 2px solid var(--fill-color);\n",
              "    border-color: transparent;\n",
              "    border-bottom-color: var(--fill-color);\n",
              "    animation:\n",
              "      spin 1s steps(1) infinite;\n",
              "  }\n",
              "\n",
              "  @keyframes spin {\n",
              "    0% {\n",
              "      border-color: transparent;\n",
              "      border-bottom-color: var(--fill-color);\n",
              "      border-left-color: var(--fill-color);\n",
              "    }\n",
              "    20% {\n",
              "      border-color: transparent;\n",
              "      border-left-color: var(--fill-color);\n",
              "      border-top-color: var(--fill-color);\n",
              "    }\n",
              "    30% {\n",
              "      border-color: transparent;\n",
              "      border-left-color: var(--fill-color);\n",
              "      border-top-color: var(--fill-color);\n",
              "      border-right-color: var(--fill-color);\n",
              "    }\n",
              "    40% {\n",
              "      border-color: transparent;\n",
              "      border-right-color: var(--fill-color);\n",
              "      border-top-color: var(--fill-color);\n",
              "    }\n",
              "    60% {\n",
              "      border-color: transparent;\n",
              "      border-right-color: var(--fill-color);\n",
              "    }\n",
              "    80% {\n",
              "      border-color: transparent;\n",
              "      border-right-color: var(--fill-color);\n",
              "      border-bottom-color: var(--fill-color);\n",
              "    }\n",
              "    90% {\n",
              "      border-color: transparent;\n",
              "      border-bottom-color: var(--fill-color);\n",
              "    }\n",
              "  }\n",
              "</style>\n",
              "\n",
              "  <script>\n",
              "    async function quickchart(key) {\n",
              "      const quickchartButtonEl =\n",
              "        document.querySelector('#' + key + ' button');\n",
              "      quickchartButtonEl.disabled = true;  // To prevent multiple clicks.\n",
              "      quickchartButtonEl.classList.add('colab-df-spinner');\n",
              "      try {\n",
              "        const charts = await google.colab.kernel.invokeFunction(\n",
              "            'suggestCharts', [key], {});\n",
              "      } catch (error) {\n",
              "        console.error('Error during call to suggestCharts:', error);\n",
              "      }\n",
              "      quickchartButtonEl.classList.remove('colab-df-spinner');\n",
              "      quickchartButtonEl.classList.add('colab-df-quickchart-complete');\n",
              "    }\n",
              "    (() => {\n",
              "      let quickchartButtonEl =\n",
              "        document.querySelector('#df-42b20a52-c3d7-402b-bdbf-e288bbcbc800 button');\n",
              "      quickchartButtonEl.style.display =\n",
              "        google.colab.kernel.accessAllowed ? 'block' : 'none';\n",
              "    })();\n",
              "  </script>\n",
              "</div>\n",
              "\n",
              "    </div>\n",
              "  </div>\n"
            ],
            "application/vnd.google.colaboratory.intrinsic+json": {
              "type": "dataframe",
              "repr_error": "0"
            }
          },
          "metadata": {},
          "execution_count": 68
        }
      ],
      "source": [
        "gme_revenue.tail()"
      ],
      "execution_count": 68
    },
    {
      "cell_type": "markdown",
      "metadata": {
        "id": "fd83e0c6-cf8c-470e-bf21-c788bbbe5c18"
      },
      "source": [
        "## Question 5: Plot Tesla Stock Graph\n"
      ]
    },
    {
      "cell_type": "markdown",
      "metadata": {
        "id": "e53bfab4-d856-4127-9fe5-46bc410c3f80"
      },
      "source": [
        "Use the `make_graph` function to graph the Tesla Stock Data, also provide a title for the graph. Note the graph will only show data upto June 2021.\n"
      ]
    },
    {
      "cell_type": "markdown",
      "metadata": {
        "id": "cef65dfb-db27-4fd1-bd87-0952d8e6b3c6"
      },
      "source": [
        "<details><summary>Hint</summary>\n",
        "\n",
        "```\n",
        "\n",
        "You just need to invoke the make_graph function with the required parameter to print the graphs.The structure to call the `make_graph` function is `make_graph(tesla_data, tesla_revenue, 'Tesla')`.\n",
        "\n",
        "```\n",
        "    \n",
        "</details>\n"
      ]
    },
    {
      "cell_type": "code",
      "metadata": {
        "colab": {
          "base_uri": "https://localhost:8080/",
          "height": 917
        },
        "id": "6ba792ed-ab97-4739-afed-610df150eec2",
        "outputId": "9fe5f699-d0df-449e-c806-af2bd089b831"
      },
      "outputs": [
        {
          "output_type": "display_data",
          "data": {
            "text/html": [
              "<html>\n",
              "<head><meta charset=\"utf-8\" /></head>\n",
              "<body>\n",
              "    <div>            <script src=\"https://cdnjs.cloudflare.com/ajax/libs/mathjax/2.7.5/MathJax.js?config=TeX-AMS-MML_SVG\"></script><script type=\"text/javascript\">if (window.MathJax && window.MathJax.Hub && window.MathJax.Hub.Config) {window.MathJax.Hub.Config({SVG: {font: \"STIX-Web\"}});}</script>                <script type=\"text/javascript\">window.PlotlyConfig = {MathJaxConfig: 'local'};</script>\n",
              "        <script charset=\"utf-8\" src=\"https://cdn.plot.ly/plotly-2.24.1.min.js\"></script>                <div id=\"74a7475f-7f0c-4920-824a-b84f1c3ccf94\" class=\"plotly-graph-div\" style=\"height:900px; width:100%;\"></div>            <script type=\"text/javascript\">                                    window.PLOTLYENV=window.PLOTLYENV || {};                                    if (document.getElementById(\"74a7475f-7f0c-4920-824a-b84f1c3ccf94\")) {                    Plotly.newPlot(                        \"74a7475f-7f0c-4920-824a-b84f1c3ccf94\",                        [{\"name\":\"Share Price\",\"x\":[\"2010-06-29T00:00:00-04:00\",\"2010-06-30T00:00:00-04:00\",\"2010-07-01T00:00:00-04:00\",\"2010-07-02T00:00:00-04:00\",\"2010-07-06T00:00:00-04:00\",\"2010-07-07T00:00:00-04:00\",\"2010-07-08T00:00:00-04:00\",\"2010-07-09T00:00:00-04:00\",\"2010-07-12T00:00:00-04:00\",\"2010-07-13T00:00:00-04:00\",\"2010-07-14T00:00:00-04:00\",\"2010-07-15T00:00:00-04:00\",\"2010-07-16T00:00:00-04:00\",\"2010-07-19T00:00:00-04:00\",\"2010-07-20T00:00:00-04:00\",\"2010-07-21T00:00:00-04:00\",\"2010-07-22T00:00:00-04:00\",\"2010-07-23T00:00:00-04:00\",\"2010-07-26T00:00:00-04:00\",\"2010-07-27T00:00:00-04:00\",\"2010-07-28T00:00:00-04:00\",\"2010-07-29T00:00:00-04:00\",\"2010-07-30T00:00:00-04:00\",\"2010-08-02T00:00:00-04:00\",\"2010-08-03T00:00:00-04:00\",\"2010-08-04T00:00:00-04:00\",\"2010-08-05T00:00:00-04:00\",\"2010-08-06T00:00:00-04:00\",\"2010-08-09T00:00:00-04:00\",\"2010-08-10T00:00:00-04:00\",\"2010-08-11T00:00:00-04:00\",\"2010-08-12T00:00:00-04:00\",\"2010-08-13T00:00:00-04:00\",\"2010-08-16T00:00:00-04:00\",\"2010-08-17T00:00:00-04:00\",\"2010-08-18T00:00:00-04:00\",\"2010-08-19T00:00:00-04:00\",\"2010-08-20T00:00:00-04:00\",\"2010-08-23T00:00:00-04:00\",\"2010-08-24T00:00:00-04:00\",\"2010-08-25T00:00:00-04:00\",\"2010-08-26T00:00:00-04:00\",\"2010-08-27T00:00:00-04:00\",\"2010-08-30T00:00:00-04:00\",\"2010-08-31T00:00:00-04:00\",\"2010-09-01T00:00:00-04:00\",\"2010-09-02T00:00:00-04:00\",\"2010-09-03T00:00:00-04:00\",\"2010-09-07T00:00:00-04:00\",\"2010-09-08T00:00:00-04:00\",\"2010-09-09T00:00:00-04:00\",\"2010-09-10T00:00:00-04:00\",\"2010-09-13T00:00:00-04:00\",\"2010-09-14T00:00:00-04:00\",\"2010-09-15T00:00:00-04:00\",\"2010-09-16T00:00:00-04:00\",\"2010-09-17T00:00:00-04:00\",\"2010-09-20T00:00:00-04:00\",\"2010-09-21T00:00:00-04:00\",\"2010-09-22T00:00:00-04:00\",\"2010-09-23T00:00:00-04:00\",\"2010-09-24T00:00:00-04:00\",\"2010-09-27T00:00:00-04:00\",\"2010-09-28T00:00:00-04:00\",\"2010-09-29T00:00:00-04:00\",\"2010-09-30T00:00:00-04:00\",\"2010-10-01T00:00:00-04:00\",\"2010-10-04T00:00:00-04:00\",\"2010-10-05T00:00:00-04:00\",\"2010-10-06T00:00:00-04:00\",\"2010-10-07T00:00:00-04:00\",\"2010-10-08T00:00:00-04:00\",\"2010-10-11T00:00:00-04:00\",\"2010-10-12T00:00:00-04:00\",\"2010-10-13T00:00:00-04:00\",\"2010-10-14T00:00:00-04:00\",\"2010-10-15T00:00:00-04:00\",\"2010-10-18T00:00:00-04:00\",\"2010-10-19T00:00:00-04:00\",\"2010-10-20T00:00:00-04:00\",\"2010-10-21T00:00:00-04:00\",\"2010-10-22T00:00:00-04:00\",\"2010-10-25T00:00:00-04:00\",\"2010-10-26T00:00:00-04:00\",\"2010-10-27T00:00:00-04:00\",\"2010-10-28T00:00:00-04:00\",\"2010-10-29T00:00:00-04:00\",\"2010-11-01T00:00:00-04:00\",\"2010-11-02T00:00:00-04:00\",\"2010-11-03T00:00:00-04:00\",\"2010-11-04T00:00:00-04:00\",\"2010-11-05T00:00:00-04:00\",\"2010-11-08T00:00:00-05:00\",\"2010-11-09T00:00:00-05:00\",\"2010-11-10T00:00:00-05:00\",\"2010-11-11T00:00:00-05:00\",\"2010-11-12T00:00:00-05:00\",\"2010-11-15T00:00:00-05:00\",\"2010-11-16T00:00:00-05:00\",\"2010-11-17T00:00:00-05:00\",\"2010-11-18T00:00:00-05:00\",\"2010-11-19T00:00:00-05:00\",\"2010-11-22T00:00:00-05:00\",\"2010-11-23T00:00:00-05:00\",\"2010-11-24T00:00:00-05:00\",\"2010-11-26T00:00:00-05:00\",\"2010-11-29T00:00:00-05:00\",\"2010-11-30T00:00:00-05:00\",\"2010-12-01T00:00:00-05:00\",\"2010-12-02T00:00:00-05:00\",\"2010-12-03T00:00:00-05:00\",\"2010-12-06T00:00:00-05:00\",\"2010-12-07T00:00:00-05:00\",\"2010-12-08T00:00:00-05:00\",\"2010-12-09T00:00:00-05:00\",\"2010-12-10T00:00:00-05:00\",\"2010-12-13T00:00:00-05:00\",\"2010-12-14T00:00:00-05:00\",\"2010-12-15T00:00:00-05:00\",\"2010-12-16T00:00:00-05:00\",\"2010-12-17T00:00:00-05:00\",\"2010-12-20T00:00:00-05:00\",\"2010-12-21T00:00:00-05:00\",\"2010-12-22T00:00:00-05:00\",\"2010-12-23T00:00:00-05:00\",\"2010-12-27T00:00:00-05:00\",\"2010-12-28T00:00:00-05:00\",\"2010-12-29T00:00:00-05:00\",\"2010-12-30T00:00:00-05:00\",\"2010-12-31T00:00:00-05:00\",\"2011-01-03T00:00:00-05:00\",\"2011-01-04T00:00:00-05:00\",\"2011-01-05T00:00:00-05:00\",\"2011-01-06T00:00:00-05:00\",\"2011-01-07T00:00:00-05:00\",\"2011-01-10T00:00:00-05:00\",\"2011-01-11T00:00:00-05:00\",\"2011-01-12T00:00:00-05:00\",\"2011-01-13T00:00:00-05:00\",\"2011-01-14T00:00:00-05:00\",\"2011-01-18T00:00:00-05:00\",\"2011-01-19T00:00:00-05:00\",\"2011-01-20T00:00:00-05:00\",\"2011-01-21T00:00:00-05:00\",\"2011-01-24T00:00:00-05:00\",\"2011-01-25T00:00:00-05:00\",\"2011-01-26T00:00:00-05:00\",\"2011-01-27T00:00:00-05:00\",\"2011-01-28T00:00:00-05:00\",\"2011-01-31T00:00:00-05:00\",\"2011-02-01T00:00:00-05:00\",\"2011-02-02T00:00:00-05:00\",\"2011-02-03T00:00:00-05:00\",\"2011-02-04T00:00:00-05:00\",\"2011-02-07T00:00:00-05:00\",\"2011-02-08T00:00:00-05:00\",\"2011-02-09T00:00:00-05:00\",\"2011-02-10T00:00:00-05:00\",\"2011-02-11T00:00:00-05:00\",\"2011-02-14T00:00:00-05:00\",\"2011-02-15T00:00:00-05:00\",\"2011-02-16T00:00:00-05:00\",\"2011-02-17T00:00:00-05:00\",\"2011-02-18T00:00:00-05:00\",\"2011-02-22T00:00:00-05:00\",\"2011-02-23T00:00:00-05:00\",\"2011-02-24T00:00:00-05:00\",\"2011-02-25T00:00:00-05:00\",\"2011-02-28T00:00:00-05:00\",\"2011-03-01T00:00:00-05:00\",\"2011-03-02T00:00:00-05:00\",\"2011-03-03T00:00:00-05:00\",\"2011-03-04T00:00:00-05:00\",\"2011-03-07T00:00:00-05:00\",\"2011-03-08T00:00:00-05:00\",\"2011-03-09T00:00:00-05:00\",\"2011-03-10T00:00:00-05:00\",\"2011-03-11T00:00:00-05:00\",\"2011-03-14T00:00:00-04:00\",\"2011-03-15T00:00:00-04:00\",\"2011-03-16T00:00:00-04:00\",\"2011-03-17T00:00:00-04:00\",\"2011-03-18T00:00:00-04:00\",\"2011-03-21T00:00:00-04:00\",\"2011-03-22T00:00:00-04:00\",\"2011-03-23T00:00:00-04:00\",\"2011-03-24T00:00:00-04:00\",\"2011-03-25T00:00:00-04:00\",\"2011-03-28T00:00:00-04:00\",\"2011-03-29T00:00:00-04:00\",\"2011-03-30T00:00:00-04:00\",\"2011-03-31T00:00:00-04:00\",\"2011-04-01T00:00:00-04:00\",\"2011-04-04T00:00:00-04:00\",\"2011-04-05T00:00:00-04:00\",\"2011-04-06T00:00:00-04:00\",\"2011-04-07T00:00:00-04:00\",\"2011-04-08T00:00:00-04:00\",\"2011-04-11T00:00:00-04:00\",\"2011-04-12T00:00:00-04:00\",\"2011-04-13T00:00:00-04:00\",\"2011-04-14T00:00:00-04:00\",\"2011-04-15T00:00:00-04:00\",\"2011-04-18T00:00:00-04:00\",\"2011-04-19T00:00:00-04:00\",\"2011-04-20T00:00:00-04:00\",\"2011-04-21T00:00:00-04:00\",\"2011-04-25T00:00:00-04:00\",\"2011-04-26T00:00:00-04:00\",\"2011-04-27T00:00:00-04:00\",\"2011-04-28T00:00:00-04:00\",\"2011-04-29T00:00:00-04:00\",\"2011-05-02T00:00:00-04:00\",\"2011-05-03T00:00:00-04:00\",\"2011-05-04T00:00:00-04:00\",\"2011-05-05T00:00:00-04:00\",\"2011-05-06T00:00:00-04:00\",\"2011-05-09T00:00:00-04:00\",\"2011-05-10T00:00:00-04:00\",\"2011-05-11T00:00:00-04:00\",\"2011-05-12T00:00:00-04:00\",\"2011-05-13T00:00:00-04:00\",\"2011-05-16T00:00:00-04:00\",\"2011-05-17T00:00:00-04:00\",\"2011-05-18T00:00:00-04:00\",\"2011-05-19T00:00:00-04:00\",\"2011-05-20T00:00:00-04:00\",\"2011-05-23T00:00:00-04:00\",\"2011-05-24T00:00:00-04:00\",\"2011-05-25T00:00:00-04:00\",\"2011-05-26T00:00:00-04:00\",\"2011-05-27T00:00:00-04:00\",\"2011-05-31T00:00:00-04:00\",\"2011-06-01T00:00:00-04:00\",\"2011-06-02T00:00:00-04:00\",\"2011-06-03T00:00:00-04:00\",\"2011-06-06T00:00:00-04:00\",\"2011-06-07T00:00:00-04:00\",\"2011-06-08T00:00:00-04:00\",\"2011-06-09T00:00:00-04:00\",\"2011-06-10T00:00:00-04:00\",\"2011-06-13T00:00:00-04:00\",\"2011-06-14T00:00:00-04:00\",\"2011-06-15T00:00:00-04:00\",\"2011-06-16T00:00:00-04:00\",\"2011-06-17T00:00:00-04:00\",\"2011-06-20T00:00:00-04:00\",\"2011-06-21T00:00:00-04:00\",\"2011-06-22T00:00:00-04:00\",\"2011-06-23T00:00:00-04:00\",\"2011-06-24T00:00:00-04:00\",\"2011-06-27T00:00:00-04:00\",\"2011-06-28T00:00:00-04:00\",\"2011-06-29T00:00:00-04:00\",\"2011-06-30T00:00:00-04:00\",\"2011-07-01T00:00:00-04:00\",\"2011-07-05T00:00:00-04:00\",\"2011-07-06T00:00:00-04:00\",\"2011-07-07T00:00:00-04:00\",\"2011-07-08T00:00:00-04:00\",\"2011-07-11T00:00:00-04:00\",\"2011-07-12T00:00:00-04:00\",\"2011-07-13T00:00:00-04:00\",\"2011-07-14T00:00:00-04:00\",\"2011-07-15T00:00:00-04:00\",\"2011-07-18T00:00:00-04:00\",\"2011-07-19T00:00:00-04:00\",\"2011-07-20T00:00:00-04:00\",\"2011-07-21T00:00:00-04:00\",\"2011-07-22T00:00:00-04:00\",\"2011-07-25T00:00:00-04:00\",\"2011-07-26T00:00:00-04:00\",\"2011-07-27T00:00:00-04:00\",\"2011-07-28T00:00:00-04:00\",\"2011-07-29T00:00:00-04:00\",\"2011-08-01T00:00:00-04:00\",\"2011-08-02T00:00:00-04:00\",\"2011-08-03T00:00:00-04:00\",\"2011-08-04T00:00:00-04:00\",\"2011-08-05T00:00:00-04:00\",\"2011-08-08T00:00:00-04:00\",\"2011-08-09T00:00:00-04:00\",\"2011-08-10T00:00:00-04:00\",\"2011-08-11T00:00:00-04:00\",\"2011-08-12T00:00:00-04:00\",\"2011-08-15T00:00:00-04:00\",\"2011-08-16T00:00:00-04:00\",\"2011-08-17T00:00:00-04:00\",\"2011-08-18T00:00:00-04:00\",\"2011-08-19T00:00:00-04:00\",\"2011-08-22T00:00:00-04:00\",\"2011-08-23T00:00:00-04:00\",\"2011-08-24T00:00:00-04:00\",\"2011-08-25T00:00:00-04:00\",\"2011-08-26T00:00:00-04:00\",\"2011-08-29T00:00:00-04:00\",\"2011-08-30T00:00:00-04:00\",\"2011-08-31T00:00:00-04:00\",\"2011-09-01T00:00:00-04:00\",\"2011-09-02T00:00:00-04:00\",\"2011-09-06T00:00:00-04:00\",\"2011-09-07T00:00:00-04:00\",\"2011-09-08T00:00:00-04:00\",\"2011-09-09T00:00:00-04:00\",\"2011-09-12T00:00:00-04:00\",\"2011-09-13T00:00:00-04:00\",\"2011-09-14T00:00:00-04:00\",\"2011-09-15T00:00:00-04:00\",\"2011-09-16T00:00:00-04:00\",\"2011-09-19T00:00:00-04:00\",\"2011-09-20T00:00:00-04:00\",\"2011-09-21T00:00:00-04:00\",\"2011-09-22T00:00:00-04:00\",\"2011-09-23T00:00:00-04:00\",\"2011-09-26T00:00:00-04:00\",\"2011-09-27T00:00:00-04:00\",\"2011-09-28T00:00:00-04:00\",\"2011-09-29T00:00:00-04:00\",\"2011-09-30T00:00:00-04:00\",\"2011-10-03T00:00:00-04:00\",\"2011-10-04T00:00:00-04:00\",\"2011-10-05T00:00:00-04:00\",\"2011-10-06T00:00:00-04:00\",\"2011-10-07T00:00:00-04:00\",\"2011-10-10T00:00:00-04:00\",\"2011-10-11T00:00:00-04:00\",\"2011-10-12T00:00:00-04:00\",\"2011-10-13T00:00:00-04:00\",\"2011-10-14T00:00:00-04:00\",\"2011-10-17T00:00:00-04:00\",\"2011-10-18T00:00:00-04:00\",\"2011-10-19T00:00:00-04:00\",\"2011-10-20T00:00:00-04:00\",\"2011-10-21T00:00:00-04:00\",\"2011-10-24T00:00:00-04:00\",\"2011-10-25T00:00:00-04:00\",\"2011-10-26T00:00:00-04:00\",\"2011-10-27T00:00:00-04:00\",\"2011-10-28T00:00:00-04:00\",\"2011-10-31T00:00:00-04:00\",\"2011-11-01T00:00:00-04:00\",\"2011-11-02T00:00:00-04:00\",\"2011-11-03T00:00:00-04:00\",\"2011-11-04T00:00:00-04:00\",\"2011-11-07T00:00:00-05:00\",\"2011-11-08T00:00:00-05:00\",\"2011-11-09T00:00:00-05:00\",\"2011-11-10T00:00:00-05:00\",\"2011-11-11T00:00:00-05:00\",\"2011-11-14T00:00:00-05:00\",\"2011-11-15T00:00:00-05:00\",\"2011-11-16T00:00:00-05:00\",\"2011-11-17T00:00:00-05:00\",\"2011-11-18T00:00:00-05:00\",\"2011-11-21T00:00:00-05:00\",\"2011-11-22T00:00:00-05:00\",\"2011-11-23T00:00:00-05:00\",\"2011-11-25T00:00:00-05:00\",\"2011-11-28T00:00:00-05:00\",\"2011-11-29T00:00:00-05:00\",\"2011-11-30T00:00:00-05:00\",\"2011-12-01T00:00:00-05:00\",\"2011-12-02T00:00:00-05:00\",\"2011-12-05T00:00:00-05:00\",\"2011-12-06T00:00:00-05:00\",\"2011-12-07T00:00:00-05:00\",\"2011-12-08T00:00:00-05:00\",\"2011-12-09T00:00:00-05:00\",\"2011-12-12T00:00:00-05:00\",\"2011-12-13T00:00:00-05:00\",\"2011-12-14T00:00:00-05:00\",\"2011-12-15T00:00:00-05:00\",\"2011-12-16T00:00:00-05:00\",\"2011-12-19T00:00:00-05:00\",\"2011-12-20T00:00:00-05:00\",\"2011-12-21T00:00:00-05:00\",\"2011-12-22T00:00:00-05:00\",\"2011-12-23T00:00:00-05:00\",\"2011-12-27T00:00:00-05:00\",\"2011-12-28T00:00:00-05:00\",\"2011-12-29T00:00:00-05:00\",\"2011-12-30T00:00:00-05:00\",\"2012-01-03T00:00:00-05:00\",\"2012-01-04T00:00:00-05:00\",\"2012-01-05T00:00:00-05:00\",\"2012-01-06T00:00:00-05:00\",\"2012-01-09T00:00:00-05:00\",\"2012-01-10T00:00:00-05:00\",\"2012-01-11T00:00:00-05:00\",\"2012-01-12T00:00:00-05:00\",\"2012-01-13T00:00:00-05:00\",\"2012-01-17T00:00:00-05:00\",\"2012-01-18T00:00:00-05:00\",\"2012-01-19T00:00:00-05:00\",\"2012-01-20T00:00:00-05:00\",\"2012-01-23T00:00:00-05:00\",\"2012-01-24T00:00:00-05:00\",\"2012-01-25T00:00:00-05:00\",\"2012-01-26T00:00:00-05:00\",\"2012-01-27T00:00:00-05:00\",\"2012-01-30T00:00:00-05:00\",\"2012-01-31T00:00:00-05:00\",\"2012-02-01T00:00:00-05:00\",\"2012-02-02T00:00:00-05:00\",\"2012-02-03T00:00:00-05:00\",\"2012-02-06T00:00:00-05:00\",\"2012-02-07T00:00:00-05:00\",\"2012-02-08T00:00:00-05:00\",\"2012-02-09T00:00:00-05:00\",\"2012-02-10T00:00:00-05:00\",\"2012-02-13T00:00:00-05:00\",\"2012-02-14T00:00:00-05:00\",\"2012-02-15T00:00:00-05:00\",\"2012-02-16T00:00:00-05:00\",\"2012-02-17T00:00:00-05:00\",\"2012-02-21T00:00:00-05:00\",\"2012-02-22T00:00:00-05:00\",\"2012-02-23T00:00:00-05:00\",\"2012-02-24T00:00:00-05:00\",\"2012-02-27T00:00:00-05:00\",\"2012-02-28T00:00:00-05:00\",\"2012-02-29T00:00:00-05:00\",\"2012-03-01T00:00:00-05:00\",\"2012-03-02T00:00:00-05:00\",\"2012-03-05T00:00:00-05:00\",\"2012-03-06T00:00:00-05:00\",\"2012-03-07T00:00:00-05:00\",\"2012-03-08T00:00:00-05:00\",\"2012-03-09T00:00:00-05:00\",\"2012-03-12T00:00:00-04:00\",\"2012-03-13T00:00:00-04:00\",\"2012-03-14T00:00:00-04:00\",\"2012-03-15T00:00:00-04:00\",\"2012-03-16T00:00:00-04:00\",\"2012-03-19T00:00:00-04:00\",\"2012-03-20T00:00:00-04:00\",\"2012-03-21T00:00:00-04:00\",\"2012-03-22T00:00:00-04:00\",\"2012-03-23T00:00:00-04:00\",\"2012-03-26T00:00:00-04:00\",\"2012-03-27T00:00:00-04:00\",\"2012-03-28T00:00:00-04:00\",\"2012-03-29T00:00:00-04:00\",\"2012-03-30T00:00:00-04:00\",\"2012-04-02T00:00:00-04:00\",\"2012-04-03T00:00:00-04:00\",\"2012-04-04T00:00:00-04:00\",\"2012-04-05T00:00:00-04:00\",\"2012-04-09T00:00:00-04:00\",\"2012-04-10T00:00:00-04:00\",\"2012-04-11T00:00:00-04:00\",\"2012-04-12T00:00:00-04:00\",\"2012-04-13T00:00:00-04:00\",\"2012-04-16T00:00:00-04:00\",\"2012-04-17T00:00:00-04:00\",\"2012-04-18T00:00:00-04:00\",\"2012-04-19T00:00:00-04:00\",\"2012-04-20T00:00:00-04:00\",\"2012-04-23T00:00:00-04:00\",\"2012-04-24T00:00:00-04:00\",\"2012-04-25T00:00:00-04:00\",\"2012-04-26T00:00:00-04:00\",\"2012-04-27T00:00:00-04:00\",\"2012-04-30T00:00:00-04:00\",\"2012-05-01T00:00:00-04:00\",\"2012-05-02T00:00:00-04:00\",\"2012-05-03T00:00:00-04:00\",\"2012-05-04T00:00:00-04:00\",\"2012-05-07T00:00:00-04:00\",\"2012-05-08T00:00:00-04:00\",\"2012-05-09T00:00:00-04:00\",\"2012-05-10T00:00:00-04:00\",\"2012-05-11T00:00:00-04:00\",\"2012-05-14T00:00:00-04:00\",\"2012-05-15T00:00:00-04:00\",\"2012-05-16T00:00:00-04:00\",\"2012-05-17T00:00:00-04:00\",\"2012-05-18T00:00:00-04:00\",\"2012-05-21T00:00:00-04:00\",\"2012-05-22T00:00:00-04:00\",\"2012-05-23T00:00:00-04:00\",\"2012-05-24T00:00:00-04:00\",\"2012-05-25T00:00:00-04:00\",\"2012-05-29T00:00:00-04:00\",\"2012-05-30T00:00:00-04:00\",\"2012-05-31T00:00:00-04:00\",\"2012-06-01T00:00:00-04:00\",\"2012-06-04T00:00:00-04:00\",\"2012-06-05T00:00:00-04:00\",\"2012-06-06T00:00:00-04:00\",\"2012-06-07T00:00:00-04:00\",\"2012-06-08T00:00:00-04:00\",\"2012-06-11T00:00:00-04:00\",\"2012-06-12T00:00:00-04:00\",\"2012-06-13T00:00:00-04:00\",\"2012-06-14T00:00:00-04:00\",\"2012-06-15T00:00:00-04:00\",\"2012-06-18T00:00:00-04:00\",\"2012-06-19T00:00:00-04:00\",\"2012-06-20T00:00:00-04:00\",\"2012-06-21T00:00:00-04:00\",\"2012-06-22T00:00:00-04:00\",\"2012-06-25T00:00:00-04:00\",\"2012-06-26T00:00:00-04:00\",\"2012-06-27T00:00:00-04:00\",\"2012-06-28T00:00:00-04:00\",\"2012-06-29T00:00:00-04:00\",\"2012-07-02T00:00:00-04:00\",\"2012-07-03T00:00:00-04:00\",\"2012-07-05T00:00:00-04:00\",\"2012-07-06T00:00:00-04:00\",\"2012-07-09T00:00:00-04:00\",\"2012-07-10T00:00:00-04:00\",\"2012-07-11T00:00:00-04:00\",\"2012-07-12T00:00:00-04:00\",\"2012-07-13T00:00:00-04:00\",\"2012-07-16T00:00:00-04:00\",\"2012-07-17T00:00:00-04:00\",\"2012-07-18T00:00:00-04:00\",\"2012-07-19T00:00:00-04:00\",\"2012-07-20T00:00:00-04:00\",\"2012-07-23T00:00:00-04:00\",\"2012-07-24T00:00:00-04:00\",\"2012-07-25T00:00:00-04:00\",\"2012-07-26T00:00:00-04:00\",\"2012-07-27T00:00:00-04:00\",\"2012-07-30T00:00:00-04:00\",\"2012-07-31T00:00:00-04:00\",\"2012-08-01T00:00:00-04:00\",\"2012-08-02T00:00:00-04:00\",\"2012-08-03T00:00:00-04:00\",\"2012-08-06T00:00:00-04:00\",\"2012-08-07T00:00:00-04:00\",\"2012-08-08T00:00:00-04:00\",\"2012-08-09T00:00:00-04:00\",\"2012-08-10T00:00:00-04:00\",\"2012-08-13T00:00:00-04:00\",\"2012-08-14T00:00:00-04:00\",\"2012-08-15T00:00:00-04:00\",\"2012-08-16T00:00:00-04:00\",\"2012-08-17T00:00:00-04:00\",\"2012-08-20T00:00:00-04:00\",\"2012-08-21T00:00:00-04:00\",\"2012-08-22T00:00:00-04:00\",\"2012-08-23T00:00:00-04:00\",\"2012-08-24T00:00:00-04:00\",\"2012-08-27T00:00:00-04:00\",\"2012-08-28T00:00:00-04:00\",\"2012-08-29T00:00:00-04:00\",\"2012-08-30T00:00:00-04:00\",\"2012-08-31T00:00:00-04:00\",\"2012-09-04T00:00:00-04:00\",\"2012-09-05T00:00:00-04:00\",\"2012-09-06T00:00:00-04:00\",\"2012-09-07T00:00:00-04:00\",\"2012-09-10T00:00:00-04:00\",\"2012-09-11T00:00:00-04:00\",\"2012-09-12T00:00:00-04:00\",\"2012-09-13T00:00:00-04:00\",\"2012-09-14T00:00:00-04:00\",\"2012-09-17T00:00:00-04:00\",\"2012-09-18T00:00:00-04:00\",\"2012-09-19T00:00:00-04:00\",\"2012-09-20T00:00:00-04:00\",\"2012-09-21T00:00:00-04:00\",\"2012-09-24T00:00:00-04:00\",\"2012-09-25T00:00:00-04:00\",\"2012-09-26T00:00:00-04:00\",\"2012-09-27T00:00:00-04:00\",\"2012-09-28T00:00:00-04:00\",\"2012-10-01T00:00:00-04:00\",\"2012-10-02T00:00:00-04:00\",\"2012-10-03T00:00:00-04:00\",\"2012-10-04T00:00:00-04:00\",\"2012-10-05T00:00:00-04:00\",\"2012-10-08T00:00:00-04:00\",\"2012-10-09T00:00:00-04:00\",\"2012-10-10T00:00:00-04:00\",\"2012-10-11T00:00:00-04:00\",\"2012-10-12T00:00:00-04:00\",\"2012-10-15T00:00:00-04:00\",\"2012-10-16T00:00:00-04:00\",\"2012-10-17T00:00:00-04:00\",\"2012-10-18T00:00:00-04:00\",\"2012-10-19T00:00:00-04:00\",\"2012-10-22T00:00:00-04:00\",\"2012-10-23T00:00:00-04:00\",\"2012-10-24T00:00:00-04:00\",\"2012-10-25T00:00:00-04:00\",\"2012-10-26T00:00:00-04:00\",\"2012-10-31T00:00:00-04:00\",\"2012-11-01T00:00:00-04:00\",\"2012-11-02T00:00:00-04:00\",\"2012-11-05T00:00:00-05:00\",\"2012-11-06T00:00:00-05:00\",\"2012-11-07T00:00:00-05:00\",\"2012-11-08T00:00:00-05:00\",\"2012-11-09T00:00:00-05:00\",\"2012-11-12T00:00:00-05:00\",\"2012-11-13T00:00:00-05:00\",\"2012-11-14T00:00:00-05:00\",\"2012-11-15T00:00:00-05:00\",\"2012-11-16T00:00:00-05:00\",\"2012-11-19T00:00:00-05:00\",\"2012-11-20T00:00:00-05:00\",\"2012-11-21T00:00:00-05:00\",\"2012-11-23T00:00:00-05:00\",\"2012-11-26T00:00:00-05:00\",\"2012-11-27T00:00:00-05:00\",\"2012-11-28T00:00:00-05:00\",\"2012-11-29T00:00:00-05:00\",\"2012-11-30T00:00:00-05:00\",\"2012-12-03T00:00:00-05:00\",\"2012-12-04T00:00:00-05:00\",\"2012-12-05T00:00:00-05:00\",\"2012-12-06T00:00:00-05:00\",\"2012-12-07T00:00:00-05:00\",\"2012-12-10T00:00:00-05:00\",\"2012-12-11T00:00:00-05:00\",\"2012-12-12T00:00:00-05:00\",\"2012-12-13T00:00:00-05:00\",\"2012-12-14T00:00:00-05:00\",\"2012-12-17T00:00:00-05:00\",\"2012-12-18T00:00:00-05:00\",\"2012-12-19T00:00:00-05:00\",\"2012-12-20T00:00:00-05:00\",\"2012-12-21T00:00:00-05:00\",\"2012-12-24T00:00:00-05:00\",\"2012-12-26T00:00:00-05:00\",\"2012-12-27T00:00:00-05:00\",\"2012-12-28T00:00:00-05:00\",\"2012-12-31T00:00:00-05:00\",\"2013-01-02T00:00:00-05:00\",\"2013-01-03T00:00:00-05:00\",\"2013-01-04T00:00:00-05:00\",\"2013-01-07T00:00:00-05:00\",\"2013-01-08T00:00:00-05:00\",\"2013-01-09T00:00:00-05:00\",\"2013-01-10T00:00:00-05:00\",\"2013-01-11T00:00:00-05:00\",\"2013-01-14T00:00:00-05:00\",\"2013-01-15T00:00:00-05:00\",\"2013-01-16T00:00:00-05:00\",\"2013-01-17T00:00:00-05:00\",\"2013-01-18T00:00:00-05:00\",\"2013-01-22T00:00:00-05:00\",\"2013-01-23T00:00:00-05:00\",\"2013-01-24T00:00:00-05:00\",\"2013-01-25T00:00:00-05:00\",\"2013-01-28T00:00:00-05:00\",\"2013-01-29T00:00:00-05:00\",\"2013-01-30T00:00:00-05:00\",\"2013-01-31T00:00:00-05:00\",\"2013-02-01T00:00:00-05:00\",\"2013-02-04T00:00:00-05:00\",\"2013-02-05T00:00:00-05:00\",\"2013-02-06T00:00:00-05:00\",\"2013-02-07T00:00:00-05:00\",\"2013-02-08T00:00:00-05:00\",\"2013-02-11T00:00:00-05:00\",\"2013-02-12T00:00:00-05:00\",\"2013-02-13T00:00:00-05:00\",\"2013-02-14T00:00:00-05:00\",\"2013-02-15T00:00:00-05:00\",\"2013-02-19T00:00:00-05:00\",\"2013-02-20T00:00:00-05:00\",\"2013-02-21T00:00:00-05:00\",\"2013-02-22T00:00:00-05:00\",\"2013-02-25T00:00:00-05:00\",\"2013-02-26T00:00:00-05:00\",\"2013-02-27T00:00:00-05:00\",\"2013-02-28T00:00:00-05:00\",\"2013-03-01T00:00:00-05:00\",\"2013-03-04T00:00:00-05:00\",\"2013-03-05T00:00:00-05:00\",\"2013-03-06T00:00:00-05:00\",\"2013-03-07T00:00:00-05:00\",\"2013-03-08T00:00:00-05:00\",\"2013-03-11T00:00:00-04:00\",\"2013-03-12T00:00:00-04:00\",\"2013-03-13T00:00:00-04:00\",\"2013-03-14T00:00:00-04:00\",\"2013-03-15T00:00:00-04:00\",\"2013-03-18T00:00:00-04:00\",\"2013-03-19T00:00:00-04:00\",\"2013-03-20T00:00:00-04:00\",\"2013-03-21T00:00:00-04:00\",\"2013-03-22T00:00:00-04:00\",\"2013-03-25T00:00:00-04:00\",\"2013-03-26T00:00:00-04:00\",\"2013-03-27T00:00:00-04:00\",\"2013-03-28T00:00:00-04:00\",\"2013-04-01T00:00:00-04:00\",\"2013-04-02T00:00:00-04:00\",\"2013-04-03T00:00:00-04:00\",\"2013-04-04T00:00:00-04:00\",\"2013-04-05T00:00:00-04:00\",\"2013-04-08T00:00:00-04:00\",\"2013-04-09T00:00:00-04:00\",\"2013-04-10T00:00:00-04:00\",\"2013-04-11T00:00:00-04:00\",\"2013-04-12T00:00:00-04:00\",\"2013-04-15T00:00:00-04:00\",\"2013-04-16T00:00:00-04:00\",\"2013-04-17T00:00:00-04:00\",\"2013-04-18T00:00:00-04:00\",\"2013-04-19T00:00:00-04:00\",\"2013-04-22T00:00:00-04:00\",\"2013-04-23T00:00:00-04:00\",\"2013-04-24T00:00:00-04:00\",\"2013-04-25T00:00:00-04:00\",\"2013-04-26T00:00:00-04:00\",\"2013-04-29T00:00:00-04:00\",\"2013-04-30T00:00:00-04:00\",\"2013-05-01T00:00:00-04:00\",\"2013-05-02T00:00:00-04:00\",\"2013-05-03T00:00:00-04:00\",\"2013-05-06T00:00:00-04:00\",\"2013-05-07T00:00:00-04:00\",\"2013-05-08T00:00:00-04:00\",\"2013-05-09T00:00:00-04:00\",\"2013-05-10T00:00:00-04:00\",\"2013-05-13T00:00:00-04:00\",\"2013-05-14T00:00:00-04:00\",\"2013-05-15T00:00:00-04:00\",\"2013-05-16T00:00:00-04:00\",\"2013-05-17T00:00:00-04:00\",\"2013-05-20T00:00:00-04:00\",\"2013-05-21T00:00:00-04:00\",\"2013-05-22T00:00:00-04:00\",\"2013-05-23T00:00:00-04:00\",\"2013-05-24T00:00:00-04:00\",\"2013-05-28T00:00:00-04:00\",\"2013-05-29T00:00:00-04:00\",\"2013-05-30T00:00:00-04:00\",\"2013-05-31T00:00:00-04:00\",\"2013-06-03T00:00:00-04:00\",\"2013-06-04T00:00:00-04:00\",\"2013-06-05T00:00:00-04:00\",\"2013-06-06T00:00:00-04:00\",\"2013-06-07T00:00:00-04:00\",\"2013-06-10T00:00:00-04:00\",\"2013-06-11T00:00:00-04:00\",\"2013-06-12T00:00:00-04:00\",\"2013-06-13T00:00:00-04:00\",\"2013-06-14T00:00:00-04:00\",\"2013-06-17T00:00:00-04:00\",\"2013-06-18T00:00:00-04:00\",\"2013-06-19T00:00:00-04:00\",\"2013-06-20T00:00:00-04:00\",\"2013-06-21T00:00:00-04:00\",\"2013-06-24T00:00:00-04:00\",\"2013-06-25T00:00:00-04:00\",\"2013-06-26T00:00:00-04:00\",\"2013-06-27T00:00:00-04:00\",\"2013-06-28T00:00:00-04:00\",\"2013-07-01T00:00:00-04:00\",\"2013-07-02T00:00:00-04:00\",\"2013-07-03T00:00:00-04:00\",\"2013-07-05T00:00:00-04:00\",\"2013-07-08T00:00:00-04:00\",\"2013-07-09T00:00:00-04:00\",\"2013-07-10T00:00:00-04:00\",\"2013-07-11T00:00:00-04:00\",\"2013-07-12T00:00:00-04:00\",\"2013-07-15T00:00:00-04:00\",\"2013-07-16T00:00:00-04:00\",\"2013-07-17T00:00:00-04:00\",\"2013-07-18T00:00:00-04:00\",\"2013-07-19T00:00:00-04:00\",\"2013-07-22T00:00:00-04:00\",\"2013-07-23T00:00:00-04:00\",\"2013-07-24T00:00:00-04:00\",\"2013-07-25T00:00:00-04:00\",\"2013-07-26T00:00:00-04:00\",\"2013-07-29T00:00:00-04:00\",\"2013-07-30T00:00:00-04:00\",\"2013-07-31T00:00:00-04:00\",\"2013-08-01T00:00:00-04:00\",\"2013-08-02T00:00:00-04:00\",\"2013-08-05T00:00:00-04:00\",\"2013-08-06T00:00:00-04:00\",\"2013-08-07T00:00:00-04:00\",\"2013-08-08T00:00:00-04:00\",\"2013-08-09T00:00:00-04:00\",\"2013-08-12T00:00:00-04:00\",\"2013-08-13T00:00:00-04:00\",\"2013-08-14T00:00:00-04:00\",\"2013-08-15T00:00:00-04:00\",\"2013-08-16T00:00:00-04:00\",\"2013-08-19T00:00:00-04:00\",\"2013-08-20T00:00:00-04:00\",\"2013-08-21T00:00:00-04:00\",\"2013-08-22T00:00:00-04:00\",\"2013-08-23T00:00:00-04:00\",\"2013-08-26T00:00:00-04:00\",\"2013-08-27T00:00:00-04:00\",\"2013-08-28T00:00:00-04:00\",\"2013-08-29T00:00:00-04:00\",\"2013-08-30T00:00:00-04:00\",\"2013-09-03T00:00:00-04:00\",\"2013-09-04T00:00:00-04:00\",\"2013-09-05T00:00:00-04:00\",\"2013-09-06T00:00:00-04:00\",\"2013-09-09T00:00:00-04:00\",\"2013-09-10T00:00:00-04:00\",\"2013-09-11T00:00:00-04:00\",\"2013-09-12T00:00:00-04:00\",\"2013-09-13T00:00:00-04:00\",\"2013-09-16T00:00:00-04:00\",\"2013-09-17T00:00:00-04:00\",\"2013-09-18T00:00:00-04:00\",\"2013-09-19T00:00:00-04:00\",\"2013-09-20T00:00:00-04:00\",\"2013-09-23T00:00:00-04:00\",\"2013-09-24T00:00:00-04:00\",\"2013-09-25T00:00:00-04:00\",\"2013-09-26T00:00:00-04:00\",\"2013-09-27T00:00:00-04:00\",\"2013-09-30T00:00:00-04:00\",\"2013-10-01T00:00:00-04:00\",\"2013-10-02T00:00:00-04:00\",\"2013-10-03T00:00:00-04:00\",\"2013-10-04T00:00:00-04:00\",\"2013-10-07T00:00:00-04:00\",\"2013-10-08T00:00:00-04:00\",\"2013-10-09T00:00:00-04:00\",\"2013-10-10T00:00:00-04:00\",\"2013-10-11T00:00:00-04:00\",\"2013-10-14T00:00:00-04:00\",\"2013-10-15T00:00:00-04:00\",\"2013-10-16T00:00:00-04:00\",\"2013-10-17T00:00:00-04:00\",\"2013-10-18T00:00:00-04:00\",\"2013-10-21T00:00:00-04:00\",\"2013-10-22T00:00:00-04:00\",\"2013-10-23T00:00:00-04:00\",\"2013-10-24T00:00:00-04:00\",\"2013-10-25T00:00:00-04:00\",\"2013-10-28T00:00:00-04:00\",\"2013-10-29T00:00:00-04:00\",\"2013-10-30T00:00:00-04:00\",\"2013-10-31T00:00:00-04:00\",\"2013-11-01T00:00:00-04:00\",\"2013-11-04T00:00:00-05:00\",\"2013-11-05T00:00:00-05:00\",\"2013-11-06T00:00:00-05:00\",\"2013-11-07T00:00:00-05:00\",\"2013-11-08T00:00:00-05:00\",\"2013-11-11T00:00:00-05:00\",\"2013-11-12T00:00:00-05:00\",\"2013-11-13T00:00:00-05:00\",\"2013-11-14T00:00:00-05:00\",\"2013-11-15T00:00:00-05:00\",\"2013-11-18T00:00:00-05:00\",\"2013-11-19T00:00:00-05:00\",\"2013-11-20T00:00:00-05:00\",\"2013-11-21T00:00:00-05:00\",\"2013-11-22T00:00:00-05:00\",\"2013-11-25T00:00:00-05:00\",\"2013-11-26T00:00:00-05:00\",\"2013-11-27T00:00:00-05:00\",\"2013-11-29T00:00:00-05:00\",\"2013-12-02T00:00:00-05:00\",\"2013-12-03T00:00:00-05:00\",\"2013-12-04T00:00:00-05:00\",\"2013-12-05T00:00:00-05:00\",\"2013-12-06T00:00:00-05:00\",\"2013-12-09T00:00:00-05:00\",\"2013-12-10T00:00:00-05:00\",\"2013-12-11T00:00:00-05:00\",\"2013-12-12T00:00:00-05:00\",\"2013-12-13T00:00:00-05:00\",\"2013-12-16T00:00:00-05:00\",\"2013-12-17T00:00:00-05:00\",\"2013-12-18T00:00:00-05:00\",\"2013-12-19T00:00:00-05:00\",\"2013-12-20T00:00:00-05:00\",\"2013-12-23T00:00:00-05:00\",\"2013-12-24T00:00:00-05:00\",\"2013-12-26T00:00:00-05:00\",\"2013-12-27T00:00:00-05:00\",\"2013-12-30T00:00:00-05:00\",\"2013-12-31T00:00:00-05:00\",\"2014-01-02T00:00:00-05:00\",\"2014-01-03T00:00:00-05:00\",\"2014-01-06T00:00:00-05:00\",\"2014-01-07T00:00:00-05:00\",\"2014-01-08T00:00:00-05:00\",\"2014-01-09T00:00:00-05:00\",\"2014-01-10T00:00:00-05:00\",\"2014-01-13T00:00:00-05:00\",\"2014-01-14T00:00:00-05:00\",\"2014-01-15T00:00:00-05:00\",\"2014-01-16T00:00:00-05:00\",\"2014-01-17T00:00:00-05:00\",\"2014-01-21T00:00:00-05:00\",\"2014-01-22T00:00:00-05:00\",\"2014-01-23T00:00:00-05:00\",\"2014-01-24T00:00:00-05:00\",\"2014-01-27T00:00:00-05:00\",\"2014-01-28T00:00:00-05:00\",\"2014-01-29T00:00:00-05:00\",\"2014-01-30T00:00:00-05:00\",\"2014-01-31T00:00:00-05:00\",\"2014-02-03T00:00:00-05:00\",\"2014-02-04T00:00:00-05:00\",\"2014-02-05T00:00:00-05:00\",\"2014-02-06T00:00:00-05:00\",\"2014-02-07T00:00:00-05:00\",\"2014-02-10T00:00:00-05:00\",\"2014-02-11T00:00:00-05:00\",\"2014-02-12T00:00:00-05:00\",\"2014-02-13T00:00:00-05:00\",\"2014-02-14T00:00:00-05:00\",\"2014-02-18T00:00:00-05:00\",\"2014-02-19T00:00:00-05:00\",\"2014-02-20T00:00:00-05:00\",\"2014-02-21T00:00:00-05:00\",\"2014-02-24T00:00:00-05:00\",\"2014-02-25T00:00:00-05:00\",\"2014-02-26T00:00:00-05:00\",\"2014-02-27T00:00:00-05:00\",\"2014-02-28T00:00:00-05:00\",\"2014-03-03T00:00:00-05:00\",\"2014-03-04T00:00:00-05:00\",\"2014-03-05T00:00:00-05:00\",\"2014-03-06T00:00:00-05:00\",\"2014-03-07T00:00:00-05:00\",\"2014-03-10T00:00:00-04:00\",\"2014-03-11T00:00:00-04:00\",\"2014-03-12T00:00:00-04:00\",\"2014-03-13T00:00:00-04:00\",\"2014-03-14T00:00:00-04:00\",\"2014-03-17T00:00:00-04:00\",\"2014-03-18T00:00:00-04:00\",\"2014-03-19T00:00:00-04:00\",\"2014-03-20T00:00:00-04:00\",\"2014-03-21T00:00:00-04:00\",\"2014-03-24T00:00:00-04:00\",\"2014-03-25T00:00:00-04:00\",\"2014-03-26T00:00:00-04:00\",\"2014-03-27T00:00:00-04:00\",\"2014-03-28T00:00:00-04:00\",\"2014-03-31T00:00:00-04:00\",\"2014-04-01T00:00:00-04:00\",\"2014-04-02T00:00:00-04:00\",\"2014-04-03T00:00:00-04:00\",\"2014-04-04T00:00:00-04:00\",\"2014-04-07T00:00:00-04:00\",\"2014-04-08T00:00:00-04:00\",\"2014-04-09T00:00:00-04:00\",\"2014-04-10T00:00:00-04:00\",\"2014-04-11T00:00:00-04:00\",\"2014-04-14T00:00:00-04:00\",\"2014-04-15T00:00:00-04:00\",\"2014-04-16T00:00:00-04:00\",\"2014-04-17T00:00:00-04:00\",\"2014-04-21T00:00:00-04:00\",\"2014-04-22T00:00:00-04:00\",\"2014-04-23T00:00:00-04:00\",\"2014-04-24T00:00:00-04:00\",\"2014-04-25T00:00:00-04:00\",\"2014-04-28T00:00:00-04:00\",\"2014-04-29T00:00:00-04:00\",\"2014-04-30T00:00:00-04:00\",\"2014-05-01T00:00:00-04:00\",\"2014-05-02T00:00:00-04:00\",\"2014-05-05T00:00:00-04:00\",\"2014-05-06T00:00:00-04:00\",\"2014-05-07T00:00:00-04:00\",\"2014-05-08T00:00:00-04:00\",\"2014-05-09T00:00:00-04:00\",\"2014-05-12T00:00:00-04:00\",\"2014-05-13T00:00:00-04:00\",\"2014-05-14T00:00:00-04:00\",\"2014-05-15T00:00:00-04:00\",\"2014-05-16T00:00:00-04:00\",\"2014-05-19T00:00:00-04:00\",\"2014-05-20T00:00:00-04:00\",\"2014-05-21T00:00:00-04:00\",\"2014-05-22T00:00:00-04:00\",\"2014-05-23T00:00:00-04:00\",\"2014-05-27T00:00:00-04:00\",\"2014-05-28T00:00:00-04:00\",\"2014-05-29T00:00:00-04:00\",\"2014-05-30T00:00:00-04:00\",\"2014-06-02T00:00:00-04:00\",\"2014-06-03T00:00:00-04:00\",\"2014-06-04T00:00:00-04:00\",\"2014-06-05T00:00:00-04:00\",\"2014-06-06T00:00:00-04:00\",\"2014-06-09T00:00:00-04:00\",\"2014-06-10T00:00:00-04:00\",\"2014-06-11T00:00:00-04:00\",\"2014-06-12T00:00:00-04:00\",\"2014-06-13T00:00:00-04:00\",\"2014-06-16T00:00:00-04:00\",\"2014-06-17T00:00:00-04:00\",\"2014-06-18T00:00:00-04:00\",\"2014-06-19T00:00:00-04:00\",\"2014-06-20T00:00:00-04:00\",\"2014-06-23T00:00:00-04:00\",\"2014-06-24T00:00:00-04:00\",\"2014-06-25T00:00:00-04:00\",\"2014-06-26T00:00:00-04:00\",\"2014-06-27T00:00:00-04:00\",\"2014-06-30T00:00:00-04:00\",\"2014-07-01T00:00:00-04:00\",\"2014-07-02T00:00:00-04:00\",\"2014-07-03T00:00:00-04:00\",\"2014-07-07T00:00:00-04:00\",\"2014-07-08T00:00:00-04:00\",\"2014-07-09T00:00:00-04:00\",\"2014-07-10T00:00:00-04:00\",\"2014-07-11T00:00:00-04:00\",\"2014-07-14T00:00:00-04:00\",\"2014-07-15T00:00:00-04:00\",\"2014-07-16T00:00:00-04:00\",\"2014-07-17T00:00:00-04:00\",\"2014-07-18T00:00:00-04:00\",\"2014-07-21T00:00:00-04:00\",\"2014-07-22T00:00:00-04:00\",\"2014-07-23T00:00:00-04:00\",\"2014-07-24T00:00:00-04:00\",\"2014-07-25T00:00:00-04:00\",\"2014-07-28T00:00:00-04:00\",\"2014-07-29T00:00:00-04:00\",\"2014-07-30T00:00:00-04:00\",\"2014-07-31T00:00:00-04:00\",\"2014-08-01T00:00:00-04:00\",\"2014-08-04T00:00:00-04:00\",\"2014-08-05T00:00:00-04:00\",\"2014-08-06T00:00:00-04:00\",\"2014-08-07T00:00:00-04:00\",\"2014-08-08T00:00:00-04:00\",\"2014-08-11T00:00:00-04:00\",\"2014-08-12T00:00:00-04:00\",\"2014-08-13T00:00:00-04:00\",\"2014-08-14T00:00:00-04:00\",\"2014-08-15T00:00:00-04:00\",\"2014-08-18T00:00:00-04:00\",\"2014-08-19T00:00:00-04:00\",\"2014-08-20T00:00:00-04:00\",\"2014-08-21T00:00:00-04:00\",\"2014-08-22T00:00:00-04:00\",\"2014-08-25T00:00:00-04:00\",\"2014-08-26T00:00:00-04:00\",\"2014-08-27T00:00:00-04:00\",\"2014-08-28T00:00:00-04:00\",\"2014-08-29T00:00:00-04:00\",\"2014-09-02T00:00:00-04:00\",\"2014-09-03T00:00:00-04:00\",\"2014-09-04T00:00:00-04:00\",\"2014-09-05T00:00:00-04:00\",\"2014-09-08T00:00:00-04:00\",\"2014-09-09T00:00:00-04:00\",\"2014-09-10T00:00:00-04:00\",\"2014-09-11T00:00:00-04:00\",\"2014-09-12T00:00:00-04:00\",\"2014-09-15T00:00:00-04:00\",\"2014-09-16T00:00:00-04:00\",\"2014-09-17T00:00:00-04:00\",\"2014-09-18T00:00:00-04:00\",\"2014-09-19T00:00:00-04:00\",\"2014-09-22T00:00:00-04:00\",\"2014-09-23T00:00:00-04:00\",\"2014-09-24T00:00:00-04:00\",\"2014-09-25T00:00:00-04:00\",\"2014-09-26T00:00:00-04:00\",\"2014-09-29T00:00:00-04:00\",\"2014-09-30T00:00:00-04:00\",\"2014-10-01T00:00:00-04:00\",\"2014-10-02T00:00:00-04:00\",\"2014-10-03T00:00:00-04:00\",\"2014-10-06T00:00:00-04:00\",\"2014-10-07T00:00:00-04:00\",\"2014-10-08T00:00:00-04:00\",\"2014-10-09T00:00:00-04:00\",\"2014-10-10T00:00:00-04:00\",\"2014-10-13T00:00:00-04:00\",\"2014-10-14T00:00:00-04:00\",\"2014-10-15T00:00:00-04:00\",\"2014-10-16T00:00:00-04:00\",\"2014-10-17T00:00:00-04:00\",\"2014-10-20T00:00:00-04:00\",\"2014-10-21T00:00:00-04:00\",\"2014-10-22T00:00:00-04:00\",\"2014-10-23T00:00:00-04:00\",\"2014-10-24T00:00:00-04:00\",\"2014-10-27T00:00:00-04:00\",\"2014-10-28T00:00:00-04:00\",\"2014-10-29T00:00:00-04:00\",\"2014-10-30T00:00:00-04:00\",\"2014-10-31T00:00:00-04:00\",\"2014-11-03T00:00:00-05:00\",\"2014-11-04T00:00:00-05:00\",\"2014-11-05T00:00:00-05:00\",\"2014-11-06T00:00:00-05:00\",\"2014-11-07T00:00:00-05:00\",\"2014-11-10T00:00:00-05:00\",\"2014-11-11T00:00:00-05:00\",\"2014-11-12T00:00:00-05:00\",\"2014-11-13T00:00:00-05:00\",\"2014-11-14T00:00:00-05:00\",\"2014-11-17T00:00:00-05:00\",\"2014-11-18T00:00:00-05:00\",\"2014-11-19T00:00:00-05:00\",\"2014-11-20T00:00:00-05:00\",\"2014-11-21T00:00:00-05:00\",\"2014-11-24T00:00:00-05:00\",\"2014-11-25T00:00:00-05:00\",\"2014-11-26T00:00:00-05:00\",\"2014-11-28T00:00:00-05:00\",\"2014-12-01T00:00:00-05:00\",\"2014-12-02T00:00:00-05:00\",\"2014-12-03T00:00:00-05:00\",\"2014-12-04T00:00:00-05:00\",\"2014-12-05T00:00:00-05:00\",\"2014-12-08T00:00:00-05:00\",\"2014-12-09T00:00:00-05:00\",\"2014-12-10T00:00:00-05:00\",\"2014-12-11T00:00:00-05:00\",\"2014-12-12T00:00:00-05:00\",\"2014-12-15T00:00:00-05:00\",\"2014-12-16T00:00:00-05:00\",\"2014-12-17T00:00:00-05:00\",\"2014-12-18T00:00:00-05:00\",\"2014-12-19T00:00:00-05:00\",\"2014-12-22T00:00:00-05:00\",\"2014-12-23T00:00:00-05:00\",\"2014-12-24T00:00:00-05:00\",\"2014-12-26T00:00:00-05:00\",\"2014-12-29T00:00:00-05:00\",\"2014-12-30T00:00:00-05:00\",\"2014-12-31T00:00:00-05:00\",\"2015-01-02T00:00:00-05:00\",\"2015-01-05T00:00:00-05:00\",\"2015-01-06T00:00:00-05:00\",\"2015-01-07T00:00:00-05:00\",\"2015-01-08T00:00:00-05:00\",\"2015-01-09T00:00:00-05:00\",\"2015-01-12T00:00:00-05:00\",\"2015-01-13T00:00:00-05:00\",\"2015-01-14T00:00:00-05:00\",\"2015-01-15T00:00:00-05:00\",\"2015-01-16T00:00:00-05:00\",\"2015-01-20T00:00:00-05:00\",\"2015-01-21T00:00:00-05:00\",\"2015-01-22T00:00:00-05:00\",\"2015-01-23T00:00:00-05:00\",\"2015-01-26T00:00:00-05:00\",\"2015-01-27T00:00:00-05:00\",\"2015-01-28T00:00:00-05:00\",\"2015-01-29T00:00:00-05:00\",\"2015-01-30T00:00:00-05:00\",\"2015-02-02T00:00:00-05:00\",\"2015-02-03T00:00:00-05:00\",\"2015-02-04T00:00:00-05:00\",\"2015-02-05T00:00:00-05:00\",\"2015-02-06T00:00:00-05:00\",\"2015-02-09T00:00:00-05:00\",\"2015-02-10T00:00:00-05:00\",\"2015-02-11T00:00:00-05:00\",\"2015-02-12T00:00:00-05:00\",\"2015-02-13T00:00:00-05:00\",\"2015-02-17T00:00:00-05:00\",\"2015-02-18T00:00:00-05:00\",\"2015-02-19T00:00:00-05:00\",\"2015-02-20T00:00:00-05:00\",\"2015-02-23T00:00:00-05:00\",\"2015-02-24T00:00:00-05:00\",\"2015-02-25T00:00:00-05:00\",\"2015-02-26T00:00:00-05:00\",\"2015-02-27T00:00:00-05:00\",\"2015-03-02T00:00:00-05:00\",\"2015-03-03T00:00:00-05:00\",\"2015-03-04T00:00:00-05:00\",\"2015-03-05T00:00:00-05:00\",\"2015-03-06T00:00:00-05:00\",\"2015-03-09T00:00:00-04:00\",\"2015-03-10T00:00:00-04:00\",\"2015-03-11T00:00:00-04:00\",\"2015-03-12T00:00:00-04:00\",\"2015-03-13T00:00:00-04:00\",\"2015-03-16T00:00:00-04:00\",\"2015-03-17T00:00:00-04:00\",\"2015-03-18T00:00:00-04:00\",\"2015-03-19T00:00:00-04:00\",\"2015-03-20T00:00:00-04:00\",\"2015-03-23T00:00:00-04:00\",\"2015-03-24T00:00:00-04:00\",\"2015-03-25T00:00:00-04:00\",\"2015-03-26T00:00:00-04:00\",\"2015-03-27T00:00:00-04:00\",\"2015-03-30T00:00:00-04:00\",\"2015-03-31T00:00:00-04:00\",\"2015-04-01T00:00:00-04:00\",\"2015-04-02T00:00:00-04:00\",\"2015-04-06T00:00:00-04:00\",\"2015-04-07T00:00:00-04:00\",\"2015-04-08T00:00:00-04:00\",\"2015-04-09T00:00:00-04:00\",\"2015-04-10T00:00:00-04:00\",\"2015-04-13T00:00:00-04:00\",\"2015-04-14T00:00:00-04:00\",\"2015-04-15T00:00:00-04:00\",\"2015-04-16T00:00:00-04:00\",\"2015-04-17T00:00:00-04:00\",\"2015-04-20T00:00:00-04:00\",\"2015-04-21T00:00:00-04:00\",\"2015-04-22T00:00:00-04:00\",\"2015-04-23T00:00:00-04:00\",\"2015-04-24T00:00:00-04:00\",\"2015-04-27T00:00:00-04:00\",\"2015-04-28T00:00:00-04:00\",\"2015-04-29T00:00:00-04:00\",\"2015-04-30T00:00:00-04:00\",\"2015-05-01T00:00:00-04:00\",\"2015-05-04T00:00:00-04:00\",\"2015-05-05T00:00:00-04:00\",\"2015-05-06T00:00:00-04:00\",\"2015-05-07T00:00:00-04:00\",\"2015-05-08T00:00:00-04:00\",\"2015-05-11T00:00:00-04:00\",\"2015-05-12T00:00:00-04:00\",\"2015-05-13T00:00:00-04:00\",\"2015-05-14T00:00:00-04:00\",\"2015-05-15T00:00:00-04:00\",\"2015-05-18T00:00:00-04:00\",\"2015-05-19T00:00:00-04:00\",\"2015-05-20T00:00:00-04:00\",\"2015-05-21T00:00:00-04:00\",\"2015-05-22T00:00:00-04:00\",\"2015-05-26T00:00:00-04:00\",\"2015-05-27T00:00:00-04:00\",\"2015-05-28T00:00:00-04:00\",\"2015-05-29T00:00:00-04:00\",\"2015-06-01T00:00:00-04:00\",\"2015-06-02T00:00:00-04:00\",\"2015-06-03T00:00:00-04:00\",\"2015-06-04T00:00:00-04:00\",\"2015-06-05T00:00:00-04:00\",\"2015-06-08T00:00:00-04:00\",\"2015-06-09T00:00:00-04:00\",\"2015-06-10T00:00:00-04:00\",\"2015-06-11T00:00:00-04:00\",\"2015-06-12T00:00:00-04:00\",\"2015-06-15T00:00:00-04:00\",\"2015-06-16T00:00:00-04:00\",\"2015-06-17T00:00:00-04:00\",\"2015-06-18T00:00:00-04:00\",\"2015-06-19T00:00:00-04:00\",\"2015-06-22T00:00:00-04:00\",\"2015-06-23T00:00:00-04:00\",\"2015-06-24T00:00:00-04:00\",\"2015-06-25T00:00:00-04:00\",\"2015-06-26T00:00:00-04:00\",\"2015-06-29T00:00:00-04:00\",\"2015-06-30T00:00:00-04:00\",\"2015-07-01T00:00:00-04:00\",\"2015-07-02T00:00:00-04:00\",\"2015-07-06T00:00:00-04:00\",\"2015-07-07T00:00:00-04:00\",\"2015-07-08T00:00:00-04:00\",\"2015-07-09T00:00:00-04:00\",\"2015-07-10T00:00:00-04:00\",\"2015-07-13T00:00:00-04:00\",\"2015-07-14T00:00:00-04:00\",\"2015-07-15T00:00:00-04:00\",\"2015-07-16T00:00:00-04:00\",\"2015-07-17T00:00:00-04:00\",\"2015-07-20T00:00:00-04:00\",\"2015-07-21T00:00:00-04:00\",\"2015-07-22T00:00:00-04:00\",\"2015-07-23T00:00:00-04:00\",\"2015-07-24T00:00:00-04:00\",\"2015-07-27T00:00:00-04:00\",\"2015-07-28T00:00:00-04:00\",\"2015-07-29T00:00:00-04:00\",\"2015-07-30T00:00:00-04:00\",\"2015-07-31T00:00:00-04:00\",\"2015-08-03T00:00:00-04:00\",\"2015-08-04T00:00:00-04:00\",\"2015-08-05T00:00:00-04:00\",\"2015-08-06T00:00:00-04:00\",\"2015-08-07T00:00:00-04:00\",\"2015-08-10T00:00:00-04:00\",\"2015-08-11T00:00:00-04:00\",\"2015-08-12T00:00:00-04:00\",\"2015-08-13T00:00:00-04:00\",\"2015-08-14T00:00:00-04:00\",\"2015-08-17T00:00:00-04:00\",\"2015-08-18T00:00:00-04:00\",\"2015-08-19T00:00:00-04:00\",\"2015-08-20T00:00:00-04:00\",\"2015-08-21T00:00:00-04:00\",\"2015-08-24T00:00:00-04:00\",\"2015-08-25T00:00:00-04:00\",\"2015-08-26T00:00:00-04:00\",\"2015-08-27T00:00:00-04:00\",\"2015-08-28T00:00:00-04:00\",\"2015-08-31T00:00:00-04:00\",\"2015-09-01T00:00:00-04:00\",\"2015-09-02T00:00:00-04:00\",\"2015-09-03T00:00:00-04:00\",\"2015-09-04T00:00:00-04:00\",\"2015-09-08T00:00:00-04:00\",\"2015-09-09T00:00:00-04:00\",\"2015-09-10T00:00:00-04:00\",\"2015-09-11T00:00:00-04:00\",\"2015-09-14T00:00:00-04:00\",\"2015-09-15T00:00:00-04:00\",\"2015-09-16T00:00:00-04:00\",\"2015-09-17T00:00:00-04:00\",\"2015-09-18T00:00:00-04:00\",\"2015-09-21T00:00:00-04:00\",\"2015-09-22T00:00:00-04:00\",\"2015-09-23T00:00:00-04:00\",\"2015-09-24T00:00:00-04:00\",\"2015-09-25T00:00:00-04:00\",\"2015-09-28T00:00:00-04:00\",\"2015-09-29T00:00:00-04:00\",\"2015-09-30T00:00:00-04:00\",\"2015-10-01T00:00:00-04:00\",\"2015-10-02T00:00:00-04:00\",\"2015-10-05T00:00:00-04:00\",\"2015-10-06T00:00:00-04:00\",\"2015-10-07T00:00:00-04:00\",\"2015-10-08T00:00:00-04:00\",\"2015-10-09T00:00:00-04:00\",\"2015-10-12T00:00:00-04:00\",\"2015-10-13T00:00:00-04:00\",\"2015-10-14T00:00:00-04:00\",\"2015-10-15T00:00:00-04:00\",\"2015-10-16T00:00:00-04:00\",\"2015-10-19T00:00:00-04:00\",\"2015-10-20T00:00:00-04:00\",\"2015-10-21T00:00:00-04:00\",\"2015-10-22T00:00:00-04:00\",\"2015-10-23T00:00:00-04:00\",\"2015-10-26T00:00:00-04:00\",\"2015-10-27T00:00:00-04:00\",\"2015-10-28T00:00:00-04:00\",\"2015-10-29T00:00:00-04:00\",\"2015-10-30T00:00:00-04:00\",\"2015-11-02T00:00:00-05:00\",\"2015-11-03T00:00:00-05:00\",\"2015-11-04T00:00:00-05:00\",\"2015-11-05T00:00:00-05:00\",\"2015-11-06T00:00:00-05:00\",\"2015-11-09T00:00:00-05:00\",\"2015-11-10T00:00:00-05:00\",\"2015-11-11T00:00:00-05:00\",\"2015-11-12T00:00:00-05:00\",\"2015-11-13T00:00:00-05:00\",\"2015-11-16T00:00:00-05:00\",\"2015-11-17T00:00:00-05:00\",\"2015-11-18T00:00:00-05:00\",\"2015-11-19T00:00:00-05:00\",\"2015-11-20T00:00:00-05:00\",\"2015-11-23T00:00:00-05:00\",\"2015-11-24T00:00:00-05:00\",\"2015-11-25T00:00:00-05:00\",\"2015-11-27T00:00:00-05:00\",\"2015-11-30T00:00:00-05:00\",\"2015-12-01T00:00:00-05:00\",\"2015-12-02T00:00:00-05:00\",\"2015-12-03T00:00:00-05:00\",\"2015-12-04T00:00:00-05:00\",\"2015-12-07T00:00:00-05:00\",\"2015-12-08T00:00:00-05:00\",\"2015-12-09T00:00:00-05:00\",\"2015-12-10T00:00:00-05:00\",\"2015-12-11T00:00:00-05:00\",\"2015-12-14T00:00:00-05:00\",\"2015-12-15T00:00:00-05:00\",\"2015-12-16T00:00:00-05:00\",\"2015-12-17T00:00:00-05:00\",\"2015-12-18T00:00:00-05:00\",\"2015-12-21T00:00:00-05:00\",\"2015-12-22T00:00:00-05:00\",\"2015-12-23T00:00:00-05:00\",\"2015-12-24T00:00:00-05:00\",\"2015-12-28T00:00:00-05:00\",\"2015-12-29T00:00:00-05:00\",\"2015-12-30T00:00:00-05:00\",\"2015-12-31T00:00:00-05:00\",\"2016-01-04T00:00:00-05:00\",\"2016-01-05T00:00:00-05:00\",\"2016-01-06T00:00:00-05:00\",\"2016-01-07T00:00:00-05:00\",\"2016-01-08T00:00:00-05:00\",\"2016-01-11T00:00:00-05:00\",\"2016-01-12T00:00:00-05:00\",\"2016-01-13T00:00:00-05:00\",\"2016-01-14T00:00:00-05:00\",\"2016-01-15T00:00:00-05:00\",\"2016-01-19T00:00:00-05:00\",\"2016-01-20T00:00:00-05:00\",\"2016-01-21T00:00:00-05:00\",\"2016-01-22T00:00:00-05:00\",\"2016-01-25T00:00:00-05:00\",\"2016-01-26T00:00:00-05:00\",\"2016-01-27T00:00:00-05:00\",\"2016-01-28T00:00:00-05:00\",\"2016-01-29T00:00:00-05:00\",\"2016-02-01T00:00:00-05:00\",\"2016-02-02T00:00:00-05:00\",\"2016-02-03T00:00:00-05:00\",\"2016-02-04T00:00:00-05:00\",\"2016-02-05T00:00:00-05:00\",\"2016-02-08T00:00:00-05:00\",\"2016-02-09T00:00:00-05:00\",\"2016-02-10T00:00:00-05:00\",\"2016-02-11T00:00:00-05:00\",\"2016-02-12T00:00:00-05:00\",\"2016-02-16T00:00:00-05:00\",\"2016-02-17T00:00:00-05:00\",\"2016-02-18T00:00:00-05:00\",\"2016-02-19T00:00:00-05:00\",\"2016-02-22T00:00:00-05:00\",\"2016-02-23T00:00:00-05:00\",\"2016-02-24T00:00:00-05:00\",\"2016-02-25T00:00:00-05:00\",\"2016-02-26T00:00:00-05:00\",\"2016-02-29T00:00:00-05:00\",\"2016-03-01T00:00:00-05:00\",\"2016-03-02T00:00:00-05:00\",\"2016-03-03T00:00:00-05:00\",\"2016-03-04T00:00:00-05:00\",\"2016-03-07T00:00:00-05:00\",\"2016-03-08T00:00:00-05:00\",\"2016-03-09T00:00:00-05:00\",\"2016-03-10T00:00:00-05:00\",\"2016-03-11T00:00:00-05:00\",\"2016-03-14T00:00:00-04:00\",\"2016-03-15T00:00:00-04:00\",\"2016-03-16T00:00:00-04:00\",\"2016-03-17T00:00:00-04:00\",\"2016-03-18T00:00:00-04:00\",\"2016-03-21T00:00:00-04:00\",\"2016-03-22T00:00:00-04:00\",\"2016-03-23T00:00:00-04:00\",\"2016-03-24T00:00:00-04:00\",\"2016-03-28T00:00:00-04:00\",\"2016-03-29T00:00:00-04:00\",\"2016-03-30T00:00:00-04:00\",\"2016-03-31T00:00:00-04:00\",\"2016-04-01T00:00:00-04:00\",\"2016-04-04T00:00:00-04:00\",\"2016-04-05T00:00:00-04:00\",\"2016-04-06T00:00:00-04:00\",\"2016-04-07T00:00:00-04:00\",\"2016-04-08T00:00:00-04:00\",\"2016-04-11T00:00:00-04:00\",\"2016-04-12T00:00:00-04:00\",\"2016-04-13T00:00:00-04:00\",\"2016-04-14T00:00:00-04:00\",\"2016-04-15T00:00:00-04:00\",\"2016-04-18T00:00:00-04:00\",\"2016-04-19T00:00:00-04:00\",\"2016-04-20T00:00:00-04:00\",\"2016-04-21T00:00:00-04:00\",\"2016-04-22T00:00:00-04:00\",\"2016-04-25T00:00:00-04:00\",\"2016-04-26T00:00:00-04:00\",\"2016-04-27T00:00:00-04:00\",\"2016-04-28T00:00:00-04:00\",\"2016-04-29T00:00:00-04:00\",\"2016-05-02T00:00:00-04:00\",\"2016-05-03T00:00:00-04:00\",\"2016-05-04T00:00:00-04:00\",\"2016-05-05T00:00:00-04:00\",\"2016-05-06T00:00:00-04:00\",\"2016-05-09T00:00:00-04:00\",\"2016-05-10T00:00:00-04:00\",\"2016-05-11T00:00:00-04:00\",\"2016-05-12T00:00:00-04:00\",\"2016-05-13T00:00:00-04:00\",\"2016-05-16T00:00:00-04:00\",\"2016-05-17T00:00:00-04:00\",\"2016-05-18T00:00:00-04:00\",\"2016-05-19T00:00:00-04:00\",\"2016-05-20T00:00:00-04:00\",\"2016-05-23T00:00:00-04:00\",\"2016-05-24T00:00:00-04:00\",\"2016-05-25T00:00:00-04:00\",\"2016-05-26T00:00:00-04:00\",\"2016-05-27T00:00:00-04:00\",\"2016-05-31T00:00:00-04:00\",\"2016-06-01T00:00:00-04:00\",\"2016-06-02T00:00:00-04:00\",\"2016-06-03T00:00:00-04:00\",\"2016-06-06T00:00:00-04:00\",\"2016-06-07T00:00:00-04:00\",\"2016-06-08T00:00:00-04:00\",\"2016-06-09T00:00:00-04:00\",\"2016-06-10T00:00:00-04:00\",\"2016-06-13T00:00:00-04:00\",\"2016-06-14T00:00:00-04:00\",\"2016-06-15T00:00:00-04:00\",\"2016-06-16T00:00:00-04:00\",\"2016-06-17T00:00:00-04:00\",\"2016-06-20T00:00:00-04:00\",\"2016-06-21T00:00:00-04:00\",\"2016-06-22T00:00:00-04:00\",\"2016-06-23T00:00:00-04:00\",\"2016-06-24T00:00:00-04:00\",\"2016-06-27T00:00:00-04:00\",\"2016-06-28T00:00:00-04:00\",\"2016-06-29T00:00:00-04:00\",\"2016-06-30T00:00:00-04:00\",\"2016-07-01T00:00:00-04:00\",\"2016-07-05T00:00:00-04:00\",\"2016-07-06T00:00:00-04:00\",\"2016-07-07T00:00:00-04:00\",\"2016-07-08T00:00:00-04:00\",\"2016-07-11T00:00:00-04:00\",\"2016-07-12T00:00:00-04:00\",\"2016-07-13T00:00:00-04:00\",\"2016-07-14T00:00:00-04:00\",\"2016-07-15T00:00:00-04:00\",\"2016-07-18T00:00:00-04:00\",\"2016-07-19T00:00:00-04:00\",\"2016-07-20T00:00:00-04:00\",\"2016-07-21T00:00:00-04:00\",\"2016-07-22T00:00:00-04:00\",\"2016-07-25T00:00:00-04:00\",\"2016-07-26T00:00:00-04:00\",\"2016-07-27T00:00:00-04:00\",\"2016-07-28T00:00:00-04:00\",\"2016-07-29T00:00:00-04:00\",\"2016-08-01T00:00:00-04:00\",\"2016-08-02T00:00:00-04:00\",\"2016-08-03T00:00:00-04:00\",\"2016-08-04T00:00:00-04:00\",\"2016-08-05T00:00:00-04:00\",\"2016-08-08T00:00:00-04:00\",\"2016-08-09T00:00:00-04:00\",\"2016-08-10T00:00:00-04:00\",\"2016-08-11T00:00:00-04:00\",\"2016-08-12T00:00:00-04:00\",\"2016-08-15T00:00:00-04:00\",\"2016-08-16T00:00:00-04:00\",\"2016-08-17T00:00:00-04:00\",\"2016-08-18T00:00:00-04:00\",\"2016-08-19T00:00:00-04:00\",\"2016-08-22T00:00:00-04:00\",\"2016-08-23T00:00:00-04:00\",\"2016-08-24T00:00:00-04:00\",\"2016-08-25T00:00:00-04:00\",\"2016-08-26T00:00:00-04:00\",\"2016-08-29T00:00:00-04:00\",\"2016-08-30T00:00:00-04:00\",\"2016-08-31T00:00:00-04:00\",\"2016-09-01T00:00:00-04:00\",\"2016-09-02T00:00:00-04:00\",\"2016-09-06T00:00:00-04:00\",\"2016-09-07T00:00:00-04:00\",\"2016-09-08T00:00:00-04:00\",\"2016-09-09T00:00:00-04:00\",\"2016-09-12T00:00:00-04:00\",\"2016-09-13T00:00:00-04:00\",\"2016-09-14T00:00:00-04:00\",\"2016-09-15T00:00:00-04:00\",\"2016-09-16T00:00:00-04:00\",\"2016-09-19T00:00:00-04:00\",\"2016-09-20T00:00:00-04:00\",\"2016-09-21T00:00:00-04:00\",\"2016-09-22T00:00:00-04:00\",\"2016-09-23T00:00:00-04:00\",\"2016-09-26T00:00:00-04:00\",\"2016-09-27T00:00:00-04:00\",\"2016-09-28T00:00:00-04:00\",\"2016-09-29T00:00:00-04:00\",\"2016-09-30T00:00:00-04:00\",\"2016-10-03T00:00:00-04:00\",\"2016-10-04T00:00:00-04:00\",\"2016-10-05T00:00:00-04:00\",\"2016-10-06T00:00:00-04:00\",\"2016-10-07T00:00:00-04:00\",\"2016-10-10T00:00:00-04:00\",\"2016-10-11T00:00:00-04:00\",\"2016-10-12T00:00:00-04:00\",\"2016-10-13T00:00:00-04:00\",\"2016-10-14T00:00:00-04:00\",\"2016-10-17T00:00:00-04:00\",\"2016-10-18T00:00:00-04:00\",\"2016-10-19T00:00:00-04:00\",\"2016-10-20T00:00:00-04:00\",\"2016-10-21T00:00:00-04:00\",\"2016-10-24T00:00:00-04:00\",\"2016-10-25T00:00:00-04:00\",\"2016-10-26T00:00:00-04:00\",\"2016-10-27T00:00:00-04:00\",\"2016-10-28T00:00:00-04:00\",\"2016-10-31T00:00:00-04:00\",\"2016-11-01T00:00:00-04:00\",\"2016-11-02T00:00:00-04:00\",\"2016-11-03T00:00:00-04:00\",\"2016-11-04T00:00:00-04:00\",\"2016-11-07T00:00:00-05:00\",\"2016-11-08T00:00:00-05:00\",\"2016-11-09T00:00:00-05:00\",\"2016-11-10T00:00:00-05:00\",\"2016-11-11T00:00:00-05:00\",\"2016-11-14T00:00:00-05:00\",\"2016-11-15T00:00:00-05:00\",\"2016-11-16T00:00:00-05:00\",\"2016-11-17T00:00:00-05:00\",\"2016-11-18T00:00:00-05:00\",\"2016-11-21T00:00:00-05:00\",\"2016-11-22T00:00:00-05:00\",\"2016-11-23T00:00:00-05:00\",\"2016-11-25T00:00:00-05:00\",\"2016-11-28T00:00:00-05:00\",\"2016-11-29T00:00:00-05:00\",\"2016-11-30T00:00:00-05:00\",\"2016-12-01T00:00:00-05:00\",\"2016-12-02T00:00:00-05:00\",\"2016-12-05T00:00:00-05:00\",\"2016-12-06T00:00:00-05:00\",\"2016-12-07T00:00:00-05:00\",\"2016-12-08T00:00:00-05:00\",\"2016-12-09T00:00:00-05:00\",\"2016-12-12T00:00:00-05:00\",\"2016-12-13T00:00:00-05:00\",\"2016-12-14T00:00:00-05:00\",\"2016-12-15T00:00:00-05:00\",\"2016-12-16T00:00:00-05:00\",\"2016-12-19T00:00:00-05:00\",\"2016-12-20T00:00:00-05:00\",\"2016-12-21T00:00:00-05:00\",\"2016-12-22T00:00:00-05:00\",\"2016-12-23T00:00:00-05:00\",\"2016-12-27T00:00:00-05:00\",\"2016-12-28T00:00:00-05:00\",\"2016-12-29T00:00:00-05:00\",\"2016-12-30T00:00:00-05:00\",\"2017-01-03T00:00:00-05:00\",\"2017-01-04T00:00:00-05:00\",\"2017-01-05T00:00:00-05:00\",\"2017-01-06T00:00:00-05:00\",\"2017-01-09T00:00:00-05:00\",\"2017-01-10T00:00:00-05:00\",\"2017-01-11T00:00:00-05:00\",\"2017-01-12T00:00:00-05:00\",\"2017-01-13T00:00:00-05:00\",\"2017-01-17T00:00:00-05:00\",\"2017-01-18T00:00:00-05:00\",\"2017-01-19T00:00:00-05:00\",\"2017-01-20T00:00:00-05:00\",\"2017-01-23T00:00:00-05:00\",\"2017-01-24T00:00:00-05:00\",\"2017-01-25T00:00:00-05:00\",\"2017-01-26T00:00:00-05:00\",\"2017-01-27T00:00:00-05:00\",\"2017-01-30T00:00:00-05:00\",\"2017-01-31T00:00:00-05:00\",\"2017-02-01T00:00:00-05:00\",\"2017-02-02T00:00:00-05:00\",\"2017-02-03T00:00:00-05:00\",\"2017-02-06T00:00:00-05:00\",\"2017-02-07T00:00:00-05:00\",\"2017-02-08T00:00:00-05:00\",\"2017-02-09T00:00:00-05:00\",\"2017-02-10T00:00:00-05:00\",\"2017-02-13T00:00:00-05:00\",\"2017-02-14T00:00:00-05:00\",\"2017-02-15T00:00:00-05:00\",\"2017-02-16T00:00:00-05:00\",\"2017-02-17T00:00:00-05:00\",\"2017-02-21T00:00:00-05:00\",\"2017-02-22T00:00:00-05:00\",\"2017-02-23T00:00:00-05:00\",\"2017-02-24T00:00:00-05:00\",\"2017-02-27T00:00:00-05:00\",\"2017-02-28T00:00:00-05:00\",\"2017-03-01T00:00:00-05:00\",\"2017-03-02T00:00:00-05:00\",\"2017-03-03T00:00:00-05:00\",\"2017-03-06T00:00:00-05:00\",\"2017-03-07T00:00:00-05:00\",\"2017-03-08T00:00:00-05:00\",\"2017-03-09T00:00:00-05:00\",\"2017-03-10T00:00:00-05:00\",\"2017-03-13T00:00:00-04:00\",\"2017-03-14T00:00:00-04:00\",\"2017-03-15T00:00:00-04:00\",\"2017-03-16T00:00:00-04:00\",\"2017-03-17T00:00:00-04:00\",\"2017-03-20T00:00:00-04:00\",\"2017-03-21T00:00:00-04:00\",\"2017-03-22T00:00:00-04:00\",\"2017-03-23T00:00:00-04:00\",\"2017-03-24T00:00:00-04:00\",\"2017-03-27T00:00:00-04:00\",\"2017-03-28T00:00:00-04:00\",\"2017-03-29T00:00:00-04:00\",\"2017-03-30T00:00:00-04:00\",\"2017-03-31T00:00:00-04:00\",\"2017-04-03T00:00:00-04:00\",\"2017-04-04T00:00:00-04:00\",\"2017-04-05T00:00:00-04:00\",\"2017-04-06T00:00:00-04:00\",\"2017-04-07T00:00:00-04:00\",\"2017-04-10T00:00:00-04:00\",\"2017-04-11T00:00:00-04:00\",\"2017-04-12T00:00:00-04:00\",\"2017-04-13T00:00:00-04:00\",\"2017-04-17T00:00:00-04:00\",\"2017-04-18T00:00:00-04:00\",\"2017-04-19T00:00:00-04:00\",\"2017-04-20T00:00:00-04:00\",\"2017-04-21T00:00:00-04:00\",\"2017-04-24T00:00:00-04:00\",\"2017-04-25T00:00:00-04:00\",\"2017-04-26T00:00:00-04:00\",\"2017-04-27T00:00:00-04:00\",\"2017-04-28T00:00:00-04:00\",\"2017-05-01T00:00:00-04:00\",\"2017-05-02T00:00:00-04:00\",\"2017-05-03T00:00:00-04:00\",\"2017-05-04T00:00:00-04:00\",\"2017-05-05T00:00:00-04:00\",\"2017-05-08T00:00:00-04:00\",\"2017-05-09T00:00:00-04:00\",\"2017-05-10T00:00:00-04:00\",\"2017-05-11T00:00:00-04:00\",\"2017-05-12T00:00:00-04:00\",\"2017-05-15T00:00:00-04:00\",\"2017-05-16T00:00:00-04:00\",\"2017-05-17T00:00:00-04:00\",\"2017-05-18T00:00:00-04:00\",\"2017-05-19T00:00:00-04:00\",\"2017-05-22T00:00:00-04:00\",\"2017-05-23T00:00:00-04:00\",\"2017-05-24T00:00:00-04:00\",\"2017-05-25T00:00:00-04:00\",\"2017-05-26T00:00:00-04:00\",\"2017-05-30T00:00:00-04:00\",\"2017-05-31T00:00:00-04:00\",\"2017-06-01T00:00:00-04:00\",\"2017-06-02T00:00:00-04:00\",\"2017-06-05T00:00:00-04:00\",\"2017-06-06T00:00:00-04:00\",\"2017-06-07T00:00:00-04:00\",\"2017-06-08T00:00:00-04:00\",\"2017-06-09T00:00:00-04:00\",\"2017-06-12T00:00:00-04:00\",\"2017-06-13T00:00:00-04:00\",\"2017-06-14T00:00:00-04:00\",\"2017-06-15T00:00:00-04:00\",\"2017-06-16T00:00:00-04:00\",\"2017-06-19T00:00:00-04:00\",\"2017-06-20T00:00:00-04:00\",\"2017-06-21T00:00:00-04:00\",\"2017-06-22T00:00:00-04:00\",\"2017-06-23T00:00:00-04:00\",\"2017-06-26T00:00:00-04:00\",\"2017-06-27T00:00:00-04:00\",\"2017-06-28T00:00:00-04:00\",\"2017-06-29T00:00:00-04:00\",\"2017-06-30T00:00:00-04:00\",\"2017-07-03T00:00:00-04:00\",\"2017-07-05T00:00:00-04:00\",\"2017-07-06T00:00:00-04:00\",\"2017-07-07T00:00:00-04:00\",\"2017-07-10T00:00:00-04:00\",\"2017-07-11T00:00:00-04:00\",\"2017-07-12T00:00:00-04:00\",\"2017-07-13T00:00:00-04:00\",\"2017-07-14T00:00:00-04:00\",\"2017-07-17T00:00:00-04:00\",\"2017-07-18T00:00:00-04:00\",\"2017-07-19T00:00:00-04:00\",\"2017-07-20T00:00:00-04:00\",\"2017-07-21T00:00:00-04:00\",\"2017-07-24T00:00:00-04:00\",\"2017-07-25T00:00:00-04:00\",\"2017-07-26T00:00:00-04:00\",\"2017-07-27T00:00:00-04:00\",\"2017-07-28T00:00:00-04:00\",\"2017-07-31T00:00:00-04:00\",\"2017-08-01T00:00:00-04:00\",\"2017-08-02T00:00:00-04:00\",\"2017-08-03T00:00:00-04:00\",\"2017-08-04T00:00:00-04:00\",\"2017-08-07T00:00:00-04:00\",\"2017-08-08T00:00:00-04:00\",\"2017-08-09T00:00:00-04:00\",\"2017-08-10T00:00:00-04:00\",\"2017-08-11T00:00:00-04:00\",\"2017-08-14T00:00:00-04:00\",\"2017-08-15T00:00:00-04:00\",\"2017-08-16T00:00:00-04:00\",\"2017-08-17T00:00:00-04:00\",\"2017-08-18T00:00:00-04:00\",\"2017-08-21T00:00:00-04:00\",\"2017-08-22T00:00:00-04:00\",\"2017-08-23T00:00:00-04:00\",\"2017-08-24T00:00:00-04:00\",\"2017-08-25T00:00:00-04:00\",\"2017-08-28T00:00:00-04:00\",\"2017-08-29T00:00:00-04:00\",\"2017-08-30T00:00:00-04:00\",\"2017-08-31T00:00:00-04:00\",\"2017-09-01T00:00:00-04:00\",\"2017-09-05T00:00:00-04:00\",\"2017-09-06T00:00:00-04:00\",\"2017-09-07T00:00:00-04:00\",\"2017-09-08T00:00:00-04:00\",\"2017-09-11T00:00:00-04:00\",\"2017-09-12T00:00:00-04:00\",\"2017-09-13T00:00:00-04:00\",\"2017-09-14T00:00:00-04:00\",\"2017-09-15T00:00:00-04:00\",\"2017-09-18T00:00:00-04:00\",\"2017-09-19T00:00:00-04:00\",\"2017-09-20T00:00:00-04:00\",\"2017-09-21T00:00:00-04:00\",\"2017-09-22T00:00:00-04:00\",\"2017-09-25T00:00:00-04:00\",\"2017-09-26T00:00:00-04:00\",\"2017-09-27T00:00:00-04:00\",\"2017-09-28T00:00:00-04:00\",\"2017-09-29T00:00:00-04:00\",\"2017-10-02T00:00:00-04:00\",\"2017-10-03T00:00:00-04:00\",\"2017-10-04T00:00:00-04:00\",\"2017-10-05T00:00:00-04:00\",\"2017-10-06T00:00:00-04:00\",\"2017-10-09T00:00:00-04:00\",\"2017-10-10T00:00:00-04:00\",\"2017-10-11T00:00:00-04:00\",\"2017-10-12T00:00:00-04:00\",\"2017-10-13T00:00:00-04:00\",\"2017-10-16T00:00:00-04:00\",\"2017-10-17T00:00:00-04:00\",\"2017-10-18T00:00:00-04:00\",\"2017-10-19T00:00:00-04:00\",\"2017-10-20T00:00:00-04:00\",\"2017-10-23T00:00:00-04:00\",\"2017-10-24T00:00:00-04:00\",\"2017-10-25T00:00:00-04:00\",\"2017-10-26T00:00:00-04:00\",\"2017-10-27T00:00:00-04:00\",\"2017-10-30T00:00:00-04:00\",\"2017-10-31T00:00:00-04:00\",\"2017-11-01T00:00:00-04:00\",\"2017-11-02T00:00:00-04:00\",\"2017-11-03T00:00:00-04:00\",\"2017-11-06T00:00:00-05:00\",\"2017-11-07T00:00:00-05:00\",\"2017-11-08T00:00:00-05:00\",\"2017-11-09T00:00:00-05:00\",\"2017-11-10T00:00:00-05:00\",\"2017-11-13T00:00:00-05:00\",\"2017-11-14T00:00:00-05:00\",\"2017-11-15T00:00:00-05:00\",\"2017-11-16T00:00:00-05:00\",\"2017-11-17T00:00:00-05:00\",\"2017-11-20T00:00:00-05:00\",\"2017-11-21T00:00:00-05:00\",\"2017-11-22T00:00:00-05:00\",\"2017-11-24T00:00:00-05:00\",\"2017-11-27T00:00:00-05:00\",\"2017-11-28T00:00:00-05:00\",\"2017-11-29T00:00:00-05:00\",\"2017-11-30T00:00:00-05:00\",\"2017-12-01T00:00:00-05:00\",\"2017-12-04T00:00:00-05:00\",\"2017-12-05T00:00:00-05:00\",\"2017-12-06T00:00:00-05:00\",\"2017-12-07T00:00:00-05:00\",\"2017-12-08T00:00:00-05:00\",\"2017-12-11T00:00:00-05:00\",\"2017-12-12T00:00:00-05:00\",\"2017-12-13T00:00:00-05:00\",\"2017-12-14T00:00:00-05:00\",\"2017-12-15T00:00:00-05:00\",\"2017-12-18T00:00:00-05:00\",\"2017-12-19T00:00:00-05:00\",\"2017-12-20T00:00:00-05:00\",\"2017-12-21T00:00:00-05:00\",\"2017-12-22T00:00:00-05:00\",\"2017-12-26T00:00:00-05:00\",\"2017-12-27T00:00:00-05:00\",\"2017-12-28T00:00:00-05:00\",\"2017-12-29T00:00:00-05:00\",\"2018-01-02T00:00:00-05:00\",\"2018-01-03T00:00:00-05:00\",\"2018-01-04T00:00:00-05:00\",\"2018-01-05T00:00:00-05:00\",\"2018-01-08T00:00:00-05:00\",\"2018-01-09T00:00:00-05:00\",\"2018-01-10T00:00:00-05:00\",\"2018-01-11T00:00:00-05:00\",\"2018-01-12T00:00:00-05:00\",\"2018-01-16T00:00:00-05:00\",\"2018-01-17T00:00:00-05:00\",\"2018-01-18T00:00:00-05:00\",\"2018-01-19T00:00:00-05:00\",\"2018-01-22T00:00:00-05:00\",\"2018-01-23T00:00:00-05:00\",\"2018-01-24T00:00:00-05:00\",\"2018-01-25T00:00:00-05:00\",\"2018-01-26T00:00:00-05:00\",\"2018-01-29T00:00:00-05:00\",\"2018-01-30T00:00:00-05:00\",\"2018-01-31T00:00:00-05:00\",\"2018-02-01T00:00:00-05:00\",\"2018-02-02T00:00:00-05:00\",\"2018-02-05T00:00:00-05:00\",\"2018-02-06T00:00:00-05:00\",\"2018-02-07T00:00:00-05:00\",\"2018-02-08T00:00:00-05:00\",\"2018-02-09T00:00:00-05:00\",\"2018-02-12T00:00:00-05:00\",\"2018-02-13T00:00:00-05:00\",\"2018-02-14T00:00:00-05:00\",\"2018-02-15T00:00:00-05:00\",\"2018-02-16T00:00:00-05:00\",\"2018-02-20T00:00:00-05:00\",\"2018-02-21T00:00:00-05:00\",\"2018-02-22T00:00:00-05:00\",\"2018-02-23T00:00:00-05:00\",\"2018-02-26T00:00:00-05:00\",\"2018-02-27T00:00:00-05:00\",\"2018-02-28T00:00:00-05:00\",\"2018-03-01T00:00:00-05:00\",\"2018-03-02T00:00:00-05:00\",\"2018-03-05T00:00:00-05:00\",\"2018-03-06T00:00:00-05:00\",\"2018-03-07T00:00:00-05:00\",\"2018-03-08T00:00:00-05:00\",\"2018-03-09T00:00:00-05:00\",\"2018-03-12T00:00:00-04:00\",\"2018-03-13T00:00:00-04:00\",\"2018-03-14T00:00:00-04:00\",\"2018-03-15T00:00:00-04:00\",\"2018-03-16T00:00:00-04:00\",\"2018-03-19T00:00:00-04:00\",\"2018-03-20T00:00:00-04:00\",\"2018-03-21T00:00:00-04:00\",\"2018-03-22T00:00:00-04:00\",\"2018-03-23T00:00:00-04:00\",\"2018-03-26T00:00:00-04:00\",\"2018-03-27T00:00:00-04:00\",\"2018-03-28T00:00:00-04:00\",\"2018-03-29T00:00:00-04:00\",\"2018-04-02T00:00:00-04:00\",\"2018-04-03T00:00:00-04:00\",\"2018-04-04T00:00:00-04:00\",\"2018-04-05T00:00:00-04:00\",\"2018-04-06T00:00:00-04:00\",\"2018-04-09T00:00:00-04:00\",\"2018-04-10T00:00:00-04:00\",\"2018-04-11T00:00:00-04:00\",\"2018-04-12T00:00:00-04:00\",\"2018-04-13T00:00:00-04:00\",\"2018-04-16T00:00:00-04:00\",\"2018-04-17T00:00:00-04:00\",\"2018-04-18T00:00:00-04:00\",\"2018-04-19T00:00:00-04:00\",\"2018-04-20T00:00:00-04:00\",\"2018-04-23T00:00:00-04:00\",\"2018-04-24T00:00:00-04:00\",\"2018-04-25T00:00:00-04:00\",\"2018-04-26T00:00:00-04:00\",\"2018-04-27T00:00:00-04:00\",\"2018-04-30T00:00:00-04:00\",\"2018-05-01T00:00:00-04:00\",\"2018-05-02T00:00:00-04:00\",\"2018-05-03T00:00:00-04:00\",\"2018-05-04T00:00:00-04:00\",\"2018-05-07T00:00:00-04:00\",\"2018-05-08T00:00:00-04:00\",\"2018-05-09T00:00:00-04:00\",\"2018-05-10T00:00:00-04:00\",\"2018-05-11T00:00:00-04:00\",\"2018-05-14T00:00:00-04:00\",\"2018-05-15T00:00:00-04:00\",\"2018-05-16T00:00:00-04:00\",\"2018-05-17T00:00:00-04:00\",\"2018-05-18T00:00:00-04:00\",\"2018-05-21T00:00:00-04:00\",\"2018-05-22T00:00:00-04:00\",\"2018-05-23T00:00:00-04:00\",\"2018-05-24T00:00:00-04:00\",\"2018-05-25T00:00:00-04:00\",\"2018-05-29T00:00:00-04:00\",\"2018-05-30T00:00:00-04:00\",\"2018-05-31T00:00:00-04:00\",\"2018-06-01T00:00:00-04:00\",\"2018-06-04T00:00:00-04:00\",\"2018-06-05T00:00:00-04:00\",\"2018-06-06T00:00:00-04:00\",\"2018-06-07T00:00:00-04:00\",\"2018-06-08T00:00:00-04:00\",\"2018-06-11T00:00:00-04:00\",\"2018-06-12T00:00:00-04:00\",\"2018-06-13T00:00:00-04:00\",\"2018-06-14T00:00:00-04:00\",\"2018-06-15T00:00:00-04:00\",\"2018-06-18T00:00:00-04:00\",\"2018-06-19T00:00:00-04:00\",\"2018-06-20T00:00:00-04:00\",\"2018-06-21T00:00:00-04:00\",\"2018-06-22T00:00:00-04:00\",\"2018-06-25T00:00:00-04:00\",\"2018-06-26T00:00:00-04:00\",\"2018-06-27T00:00:00-04:00\",\"2018-06-28T00:00:00-04:00\",\"2018-06-29T00:00:00-04:00\",\"2018-07-02T00:00:00-04:00\",\"2018-07-03T00:00:00-04:00\",\"2018-07-05T00:00:00-04:00\",\"2018-07-06T00:00:00-04:00\",\"2018-07-09T00:00:00-04:00\",\"2018-07-10T00:00:00-04:00\",\"2018-07-11T00:00:00-04:00\",\"2018-07-12T00:00:00-04:00\",\"2018-07-13T00:00:00-04:00\",\"2018-07-16T00:00:00-04:00\",\"2018-07-17T00:00:00-04:00\",\"2018-07-18T00:00:00-04:00\",\"2018-07-19T00:00:00-04:00\",\"2018-07-20T00:00:00-04:00\",\"2018-07-23T00:00:00-04:00\",\"2018-07-24T00:00:00-04:00\",\"2018-07-25T00:00:00-04:00\",\"2018-07-26T00:00:00-04:00\",\"2018-07-27T00:00:00-04:00\",\"2018-07-30T00:00:00-04:00\",\"2018-07-31T00:00:00-04:00\",\"2018-08-01T00:00:00-04:00\",\"2018-08-02T00:00:00-04:00\",\"2018-08-03T00:00:00-04:00\",\"2018-08-06T00:00:00-04:00\",\"2018-08-07T00:00:00-04:00\",\"2018-08-08T00:00:00-04:00\",\"2018-08-09T00:00:00-04:00\",\"2018-08-10T00:00:00-04:00\",\"2018-08-13T00:00:00-04:00\",\"2018-08-14T00:00:00-04:00\",\"2018-08-15T00:00:00-04:00\",\"2018-08-16T00:00:00-04:00\",\"2018-08-17T00:00:00-04:00\",\"2018-08-20T00:00:00-04:00\",\"2018-08-21T00:00:00-04:00\",\"2018-08-22T00:00:00-04:00\",\"2018-08-23T00:00:00-04:00\",\"2018-08-24T00:00:00-04:00\",\"2018-08-27T00:00:00-04:00\",\"2018-08-28T00:00:00-04:00\",\"2018-08-29T00:00:00-04:00\",\"2018-08-30T00:00:00-04:00\",\"2018-08-31T00:00:00-04:00\",\"2018-09-04T00:00:00-04:00\",\"2018-09-05T00:00:00-04:00\",\"2018-09-06T00:00:00-04:00\",\"2018-09-07T00:00:00-04:00\",\"2018-09-10T00:00:00-04:00\",\"2018-09-11T00:00:00-04:00\",\"2018-09-12T00:00:00-04:00\",\"2018-09-13T00:00:00-04:00\",\"2018-09-14T00:00:00-04:00\",\"2018-09-17T00:00:00-04:00\",\"2018-09-18T00:00:00-04:00\",\"2018-09-19T00:00:00-04:00\",\"2018-09-20T00:00:00-04:00\",\"2018-09-21T00:00:00-04:00\",\"2018-09-24T00:00:00-04:00\",\"2018-09-25T00:00:00-04:00\",\"2018-09-26T00:00:00-04:00\",\"2018-09-27T00:00:00-04:00\",\"2018-09-28T00:00:00-04:00\",\"2018-10-01T00:00:00-04:00\",\"2018-10-02T00:00:00-04:00\",\"2018-10-03T00:00:00-04:00\",\"2018-10-04T00:00:00-04:00\",\"2018-10-05T00:00:00-04:00\",\"2018-10-08T00:00:00-04:00\",\"2018-10-09T00:00:00-04:00\",\"2018-10-10T00:00:00-04:00\",\"2018-10-11T00:00:00-04:00\",\"2018-10-12T00:00:00-04:00\",\"2018-10-15T00:00:00-04:00\",\"2018-10-16T00:00:00-04:00\",\"2018-10-17T00:00:00-04:00\",\"2018-10-18T00:00:00-04:00\",\"2018-10-19T00:00:00-04:00\",\"2018-10-22T00:00:00-04:00\",\"2018-10-23T00:00:00-04:00\",\"2018-10-24T00:00:00-04:00\",\"2018-10-25T00:00:00-04:00\",\"2018-10-26T00:00:00-04:00\",\"2018-10-29T00:00:00-04:00\",\"2018-10-30T00:00:00-04:00\",\"2018-10-31T00:00:00-04:00\",\"2018-11-01T00:00:00-04:00\",\"2018-11-02T00:00:00-04:00\",\"2018-11-05T00:00:00-05:00\",\"2018-11-06T00:00:00-05:00\",\"2018-11-07T00:00:00-05:00\",\"2018-11-08T00:00:00-05:00\",\"2018-11-09T00:00:00-05:00\",\"2018-11-12T00:00:00-05:00\",\"2018-11-13T00:00:00-05:00\",\"2018-11-14T00:00:00-05:00\",\"2018-11-15T00:00:00-05:00\",\"2018-11-16T00:00:00-05:00\",\"2018-11-19T00:00:00-05:00\",\"2018-11-20T00:00:00-05:00\",\"2018-11-21T00:00:00-05:00\",\"2018-11-23T00:00:00-05:00\",\"2018-11-26T00:00:00-05:00\",\"2018-11-27T00:00:00-05:00\",\"2018-11-28T00:00:00-05:00\",\"2018-11-29T00:00:00-05:00\",\"2018-11-30T00:00:00-05:00\",\"2018-12-03T00:00:00-05:00\",\"2018-12-04T00:00:00-05:00\",\"2018-12-06T00:00:00-05:00\",\"2018-12-07T00:00:00-05:00\",\"2018-12-10T00:00:00-05:00\",\"2018-12-11T00:00:00-05:00\",\"2018-12-12T00:00:00-05:00\",\"2018-12-13T00:00:00-05:00\",\"2018-12-14T00:00:00-05:00\",\"2018-12-17T00:00:00-05:00\",\"2018-12-18T00:00:00-05:00\",\"2018-12-19T00:00:00-05:00\",\"2018-12-20T00:00:00-05:00\",\"2018-12-21T00:00:00-05:00\",\"2018-12-24T00:00:00-05:00\",\"2018-12-26T00:00:00-05:00\",\"2018-12-27T00:00:00-05:00\",\"2018-12-28T00:00:00-05:00\",\"2018-12-31T00:00:00-05:00\",\"2019-01-02T00:00:00-05:00\",\"2019-01-03T00:00:00-05:00\",\"2019-01-04T00:00:00-05:00\",\"2019-01-07T00:00:00-05:00\",\"2019-01-08T00:00:00-05:00\",\"2019-01-09T00:00:00-05:00\",\"2019-01-10T00:00:00-05:00\",\"2019-01-11T00:00:00-05:00\",\"2019-01-14T00:00:00-05:00\",\"2019-01-15T00:00:00-05:00\",\"2019-01-16T00:00:00-05:00\",\"2019-01-17T00:00:00-05:00\",\"2019-01-18T00:00:00-05:00\",\"2019-01-22T00:00:00-05:00\",\"2019-01-23T00:00:00-05:00\",\"2019-01-24T00:00:00-05:00\",\"2019-01-25T00:00:00-05:00\",\"2019-01-28T00:00:00-05:00\",\"2019-01-29T00:00:00-05:00\",\"2019-01-30T00:00:00-05:00\",\"2019-01-31T00:00:00-05:00\",\"2019-02-01T00:00:00-05:00\",\"2019-02-04T00:00:00-05:00\",\"2019-02-05T00:00:00-05:00\",\"2019-02-06T00:00:00-05:00\",\"2019-02-07T00:00:00-05:00\",\"2019-02-08T00:00:00-05:00\",\"2019-02-11T00:00:00-05:00\",\"2019-02-12T00:00:00-05:00\",\"2019-02-13T00:00:00-05:00\",\"2019-02-14T00:00:00-05:00\",\"2019-02-15T00:00:00-05:00\",\"2019-02-19T00:00:00-05:00\",\"2019-02-20T00:00:00-05:00\",\"2019-02-21T00:00:00-05:00\",\"2019-02-22T00:00:00-05:00\",\"2019-02-25T00:00:00-05:00\",\"2019-02-26T00:00:00-05:00\",\"2019-02-27T00:00:00-05:00\",\"2019-02-28T00:00:00-05:00\",\"2019-03-01T00:00:00-05:00\",\"2019-03-04T00:00:00-05:00\",\"2019-03-05T00:00:00-05:00\",\"2019-03-06T00:00:00-05:00\",\"2019-03-07T00:00:00-05:00\",\"2019-03-08T00:00:00-05:00\",\"2019-03-11T00:00:00-04:00\",\"2019-03-12T00:00:00-04:00\",\"2019-03-13T00:00:00-04:00\",\"2019-03-14T00:00:00-04:00\",\"2019-03-15T00:00:00-04:00\",\"2019-03-18T00:00:00-04:00\",\"2019-03-19T00:00:00-04:00\",\"2019-03-20T00:00:00-04:00\",\"2019-03-21T00:00:00-04:00\",\"2019-03-22T00:00:00-04:00\",\"2019-03-25T00:00:00-04:00\",\"2019-03-26T00:00:00-04:00\",\"2019-03-27T00:00:00-04:00\",\"2019-03-28T00:00:00-04:00\",\"2019-03-29T00:00:00-04:00\",\"2019-04-01T00:00:00-04:00\",\"2019-04-02T00:00:00-04:00\",\"2019-04-03T00:00:00-04:00\",\"2019-04-04T00:00:00-04:00\",\"2019-04-05T00:00:00-04:00\",\"2019-04-08T00:00:00-04:00\",\"2019-04-09T00:00:00-04:00\",\"2019-04-10T00:00:00-04:00\",\"2019-04-11T00:00:00-04:00\",\"2019-04-12T00:00:00-04:00\",\"2019-04-15T00:00:00-04:00\",\"2019-04-16T00:00:00-04:00\",\"2019-04-17T00:00:00-04:00\",\"2019-04-18T00:00:00-04:00\",\"2019-04-22T00:00:00-04:00\",\"2019-04-23T00:00:00-04:00\",\"2019-04-24T00:00:00-04:00\",\"2019-04-25T00:00:00-04:00\",\"2019-04-26T00:00:00-04:00\",\"2019-04-29T00:00:00-04:00\",\"2019-04-30T00:00:00-04:00\",\"2019-05-01T00:00:00-04:00\",\"2019-05-02T00:00:00-04:00\",\"2019-05-03T00:00:00-04:00\",\"2019-05-06T00:00:00-04:00\",\"2019-05-07T00:00:00-04:00\",\"2019-05-08T00:00:00-04:00\",\"2019-05-09T00:00:00-04:00\",\"2019-05-10T00:00:00-04:00\",\"2019-05-13T00:00:00-04:00\",\"2019-05-14T00:00:00-04:00\",\"2019-05-15T00:00:00-04:00\",\"2019-05-16T00:00:00-04:00\",\"2019-05-17T00:00:00-04:00\",\"2019-05-20T00:00:00-04:00\",\"2019-05-21T00:00:00-04:00\",\"2019-05-22T00:00:00-04:00\",\"2019-05-23T00:00:00-04:00\",\"2019-05-24T00:00:00-04:00\",\"2019-05-28T00:00:00-04:00\",\"2019-05-29T00:00:00-04:00\",\"2019-05-30T00:00:00-04:00\",\"2019-05-31T00:00:00-04:00\",\"2019-06-03T00:00:00-04:00\",\"2019-06-04T00:00:00-04:00\",\"2019-06-05T00:00:00-04:00\",\"2019-06-06T00:00:00-04:00\",\"2019-06-07T00:00:00-04:00\",\"2019-06-10T00:00:00-04:00\",\"2019-06-11T00:00:00-04:00\",\"2019-06-12T00:00:00-04:00\",\"2019-06-13T00:00:00-04:00\",\"2019-06-14T00:00:00-04:00\",\"2019-06-17T00:00:00-04:00\",\"2019-06-18T00:00:00-04:00\",\"2019-06-19T00:00:00-04:00\",\"2019-06-20T00:00:00-04:00\",\"2019-06-21T00:00:00-04:00\",\"2019-06-24T00:00:00-04:00\",\"2019-06-25T00:00:00-04:00\",\"2019-06-26T00:00:00-04:00\",\"2019-06-27T00:00:00-04:00\",\"2019-06-28T00:00:00-04:00\",\"2019-07-01T00:00:00-04:00\",\"2019-07-02T00:00:00-04:00\",\"2019-07-03T00:00:00-04:00\",\"2019-07-05T00:00:00-04:00\",\"2019-07-08T00:00:00-04:00\",\"2019-07-09T00:00:00-04:00\",\"2019-07-10T00:00:00-04:00\",\"2019-07-11T00:00:00-04:00\",\"2019-07-12T00:00:00-04:00\",\"2019-07-15T00:00:00-04:00\",\"2019-07-16T00:00:00-04:00\",\"2019-07-17T00:00:00-04:00\",\"2019-07-18T00:00:00-04:00\",\"2019-07-19T00:00:00-04:00\",\"2019-07-22T00:00:00-04:00\",\"2019-07-23T00:00:00-04:00\",\"2019-07-24T00:00:00-04:00\",\"2019-07-25T00:00:00-04:00\",\"2019-07-26T00:00:00-04:00\",\"2019-07-29T00:00:00-04:00\",\"2019-07-30T00:00:00-04:00\",\"2019-07-31T00:00:00-04:00\",\"2019-08-01T00:00:00-04:00\",\"2019-08-02T00:00:00-04:00\",\"2019-08-05T00:00:00-04:00\",\"2019-08-06T00:00:00-04:00\",\"2019-08-07T00:00:00-04:00\",\"2019-08-08T00:00:00-04:00\",\"2019-08-09T00:00:00-04:00\",\"2019-08-12T00:00:00-04:00\",\"2019-08-13T00:00:00-04:00\",\"2019-08-14T00:00:00-04:00\",\"2019-08-15T00:00:00-04:00\",\"2019-08-16T00:00:00-04:00\",\"2019-08-19T00:00:00-04:00\",\"2019-08-20T00:00:00-04:00\",\"2019-08-21T00:00:00-04:00\",\"2019-08-22T00:00:00-04:00\",\"2019-08-23T00:00:00-04:00\",\"2019-08-26T00:00:00-04:00\",\"2019-08-27T00:00:00-04:00\",\"2019-08-28T00:00:00-04:00\",\"2019-08-29T00:00:00-04:00\",\"2019-08-30T00:00:00-04:00\",\"2019-09-03T00:00:00-04:00\",\"2019-09-04T00:00:00-04:00\",\"2019-09-05T00:00:00-04:00\",\"2019-09-06T00:00:00-04:00\",\"2019-09-09T00:00:00-04:00\",\"2019-09-10T00:00:00-04:00\",\"2019-09-11T00:00:00-04:00\",\"2019-09-12T00:00:00-04:00\",\"2019-09-13T00:00:00-04:00\",\"2019-09-16T00:00:00-04:00\",\"2019-09-17T00:00:00-04:00\",\"2019-09-18T00:00:00-04:00\",\"2019-09-19T00:00:00-04:00\",\"2019-09-20T00:00:00-04:00\",\"2019-09-23T00:00:00-04:00\",\"2019-09-24T00:00:00-04:00\",\"2019-09-25T00:00:00-04:00\",\"2019-09-26T00:00:00-04:00\",\"2019-09-27T00:00:00-04:00\",\"2019-09-30T00:00:00-04:00\",\"2019-10-01T00:00:00-04:00\",\"2019-10-02T00:00:00-04:00\",\"2019-10-03T00:00:00-04:00\",\"2019-10-04T00:00:00-04:00\",\"2019-10-07T00:00:00-04:00\",\"2019-10-08T00:00:00-04:00\",\"2019-10-09T00:00:00-04:00\",\"2019-10-10T00:00:00-04:00\",\"2019-10-11T00:00:00-04:00\",\"2019-10-14T00:00:00-04:00\",\"2019-10-15T00:00:00-04:00\",\"2019-10-16T00:00:00-04:00\",\"2019-10-17T00:00:00-04:00\",\"2019-10-18T00:00:00-04:00\",\"2019-10-21T00:00:00-04:00\",\"2019-10-22T00:00:00-04:00\",\"2019-10-23T00:00:00-04:00\",\"2019-10-24T00:00:00-04:00\",\"2019-10-25T00:00:00-04:00\",\"2019-10-28T00:00:00-04:00\",\"2019-10-29T00:00:00-04:00\",\"2019-10-30T00:00:00-04:00\",\"2019-10-31T00:00:00-04:00\",\"2019-11-01T00:00:00-04:00\",\"2019-11-04T00:00:00-05:00\",\"2019-11-05T00:00:00-05:00\",\"2019-11-06T00:00:00-05:00\",\"2019-11-07T00:00:00-05:00\",\"2019-11-08T00:00:00-05:00\",\"2019-11-11T00:00:00-05:00\",\"2019-11-12T00:00:00-05:00\",\"2019-11-13T00:00:00-05:00\",\"2019-11-14T00:00:00-05:00\",\"2019-11-15T00:00:00-05:00\",\"2019-11-18T00:00:00-05:00\",\"2019-11-19T00:00:00-05:00\",\"2019-11-20T00:00:00-05:00\",\"2019-11-21T00:00:00-05:00\",\"2019-11-22T00:00:00-05:00\",\"2019-11-25T00:00:00-05:00\",\"2019-11-26T00:00:00-05:00\",\"2019-11-27T00:00:00-05:00\",\"2019-11-29T00:00:00-05:00\",\"2019-12-02T00:00:00-05:00\",\"2019-12-03T00:00:00-05:00\",\"2019-12-04T00:00:00-05:00\",\"2019-12-05T00:00:00-05:00\",\"2019-12-06T00:00:00-05:00\",\"2019-12-09T00:00:00-05:00\",\"2019-12-10T00:00:00-05:00\",\"2019-12-11T00:00:00-05:00\",\"2019-12-12T00:00:00-05:00\",\"2019-12-13T00:00:00-05:00\",\"2019-12-16T00:00:00-05:00\",\"2019-12-17T00:00:00-05:00\",\"2019-12-18T00:00:00-05:00\",\"2019-12-19T00:00:00-05:00\",\"2019-12-20T00:00:00-05:00\",\"2019-12-23T00:00:00-05:00\",\"2019-12-24T00:00:00-05:00\",\"2019-12-26T00:00:00-05:00\",\"2019-12-27T00:00:00-05:00\",\"2019-12-30T00:00:00-05:00\",\"2019-12-31T00:00:00-05:00\",\"2020-01-02T00:00:00-05:00\",\"2020-01-03T00:00:00-05:00\",\"2020-01-06T00:00:00-05:00\",\"2020-01-07T00:00:00-05:00\",\"2020-01-08T00:00:00-05:00\",\"2020-01-09T00:00:00-05:00\",\"2020-01-10T00:00:00-05:00\",\"2020-01-13T00:00:00-05:00\",\"2020-01-14T00:00:00-05:00\",\"2020-01-15T00:00:00-05:00\",\"2020-01-16T00:00:00-05:00\",\"2020-01-17T00:00:00-05:00\",\"2020-01-21T00:00:00-05:00\",\"2020-01-22T00:00:00-05:00\",\"2020-01-23T00:00:00-05:00\",\"2020-01-24T00:00:00-05:00\",\"2020-01-27T00:00:00-05:00\",\"2020-01-28T00:00:00-05:00\",\"2020-01-29T00:00:00-05:00\",\"2020-01-30T00:00:00-05:00\",\"2020-01-31T00:00:00-05:00\",\"2020-02-03T00:00:00-05:00\",\"2020-02-04T00:00:00-05:00\",\"2020-02-05T00:00:00-05:00\",\"2020-02-06T00:00:00-05:00\",\"2020-02-07T00:00:00-05:00\",\"2020-02-10T00:00:00-05:00\",\"2020-02-11T00:00:00-05:00\",\"2020-02-12T00:00:00-05:00\",\"2020-02-13T00:00:00-05:00\",\"2020-02-14T00:00:00-05:00\",\"2020-02-18T00:00:00-05:00\",\"2020-02-19T00:00:00-05:00\",\"2020-02-20T00:00:00-05:00\",\"2020-02-21T00:00:00-05:00\",\"2020-02-24T00:00:00-05:00\",\"2020-02-25T00:00:00-05:00\",\"2020-02-26T00:00:00-05:00\",\"2020-02-27T00:00:00-05:00\",\"2020-02-28T00:00:00-05:00\",\"2020-03-02T00:00:00-05:00\",\"2020-03-03T00:00:00-05:00\",\"2020-03-04T00:00:00-05:00\",\"2020-03-05T00:00:00-05:00\",\"2020-03-06T00:00:00-05:00\",\"2020-03-09T00:00:00-04:00\",\"2020-03-10T00:00:00-04:00\",\"2020-03-11T00:00:00-04:00\",\"2020-03-12T00:00:00-04:00\",\"2020-03-13T00:00:00-04:00\",\"2020-03-16T00:00:00-04:00\",\"2020-03-17T00:00:00-04:00\",\"2020-03-18T00:00:00-04:00\",\"2020-03-19T00:00:00-04:00\",\"2020-03-20T00:00:00-04:00\",\"2020-03-23T00:00:00-04:00\",\"2020-03-24T00:00:00-04:00\",\"2020-03-25T00:00:00-04:00\",\"2020-03-26T00:00:00-04:00\",\"2020-03-27T00:00:00-04:00\",\"2020-03-30T00:00:00-04:00\",\"2020-03-31T00:00:00-04:00\",\"2020-04-01T00:00:00-04:00\",\"2020-04-02T00:00:00-04:00\",\"2020-04-03T00:00:00-04:00\",\"2020-04-06T00:00:00-04:00\",\"2020-04-07T00:00:00-04:00\",\"2020-04-08T00:00:00-04:00\",\"2020-04-09T00:00:00-04:00\",\"2020-04-13T00:00:00-04:00\",\"2020-04-14T00:00:00-04:00\",\"2020-04-15T00:00:00-04:00\",\"2020-04-16T00:00:00-04:00\",\"2020-04-17T00:00:00-04:00\",\"2020-04-20T00:00:00-04:00\",\"2020-04-21T00:00:00-04:00\",\"2020-04-22T00:00:00-04:00\",\"2020-04-23T00:00:00-04:00\",\"2020-04-24T00:00:00-04:00\",\"2020-04-27T00:00:00-04:00\",\"2020-04-28T00:00:00-04:00\",\"2020-04-29T00:00:00-04:00\",\"2020-04-30T00:00:00-04:00\",\"2020-05-01T00:00:00-04:00\",\"2020-05-04T00:00:00-04:00\",\"2020-05-05T00:00:00-04:00\",\"2020-05-06T00:00:00-04:00\",\"2020-05-07T00:00:00-04:00\",\"2020-05-08T00:00:00-04:00\",\"2020-05-11T00:00:00-04:00\",\"2020-05-12T00:00:00-04:00\",\"2020-05-13T00:00:00-04:00\",\"2020-05-14T00:00:00-04:00\",\"2020-05-15T00:00:00-04:00\",\"2020-05-18T00:00:00-04:00\",\"2020-05-19T00:00:00-04:00\",\"2020-05-20T00:00:00-04:00\",\"2020-05-21T00:00:00-04:00\",\"2020-05-22T00:00:00-04:00\",\"2020-05-26T00:00:00-04:00\",\"2020-05-27T00:00:00-04:00\",\"2020-05-28T00:00:00-04:00\",\"2020-05-29T00:00:00-04:00\",\"2020-06-01T00:00:00-04:00\",\"2020-06-02T00:00:00-04:00\",\"2020-06-03T00:00:00-04:00\",\"2020-06-04T00:00:00-04:00\",\"2020-06-05T00:00:00-04:00\",\"2020-06-08T00:00:00-04:00\",\"2020-06-09T00:00:00-04:00\",\"2020-06-10T00:00:00-04:00\",\"2020-06-11T00:00:00-04:00\",\"2020-06-12T00:00:00-04:00\",\"2020-06-15T00:00:00-04:00\",\"2020-06-16T00:00:00-04:00\",\"2020-06-17T00:00:00-04:00\",\"2020-06-18T00:00:00-04:00\",\"2020-06-19T00:00:00-04:00\",\"2020-06-22T00:00:00-04:00\",\"2020-06-23T00:00:00-04:00\",\"2020-06-24T00:00:00-04:00\",\"2020-06-25T00:00:00-04:00\",\"2020-06-26T00:00:00-04:00\",\"2020-06-29T00:00:00-04:00\",\"2020-06-30T00:00:00-04:00\",\"2020-07-01T00:00:00-04:00\",\"2020-07-02T00:00:00-04:00\",\"2020-07-06T00:00:00-04:00\",\"2020-07-07T00:00:00-04:00\",\"2020-07-08T00:00:00-04:00\",\"2020-07-09T00:00:00-04:00\",\"2020-07-10T00:00:00-04:00\",\"2020-07-13T00:00:00-04:00\",\"2020-07-14T00:00:00-04:00\",\"2020-07-15T00:00:00-04:00\",\"2020-07-16T00:00:00-04:00\",\"2020-07-17T00:00:00-04:00\",\"2020-07-20T00:00:00-04:00\",\"2020-07-21T00:00:00-04:00\",\"2020-07-22T00:00:00-04:00\",\"2020-07-23T00:00:00-04:00\",\"2020-07-24T00:00:00-04:00\",\"2020-07-27T00:00:00-04:00\",\"2020-07-28T00:00:00-04:00\",\"2020-07-29T00:00:00-04:00\",\"2020-07-30T00:00:00-04:00\",\"2020-07-31T00:00:00-04:00\",\"2020-08-03T00:00:00-04:00\",\"2020-08-04T00:00:00-04:00\",\"2020-08-05T00:00:00-04:00\",\"2020-08-06T00:00:00-04:00\",\"2020-08-07T00:00:00-04:00\",\"2020-08-10T00:00:00-04:00\",\"2020-08-11T00:00:00-04:00\",\"2020-08-12T00:00:00-04:00\",\"2020-08-13T00:00:00-04:00\",\"2020-08-14T00:00:00-04:00\",\"2020-08-17T00:00:00-04:00\",\"2020-08-18T00:00:00-04:00\",\"2020-08-19T00:00:00-04:00\",\"2020-08-20T00:00:00-04:00\",\"2020-08-21T00:00:00-04:00\",\"2020-08-24T00:00:00-04:00\",\"2020-08-25T00:00:00-04:00\",\"2020-08-26T00:00:00-04:00\",\"2020-08-27T00:00:00-04:00\",\"2020-08-28T00:00:00-04:00\",\"2020-08-31T00:00:00-04:00\",\"2020-09-01T00:00:00-04:00\",\"2020-09-02T00:00:00-04:00\",\"2020-09-03T00:00:00-04:00\",\"2020-09-04T00:00:00-04:00\",\"2020-09-08T00:00:00-04:00\",\"2020-09-09T00:00:00-04:00\",\"2020-09-10T00:00:00-04:00\",\"2020-09-11T00:00:00-04:00\",\"2020-09-14T00:00:00-04:00\",\"2020-09-15T00:00:00-04:00\",\"2020-09-16T00:00:00-04:00\",\"2020-09-17T00:00:00-04:00\",\"2020-09-18T00:00:00-04:00\",\"2020-09-21T00:00:00-04:00\",\"2020-09-22T00:00:00-04:00\",\"2020-09-23T00:00:00-04:00\",\"2020-09-24T00:00:00-04:00\",\"2020-09-25T00:00:00-04:00\",\"2020-09-28T00:00:00-04:00\",\"2020-09-29T00:00:00-04:00\",\"2020-09-30T00:00:00-04:00\",\"2020-10-01T00:00:00-04:00\",\"2020-10-02T00:00:00-04:00\",\"2020-10-05T00:00:00-04:00\",\"2020-10-06T00:00:00-04:00\",\"2020-10-07T00:00:00-04:00\",\"2020-10-08T00:00:00-04:00\",\"2020-10-09T00:00:00-04:00\",\"2020-10-12T00:00:00-04:00\",\"2020-10-13T00:00:00-04:00\",\"2020-10-14T00:00:00-04:00\",\"2020-10-15T00:00:00-04:00\",\"2020-10-16T00:00:00-04:00\",\"2020-10-19T00:00:00-04:00\",\"2020-10-20T00:00:00-04:00\",\"2020-10-21T00:00:00-04:00\",\"2020-10-22T00:00:00-04:00\",\"2020-10-23T00:00:00-04:00\",\"2020-10-26T00:00:00-04:00\",\"2020-10-27T00:00:00-04:00\",\"2020-10-28T00:00:00-04:00\",\"2020-10-29T00:00:00-04:00\",\"2020-10-30T00:00:00-04:00\",\"2020-11-02T00:00:00-05:00\",\"2020-11-03T00:00:00-05:00\",\"2020-11-04T00:00:00-05:00\",\"2020-11-05T00:00:00-05:00\",\"2020-11-06T00:00:00-05:00\",\"2020-11-09T00:00:00-05:00\",\"2020-11-10T00:00:00-05:00\",\"2020-11-11T00:00:00-05:00\",\"2020-11-12T00:00:00-05:00\",\"2020-11-13T00:00:00-05:00\",\"2020-11-16T00:00:00-05:00\",\"2020-11-17T00:00:00-05:00\",\"2020-11-18T00:00:00-05:00\",\"2020-11-19T00:00:00-05:00\",\"2020-11-20T00:00:00-05:00\",\"2020-11-23T00:00:00-05:00\",\"2020-11-24T00:00:00-05:00\",\"2020-11-25T00:00:00-05:00\",\"2020-11-27T00:00:00-05:00\",\"2020-11-30T00:00:00-05:00\",\"2020-12-01T00:00:00-05:00\",\"2020-12-02T00:00:00-05:00\",\"2020-12-03T00:00:00-05:00\",\"2020-12-04T00:00:00-05:00\",\"2020-12-07T00:00:00-05:00\",\"2020-12-08T00:00:00-05:00\",\"2020-12-09T00:00:00-05:00\",\"2020-12-10T00:00:00-05:00\",\"2020-12-11T00:00:00-05:00\",\"2020-12-14T00:00:00-05:00\",\"2020-12-15T00:00:00-05:00\",\"2020-12-16T00:00:00-05:00\",\"2020-12-17T00:00:00-05:00\",\"2020-12-18T00:00:00-05:00\",\"2020-12-21T00:00:00-05:00\",\"2020-12-22T00:00:00-05:00\",\"2020-12-23T00:00:00-05:00\",\"2020-12-24T00:00:00-05:00\",\"2020-12-28T00:00:00-05:00\",\"2020-12-29T00:00:00-05:00\",\"2020-12-30T00:00:00-05:00\",\"2020-12-31T00:00:00-05:00\",\"2021-01-04T00:00:00-05:00\",\"2021-01-05T00:00:00-05:00\",\"2021-01-06T00:00:00-05:00\",\"2021-01-07T00:00:00-05:00\",\"2021-01-08T00:00:00-05:00\",\"2021-01-11T00:00:00-05:00\",\"2021-01-12T00:00:00-05:00\",\"2021-01-13T00:00:00-05:00\",\"2021-01-14T00:00:00-05:00\",\"2021-01-15T00:00:00-05:00\",\"2021-01-19T00:00:00-05:00\",\"2021-01-20T00:00:00-05:00\",\"2021-01-21T00:00:00-05:00\",\"2021-01-22T00:00:00-05:00\",\"2021-01-25T00:00:00-05:00\",\"2021-01-26T00:00:00-05:00\",\"2021-01-27T00:00:00-05:00\",\"2021-01-28T00:00:00-05:00\",\"2021-01-29T00:00:00-05:00\",\"2021-02-01T00:00:00-05:00\",\"2021-02-02T00:00:00-05:00\",\"2021-02-03T00:00:00-05:00\",\"2021-02-04T00:00:00-05:00\",\"2021-02-05T00:00:00-05:00\",\"2021-02-08T00:00:00-05:00\",\"2021-02-09T00:00:00-05:00\",\"2021-02-10T00:00:00-05:00\",\"2021-02-11T00:00:00-05:00\",\"2021-02-12T00:00:00-05:00\",\"2021-02-16T00:00:00-05:00\",\"2021-02-17T00:00:00-05:00\",\"2021-02-18T00:00:00-05:00\",\"2021-02-19T00:00:00-05:00\",\"2021-02-22T00:00:00-05:00\",\"2021-02-23T00:00:00-05:00\",\"2021-02-24T00:00:00-05:00\",\"2021-02-25T00:00:00-05:00\",\"2021-02-26T00:00:00-05:00\",\"2021-03-01T00:00:00-05:00\",\"2021-03-02T00:00:00-05:00\",\"2021-03-03T00:00:00-05:00\",\"2021-03-04T00:00:00-05:00\",\"2021-03-05T00:00:00-05:00\",\"2021-03-08T00:00:00-05:00\",\"2021-03-09T00:00:00-05:00\",\"2021-03-10T00:00:00-05:00\",\"2021-03-11T00:00:00-05:00\",\"2021-03-12T00:00:00-05:00\",\"2021-03-15T00:00:00-04:00\",\"2021-03-16T00:00:00-04:00\",\"2021-03-17T00:00:00-04:00\",\"2021-03-18T00:00:00-04:00\",\"2021-03-19T00:00:00-04:00\",\"2021-03-22T00:00:00-04:00\",\"2021-03-23T00:00:00-04:00\",\"2021-03-24T00:00:00-04:00\",\"2021-03-25T00:00:00-04:00\",\"2021-03-26T00:00:00-04:00\",\"2021-03-29T00:00:00-04:00\",\"2021-03-30T00:00:00-04:00\",\"2021-03-31T00:00:00-04:00\",\"2021-04-01T00:00:00-04:00\",\"2021-04-05T00:00:00-04:00\",\"2021-04-06T00:00:00-04:00\",\"2021-04-07T00:00:00-04:00\",\"2021-04-08T00:00:00-04:00\",\"2021-04-09T00:00:00-04:00\",\"2021-04-12T00:00:00-04:00\",\"2021-04-13T00:00:00-04:00\",\"2021-04-14T00:00:00-04:00\",\"2021-04-15T00:00:00-04:00\",\"2021-04-16T00:00:00-04:00\",\"2021-04-19T00:00:00-04:00\",\"2021-04-20T00:00:00-04:00\",\"2021-04-21T00:00:00-04:00\",\"2021-04-22T00:00:00-04:00\",\"2021-04-23T00:00:00-04:00\",\"2021-04-26T00:00:00-04:00\",\"2021-04-27T00:00:00-04:00\",\"2021-04-28T00:00:00-04:00\",\"2021-04-29T00:00:00-04:00\",\"2021-04-30T00:00:00-04:00\",\"2021-05-03T00:00:00-04:00\",\"2021-05-04T00:00:00-04:00\",\"2021-05-05T00:00:00-04:00\",\"2021-05-06T00:00:00-04:00\",\"2021-05-07T00:00:00-04:00\",\"2021-05-10T00:00:00-04:00\",\"2021-05-11T00:00:00-04:00\",\"2021-05-12T00:00:00-04:00\",\"2021-05-13T00:00:00-04:00\",\"2021-05-14T00:00:00-04:00\",\"2021-05-17T00:00:00-04:00\",\"2021-05-18T00:00:00-04:00\",\"2021-05-19T00:00:00-04:00\",\"2021-05-20T00:00:00-04:00\",\"2021-05-21T00:00:00-04:00\",\"2021-05-24T00:00:00-04:00\",\"2021-05-25T00:00:00-04:00\",\"2021-05-26T00:00:00-04:00\",\"2021-05-27T00:00:00-04:00\",\"2021-05-28T00:00:00-04:00\",\"2021-06-01T00:00:00-04:00\",\"2021-06-02T00:00:00-04:00\",\"2021-06-03T00:00:00-04:00\",\"2021-06-04T00:00:00-04:00\",\"2021-06-07T00:00:00-04:00\",\"2021-06-08T00:00:00-04:00\",\"2021-06-09T00:00:00-04:00\",\"2021-06-10T00:00:00-04:00\",\"2021-06-11T00:00:00-04:00\",\"2021-06-14T00:00:00-04:00\"],\"y\":[1.5926669836044312,1.5886670351028442,1.4639999866485596,1.2799999713897705,1.0740000009536743,1.053333044052124,1.1640000343322754,1.159999966621399,1.136667013168335,1.2093329429626465,1.3226670026779175,1.3259999752044678,1.3760000467300415,1.4606670141220093,1.3533329963684082,1.3480000495910645,1.399999976158142,1.4193329811096191,1.3966670036315918,1.3700000047683716,1.3813329935073853,1.3566670417785645,1.329332947731018,1.3946670293807983,1.463333010673523,1.4173330068588257,1.363332986831665,1.305999994277954,1.3066669702529907,1.2686669826507568,1.1933330297470093,1.1733330488204956,1.2213330268859863,1.2519999742507935,1.2766669988632202,1.2513329982757568,1.25266695022583,1.273332953453064,1.3420000076293945,1.2799999713897705,1.3266669511795044,1.3166669607162476,1.3133330345153809,1.324666976928711,1.2986669540405273,1.363332986831665,1.4040000438690186,1.4033329486846924,1.369333028793335,1.3933329582214355,1.380666971206665,1.3446669578552246,1.3813329935073853,1.4079999923706055,1.4653329849243164,1.3960000276565552,1.348667025566101,1.4040000438690186,1.3846670389175415,1.324666976928711,1.3040000200271606,1.340000033378601,1.3686670064926147,1.4266669750213623,1.4653329849243164,1.3606669902801514,1.3733329772949219,1.3993330001831055,1.4079999923706055,1.3639999628067017,1.3619999885559082,1.3619999885559082,1.3493330478668213,1.3493330478668213,1.369333028793335,1.3833329677581787,1.369333028793335,1.348667025566101,1.3366669416427612,1.3766670227050781,1.3833329677581787,1.3813329935073853,1.3899999856948853,1.4240000247955322,1.399999976158142,1.4126670360565186,1.4559999704360962,1.4273329973220825,1.4166669845581055,1.4513330459594727,1.659999966621399,1.6293330192565918,1.6653330326080322,1.6419999599456787,1.957332968711853,1.869333028793335,1.9893330335617065,2.053333044052124,1.9780000448226929,1.965999960899353,1.9926669597625732,2.065999984741211,2.2266669273376465,2.3046669960021973,2.3646669387817383,2.3546669483184814,2.2886669635772705,2.355333089828491,2.2899999618530273,2.1566669940948486,2.0993330478668213,2.02066707611084,2.1040000915527344,2.1579999923706055,2.136667013168335,2.101332902908325,2.0366671085357666,1.9019999504089355,1.9733330011367798,2.053999900817871,2.0906670093536377,2.113332986831665,2.1506669521331787,2.175333023071289,2.00600004196167,1.7033330202102661,1.7606669664382935,1.848667025566101,1.7666670083999634,1.775333046913147,1.7746670246124268,1.777999997138977,1.7886669635772705,1.858667016029358,1.8826669454574585,1.8966670036315918,1.797333002090454,1.797333002090454,1.7480000257492065,1.7166670560836792,1.7093329429626465,1.6019999980926514,1.5080000162124634,1.5360000133514404,1.6326669454574585,1.6453330516815186,1.649999976158142,1.6613329648971558,1.6006669998168945,1.6066670417785645,1.593999981880188,1.5959999561309814,1.5753329992294312,1.5640000104904175,1.5379999876022339,1.6326669454574585,1.547333002090454,1.5479999780654907,1.5499999523162842,1.5386669635772705,1.5226670503616333,1.6486669778823853,1.5733330249786377,1.5453330278396606,1.4579999446868896,1.4553329944610596,1.5019999742507935,1.5740000009536743,1.5926669836044312,1.5959999561309814,1.6013330221176147,1.6239999532699585,1.6633330583572388,1.6626670360565186,1.6440000534057617,1.6480000019073486,1.6006669998168945,1.6046669483184814,1.5499999523162842,1.5299999713897705,1.5213329792022705,1.5206669569015503,1.5306669473648071,1.5153330564498901,1.4793330430984497,1.480666995048523,1.4886670112609863,1.5166670083999634,1.5499999523162842,1.5946669578552246,1.5806670188903809,1.850000023841858,1.7773330211639404,1.722000002861023,1.7799999713897705,1.7660000324249268,1.815999984741211,1.7660000324249268,1.6846669912338257,1.6433329582214355,1.6619999408721924,1.6759999990463257,1.7053329944610596,1.668666958808899,1.6773329973220825,1.7166670560836792,1.7826670408248901,1.7593330144882202,1.7953330278396606,1.8053330183029175,1.843999981880188,1.840000033378601,1.8300000429153442,1.7913329601287842,1.7793329954147339,1.762666940689087,1.8079999685287476,1.8606669902801514,1.8886669874191284,1.8046669960021973,1.8446669578552246,1.8366669416427612,1.773332953453064,1.730666995048523,1.7566670179367065,1.8799999952316284,1.8646670579910278,1.7879999876022339,1.7813329696655273,1.9320000410079956,1.9653329849243164,1.9700000286102295,2.0093328952789307,1.901332974433899,1.9173330068588257,2.0086669921875,1.9133330583572388,1.891332983970642,1.8079999685287476,1.841333031654358,1.8573329448699951,1.8953330516815186,1.9066669940948486,1.8213330507278442,1.7666670083999634,1.7666670083999634,1.7339999675750732,1.835332989692688,1.8140000104904175,1.8473329544067383,1.8380000591278076,1.8306670188903809,1.8739999532699585,1.8860000371932983,1.9420000314712524,1.9346669912338257,1.942667007446289,1.9306670427322388,1.9819999933242798,1.920667052268982,1.8899999856948853,1.878000020980835,1.9093329906463623,1.8406670093536377,1.8386670351028442,1.8153330087661743,1.8593330383300781,1.9126670360565186,1.9133330583572388,1.952666997909546,1.8993330001831055,1.8666670322418213,1.8426669836044312,1.878000020980835,1.878000020980835,1.9179999828338623,1.8226670026779175,1.8133330345153809,1.649999976158142,1.6160000562667847,1.5759999752044678,1.670667052268982,1.5880000591278076,1.6866669654846191,1.753999948501587,1.7486670017242432,1.7400000095367432,1.722000002861023,1.6173330545425415,1.4866670370101929,1.463333010673523,1.5306669473648071,1.591333031654358,1.5406670570373535,1.5820000171661377,1.647333025932312,1.6419999599456787,1.6493330001831055,1.600000023841858,1.5379999876022339,1.5293329954147339,1.5893330574035645,1.5740000009536743,1.5313329696655273,1.525333046913147,1.6053329706192017,1.6226669549942017,1.6546670198440552,1.7200000286102295,1.718000054359436,1.7339999675750732,1.7233330011367798,1.7086670398712158,1.7586669921875,1.7013330459594727,1.746000051498413,1.6393330097198486,1.6080000400543213,1.6260000467300415,1.5820000171661377,1.5773329734802246,1.6913330554962158,1.797333002090454,1.7993329763412476,1.858667016029358,1.8406670093536377,1.8533329963684082,1.8626669645309448,1.8700000047683716,1.8279999494552612,1.8893330097198486,1.8380000591278076,1.8226670026779175,1.8686670064926147,1.9033329486846924,1.8833329677581787,1.8653329610824585,1.9173330068588257,1.9913330078125,1.9579999446868896,1.925333023071289,1.9140000343322754,2.1640000343322754,2.1540000438690186,2.0846669673919678,2.122667074203491,2.058666944503784,2.0886669158935547,2.2426669597625732,2.2146670818328857,2.26200008392334,2.3293330669403076,2.245332956314087,2.173332929611206,2.117332935333252,2.138000011444092,2.0966670513153076,2.1106669902801514,2.1706669330596924,2.1166670322418213,2.1826670169830322,2.173332929611206,2.2200000286102295,2.2946670055389404,2.324666976928711,2.2793331146240234,2.059333086013794,2.069333076477051,2.0273330211639404,1.963333010673523,1.9019999504089355,1.9079999923706055,1.8666670322418213,1.850000023841858,1.8600000143051147,1.8380000591278076,1.8513330221176147,1.8600000143051147,1.9046670198440552,1.9006669521331787,1.9153330326080322,1.9040000438690186,1.871999979019165,1.8473329544067383,1.8079999685287476,1.7940000295639038,1.8166669607162476,1.841333031654358,1.8819999694824219,1.8833329677581787,1.519333004951477,1.773332953453064,1.7873330116271973,1.784000039100647,1.773332953453064,1.7846670150756836,1.8279999494552612,1.8646670579910278,1.929332971572876,1.9553329944610596,1.9713330268859863,1.937999963760376,1.972000002861023,2.016666889190674,2.076667070388794,2.119999885559082,2.1066670417785645,2.128667116165161,2.171999931335449,2.0733330249786377,2.0993330478668213,2.2113330364227295,2.240000009536743,2.2786669731140137,2.3313329219818115,2.299999952316284,2.2813329696655273,2.302000045776367,2.25,2.2413330078125,2.253999948501587,2.2273330688476562,2.2939999103546143,2.2693328857421875,2.251332998275757,2.2073330879211426,2.2079999446868896,2.204667091369629,2.315999984741211,2.4006669521331787,2.4059998989105225,2.3526670932769775,2.3333330154418945,2.3546669483184814,2.3320000171661377,2.330667018890381,2.3433330059051514,2.293333053588867,2.2720000743865967,2.493333101272583,2.5293331146240234,2.5233330726623535,2.4886670112609863,2.4826669692993164,2.438667058944702,2.5339999198913574,2.3333330154418945,2.2986669540405273,2.2100000381469727,2.1640000343322754,2.2060000896453857,2.22933292388916,2.239332914352417,2.1500000953674316,2.1493330001831055,2.177333116531372,2.2106668949127197,2.2106668949127197,2.129333019256592,2.121332883834839,2.194000005722046,2.2326669692993164,2.2226669788360596,2.208667039871216,2.252000093460083,2.262666940689087,2.1640000343322754,2.121999979019165,2.1646668910980225,2.012666940689087,2.003999948501587,2.1973330974578857,2.1500000953674316,2.003999948501587,1.9620000123977661,1.9453330039978027,1.9046670198440552,1.8373329639434814,1.9179999828338623,2.053333044052124,2.068000078201294,2.018666982650757,1.987333059310913,2.1126670837402344,2.0273330211639404,1.9666670560836792,1.8766670227050781,1.858667016029358,1.8606669902801514,1.9479999542236328,1.9286669492721558,2.0053329467773438,1.9413330554962158,1.9773329496383667,1.9846669435501099,1.9593329429626465,1.99399995803833,2.122667074203491,2.1393330097198486,2.252000093460083,2.1459999084472656,2.25266695022583,2.2073330879211426,2.107332944869995,2.130666971206665,2.0940001010894775,2.0859999656677246,2.0266671180725098,2.0439999103546143,2.0820000171661377,2.065999984741211,2.0993330478668213,2.0846669673919678,2.1006669998168945,2.180000066757202,2.2833330631256104,2.3973329067230225,2.2233328819274902,2.1433329582214355,2.1513330936431885,2.119333028793335,2.0439999103546143,1.9893330335617065,1.9299999475479126,1.8753329515457153,1.9673329591751099,1.8233330249786377,1.8279999494552612,1.75,1.7400000095367432,1.8179999589920044,1.8846670389175415,2.016666889190674,1.9393329620361328,1.9606670141220093,1.996000051498413,2.078000068664551,1.9613330364227295,1.9600000381469727,2.0199999809265137,2.000667095184326,1.9673329591751099,1.9406670331954956,1.9966670274734497,2.0486669540405273,1.9666670560836792,1.8880000114440918,1.9126670360565186,1.8940000534057617,1.8940000534057617,1.901332974433899,1.8760000467300415,1.8626669645309448,1.9033329486846924,1.9566669464111328,1.824666976928711,1.8533329963684082,1.8853329420089722,1.9653329849243164,2.0260000228881836,2.169332981109619,2.0893330574035645,2.069999933242798,2.059999942779541,2.001332998275757,2.0439999103546143,1.843999981880188,1.8359999656677246,1.8993330001831055,1.9520000219345093,1.944000005722046,1.9866670370101929,1.9533330202102661,1.9600000381469727,1.9259999990463257,1.9500000476837158,1.891332983970642,1.8933329582214355,1.8880000114440918,1.8426669836044312,1.8220000267028809,1.8706669807434082,1.9213329553604126,1.869333028793335,1.8493330478668213,1.8566670417785645,1.8926670551300049,1.8279999494552612,1.8346669673919678,1.8253329992294312,1.8753329515457153,1.9500000476837158,1.9279999732971191,2.0999999046325684,2.076667070388794,2.1026670932769775,2.0873329639434814,2.0213329792022705,2.0713329315185547,2.107332944869995,2.0920000076293945,2.0546669960021973,2.122667074203491,2.194667100906372,2.200000047683716,2.1646668910980225,2.1419999599456787,2.1513330936431885,2.1433329582214355,2.2153329849243164,2.246000051498413,2.254667043685913,2.308000087738037,2.259999990463257,2.24733304977417,2.259999990463257,2.2780001163482666,2.3046669960021973,2.3519999980926514,2.3506669998168945,2.2406671047210693,2.253999948501587,2.293333053588867,2.305999994277954,2.307332992553711,2.295332908630371,2.266666889190674,2.2853329181671143,2.239332914352417,2.246000051498413,2.2146670818328857,2.257999897003174,2.357332944869995,2.318000078201294,2.293333053588867,2.2893331050872803,2.245332956314087,2.2426669597625732,2.23533296585083,2.194000005722046,2.2173330783843994,2.259999990463257,2.2733330726623535,2.2920000553131104,2.301332950592041,2.3459999561309814,2.4000000953674316,2.4660000801086426,2.4653329849243164,2.5353329181671143,2.5299999713897705,2.501332998275757,2.500667095184326,2.553333044052124,2.5160000324249268,2.5420000553131104,2.611332893371582,2.631999969482422,2.615999937057495,2.561332941055298,2.5260000228881836,2.563333034515381,2.551332950592041,2.4693329334259033,2.618666887283325,2.569333076477051,2.3440001010894775,2.4073328971862793,2.2920000553131104,2.295332908630371,2.3399999141693115,2.322000026702881,2.309999942779541,2.371999979019165,2.4433329105377197,2.512666940689087,2.5486669540405273,2.564666986465454,2.6066670417785645,2.6080000400543213,2.5986669063568115,2.456666946411133,2.3526670932769775,2.3433330059051514,2.3386669158935547,2.396667003631592,2.4006669521331787,2.441333055496216,2.502000093460083,2.5239999294281006,2.5439999103546143,2.5260000228881836,2.9286670684814453,2.9560000896453857,2.740000009536743,2.8006670475006104,2.757999897003174,2.7886669635772705,2.700000047683716,2.7906670570373535,2.9059998989105225,2.9166669845581055,2.886667013168335,3.0393331050872803,3.0299999713897705,3.131333112716675,3.188667058944702,3.3459999561309814,3.4006669521331787,3.361999988555908,3.4666669368743896,3.413332939147949,3.6626670360565186,3.5993330478668213,3.552000045776367,3.607332944869995,3.636667013168335,3.9666669368743896,3.700666904449463,3.7193329334259033,4.626667022705078,5.117332935333252,5.853332996368408,5.549333095550537,5.656000137329102,6.150000095367432,6.099999904632568,5.995999813079834,5.8393330574035645,5.815999984741211,6.182000160217285,6.4720001220703125,7.355332851409912,6.975333213806152,6.99666690826416,6.517333030700684,6.172667026519775,6.322667121887207,6.357999801635742,6.489999771118164,6.802667140960693,6.670000076293945,6.297999858856201,6.51533317565918,6.545332908630371,6.686666965484619,6.813333034515381,6.892666816711426,6.97866678237915,6.710000038146973,6.636666774749756,6.765999794006348,6.826666831970215,7.047999858856201,7.283332824707031,7.157332897186279,7.811999797821045,7.8546671867370605,7.682666778564453,8.005999565124512,8.107333183288574,8.229999542236328,8.15133285522461,8.37399959564209,8.65999984741211,8.484000205993652,7.269999980926514,8.016667366027832,7.935332775115967,7.97866678237915,8.161999702453613,8.182666778564453,8.113332748413086,8.271332740783691,8.62600040435791,8.974666595458984,8.78266716003418,8.95199966430664,9.036666870117188,9.199999809265137,9.645333290100098,9.476667404174805,8.9486665725708,10.232000350952148,10.199999809265137,9.825332641601562,9.695332527160645,9.290666580200195,9.311332702636719,9.466667175292969,9.65999984741211,9.972000122070312,9.857333183288574,10.473333358764648,10.78933334350586,10.947999954223633,11.133999824523926,11.096667289733887,11.070667266845703,11.266667366027832,11.262666702270508,11.374667167663574,11.328666687011719,11.131333351135254,10.713333129882812,11.091333389282227,10.90133285522461,10.995332717895508,11.03600025177002,11.10533332824707,11.081999778747559,11.08133316040039,11.861332893371582,12.22599983215332,12.074000358581543,12.155332565307617,12.349332809448242,12.576000213623047,12.726667404174805,12.891332626342773,12.866666793823242,12.063332557678223,11.553999900817871,12.065333366394043,12.204667091369629,11.648667335510254,11.251999855041504,11.528667449951172,11.91333293914795,11.981332778930664,12.262666702270508,12.237333297729492,12.186667442321777,12.226667404174805,11.506667137145996,11.435999870300293,10.966667175292969,11.543333053588867,11.310667037963867,10.857333183288574,10.964667320251465,10.614666938781738,10.662667274475098,10.811332702636719,11.680000305175781,11.787332534790039,10.077333450317383,9.317999839782715,9.196666717529297,9.646666526794434,9.186667442321777,9.24666690826416,9.173333168029785,9.029999732971191,8.10533332824707,8.406000137329102,8.074000358581543,8.140000343322754,8.092000007629395,8.055999755859375,8.033332824707031,8.462667465209961,8.485333442687988,8.277999877929688,9.646666526794434,9.263333320617676,9.36533260345459,9.157333374023438,9.4399995803833,9.47933292388916,9.3100004196167,9.83133316040039,9.84333324432373,9.862667083740234,10.163999557495117,9.86533260345459,9.381333351135254,9.549332618713379,9.569999694824219,10.093999862670898,10.366666793823242,10.074666976928711,10.162667274475098,10.028667449951172,10.006667137145996,9.970666885375977,9.800000190734863,9.957332611083984,10.085332870483398,9.835332870483398,9.714667320251465,9.28933334350586,10.751333236694336,10.942000389099121,11.39799976348877,11.333999633789062,11.778667449951172,11.904000282287598,12.100000381469727,11.640000343322754,11.307999610900879,11.892000198364258,11.682000160217285,12.189332962036133,12.093999862670898,11.807332992553711,11.915332794189453,11.628000259399414,11.892000198364258,12.435333251953125,13.104000091552734,13.107999801635742,13.021332740783691,13.308667182922363,13.215332984924316,13.579999923706055,12.909333229064941,13.998000144958496,13.973333358764648,14.510000228881836,16.53333282470703,16.866666793823242,16.836000442504883,16.320667266845703,16.70400047302246,16.98933219909668,16.8439998626709,16.862667083740234,16.413999557495117,15.922666549682617,15.62733268737793,16.099332809448242,15.852666854858398,15.39799976348877,15.59866714477539,16.002666473388672,15.72266674041748,15.660667419433594,15.259332656860352,14.678000450134277,14.696000099182129,14.197333335876465,13.821332931518555,14.157999992370605,13.896666526794434,14.464667320251465,15.352666854858398,15.026666641235352,14.148667335510254,13.834667205810547,14.36400032043457,14.461999893188477,13.612667083740234,13.585332870483398,13.206000328063965,12.927332878112793,13.27400016784668,13.208000183105469,13.625332832336426,14.576000213623047,13.866000175476074,13.857333183288574,13.323332786560059,13.234000205993652,13.79466724395752,13.859333038330078,13.84866714477539,14.060667037963867,14.440667152404785,13.8186674118042,13.423333168029785,11.906000137329102,12.150667190551758,12.311332702636719,12.677332878112793,12.708000183105469,12.572667121887207,12.77066707611084,13.072667121887207,13.020000457763672,13.296667098999023,13.658666610717773,13.819999694824219,14.104000091552734,14.015999794006348,14.015999794006348,13.851332664489746,13.646666526794434,13.662667274475098,13.599332809448242,13.793333053588867,13.878000259399414,13.687333106994629,13.486666679382324,13.631333351135254,13.567999839782715,13.761333465576172,14.973999977111816,15.444666862487793,15.141332626342773,15.185999870300293,15.305999755859375,15.814666748046875,15.5,15.792667388916016,15.706666946411133,15.937333106994629,16.003999710083008,15.981332778930664,15.295332908630371,15.283332824707031,14.843999862670898,14.604666709899902,14.870667457580566,14.630666732788086,14.541999816894531,15.113332748413086,14.638667106628418,14.477333068847656,14.359999656677246,14.668000221252441,14.702667236328125,14.638667106628418,14.832667350769043,14.902667045593262,14.904666900634766,14.98799991607666,15.000666618347168,15.261333465576172,14.886667251586914,15.5513334274292,15.90133285522461,15.899333000183105,16.595333099365234,16.826000213623047,16.54199981689453,17.288000106811523,17.33066749572754,17.354000091552734,17.42533302307129,17.46733283996582,17.32933235168457,17.117332458496094,17.047332763671875,16.95599937438965,17.118667602539062,17.503332138061523,17.44933319091797,17.549999237060547,17.590667724609375,17.979999542236328,18.941333770751953,18.746000289916992,19.069332122802734,18.492666244506836,18.80733299255371,18.565332412719727,18.739999771118164,18.687332153320312,18.613332748413086,16.923999786376953,17.382667541503906,17.42533302307129,17.58799934387207,17.288000106811523,16.66866683959961,16.694000244140625,16.80933380126953,16.463333129882812,16.440000534057617,16.35066795349121,16.178667068481445,16.016000747680664,16.761333465576172,17.013999938964844,17.374666213989258,17.30466651916504,17.28533363342285,17.134000778198242,15.793999671936035,14.97266674041748,15.137332916259766,15.313332557678223,15.09000015258789,15.165332794189453,15.364666938781738,15.689332962036133,15.40666675567627,15.685999870300293,15.682666778564453,14.777999877929688,16.184667587280273,15.873332977294922,15.910667419433594,16.113332748413086,16.172666549682617,15.928667068481445,15.39799976348877,16.08133316040039,16.01333236694336,16.1286678314209,16.738666534423828,16.606666564941406,16.780000686645508,17.245332717895508,16.93199920654297,17.18000030517578,16.516000747680664,16.58066749572754,16.185333251953125,16.447999954223633,16.53933334350586,16.562667846679688,16.301332473754883,15.442667007446289,15.428667068481445,15.286666870117188,15.218667030334473,14.913999557495117,14.290666580200195,14.459333419799805,13.989333152770996,13.925333023071289,13.800000190734863,13.602666854858398,13.187333106994629,13.721332550048828,14.550666809082031,14.619333267211914,14.84000015258789,14.731332778930664,14.817333221435547,15.187999725341797,15.047332763671875,14.815333366394043,14.827333450317383,14.620667457580566,14.005999565124512,14.085332870483398,14.063332557678223,14.041333198547363,13.77733325958252,13.480667114257812,13.616666793823242,12.845999717712402,12.791333198547363,12.871333122253418,12.795332908630371,13.104666709899902,13.441332817077637,13.419333457946777,13.770000457763672,13.732000350952148,13.291333198547363,13.680000305175781,13.573332786560059,14.062666893005371,14.557332992553711,14.569999694824219,14.732666969299316,14.490667343139648,14.498666763305664,14.419333457946777,14.186667442321777,13.525333404541016,13.584667205810547,13.623332977294922,13.630666732788086,14.11400032043457,14.473999977111816,13.822667121887207,13.607333183288574,13.583999633789062,13.812666893005371,13.555999755859375,13.155332565307617,13.303999900817871,13.496000289916992,13.375332832336426,12.925333023071289,12.725333213806152,12.687999725341797,12.916000366210938,12.73799991607666,12.578666687011719,13.046667098999023,12.982000350952148,13.380666732788086,13.043333053588867,13.20533275604248,13.308667182922363,13.447999954223633,12.953332901000977,12.694000244140625,12.333333015441895,12.704667091369629,12.584667205810547,12.505999565124512,12.733332633972168,13.539999961853027,13.550000190734863,13.844667434692383,14.005999565124512,14.0600004196167,13.985333442687988,13.830666542053223,13.85533332824707,13.779999732971191,13.78600025177002,13.684666633605957,13.96066665649414,14.629332542419434,14.573332786560059,14.562000274658203,15.436667442321777,15.36533260345459,15.49666690826416,15.069999694824219,15.0686674118042,15.36733341217041,15.529999732971191,15.362000465393066,15.786666870117188,15.77400016784668,15.965999603271484,16.31599998474121,16.211999893188477,16.273332595825195,16.589332580566406,16.583332061767578,16.47599983215332,16.290000915527344,16.374666213989258,16.51533317565918,16.497333526611328,16.495332717895508,16.76333236694336,16.719999313354492,16.6299991607666,16.55666732788086,16.599332809448242,16.39466667175293,16.609333038330078,17.086000442504883,17.066667556762695,16.713333129882812,16.76066780090332,16.71266746520996,16.691999435424805,16.874666213989258,17.360666275024414,17.459333419799805,17.500667572021484,17.319332122802734,17.844667434692383,17.67799949645996,17.91933250427246,17.805999755859375,17.468000411987305,17.884000778198242,17.94333267211914,18.667999267578125,18.648000717163086,17.858667373657227,16.997333526611328,17.19466781616211,17.27666664123535,17.477333068847656,17.709999084472656,17.542667388916016,17.778667449951172,18.310667037963867,18.817333221435547,17.784666061401367,17.857999801635742,17.81333351135254,17.694000244140625,16.867332458496094,17.654666900634766,17.58799934387207,17.785999298095703,17.74333381652832,17.332666397094727,17.75200080871582,18.0086669921875,16.408666610717773,16.167333602905273,16.076000213623047,15.824666976928711,15.878000259399414,16.167333602905273,16.209999084472656,16.999332427978516,17.381332397460938,17.016666412353516,16.14533233642578,15.38466739654541,14.591333389282227,14.66866683959961,14.989333152770996,16.19933319091797,16.565332412719727,16.604000091552734,15.908666610717773,16.512666702270508,16.3713321685791,16.1286678314209,16.544666290283203,16.5939998626709,16.565332412719727,16.682666778564453,16.87933349609375,16.904666900634766,17.483333587646484,17.471332550048828,17.374666213989258,17.613332748413086,17.395999908447266,17.40399932861328,17.541332244873047,17.12733268737793,16.562000274658203,16.44333267211914,16.559999465942383,15.991999626159668,16.504667282104492,16.40999984741211,16.097333908081055,15.46399974822998,15.114666938781738,14.712667465209961,14.371999740600586,14.616666793823242,14.458666801452637,14.753999710083008,15.133999824523926,15.206666946411133,14.20199966430664,14.005999565124512,14.114666938781738,13.939332962036133,14.350666999816895,14.023332595825195,14.197333335876465,14.108667373657227,13.795332908630371,14.252667427062988,13.890000343322754,15.442000389099121,15.451333045959473,15.490667343139648,15.022000312805176,14.433333396911621,14.60533332824707,14.196000099182129,13.812666893005371,14.287332534790039,14.266667366027832,14.73799991607666,14.786666870117188,14.667332649230957,14.516667366027832,14.550000190734863,15.309332847595215,15.440667152404785,15.350666999816895,15.812666893005371,15.465999603271484,15.513999938964844,15.358667373657227,15.408666610717773,15.114666938781738,14.968000411987305,15.137999534606934,14.468000411987305,14.571999549865723,14.739333152770996,15.633999824523926,15.559332847595215,15.36400032043457,15.503999710083008,15.329999923706055,15.313332557678223,15.371333122253418,15.263333320617676,15.812666893005371,15.87266731262207,16.000667572021484,14.894000053405762,14.895333290100098,14.602666854858398,14.376667022705078,14.066666603088379,13.856666564941406,13.998000144958496,13.354000091552734,13.745332717895508,13.666000366210938,13.64799976348877,13.24666690826416,13.33133316040039,13.50333309173584,13.092000007629395,12.904000282287598,12.538000106811523,12.646666526794434,12.74666690826416,13.129332542419434,12.185333251953125,11.565333366394043,11.688667297363281,10.84000015258789,9.866000175476074,9.883333206176758,9.57800006866455,10.031332969665527,10.06933307647705,10.344667434692383,11.245332717895508,11.118000030517578,11.10533332824707,11.849332809448242,11.814000129699707,11.933333396911621,12.495332717895508,12.689332962036133,12.795332908630371,12.423333168029785,12.555999755859375,13.049332618713379,13.402667045593262,13.685999870300293,13.506667137145996,13.914667129516602,13.678667068481445,13.833333015441895,14.34333324432373,14.555999755859375,14.795332908630371,15.092000007629395,15.515999794006348,15.887999534606934,15.616000175476074,14.838666915893555,15.183333396911621,15.350666999816895,15.342000007629395,15.12600040435791,15.317999839782715,15.839332580566406,16.465999603271484,17.031333923339844,17.69466781616211,17.14666748046875,16.67133331298828,16.661333084106445,16.521333694458008,16.968666076660156,16.790666580200195,16.96733283996582,16.92533302307129,16.4913330078125,16.6646671295166,16.55266761779785,16.916667938232422,16.788000106811523,16.916000366210938,16.764667510986328,16.513999938964844,16.05066680908203,16.1200008392334,15.48799991607666,14.837332725524902,14.10200023651123,14.328666687011719,13.928000450134277,13.912667274475098,13.93066692352295,13.8186674118042,13.840666770935059,13.88599967956543,13.644000053405762,14.07800006866455,14.347332954406738,14.685333251953125,14.414667129516602,14.52733325958252,14.638667106628418,15.008000373840332,14.869333267211914,14.881999969482422,14.637332916259766,14.597332954406738,14.599332809448242,14.711999893188477,15.489333152770996,15.701333045959473,15.290666580200195,14.586000442504883,14.524666786193848,14.330666542053223,14.513333320617676,14.528667449951172,14.364666938781738,14.646666526794434,14.640666961669922,13.11066722869873,13.09333324432373,12.876667022705078,13.236666679382324,13.452667236328125,14.012666702270508,14.152000427246094,14.433333396911621,14.26533317565918,14.295999526977539,14.395999908447266,14.45199966430664,14.985333442687988,14.976667404174805,14.835332870483398,14.768667221069336,14.69333267211914,15.083333015441895,15.017333030700684,15.223999977111816,14.699999809265137,14.817999839782715,15.333999633789062,15.300666809082031,15.232666969299316,15.37399959564209,15.652667045593262,15.333999633789062,15.146666526794434,15.052666664123535,15.37399959564209,15.335332870483398,15.077333450317383,15.272000312805176,15.043333053588867,14.994000434875488,15.040666580200195,15.03933334350586,14.907333374023438,14.88266658782959,14.900667190551758,15.0,14.862000465393066,14.989333152770996,14.841333389282227,14.730667114257812,14.666000366210938,14.346667289733887,14.089332580566406,14.133999824523926,13.38466739654541,13.185333251953125,13.522000312805176,13.447333335876465,13.157333374023438,12.964667320251465,13.220000267028809,13.069999694824219,13.093999862670898,13.361332893371582,13.69333267211914,13.755999565124512,13.642666816711426,13.6813325881958,13.76200008392334,13.829999923706055,13.932666778564453,13.720666885375977,13.751333236694336,13.380000114440918,13.60200023651123,14.24666690826416,14.093999862670898,13.897333145141602,13.399999618530273,13.107333183288574,13.396666526794434,13.34000015258789,13.434000015258789,13.349332809448242,13.100666999816895,12.93066692352295,13.273332595825195,13.570667266845703,13.273332595825195,13.339332580566406,13.517333030700684,13.489333152770996,13.482666969299316,13.600666999816895,13.33133316040039,13.182000160217285,12.719332695007324,12.534667015075684,12.494667053222656,12.704000473022461,12.880666732788086,12.996000289916992,12.670666694641113,12.356666564941406,12.570667266845703,12.096667289733887,12.251333236694336,12.26200008392334,12.577333450317383,12.334667205810547,12.3013334274292,12.744667053222656,12.87600040435791,13.109999656677246,13.074666976928711,12.637999534606934,12.626667022705078,12.125332832336426,12.097999572753906,12.453332901000977,12.390000343322754,12.876667022705078,12.81933307647705,12.812000274658203,12.828666687011719,13.210000038146973,13.246000289916992,13.17199993133545,13.499333381652832,13.51533317565918,13.919333457946777,13.846667289733887,13.896666526794434,14.22266674041748,14.635333061218262,14.649333000183105,14.312000274658203,14.246000289916992,14.465999603271484,15.13266658782959,15.116666793823242,15.267333030700684,15.41866683959961,15.324666976928711,15.315333366394043,15.305999755859375,15.850000381469727,15.70533275604248,15.890666961669922,16.250667572021484,16.315332412719727,16.594667434692383,16.974000930786133,16.96466636657715,16.833999633789062,16.863332748413086,16.708667755126953,16.795333862304688,16.615999221801758,16.770000457763672,16.755332946777344,17.184667587280273,17.165332794189453,17.472000122070312,17.946666717529297,17.948667526245117,18.706666946411133,18.73200035095215,18.650667190551758,17.93000030517578,18.148666381835938,18.492666244506836,18.233999252319336,17.06599998474121,17.133333206176758,16.415332794189453,16.666000366210938,16.667999267578125,16.698667526245117,16.771333694458008,16.747333526611328,16.57266616821289,16.45800018310547,16.32666778564453,16.246000289916992,16.411333084106445,17.200000762939453,17.048667907714844,17.469999313354492,17.433332443237305,17.461332321166992,16.711999893188477,17.000667572021484,16.985332489013672,17.54400062561035,18.014667510986328,18.496667861938477,18.492000579833984,18.527999877929688,18.553333282470703,19.90133285522461,20.246667861938477,19.666667938232422,19.913333892822266,20.16933250427246,20.826000213623047,20.58066749572754,19.78933334350586,20.266666412353516,20.09600067138672,20.016666412353516,20.368000030517578,20.167333602905273,20.373332977294922,20.53533363342285,20.91933250427246,20.67799949645996,20.575332641601562,20.937999725341797,21.52199935913086,21.25933265686035,20.73466682434082,19.69733238220215,20.55666732788086,20.479333877563477,21.417333602905273,21.681333541870117,21.540000915527344,21.65399932861328,21.058666229248047,21.134000778198242,20.407333374023438,20.87066650390625,20.722000122070312,20.690000534057617,20.257333755493164,20.681333541870117,21.121999740600586,21.676000595092773,22.34000015258789,22.733999252319336,22.691333770751953,22.656667709350586,23.154666900634766,23.523332595825195,23.976667404174805,24.666667938232422,23.821332931518555,23.93400001525879,25.06333351135254,25.37733268737793,25.022666931152344,24.760000228881836,24.65333366394043,24.81599998474121,25.093332290649414,25.507333755493164,25.56333351135254,25.166000366210938,24.158000946044922,24.749332427978516,24.049999237060547,24.107332229614258,23.507999420166016,21.805999755859375,20.588666915893555,20.881332397460938,21.06999969482422,21.814666748046875,21.968000411987305,21.560667037963867,21.851999282836914,21.30466651916504,21.882667541503906,21.68400001525879,21.994667053222656,21.893333435058594,22.834667205810547,22.639999389648438,22.92333221435547,22.297332763671875,22.33799934387207,21.564666748046875,21.30466651916504,21.72599983215332,23.139333724975586,23.79400062561035,23.67799949645996,24.347999572753906,24.235332489013672,23.69333267211914,23.857999801635742,24.253332138061523,24.155332565307617,24.194000244140625,23.461332321166992,23.163999557495117,22.52400016784668,22.75666618347168,23.51799964904785,23.528667449951172,23.203332901000977,23.04400062561035,23.157333374023438,23.545333862304688,23.726667404174805,23.69333267211914,23.305999755859375,22.968666076660156,23.374000549316406,22.893333435058594,24.246000289916992,24.183332443237305,24.415332794189453,25.176000595092773,25.320667266845703,25.666667938232422,25.00666618347168,24.92733383178711,24.43199920654297,23.4060001373291,22.999332427978516,23.016666412353516,22.731332778930664,22.639999389648438,22.739999771118164,22.768667221069336,23.209333419799805,23.667333602905273,23.68866729736328,23.79199981689453,22.862667083740234,23.70599937438965,23.639999389648438,23.711999893188477,23.704666137695312,23.373332977294922,23.71666717529297,23.976667404174805,23.45400047302246,23.00666618347168,22.468000411987305,22.48933219909668,21.722667694091797,21.744667053222656,21.391332626342773,21.338666915893555,22.101999282836914,21.405332565307617,19.950666427612305,20.4060001373291,20.185333251953125,20.40333366394043,20.292667388916016,20.19933319091797,20.19933319091797,21.02666664123535,20.579999923706055,20.753332138061523,20.833332061767578,21.003332138061523,20.582666397094727,21.187332153320312,20.84000015258789,21.036666870117188,21.12066650390625,21.170000076293945,20.502666473388672,20.59000015258789,20.435333251953125,20.34666633605957,20.246667861938477,20.884000778198242,20.749332427978516,21.0086669921875,21.92733383178711,22.735332489013672,22.601999282836914,22.525999069213867,22.89666748046875,22.591333389282227,22.073333740234375,21.93199920654297,22.110666275024414,21.68000030517578,21.152666091918945,20.775999069213867,21.02400016784668,20.75666618347168,21.368667602539062,21.149999618530273,20.974666595458984,21.10533332824707,22.42733383178711,22.246000289916992,22.31999969482422,22.530000686645508,22.4146671295166,22.67066764831543,23.143999099731445,22.971332550048828,23.334667205810547,23.437332153320312,23.519332885742188,23.05933380126953,22.50933265686035,22.856666564941406,23.302000045776367,23.05466651916504,23.62066650390625,23.28333282470703,22.916667938232422,22.208667755126953,22.264667510986328,23.0,21.01533317565918,20.69466781616211,21.048667907714844,21.577333450317383,21.487333297729492,22.271333694458008,22.365999221801758,22.31800079345703,22.219999313354492,23.077999114990234,23.469999313354492,23.827999114990234,23.39933204650879,22.87066650390625,22.062000274658203,22.341333389282227,22.22333335876465,21.8799991607666,22.15333366394043,21.940000534057617,21.81133270263672,23.034000396728516,22.78933334350586,21.775333404541016,21.706666946411133,21.42333221435547,20.90399932861328,20.703332901000977,21.101999282836914,20.606666564941406,20.1026668548584,20.278667449951172,18.61199951171875,17.185333251953125,17.742000579833984,16.832000732421875,17.8353328704834,19.12933349609375,20.381332397460938,19.953332901000977,19.310667037963867,20.31333351135254,20.062000274658203,19.60533332824707,20.022666931152344,19.413999557495117,19.179332733154297,19.55666732788086,20.005332946777344,19.349332809448242,18.891332626342773,18.8973331451416,18.71266746520996,19.031999588012695,19.60533332824707,19.593332290649414,19.994667053222656,20.07666778564453,18.963333129882812,19.606000900268555,20.184667587280273,20.131332397460938,20.456666946411133,20.334667205810547,20.070667266845703,19.46466636657715,18.94533348083496,19.09866714477539,18.96933364868164,18.454666137695312,18.965999603271484,18.333999633789062,18.60466766357422,18.523332595825195,18.59000015258789,18.917333602905273,19.447999954223633,18.98200035095215,19.454666137695312,19.78266716003418,19.408666610717773,21.299999237060547,21.07266616821289,21.17733383178711,22.139999389648438,22.851333618164062,22.985332489013672,23.847999572753906,23.878000259399414,24.722000122070312,23.503332138061523,24.148000717163086,23.167333602905273,22.242000579833984,22.200666427612305,22.799999237060547,22.96666717529297,23.32866668701172,22.863332748413086,22.33799934387207,20.724000930786133,20.610666275024414,20.593332290649414,21.233999252319336,21.49799919128418,21.263999938964844,21.11400032043457,21.257999420166016,20.67333221435547,21.512666702270508,21.59000015258789,21.34866714477539,20.905332565307617,20.213333129882812,19.82866668701172,20.582666397094727,20.44333267211914,19.812000274658203,19.344667434692383,19.875999450683594,20.055999755859375,23.30266761779785,23.211332321166992,22.799333572387695,25.30466651916504,24.689332962036133,23.496667861938477,23.69933319091797,23.76066780090332,23.176000595092773,22.57933235168457,22.363332748413086,20.366666793823242,20.562667846679688,21.459999084472656,21.44266700744629,21.34000015258789,21.521333694458008,21.284666061401367,20.790666580200195,20.333999633789062,20.209999084472656,20.110666275024414,19.26333236694336,18.715999603271484,18.729999542236328,17.549333572387695,19.03333282470703,18.62933349609375,19.369333267211914,19.297332763671875,19.68000030517578,19.6560001373291,18.997333526611328,19.934667587280273,19.8886661529541,19.940000534057617,19.978666305541992,20.06599998474121,20.6386661529541,20.501333236694336,17.65133285522461,20.713333129882812,20.06800079345703,19.65333366394043,18.788667678833008,17.463333129882812,16.70400047302246,17.520000457763672,17.125333786010742,16.815332412719727,17.25200080871582,17.305999755859375,18.439332962036133,18.118667602539062,17.5939998626709,17.333332061767578,17.39666748046875,19.609333038330078,19.233333587646484,20.99066734313965,22.059999465942383,22.323333740234375,21.99333381652832,22.488000869750977,22.95199966430664,23.0939998626709,22.760000228881836,22.737333297729492,23.21066665649414,23.426666259765625,23.367332458496094,22.0853328704834,22.582000732421875,22.933332443237305,23.229333877563477,23.62066650390625,23.564666748046875,23.166000366210938,22.54599952697754,21.722000122070312,23.066667556762695,22.92799949645996,23.191333770751953,22.744667053222656,23.365333557128906,23.89933204650879,23.979999542236328,24.20400047302246,23.864667892456055,24.343332290649414,24.450666427612305,24.440000534057617,25.119333267211914,24.380666732788086,23.22800064086914,22.468666076660156,22.197999954223633,21.025333404541016,21.31800079345703,19.69266700744629,21.73933219909668,21.075332641601562,22.257999420166016,22.18666648864746,20.674667358398438,20.02400016784668,21.179332733154297,22.33066749572754,22.356666564941406,22.568666458129883,22.99799919128418,23.150667190551758,22.293333053588867,22.961999893188477,23.06999969482422,23.15399932861328,20.150667190551758,19.92799949645996,19.172666549682617,19.43400001525879,19.80266761779785,19.7586669921875,19.83066749572754,20.584667205810547,20.468000411987305,20.81399917602539,20.859333038330078,21.42333221435547,21.148000717163086,20.500667572021484,20.386667251586914,20.856000900268555,20.78733253479004,20.544666290283203,20.251333236694336,20.525333404541016,20.375999450683594,20.17066764831543,19.415332794189453,19.6473331451416,19.917999267578125,19.857332229614258,20.982667922973633,21.325332641601562,19.652666091918945,19.02400016784668,18.43600082397461,18.416000366210938,18.439332962036133,18.94266700744629,19.39466667175293,18.890666961669922,19.263999938964844,19.33066749572754,18.36199951171875,17.965999603271484,17.83133316040039,18.239999771118164,18.26799964904785,17.635332107543945,17.3613338470459,17.851333618164062,18.32200050354004,18.57466697692871,18.657333374023438,19.278667449951172,19.058666229248047,19.45400047302246,17.851999282836914,18.33066749572754,18.213333129882812,18.15399932861328,18.40399932861328,17.89466667175293,17.84666633605957,17.7586669921875,18.224000930786133,18.082000732421875,18.21733283996582,17.516666412353516,17.593332290649414,17.243999481201172,16.5086669921875,15.675999641418457,16.097999572753906,15.912667274475098,15.600666999816895,16.273332595825195,17.00200080871582,17.022666931152344,16.470666885375977,16.32266616821289,16.131999969482422,15.968000411987305,15.133999824523926,15.487333297729492,15.463333129882812,15.222000122070312,14.0686674118042,13.690667152404785,13.67199993133545,12.84866714477539,13.03266716003418,12.708666801452637,12.579999923706055,12.657333374023438,12.54800033569336,12.343999862670898,11.9313325881958,12.90666675567627,13.105999946594238,13.729999542236328,13.633333206176758,14.192000389099121,14.473333358764648,13.950667381286621,14.260666847229004,14.32800006866455,15.001999855041504,14.982666969299316,15.095333099365234,14.641332626342773,14.790666580200195,14.909333229064941,14.650667190551758,14.618000030517578,14.855999946594238,14.897333145141602,15.14466667175293,14.970000267028809,15.65999984741211,15.539999961853027,15.355999946594238,15.337332725524902,15.928000450134277,15.90666675567627,16.338666915893555,16.899999618530273,16.825332641601562,16.99066734313965,16.902666091918945,17.211999893188477,17.045333862304688,17.344667434692383,17.658666610717773,15.254667282104492,15.202667236328125,15.718000411987305,16.150667190551758,16.107332229614258,15.59000015258789,15.62266731262207,15.221332550048828,15.383333206176758,15.561332702636719,15.886667251586914,15.667332649230957,15.267333030700684,15.666666984558105,14.641332626342773,14.37600040435791,14.662667274475098,15.121999740600586,15.057332992553711,14.722000122070312,14.8100004196167,14.09333324432373,14.333333015441895,14.272000312805176,14.37266731262207,14.780667304992676,15.040666580200195,15.000666618347168,14.711999893188477,15.305333137512207,15.16333293914795,15.452667236328125,15.702667236328125,16.47333335876465,16.391332626342773,16.34666633605957,16.187332153320312,16.319332122802734,16.232667922973633,16.440000534057617,16.041332244873047,16.082000732421875,14.880666732788086,15.24666690826416,16.17066764831543,16.142000198364258,16.058000564575195,16.312667846679688,16.208667755126953,15.535332679748535,15.428667068481445,15.847999572753906,16.003332138061523,16.302000045776367,16.31599998474121,16.525999069213867,17.130666732788086,17.19266700744629,17.316667556762695,17.46466636657715,17.1299991607666,16.899999618530273,17.038667678833008,16.978666305541992,19.978666305541992,21.875333786010742,21.847333908081055,21.08133316040039,21.000667572021484,20.994667053222656,20.887332916259766,21.1646671295166,21.148000717163086,21.77199935913086,22.369333267211914,22.47599983215332,23.006000518798828,23.32866668701172,23.073999404907227,23.290000915527344,23.47800064086914,23.332666397094727,23.968000411987305,23.481332778930664,23.655332565307617,22.202667236328125,22.422666549682617,21.92799949645996,22.086000442504883,21.996000289916992,22.32466697692871,22.413333892822266,22.20199966430664,22.024667739868164,22.392667770385742,22.635332107543945,23.256000518798828,23.51333236694336,23.978666305541992,23.892667770385742,25.433332443237305,25.266000747680664,26.209999084472656,26.93600082397461,27.03933334350586,27.947999954223633,28.350000381469727,28.729333877563477,28.691999435424805,27.64666748046875,27.8886661529541,28.68400001525879,29.534000396728516,30.1026668548584,31.270666122436523,32.80933380126953,32.089332580566406,31.876667022705078,34.990665435791016,35.861331939697266,34.56666564941406,34.232666015625,34.03333282470703,36.47999954223633,37.97066879272461,38.14666748046875,37.654666900634766,37.201332092285156,37.793331146240234,38.732666015625,42.72066879272461,43.371334075927734,52.0,59.137332916259766,48.97999954223633,49.930667877197266,49.871334075927734,51.41866683959961,51.62533187866211,51.15266799926758,53.599998474121094,53.33533477783203,57.22666549682617,61.16133117675781,59.96066665649414,60.06666564941406,55.58599853515625,53.32733154296875,51.91999816894531,45.266666412353516,44.53266525268555,49.574668884277344,49.70066833496094,49.96666717529297,48.30266571044922,46.89866638183594,40.53333282470703,43.02199935913086,42.28200149536133,37.369998931884766,36.44133377075195,29.67133331298828,28.68000030517578,24.08133316040039,28.50933265686035,28.50200080871582,28.952667236328125,33.66666793823242,35.95000076293945,35.21066665649414,34.29066848754883,33.47533416748047,34.93333435058594,32.104000091552734,30.29800033569336,32.000667572021484,34.41600036621094,36.36333465576172,36.589332580566406,38.20000076293945,43.39666748046875,47.32600021362305,48.65533447265625,49.680667877197266,50.259334564208984,49.75733184814453,45.781333923339844,48.807334899902344,47.04199981689453,48.34333419799805,53.25,51.27466583251953,53.367332458496094,52.12533187866211,46.75466537475586,50.74599838256836,51.2140007019043,52.172000885009766,52.00266647338867,54.62799835205078,54.08599853515625,53.96066665649414,52.73066711425781,53.55533218383789,53.27799987792969,54.242000579833984,53.867332458496094,54.37066650390625,55.17333221435547,54.45866775512695,54.591331481933594,54.68199920654297,53.72066879272461,55.66666793823242,59.87333297729492,58.770668029785156,58.86399841308594,57.62533187866211,59.04399871826172,63.327999114990234,62.711334228515625,68.336669921875,64.85600280761719,62.35200119018555,66.05999755859375,65.47533416748047,66.11933135986328,66.9306640625,66.72666931152344,66.28800201416016,66.78533172607422,64.0566635131836,65.73200225830078,63.982666015625,67.29000091552734,71.98733520507812,74.64199829101562,80.57733154296875,91.43866729736328,92.65733337402344,91.05867004394531,92.9520034790039,102.97666931152344,99.80400085449219,101.12000274658203,103.06732940673828,100.04266357421875,100.05599975585938,109.53333282470703,104.55733489990234,106.15533447265625,100.87133026123047,94.46666717529297,102.63999938964844,98.43267059326172,99.94066619873047,99.16600036621094,95.38400268554688,99.0,99.13333129882812,99.00133514404297,99.30533599853516,96.84733581542969,94.57133483886719,91.6259994506836,103.65066528320312,108.06666564941406,110.04733276367188,122.3759994506836,125.80599975585938,125.23533630371094,133.45533752441406,136.6653289794922,134.27999877929688,134.8893280029297,143.54466247558594,149.25,147.55999755859375,166.10667419433594,158.35000610351562,149.1233367919922,135.6666717529297,139.44000244140625,110.06999969482422,122.09333038330078,123.77999877929688,124.23999786376953,139.8733367919922,149.9199981689453,147.25332641601562,141.14332580566406,147.38333129882812,149.79666137695312,141.41000366210938,126.78666687011719,129.26333618164062,135.77999877929688,140.39999389648438,139.69000244140625,143.00332641601562,149.3866729736328,138.3633270263672,141.89332580566406,137.9933319091797,141.76666259765625,141.97332763671875,144.6666717529297,147.43333435058594,148.88333129882812,153.76666259765625,149.6266632080078,146.55667114257812,143.61000061035156,140.64666748046875,140.8800048828125,141.92999267578125,140.2100067138672,140.0933380126953,141.55999755859375,135.33999633789062,136.94332885742188,129.34666442871094,133.50332641601562,141.3000030517578,140.32666015625,146.02999877929688,143.31666564941406,140.4199981689453,136.7866668701172,139.0433349609375,137.25332641601562,136.1666717529297,136.02999877929688,147.20333862304688,162.2133331298828,166.42333984375,163.20333862304688,173.9499969482422,185.1266632080078,191.3333282470703,195.25332641601562,189.1999969482422,194.9199981689453,189.60667419433594,197.7933349609375,199.67999267578125,213.9199981689453,216.6266632080078,201.4933319091797,209.02333068847656,203.3300018310547,213.27667236328125,211.0833282470703,207.58999633789062,218.63333129882812,231.6666717529297,216.6199951171875,213.44667053222656,215.32666015625,220.58999633789062,221.22999572753906,221.99667358398438,231.5933380126953,235.22332763671875,243.2566680908203,245.0366668701172,251.9933319091797,272.0133361816406,293.3399963378906,270.39666748046875,283.14666748046875,284.8033447265625,281.6666564941406,275.38665771484375,281.51666259765625,283.48333740234375,281.663330078125,282.21331787109375,293.6000061035156,294.36334228515625,288.0533447265625,278.4766540527344,264.510009765625,279.9366760253906,290.92999267578125,284.89666748046875,283.3299865722656,284.07666015625,287.8066711425781,283.1533203125,268.2733459472656,270.5533447265625,272.0400085449219,265.40667724609375,266.04998779296875,262.4599914550781,260.4333190917969,238.1666717529297,232.94667053222656,247.33999633789062,227.4066619873047,225.1666717529297,239.47666931152344,228.81333923339844,217.73333740234375,207.14666748046875,199.31666564941406,187.6666717529297,224.52667236328125,222.68666076660156,233.1999969482422,231.2433319091797,235.97999572753906,225.6266632080078,233.93666076660156,217.72000122070312,218.2899932861328,223.3333282470703,220.72000122070312,210.08999633789062,213.4633331298828,206.23666381835938,203.76333618164062,211.8733367919922,222.64332580566406,220.5833282470703,230.35000610351562,230.5399932861328,223.6566619873047,227.93333435058594,225.67333984375,233.9933319091797,254.10667419433594,244.07666015625,246.28334045410156,246.5933380126953,238.2100067138672,239.663330078125,248.0399932861328,239.89666748046875,243.13333129882812,246.06666564941406,234.913330078125,231.46665954589844,225.6666717529297,236.47999572753906,228.3000030517578,224.53334045410156,223.64666748046875,221.17999267578125,224.1233367919922,209.67999267578125,205.73333740234375,196.6300048828125,190.56333923339844,196.5800018310547,192.27667236328125,192.6233367919922,187.82000732421875,195.5933380126953,193.6266632080078,202.14666748046875,201.56333923339844,206.3766632080078,210.28334045410156,208.4066619873047,207.96665954589844,201.7066650390625,190.94667053222656,199.68333435058594,201.7100067138672,201.19667053222656,199.5933380126953,203.3733367919922,203.29666137695312,205.89666748046875],\"type\":\"scatter\",\"xaxis\":\"x\",\"yaxis\":\"y\"},{\"name\":\"Revenue\",\"x\":[\"2021-03-31T00:00:00\",\"2020-12-31T00:00:00\",\"2020-09-30T00:00:00\",\"2020-06-30T00:00:00\",\"2020-03-31T00:00:00\",\"2019-12-31T00:00:00\",\"2019-09-30T00:00:00\",\"2019-06-30T00:00:00\",\"2019-03-31T00:00:00\",\"2018-12-31T00:00:00\",\"2018-09-30T00:00:00\",\"2018-06-30T00:00:00\",\"2018-03-31T00:00:00\",\"2017-12-31T00:00:00\",\"2017-09-30T00:00:00\",\"2017-06-30T00:00:00\",\"2017-03-31T00:00:00\",\"2016-12-31T00:00:00\",\"2016-09-30T00:00:00\",\"2016-06-30T00:00:00\",\"2016-03-31T00:00:00\",\"2015-12-31T00:00:00\",\"2015-09-30T00:00:00\",\"2015-06-30T00:00:00\",\"2015-03-31T00:00:00\",\"2014-12-31T00:00:00\",\"2014-09-30T00:00:00\",\"2014-06-30T00:00:00\",\"2014-03-31T00:00:00\",\"2013-12-31T00:00:00\",\"2013-09-30T00:00:00\",\"2013-06-30T00:00:00\",\"2013-03-31T00:00:00\",\"2012-12-31T00:00:00\",\"2012-09-30T00:00:00\",\"2012-06-30T00:00:00\",\"2012-03-31T00:00:00\",\"2011-12-31T00:00:00\",\"2011-09-30T00:00:00\",\"2011-06-30T00:00:00\",\"2011-03-31T00:00:00\",\"2010-12-31T00:00:00\",\"2010-09-30T00:00:00\",\"2010-06-30T00:00:00\",\"2010-03-31T00:00:00\",\"2009-09-30T00:00:00\",\"2009-06-30T00:00:00\"],\"y\":[10389.0,10744.0,8771.0,6036.0,5985.0,7384.0,6303.0,6350.0,4541.0,7226.0,6824.0,4002.0,3409.0,3288.0,2985.0,2790.0,2696.0,2285.0,2298.0,1270.0,1147.0,1214.0,937.0,955.0,940.0,957.0,852.0,769.0,621.0,615.0,431.0,405.0,562.0,306.0,50.0,27.0,30.0,39.0,58.0,58.0,49.0,36.0,31.0,28.0,21.0,46.0,27.0],\"type\":\"scatter\",\"xaxis\":\"x2\",\"yaxis\":\"y2\"}],                        {\"template\":{\"data\":{\"histogram2dcontour\":[{\"type\":\"histogram2dcontour\",\"colorbar\":{\"outlinewidth\":0,\"ticks\":\"\"},\"colorscale\":[[0.0,\"#0d0887\"],[0.1111111111111111,\"#46039f\"],[0.2222222222222222,\"#7201a8\"],[0.3333333333333333,\"#9c179e\"],[0.4444444444444444,\"#bd3786\"],[0.5555555555555556,\"#d8576b\"],[0.6666666666666666,\"#ed7953\"],[0.7777777777777778,\"#fb9f3a\"],[0.8888888888888888,\"#fdca26\"],[1.0,\"#f0f921\"]]}],\"choropleth\":[{\"type\":\"choropleth\",\"colorbar\":{\"outlinewidth\":0,\"ticks\":\"\"}}],\"histogram2d\":[{\"type\":\"histogram2d\",\"colorbar\":{\"outlinewidth\":0,\"ticks\":\"\"},\"colorscale\":[[0.0,\"#0d0887\"],[0.1111111111111111,\"#46039f\"],[0.2222222222222222,\"#7201a8\"],[0.3333333333333333,\"#9c179e\"],[0.4444444444444444,\"#bd3786\"],[0.5555555555555556,\"#d8576b\"],[0.6666666666666666,\"#ed7953\"],[0.7777777777777778,\"#fb9f3a\"],[0.8888888888888888,\"#fdca26\"],[1.0,\"#f0f921\"]]}],\"heatmap\":[{\"type\":\"heatmap\",\"colorbar\":{\"outlinewidth\":0,\"ticks\":\"\"},\"colorscale\":[[0.0,\"#0d0887\"],[0.1111111111111111,\"#46039f\"],[0.2222222222222222,\"#7201a8\"],[0.3333333333333333,\"#9c179e\"],[0.4444444444444444,\"#bd3786\"],[0.5555555555555556,\"#d8576b\"],[0.6666666666666666,\"#ed7953\"],[0.7777777777777778,\"#fb9f3a\"],[0.8888888888888888,\"#fdca26\"],[1.0,\"#f0f921\"]]}],\"heatmapgl\":[{\"type\":\"heatmapgl\",\"colorbar\":{\"outlinewidth\":0,\"ticks\":\"\"},\"colorscale\":[[0.0,\"#0d0887\"],[0.1111111111111111,\"#46039f\"],[0.2222222222222222,\"#7201a8\"],[0.3333333333333333,\"#9c179e\"],[0.4444444444444444,\"#bd3786\"],[0.5555555555555556,\"#d8576b\"],[0.6666666666666666,\"#ed7953\"],[0.7777777777777778,\"#fb9f3a\"],[0.8888888888888888,\"#fdca26\"],[1.0,\"#f0f921\"]]}],\"contourcarpet\":[{\"type\":\"contourcarpet\",\"colorbar\":{\"outlinewidth\":0,\"ticks\":\"\"}}],\"contour\":[{\"type\":\"contour\",\"colorbar\":{\"outlinewidth\":0,\"ticks\":\"\"},\"colorscale\":[[0.0,\"#0d0887\"],[0.1111111111111111,\"#46039f\"],[0.2222222222222222,\"#7201a8\"],[0.3333333333333333,\"#9c179e\"],[0.4444444444444444,\"#bd3786\"],[0.5555555555555556,\"#d8576b\"],[0.6666666666666666,\"#ed7953\"],[0.7777777777777778,\"#fb9f3a\"],[0.8888888888888888,\"#fdca26\"],[1.0,\"#f0f921\"]]}],\"surface\":[{\"type\":\"surface\",\"colorbar\":{\"outlinewidth\":0,\"ticks\":\"\"},\"colorscale\":[[0.0,\"#0d0887\"],[0.1111111111111111,\"#46039f\"],[0.2222222222222222,\"#7201a8\"],[0.3333333333333333,\"#9c179e\"],[0.4444444444444444,\"#bd3786\"],[0.5555555555555556,\"#d8576b\"],[0.6666666666666666,\"#ed7953\"],[0.7777777777777778,\"#fb9f3a\"],[0.8888888888888888,\"#fdca26\"],[1.0,\"#f0f921\"]]}],\"mesh3d\":[{\"type\":\"mesh3d\",\"colorbar\":{\"outlinewidth\":0,\"ticks\":\"\"}}],\"scatter\":[{\"fillpattern\":{\"fillmode\":\"overlay\",\"size\":10,\"solidity\":0.2},\"type\":\"scatter\"}],\"parcoords\":[{\"type\":\"parcoords\",\"line\":{\"colorbar\":{\"outlinewidth\":0,\"ticks\":\"\"}}}],\"scatterpolargl\":[{\"type\":\"scatterpolargl\",\"marker\":{\"colorbar\":{\"outlinewidth\":0,\"ticks\":\"\"}}}],\"bar\":[{\"error_x\":{\"color\":\"#2a3f5f\"},\"error_y\":{\"color\":\"#2a3f5f\"},\"marker\":{\"line\":{\"color\":\"#E5ECF6\",\"width\":0.5},\"pattern\":{\"fillmode\":\"overlay\",\"size\":10,\"solidity\":0.2}},\"type\":\"bar\"}],\"scattergeo\":[{\"type\":\"scattergeo\",\"marker\":{\"colorbar\":{\"outlinewidth\":0,\"ticks\":\"\"}}}],\"scatterpolar\":[{\"type\":\"scatterpolar\",\"marker\":{\"colorbar\":{\"outlinewidth\":0,\"ticks\":\"\"}}}],\"histogram\":[{\"marker\":{\"pattern\":{\"fillmode\":\"overlay\",\"size\":10,\"solidity\":0.2}},\"type\":\"histogram\"}],\"scattergl\":[{\"type\":\"scattergl\",\"marker\":{\"colorbar\":{\"outlinewidth\":0,\"ticks\":\"\"}}}],\"scatter3d\":[{\"type\":\"scatter3d\",\"line\":{\"colorbar\":{\"outlinewidth\":0,\"ticks\":\"\"}},\"marker\":{\"colorbar\":{\"outlinewidth\":0,\"ticks\":\"\"}}}],\"scattermapbox\":[{\"type\":\"scattermapbox\",\"marker\":{\"colorbar\":{\"outlinewidth\":0,\"ticks\":\"\"}}}],\"scatterternary\":[{\"type\":\"scatterternary\",\"marker\":{\"colorbar\":{\"outlinewidth\":0,\"ticks\":\"\"}}}],\"scattercarpet\":[{\"type\":\"scattercarpet\",\"marker\":{\"colorbar\":{\"outlinewidth\":0,\"ticks\":\"\"}}}],\"carpet\":[{\"aaxis\":{\"endlinecolor\":\"#2a3f5f\",\"gridcolor\":\"white\",\"linecolor\":\"white\",\"minorgridcolor\":\"white\",\"startlinecolor\":\"#2a3f5f\"},\"baxis\":{\"endlinecolor\":\"#2a3f5f\",\"gridcolor\":\"white\",\"linecolor\":\"white\",\"minorgridcolor\":\"white\",\"startlinecolor\":\"#2a3f5f\"},\"type\":\"carpet\"}],\"table\":[{\"cells\":{\"fill\":{\"color\":\"#EBF0F8\"},\"line\":{\"color\":\"white\"}},\"header\":{\"fill\":{\"color\":\"#C8D4E3\"},\"line\":{\"color\":\"white\"}},\"type\":\"table\"}],\"barpolar\":[{\"marker\":{\"line\":{\"color\":\"#E5ECF6\",\"width\":0.5},\"pattern\":{\"fillmode\":\"overlay\",\"size\":10,\"solidity\":0.2}},\"type\":\"barpolar\"}],\"pie\":[{\"automargin\":true,\"type\":\"pie\"}]},\"layout\":{\"autotypenumbers\":\"strict\",\"colorway\":[\"#636efa\",\"#EF553B\",\"#00cc96\",\"#ab63fa\",\"#FFA15A\",\"#19d3f3\",\"#FF6692\",\"#B6E880\",\"#FF97FF\",\"#FECB52\"],\"font\":{\"color\":\"#2a3f5f\"},\"hovermode\":\"closest\",\"hoverlabel\":{\"align\":\"left\"},\"paper_bgcolor\":\"white\",\"plot_bgcolor\":\"#E5ECF6\",\"polar\":{\"bgcolor\":\"#E5ECF6\",\"angularaxis\":{\"gridcolor\":\"white\",\"linecolor\":\"white\",\"ticks\":\"\"},\"radialaxis\":{\"gridcolor\":\"white\",\"linecolor\":\"white\",\"ticks\":\"\"}},\"ternary\":{\"bgcolor\":\"#E5ECF6\",\"aaxis\":{\"gridcolor\":\"white\",\"linecolor\":\"white\",\"ticks\":\"\"},\"baxis\":{\"gridcolor\":\"white\",\"linecolor\":\"white\",\"ticks\":\"\"},\"caxis\":{\"gridcolor\":\"white\",\"linecolor\":\"white\",\"ticks\":\"\"}},\"coloraxis\":{\"colorbar\":{\"outlinewidth\":0,\"ticks\":\"\"}},\"colorscale\":{\"sequential\":[[0.0,\"#0d0887\"],[0.1111111111111111,\"#46039f\"],[0.2222222222222222,\"#7201a8\"],[0.3333333333333333,\"#9c179e\"],[0.4444444444444444,\"#bd3786\"],[0.5555555555555556,\"#d8576b\"],[0.6666666666666666,\"#ed7953\"],[0.7777777777777778,\"#fb9f3a\"],[0.8888888888888888,\"#fdca26\"],[1.0,\"#f0f921\"]],\"sequentialminus\":[[0.0,\"#0d0887\"],[0.1111111111111111,\"#46039f\"],[0.2222222222222222,\"#7201a8\"],[0.3333333333333333,\"#9c179e\"],[0.4444444444444444,\"#bd3786\"],[0.5555555555555556,\"#d8576b\"],[0.6666666666666666,\"#ed7953\"],[0.7777777777777778,\"#fb9f3a\"],[0.8888888888888888,\"#fdca26\"],[1.0,\"#f0f921\"]],\"diverging\":[[0,\"#8e0152\"],[0.1,\"#c51b7d\"],[0.2,\"#de77ae\"],[0.3,\"#f1b6da\"],[0.4,\"#fde0ef\"],[0.5,\"#f7f7f7\"],[0.6,\"#e6f5d0\"],[0.7,\"#b8e186\"],[0.8,\"#7fbc41\"],[0.9,\"#4d9221\"],[1,\"#276419\"]]},\"xaxis\":{\"gridcolor\":\"white\",\"linecolor\":\"white\",\"ticks\":\"\",\"title\":{\"standoff\":15},\"zerolinecolor\":\"white\",\"automargin\":true,\"zerolinewidth\":2},\"yaxis\":{\"gridcolor\":\"white\",\"linecolor\":\"white\",\"ticks\":\"\",\"title\":{\"standoff\":15},\"zerolinecolor\":\"white\",\"automargin\":true,\"zerolinewidth\":2},\"scene\":{\"xaxis\":{\"backgroundcolor\":\"#E5ECF6\",\"gridcolor\":\"white\",\"linecolor\":\"white\",\"showbackground\":true,\"ticks\":\"\",\"zerolinecolor\":\"white\",\"gridwidth\":2},\"yaxis\":{\"backgroundcolor\":\"#E5ECF6\",\"gridcolor\":\"white\",\"linecolor\":\"white\",\"showbackground\":true,\"ticks\":\"\",\"zerolinecolor\":\"white\",\"gridwidth\":2},\"zaxis\":{\"backgroundcolor\":\"#E5ECF6\",\"gridcolor\":\"white\",\"linecolor\":\"white\",\"showbackground\":true,\"ticks\":\"\",\"zerolinecolor\":\"white\",\"gridwidth\":2}},\"shapedefaults\":{\"line\":{\"color\":\"#2a3f5f\"}},\"annotationdefaults\":{\"arrowcolor\":\"#2a3f5f\",\"arrowhead\":0,\"arrowwidth\":1},\"geo\":{\"bgcolor\":\"white\",\"landcolor\":\"#E5ECF6\",\"subunitcolor\":\"white\",\"showland\":true,\"showlakes\":true,\"lakecolor\":\"white\"},\"title\":{\"x\":0.05},\"mapbox\":{\"style\":\"light\"}}},\"xaxis\":{\"anchor\":\"y\",\"domain\":[0.0,1.0],\"matches\":\"x2\",\"showticklabels\":false,\"title\":{\"text\":\"Date\"},\"rangeslider\":{\"visible\":true}},\"yaxis\":{\"anchor\":\"x\",\"domain\":[0.6499999999999999,0.9999999999999999],\"title\":{\"text\":\"Price ($US)\"}},\"xaxis2\":{\"anchor\":\"y2\",\"domain\":[0.0,1.0],\"title\":{\"text\":\"Date\"}},\"yaxis2\":{\"anchor\":\"x2\",\"domain\":[0.0,0.35],\"title\":{\"text\":\"Revenue ($US Millions)\"}},\"annotations\":[{\"font\":{\"size\":16},\"showarrow\":false,\"text\":\"Historical Share Price\",\"x\":0.5,\"xanchor\":\"center\",\"xref\":\"paper\",\"y\":0.9999999999999999,\"yanchor\":\"bottom\",\"yref\":\"paper\"},{\"font\":{\"size\":16},\"showarrow\":false,\"text\":\"Historical Revenue\",\"x\":0.5,\"xanchor\":\"center\",\"xref\":\"paper\",\"y\":0.35,\"yanchor\":\"bottom\",\"yref\":\"paper\"}],\"showlegend\":false,\"height\":900,\"title\":{\"text\":\"Tesla\"}},                        {\"responsive\": true}                    ).then(function(){\n",
              "                            \n",
              "var gd = document.getElementById('74a7475f-7f0c-4920-824a-b84f1c3ccf94');\n",
              "var x = new MutationObserver(function (mutations, observer) {{\n",
              "        var display = window.getComputedStyle(gd).display;\n",
              "        if (!display || display === 'none') {{\n",
              "            console.log([gd, 'removed!']);\n",
              "            Plotly.purge(gd);\n",
              "            observer.disconnect();\n",
              "        }}\n",
              "}});\n",
              "\n",
              "// Listen for the removal of the full notebook cells\n",
              "var notebookContainer = gd.closest('#notebook-container');\n",
              "if (notebookContainer) {{\n",
              "    x.observe(notebookContainer, {childList: true});\n",
              "}}\n",
              "\n",
              "// Listen for the clearing of the current output cell\n",
              "var outputEl = gd.closest('.output');\n",
              "if (outputEl) {{\n",
              "    x.observe(outputEl, {childList: true});\n",
              "}}\n",
              "\n",
              "                        })                };                            </script>        </div>\n",
              "</body>\n",
              "</html>"
            ]
          },
          "metadata": {}
        }
      ],
      "source": [
        "make_graph(tesla_data, tesla_revenue, 'Tesla')"
      ],
      "execution_count": 69
    },
    {
      "cell_type": "markdown",
      "metadata": {
        "id": "894de5f3-4739-4d7e-b099-6ebd9bfe51a9"
      },
      "source": [
        "## Question 6: Plot GameStop Stock Graph\n"
      ]
    },
    {
      "cell_type": "markdown",
      "metadata": {
        "id": "8dffc84a-6692-4478-a0b0-6bd713cdb576"
      },
      "source": [
        "Use the `make_graph` function to graph the GameStop Stock Data, also provide a title for the graph. The structure to call the `make_graph` function is `make_graph(gme_data, gme_revenue, 'GameStop')`. Note the graph will only show data upto June 2021.\n"
      ]
    },
    {
      "cell_type": "markdown",
      "metadata": {
        "id": "f8d4f91f-aa8e-4430-bff4-d9427ee9e553"
      },
      "source": [
        "<details><summary>Hint</summary>\n",
        "\n",
        "```\n",
        "\n",
        "You just need to invoke the make_graph function with the required parameter to print the graphs.The structure to call the `make_graph` function is `make_graph(gme_data, gme_revenue, 'GameStop')`\n",
        "\n",
        "```\n",
        "    \n",
        "</details>\n"
      ]
    },
    {
      "cell_type": "code",
      "metadata": {
        "colab": {
          "base_uri": "https://localhost:8080/",
          "height": 917
        },
        "id": "c1acbfc7-05af-46e5-ac8d-ab60ef6a8aa3",
        "outputId": "6e9f7871-b7d8-4616-a804-c3b5e3fce4a9"
      },
      "outputs": [
        {
          "output_type": "display_data",
          "data": {
            "text/html": [
              "<html>\n",
              "<head><meta charset=\"utf-8\" /></head>\n",
              "<body>\n",
              "    <div>            <script src=\"https://cdnjs.cloudflare.com/ajax/libs/mathjax/2.7.5/MathJax.js?config=TeX-AMS-MML_SVG\"></script><script type=\"text/javascript\">if (window.MathJax && window.MathJax.Hub && window.MathJax.Hub.Config) {window.MathJax.Hub.Config({SVG: {font: \"STIX-Web\"}});}</script>                <script type=\"text/javascript\">window.PlotlyConfig = {MathJaxConfig: 'local'};</script>\n",
              "        <script charset=\"utf-8\" src=\"https://cdn.plot.ly/plotly-2.24.1.min.js\"></script>                <div id=\"fa395df6-604c-49fe-9484-5343619139e8\" class=\"plotly-graph-div\" style=\"height:900px; width:100%;\"></div>            <script type=\"text/javascript\">                                    window.PLOTLYENV=window.PLOTLYENV || {};                                    if (document.getElementById(\"fa395df6-604c-49fe-9484-5343619139e8\")) {                    Plotly.newPlot(                        \"fa395df6-604c-49fe-9484-5343619139e8\",                        [{\"name\":\"Share Price\",\"x\":[\"2002-02-13T00:00:00-05:00\",\"2002-02-14T00:00:00-05:00\",\"2002-02-15T00:00:00-05:00\",\"2002-02-19T00:00:00-05:00\",\"2002-02-20T00:00:00-05:00\",\"2002-02-21T00:00:00-05:00\",\"2002-02-22T00:00:00-05:00\",\"2002-02-25T00:00:00-05:00\",\"2002-02-26T00:00:00-05:00\",\"2002-02-27T00:00:00-05:00\",\"2002-02-28T00:00:00-05:00\",\"2002-03-01T00:00:00-05:00\",\"2002-03-04T00:00:00-05:00\",\"2002-03-05T00:00:00-05:00\",\"2002-03-06T00:00:00-05:00\",\"2002-03-07T00:00:00-05:00\",\"2002-03-08T00:00:00-05:00\",\"2002-03-11T00:00:00-05:00\",\"2002-03-12T00:00:00-05:00\",\"2002-03-13T00:00:00-05:00\",\"2002-03-14T00:00:00-05:00\",\"2002-03-15T00:00:00-05:00\",\"2002-03-18T00:00:00-05:00\",\"2002-03-19T00:00:00-05:00\",\"2002-03-20T00:00:00-05:00\",\"2002-03-21T00:00:00-05:00\",\"2002-03-22T00:00:00-05:00\",\"2002-03-25T00:00:00-05:00\",\"2002-03-26T00:00:00-05:00\",\"2002-03-27T00:00:00-05:00\",\"2002-03-28T00:00:00-05:00\",\"2002-04-01T00:00:00-05:00\",\"2002-04-02T00:00:00-05:00\",\"2002-04-03T00:00:00-05:00\",\"2002-04-04T00:00:00-05:00\",\"2002-04-05T00:00:00-05:00\",\"2002-04-08T00:00:00-04:00\",\"2002-04-09T00:00:00-04:00\",\"2002-04-10T00:00:00-04:00\",\"2002-04-11T00:00:00-04:00\",\"2002-04-12T00:00:00-04:00\",\"2002-04-15T00:00:00-04:00\",\"2002-04-16T00:00:00-04:00\",\"2002-04-17T00:00:00-04:00\",\"2002-04-18T00:00:00-04:00\",\"2002-04-19T00:00:00-04:00\",\"2002-04-22T00:00:00-04:00\",\"2002-04-23T00:00:00-04:00\",\"2002-04-24T00:00:00-04:00\",\"2002-04-25T00:00:00-04:00\",\"2002-04-26T00:00:00-04:00\",\"2002-04-29T00:00:00-04:00\",\"2002-04-30T00:00:00-04:00\",\"2002-05-01T00:00:00-04:00\",\"2002-05-02T00:00:00-04:00\",\"2002-05-03T00:00:00-04:00\",\"2002-05-06T00:00:00-04:00\",\"2002-05-07T00:00:00-04:00\",\"2002-05-08T00:00:00-04:00\",\"2002-05-09T00:00:00-04:00\",\"2002-05-10T00:00:00-04:00\",\"2002-05-13T00:00:00-04:00\",\"2002-05-14T00:00:00-04:00\",\"2002-05-15T00:00:00-04:00\",\"2002-05-16T00:00:00-04:00\",\"2002-05-17T00:00:00-04:00\",\"2002-05-20T00:00:00-04:00\",\"2002-05-21T00:00:00-04:00\",\"2002-05-22T00:00:00-04:00\",\"2002-05-23T00:00:00-04:00\",\"2002-05-24T00:00:00-04:00\",\"2002-05-28T00:00:00-04:00\",\"2002-05-29T00:00:00-04:00\",\"2002-05-30T00:00:00-04:00\",\"2002-05-31T00:00:00-04:00\",\"2002-06-03T00:00:00-04:00\",\"2002-06-04T00:00:00-04:00\",\"2002-06-05T00:00:00-04:00\",\"2002-06-06T00:00:00-04:00\",\"2002-06-07T00:00:00-04:00\",\"2002-06-10T00:00:00-04:00\",\"2002-06-11T00:00:00-04:00\",\"2002-06-12T00:00:00-04:00\",\"2002-06-13T00:00:00-04:00\",\"2002-06-14T00:00:00-04:00\",\"2002-06-17T00:00:00-04:00\",\"2002-06-18T00:00:00-04:00\",\"2002-06-19T00:00:00-04:00\",\"2002-06-20T00:00:00-04:00\",\"2002-06-21T00:00:00-04:00\",\"2002-06-24T00:00:00-04:00\",\"2002-06-25T00:00:00-04:00\",\"2002-06-26T00:00:00-04:00\",\"2002-06-27T00:00:00-04:00\",\"2002-06-28T00:00:00-04:00\",\"2002-07-01T00:00:00-04:00\",\"2002-07-02T00:00:00-04:00\",\"2002-07-03T00:00:00-04:00\",\"2002-07-05T00:00:00-04:00\",\"2002-07-08T00:00:00-04:00\",\"2002-07-09T00:00:00-04:00\",\"2002-07-10T00:00:00-04:00\",\"2002-07-11T00:00:00-04:00\",\"2002-07-12T00:00:00-04:00\",\"2002-07-15T00:00:00-04:00\",\"2002-07-16T00:00:00-04:00\",\"2002-07-17T00:00:00-04:00\",\"2002-07-18T00:00:00-04:00\",\"2002-07-19T00:00:00-04:00\",\"2002-07-22T00:00:00-04:00\",\"2002-07-23T00:00:00-04:00\",\"2002-07-24T00:00:00-04:00\",\"2002-07-25T00:00:00-04:00\",\"2002-07-26T00:00:00-04:00\",\"2002-07-29T00:00:00-04:00\",\"2002-07-30T00:00:00-04:00\",\"2002-07-31T00:00:00-04:00\",\"2002-08-01T00:00:00-04:00\",\"2002-08-02T00:00:00-04:00\",\"2002-08-05T00:00:00-04:00\",\"2002-08-06T00:00:00-04:00\",\"2002-08-07T00:00:00-04:00\",\"2002-08-08T00:00:00-04:00\",\"2002-08-09T00:00:00-04:00\",\"2002-08-12T00:00:00-04:00\",\"2002-08-13T00:00:00-04:00\",\"2002-08-14T00:00:00-04:00\",\"2002-08-15T00:00:00-04:00\",\"2002-08-16T00:00:00-04:00\",\"2002-08-19T00:00:00-04:00\",\"2002-08-20T00:00:00-04:00\",\"2002-08-21T00:00:00-04:00\",\"2002-08-22T00:00:00-04:00\",\"2002-08-23T00:00:00-04:00\",\"2002-08-26T00:00:00-04:00\",\"2002-08-27T00:00:00-04:00\",\"2002-08-28T00:00:00-04:00\",\"2002-08-29T00:00:00-04:00\",\"2002-08-30T00:00:00-04:00\",\"2002-09-03T00:00:00-04:00\",\"2002-09-04T00:00:00-04:00\",\"2002-09-05T00:00:00-04:00\",\"2002-09-06T00:00:00-04:00\",\"2002-09-09T00:00:00-04:00\",\"2002-09-10T00:00:00-04:00\",\"2002-09-11T00:00:00-04:00\",\"2002-09-12T00:00:00-04:00\",\"2002-09-13T00:00:00-04:00\",\"2002-09-16T00:00:00-04:00\",\"2002-09-17T00:00:00-04:00\",\"2002-09-18T00:00:00-04:00\",\"2002-09-19T00:00:00-04:00\",\"2002-09-20T00:00:00-04:00\",\"2002-09-23T00:00:00-04:00\",\"2002-09-24T00:00:00-04:00\",\"2002-09-25T00:00:00-04:00\",\"2002-09-26T00:00:00-04:00\",\"2002-09-27T00:00:00-04:00\",\"2002-09-30T00:00:00-04:00\",\"2002-10-01T00:00:00-04:00\",\"2002-10-02T00:00:00-04:00\",\"2002-10-03T00:00:00-04:00\",\"2002-10-04T00:00:00-04:00\",\"2002-10-07T00:00:00-04:00\",\"2002-10-08T00:00:00-04:00\",\"2002-10-09T00:00:00-04:00\",\"2002-10-10T00:00:00-04:00\",\"2002-10-11T00:00:00-04:00\",\"2002-10-14T00:00:00-04:00\",\"2002-10-15T00:00:00-04:00\",\"2002-10-16T00:00:00-04:00\",\"2002-10-17T00:00:00-04:00\",\"2002-10-18T00:00:00-04:00\",\"2002-10-21T00:00:00-04:00\",\"2002-10-22T00:00:00-04:00\",\"2002-10-23T00:00:00-04:00\",\"2002-10-24T00:00:00-04:00\",\"2002-10-25T00:00:00-04:00\",\"2002-10-28T00:00:00-05:00\",\"2002-10-29T00:00:00-05:00\",\"2002-10-30T00:00:00-05:00\",\"2002-10-31T00:00:00-05:00\",\"2002-11-01T00:00:00-05:00\",\"2002-11-04T00:00:00-05:00\",\"2002-11-05T00:00:00-05:00\",\"2002-11-06T00:00:00-05:00\",\"2002-11-07T00:00:00-05:00\",\"2002-11-08T00:00:00-05:00\",\"2002-11-11T00:00:00-05:00\",\"2002-11-12T00:00:00-05:00\",\"2002-11-13T00:00:00-05:00\",\"2002-11-14T00:00:00-05:00\",\"2002-11-15T00:00:00-05:00\",\"2002-11-18T00:00:00-05:00\",\"2002-11-19T00:00:00-05:00\",\"2002-11-20T00:00:00-05:00\",\"2002-11-21T00:00:00-05:00\",\"2002-11-22T00:00:00-05:00\",\"2002-11-25T00:00:00-05:00\",\"2002-11-26T00:00:00-05:00\",\"2002-11-27T00:00:00-05:00\",\"2002-11-29T00:00:00-05:00\",\"2002-12-02T00:00:00-05:00\",\"2002-12-03T00:00:00-05:00\",\"2002-12-04T00:00:00-05:00\",\"2002-12-05T00:00:00-05:00\",\"2002-12-06T00:00:00-05:00\",\"2002-12-09T00:00:00-05:00\",\"2002-12-10T00:00:00-05:00\",\"2002-12-11T00:00:00-05:00\",\"2002-12-12T00:00:00-05:00\",\"2002-12-13T00:00:00-05:00\",\"2002-12-16T00:00:00-05:00\",\"2002-12-17T00:00:00-05:00\",\"2002-12-18T00:00:00-05:00\",\"2002-12-19T00:00:00-05:00\",\"2002-12-20T00:00:00-05:00\",\"2002-12-23T00:00:00-05:00\",\"2002-12-24T00:00:00-05:00\",\"2002-12-26T00:00:00-05:00\",\"2002-12-27T00:00:00-05:00\",\"2002-12-30T00:00:00-05:00\",\"2002-12-31T00:00:00-05:00\",\"2003-01-02T00:00:00-05:00\",\"2003-01-03T00:00:00-05:00\",\"2003-01-06T00:00:00-05:00\",\"2003-01-07T00:00:00-05:00\",\"2003-01-08T00:00:00-05:00\",\"2003-01-09T00:00:00-05:00\",\"2003-01-10T00:00:00-05:00\",\"2003-01-13T00:00:00-05:00\",\"2003-01-14T00:00:00-05:00\",\"2003-01-15T00:00:00-05:00\",\"2003-01-16T00:00:00-05:00\",\"2003-01-17T00:00:00-05:00\",\"2003-01-21T00:00:00-05:00\",\"2003-01-22T00:00:00-05:00\",\"2003-01-23T00:00:00-05:00\",\"2003-01-24T00:00:00-05:00\",\"2003-01-27T00:00:00-05:00\",\"2003-01-28T00:00:00-05:00\",\"2003-01-29T00:00:00-05:00\",\"2003-01-30T00:00:00-05:00\",\"2003-01-31T00:00:00-05:00\",\"2003-02-03T00:00:00-05:00\",\"2003-02-04T00:00:00-05:00\",\"2003-02-05T00:00:00-05:00\",\"2003-02-06T00:00:00-05:00\",\"2003-02-07T00:00:00-05:00\",\"2003-02-10T00:00:00-05:00\",\"2003-02-11T00:00:00-05:00\",\"2003-02-12T00:00:00-05:00\",\"2003-02-13T00:00:00-05:00\",\"2003-02-14T00:00:00-05:00\",\"2003-02-18T00:00:00-05:00\",\"2003-02-19T00:00:00-05:00\",\"2003-02-20T00:00:00-05:00\",\"2003-02-21T00:00:00-05:00\",\"2003-02-24T00:00:00-05:00\",\"2003-02-25T00:00:00-05:00\",\"2003-02-26T00:00:00-05:00\",\"2003-02-27T00:00:00-05:00\",\"2003-02-28T00:00:00-05:00\",\"2003-03-03T00:00:00-05:00\",\"2003-03-04T00:00:00-05:00\",\"2003-03-05T00:00:00-05:00\",\"2003-03-06T00:00:00-05:00\",\"2003-03-07T00:00:00-05:00\",\"2003-03-10T00:00:00-05:00\",\"2003-03-11T00:00:00-05:00\",\"2003-03-12T00:00:00-05:00\",\"2003-03-13T00:00:00-05:00\",\"2003-03-14T00:00:00-05:00\",\"2003-03-17T00:00:00-05:00\",\"2003-03-18T00:00:00-05:00\",\"2003-03-19T00:00:00-05:00\",\"2003-03-20T00:00:00-05:00\",\"2003-03-21T00:00:00-05:00\",\"2003-03-24T00:00:00-05:00\",\"2003-03-25T00:00:00-05:00\",\"2003-03-26T00:00:00-05:00\",\"2003-03-27T00:00:00-05:00\",\"2003-03-28T00:00:00-05:00\",\"2003-03-31T00:00:00-05:00\",\"2003-04-01T00:00:00-05:00\",\"2003-04-02T00:00:00-05:00\",\"2003-04-03T00:00:00-05:00\",\"2003-04-04T00:00:00-05:00\",\"2003-04-07T00:00:00-04:00\",\"2003-04-08T00:00:00-04:00\",\"2003-04-09T00:00:00-04:00\",\"2003-04-10T00:00:00-04:00\",\"2003-04-11T00:00:00-04:00\",\"2003-04-14T00:00:00-04:00\",\"2003-04-15T00:00:00-04:00\",\"2003-04-16T00:00:00-04:00\",\"2003-04-17T00:00:00-04:00\",\"2003-04-21T00:00:00-04:00\",\"2003-04-22T00:00:00-04:00\",\"2003-04-23T00:00:00-04:00\",\"2003-04-24T00:00:00-04:00\",\"2003-04-25T00:00:00-04:00\",\"2003-04-28T00:00:00-04:00\",\"2003-04-29T00:00:00-04:00\",\"2003-04-30T00:00:00-04:00\",\"2003-05-01T00:00:00-04:00\",\"2003-05-02T00:00:00-04:00\",\"2003-05-05T00:00:00-04:00\",\"2003-05-06T00:00:00-04:00\",\"2003-05-07T00:00:00-04:00\",\"2003-05-08T00:00:00-04:00\",\"2003-05-09T00:00:00-04:00\",\"2003-05-12T00:00:00-04:00\",\"2003-05-13T00:00:00-04:00\",\"2003-05-14T00:00:00-04:00\",\"2003-05-15T00:00:00-04:00\",\"2003-05-16T00:00:00-04:00\",\"2003-05-19T00:00:00-04:00\",\"2003-05-20T00:00:00-04:00\",\"2003-05-21T00:00:00-04:00\",\"2003-05-22T00:00:00-04:00\",\"2003-05-23T00:00:00-04:00\",\"2003-05-27T00:00:00-04:00\",\"2003-05-28T00:00:00-04:00\",\"2003-05-29T00:00:00-04:00\",\"2003-05-30T00:00:00-04:00\",\"2003-06-02T00:00:00-04:00\",\"2003-06-03T00:00:00-04:00\",\"2003-06-04T00:00:00-04:00\",\"2003-06-05T00:00:00-04:00\",\"2003-06-06T00:00:00-04:00\",\"2003-06-09T00:00:00-04:00\",\"2003-06-10T00:00:00-04:00\",\"2003-06-11T00:00:00-04:00\",\"2003-06-12T00:00:00-04:00\",\"2003-06-13T00:00:00-04:00\",\"2003-06-16T00:00:00-04:00\",\"2003-06-17T00:00:00-04:00\",\"2003-06-18T00:00:00-04:00\",\"2003-06-19T00:00:00-04:00\",\"2003-06-20T00:00:00-04:00\",\"2003-06-23T00:00:00-04:00\",\"2003-06-24T00:00:00-04:00\",\"2003-06-25T00:00:00-04:00\",\"2003-06-26T00:00:00-04:00\",\"2003-06-27T00:00:00-04:00\",\"2003-06-30T00:00:00-04:00\",\"2003-07-01T00:00:00-04:00\",\"2003-07-02T00:00:00-04:00\",\"2003-07-03T00:00:00-04:00\",\"2003-07-07T00:00:00-04:00\",\"2003-07-08T00:00:00-04:00\",\"2003-07-09T00:00:00-04:00\",\"2003-07-10T00:00:00-04:00\",\"2003-07-11T00:00:00-04:00\",\"2003-07-14T00:00:00-04:00\",\"2003-07-15T00:00:00-04:00\",\"2003-07-16T00:00:00-04:00\",\"2003-07-17T00:00:00-04:00\",\"2003-07-18T00:00:00-04:00\",\"2003-07-21T00:00:00-04:00\",\"2003-07-22T00:00:00-04:00\",\"2003-07-23T00:00:00-04:00\",\"2003-07-24T00:00:00-04:00\",\"2003-07-25T00:00:00-04:00\",\"2003-07-28T00:00:00-04:00\",\"2003-07-29T00:00:00-04:00\",\"2003-07-30T00:00:00-04:00\",\"2003-07-31T00:00:00-04:00\",\"2003-08-01T00:00:00-04:00\",\"2003-08-04T00:00:00-04:00\",\"2003-08-05T00:00:00-04:00\",\"2003-08-06T00:00:00-04:00\",\"2003-08-07T00:00:00-04:00\",\"2003-08-08T00:00:00-04:00\",\"2003-08-11T00:00:00-04:00\",\"2003-08-12T00:00:00-04:00\",\"2003-08-13T00:00:00-04:00\",\"2003-08-14T00:00:00-04:00\",\"2003-08-15T00:00:00-04:00\",\"2003-08-18T00:00:00-04:00\",\"2003-08-19T00:00:00-04:00\",\"2003-08-20T00:00:00-04:00\",\"2003-08-21T00:00:00-04:00\",\"2003-08-22T00:00:00-04:00\",\"2003-08-25T00:00:00-04:00\",\"2003-08-26T00:00:00-04:00\",\"2003-08-27T00:00:00-04:00\",\"2003-08-28T00:00:00-04:00\",\"2003-08-29T00:00:00-04:00\",\"2003-09-02T00:00:00-04:00\",\"2003-09-03T00:00:00-04:00\",\"2003-09-04T00:00:00-04:00\",\"2003-09-05T00:00:00-04:00\",\"2003-09-08T00:00:00-04:00\",\"2003-09-09T00:00:00-04:00\",\"2003-09-10T00:00:00-04:00\",\"2003-09-11T00:00:00-04:00\",\"2003-09-12T00:00:00-04:00\",\"2003-09-15T00:00:00-04:00\",\"2003-09-16T00:00:00-04:00\",\"2003-09-17T00:00:00-04:00\",\"2003-09-18T00:00:00-04:00\",\"2003-09-19T00:00:00-04:00\",\"2003-09-22T00:00:00-04:00\",\"2003-09-23T00:00:00-04:00\",\"2003-09-24T00:00:00-04:00\",\"2003-09-25T00:00:00-04:00\",\"2003-09-26T00:00:00-04:00\",\"2003-09-29T00:00:00-04:00\",\"2003-09-30T00:00:00-04:00\",\"2003-10-01T00:00:00-04:00\",\"2003-10-02T00:00:00-04:00\",\"2003-10-03T00:00:00-04:00\",\"2003-10-06T00:00:00-04:00\",\"2003-10-07T00:00:00-04:00\",\"2003-10-08T00:00:00-04:00\",\"2003-10-09T00:00:00-04:00\",\"2003-10-10T00:00:00-04:00\",\"2003-10-13T00:00:00-04:00\",\"2003-10-14T00:00:00-04:00\",\"2003-10-15T00:00:00-04:00\",\"2003-10-16T00:00:00-04:00\",\"2003-10-17T00:00:00-04:00\",\"2003-10-20T00:00:00-04:00\",\"2003-10-21T00:00:00-04:00\",\"2003-10-22T00:00:00-04:00\",\"2003-10-23T00:00:00-04:00\",\"2003-10-24T00:00:00-04:00\",\"2003-10-27T00:00:00-05:00\",\"2003-10-28T00:00:00-05:00\",\"2003-10-29T00:00:00-05:00\",\"2003-10-30T00:00:00-05:00\",\"2003-10-31T00:00:00-05:00\",\"2003-11-03T00:00:00-05:00\",\"2003-11-04T00:00:00-05:00\",\"2003-11-05T00:00:00-05:00\",\"2003-11-06T00:00:00-05:00\",\"2003-11-07T00:00:00-05:00\",\"2003-11-10T00:00:00-05:00\",\"2003-11-11T00:00:00-05:00\",\"2003-11-12T00:00:00-05:00\",\"2003-11-13T00:00:00-05:00\",\"2003-11-14T00:00:00-05:00\",\"2003-11-17T00:00:00-05:00\",\"2003-11-18T00:00:00-05:00\",\"2003-11-19T00:00:00-05:00\",\"2003-11-20T00:00:00-05:00\",\"2003-11-21T00:00:00-05:00\",\"2003-11-24T00:00:00-05:00\",\"2003-11-25T00:00:00-05:00\",\"2003-11-26T00:00:00-05:00\",\"2003-11-28T00:00:00-05:00\",\"2003-12-01T00:00:00-05:00\",\"2003-12-02T00:00:00-05:00\",\"2003-12-03T00:00:00-05:00\",\"2003-12-04T00:00:00-05:00\",\"2003-12-05T00:00:00-05:00\",\"2003-12-08T00:00:00-05:00\",\"2003-12-09T00:00:00-05:00\",\"2003-12-10T00:00:00-05:00\",\"2003-12-11T00:00:00-05:00\",\"2003-12-12T00:00:00-05:00\",\"2003-12-15T00:00:00-05:00\",\"2003-12-16T00:00:00-05:00\",\"2003-12-17T00:00:00-05:00\",\"2003-12-18T00:00:00-05:00\",\"2003-12-19T00:00:00-05:00\",\"2003-12-22T00:00:00-05:00\",\"2003-12-23T00:00:00-05:00\",\"2003-12-24T00:00:00-05:00\",\"2003-12-26T00:00:00-05:00\",\"2003-12-29T00:00:00-05:00\",\"2003-12-30T00:00:00-05:00\",\"2003-12-31T00:00:00-05:00\",\"2004-01-02T00:00:00-05:00\",\"2004-01-05T00:00:00-05:00\",\"2004-01-06T00:00:00-05:00\",\"2004-01-07T00:00:00-05:00\",\"2004-01-08T00:00:00-05:00\",\"2004-01-09T00:00:00-05:00\",\"2004-01-12T00:00:00-05:00\",\"2004-01-13T00:00:00-05:00\",\"2004-01-14T00:00:00-05:00\",\"2004-01-15T00:00:00-05:00\",\"2004-01-16T00:00:00-05:00\",\"2004-01-20T00:00:00-05:00\",\"2004-01-21T00:00:00-05:00\",\"2004-01-22T00:00:00-05:00\",\"2004-01-23T00:00:00-05:00\",\"2004-01-26T00:00:00-05:00\",\"2004-01-27T00:00:00-05:00\",\"2004-01-28T00:00:00-05:00\",\"2004-01-29T00:00:00-05:00\",\"2004-01-30T00:00:00-05:00\",\"2004-02-02T00:00:00-05:00\",\"2004-02-03T00:00:00-05:00\",\"2004-02-04T00:00:00-05:00\",\"2004-02-05T00:00:00-05:00\",\"2004-02-06T00:00:00-05:00\",\"2004-02-09T00:00:00-05:00\",\"2004-02-10T00:00:00-05:00\",\"2004-02-11T00:00:00-05:00\",\"2004-02-12T00:00:00-05:00\",\"2004-02-13T00:00:00-05:00\",\"2004-02-17T00:00:00-05:00\",\"2004-02-18T00:00:00-05:00\",\"2004-02-19T00:00:00-05:00\",\"2004-02-20T00:00:00-05:00\",\"2004-02-23T00:00:00-05:00\",\"2004-02-24T00:00:00-05:00\",\"2004-02-25T00:00:00-05:00\",\"2004-02-26T00:00:00-05:00\",\"2004-02-27T00:00:00-05:00\",\"2004-03-01T00:00:00-05:00\",\"2004-03-02T00:00:00-05:00\",\"2004-03-03T00:00:00-05:00\",\"2004-03-04T00:00:00-05:00\",\"2004-03-05T00:00:00-05:00\",\"2004-03-08T00:00:00-05:00\",\"2004-03-09T00:00:00-05:00\",\"2004-03-10T00:00:00-05:00\",\"2004-03-11T00:00:00-05:00\",\"2004-03-12T00:00:00-05:00\",\"2004-03-15T00:00:00-05:00\",\"2004-03-16T00:00:00-05:00\",\"2004-03-17T00:00:00-05:00\",\"2004-03-18T00:00:00-05:00\",\"2004-03-19T00:00:00-05:00\",\"2004-03-22T00:00:00-05:00\",\"2004-03-23T00:00:00-05:00\",\"2004-03-24T00:00:00-05:00\",\"2004-03-25T00:00:00-05:00\",\"2004-03-26T00:00:00-05:00\",\"2004-03-29T00:00:00-05:00\",\"2004-03-30T00:00:00-05:00\",\"2004-03-31T00:00:00-05:00\",\"2004-04-01T00:00:00-05:00\",\"2004-04-02T00:00:00-05:00\",\"2004-04-05T00:00:00-04:00\",\"2004-04-06T00:00:00-04:00\",\"2004-04-07T00:00:00-04:00\",\"2004-04-08T00:00:00-04:00\",\"2004-04-12T00:00:00-04:00\",\"2004-04-13T00:00:00-04:00\",\"2004-04-14T00:00:00-04:00\",\"2004-04-15T00:00:00-04:00\",\"2004-04-16T00:00:00-04:00\",\"2004-04-19T00:00:00-04:00\",\"2004-04-20T00:00:00-04:00\",\"2004-04-21T00:00:00-04:00\",\"2004-04-22T00:00:00-04:00\",\"2004-04-23T00:00:00-04:00\",\"2004-04-26T00:00:00-04:00\",\"2004-04-27T00:00:00-04:00\",\"2004-04-28T00:00:00-04:00\",\"2004-04-29T00:00:00-04:00\",\"2004-04-30T00:00:00-04:00\",\"2004-05-03T00:00:00-04:00\",\"2004-05-04T00:00:00-04:00\",\"2004-05-05T00:00:00-04:00\",\"2004-05-06T00:00:00-04:00\",\"2004-05-07T00:00:00-04:00\",\"2004-05-10T00:00:00-04:00\",\"2004-05-11T00:00:00-04:00\",\"2004-05-12T00:00:00-04:00\",\"2004-05-13T00:00:00-04:00\",\"2004-05-14T00:00:00-04:00\",\"2004-05-17T00:00:00-04:00\",\"2004-05-18T00:00:00-04:00\",\"2004-05-19T00:00:00-04:00\",\"2004-05-20T00:00:00-04:00\",\"2004-05-21T00:00:00-04:00\",\"2004-05-24T00:00:00-04:00\",\"2004-05-25T00:00:00-04:00\",\"2004-05-26T00:00:00-04:00\",\"2004-05-27T00:00:00-04:00\",\"2004-05-28T00:00:00-04:00\",\"2004-06-01T00:00:00-04:00\",\"2004-06-02T00:00:00-04:00\",\"2004-06-03T00:00:00-04:00\",\"2004-06-04T00:00:00-04:00\",\"2004-06-07T00:00:00-04:00\",\"2004-06-08T00:00:00-04:00\",\"2004-06-09T00:00:00-04:00\",\"2004-06-10T00:00:00-04:00\",\"2004-06-14T00:00:00-04:00\",\"2004-06-15T00:00:00-04:00\",\"2004-06-16T00:00:00-04:00\",\"2004-06-17T00:00:00-04:00\",\"2004-06-18T00:00:00-04:00\",\"2004-06-21T00:00:00-04:00\",\"2004-06-22T00:00:00-04:00\",\"2004-06-23T00:00:00-04:00\",\"2004-06-24T00:00:00-04:00\",\"2004-06-25T00:00:00-04:00\",\"2004-06-28T00:00:00-04:00\",\"2004-06-29T00:00:00-04:00\",\"2004-06-30T00:00:00-04:00\",\"2004-07-01T00:00:00-04:00\",\"2004-07-02T00:00:00-04:00\",\"2004-07-06T00:00:00-04:00\",\"2004-07-07T00:00:00-04:00\",\"2004-07-08T00:00:00-04:00\",\"2004-07-09T00:00:00-04:00\",\"2004-07-12T00:00:00-04:00\",\"2004-07-13T00:00:00-04:00\",\"2004-07-14T00:00:00-04:00\",\"2004-07-15T00:00:00-04:00\",\"2004-07-16T00:00:00-04:00\",\"2004-07-19T00:00:00-04:00\",\"2004-07-20T00:00:00-04:00\",\"2004-07-21T00:00:00-04:00\",\"2004-07-22T00:00:00-04:00\",\"2004-07-23T00:00:00-04:00\",\"2004-07-26T00:00:00-04:00\",\"2004-07-27T00:00:00-04:00\",\"2004-07-28T00:00:00-04:00\",\"2004-07-29T00:00:00-04:00\",\"2004-07-30T00:00:00-04:00\",\"2004-08-02T00:00:00-04:00\",\"2004-08-03T00:00:00-04:00\",\"2004-08-04T00:00:00-04:00\",\"2004-08-05T00:00:00-04:00\",\"2004-08-06T00:00:00-04:00\",\"2004-08-09T00:00:00-04:00\",\"2004-08-10T00:00:00-04:00\",\"2004-08-11T00:00:00-04:00\",\"2004-08-12T00:00:00-04:00\",\"2004-08-13T00:00:00-04:00\",\"2004-08-16T00:00:00-04:00\",\"2004-08-17T00:00:00-04:00\",\"2004-08-18T00:00:00-04:00\",\"2004-08-19T00:00:00-04:00\",\"2004-08-20T00:00:00-04:00\",\"2004-08-23T00:00:00-04:00\",\"2004-08-24T00:00:00-04:00\",\"2004-08-25T00:00:00-04:00\",\"2004-08-26T00:00:00-04:00\",\"2004-08-27T00:00:00-04:00\",\"2004-08-30T00:00:00-04:00\",\"2004-08-31T00:00:00-04:00\",\"2004-09-01T00:00:00-04:00\",\"2004-09-02T00:00:00-04:00\",\"2004-09-03T00:00:00-04:00\",\"2004-09-07T00:00:00-04:00\",\"2004-09-08T00:00:00-04:00\",\"2004-09-09T00:00:00-04:00\",\"2004-09-10T00:00:00-04:00\",\"2004-09-13T00:00:00-04:00\",\"2004-09-14T00:00:00-04:00\",\"2004-09-15T00:00:00-04:00\",\"2004-09-16T00:00:00-04:00\",\"2004-09-17T00:00:00-04:00\",\"2004-09-20T00:00:00-04:00\",\"2004-09-21T00:00:00-04:00\",\"2004-09-22T00:00:00-04:00\",\"2004-09-23T00:00:00-04:00\",\"2004-09-24T00:00:00-04:00\",\"2004-09-27T00:00:00-04:00\",\"2004-09-28T00:00:00-04:00\",\"2004-09-29T00:00:00-04:00\",\"2004-09-30T00:00:00-04:00\",\"2004-10-01T00:00:00-04:00\",\"2004-10-04T00:00:00-04:00\",\"2004-10-05T00:00:00-04:00\",\"2004-10-06T00:00:00-04:00\",\"2004-10-07T00:00:00-04:00\",\"2004-10-08T00:00:00-04:00\",\"2004-10-11T00:00:00-04:00\",\"2004-10-12T00:00:00-04:00\",\"2004-10-13T00:00:00-04:00\",\"2004-10-14T00:00:00-04:00\",\"2004-10-15T00:00:00-04:00\",\"2004-10-18T00:00:00-04:00\",\"2004-10-19T00:00:00-04:00\",\"2004-10-20T00:00:00-04:00\",\"2004-10-21T00:00:00-04:00\",\"2004-10-22T00:00:00-04:00\",\"2004-10-25T00:00:00-04:00\",\"2004-10-26T00:00:00-04:00\",\"2004-10-27T00:00:00-04:00\",\"2004-10-28T00:00:00-04:00\",\"2004-10-29T00:00:00-04:00\",\"2004-11-01T00:00:00-05:00\",\"2004-11-02T00:00:00-05:00\",\"2004-11-03T00:00:00-05:00\",\"2004-11-04T00:00:00-05:00\",\"2004-11-05T00:00:00-05:00\",\"2004-11-08T00:00:00-05:00\",\"2004-11-09T00:00:00-05:00\",\"2004-11-10T00:00:00-05:00\",\"2004-11-11T00:00:00-05:00\",\"2004-11-12T00:00:00-05:00\",\"2004-11-15T00:00:00-05:00\",\"2004-11-16T00:00:00-05:00\",\"2004-11-17T00:00:00-05:00\",\"2004-11-18T00:00:00-05:00\",\"2004-11-19T00:00:00-05:00\",\"2004-11-22T00:00:00-05:00\",\"2004-11-23T00:00:00-05:00\",\"2004-11-24T00:00:00-05:00\",\"2004-11-26T00:00:00-05:00\",\"2004-11-29T00:00:00-05:00\",\"2004-11-30T00:00:00-05:00\",\"2004-12-01T00:00:00-05:00\",\"2004-12-02T00:00:00-05:00\",\"2004-12-03T00:00:00-05:00\",\"2004-12-06T00:00:00-05:00\",\"2004-12-07T00:00:00-05:00\",\"2004-12-08T00:00:00-05:00\",\"2004-12-09T00:00:00-05:00\",\"2004-12-10T00:00:00-05:00\",\"2004-12-13T00:00:00-05:00\",\"2004-12-14T00:00:00-05:00\",\"2004-12-15T00:00:00-05:00\",\"2004-12-16T00:00:00-05:00\",\"2004-12-17T00:00:00-05:00\",\"2004-12-20T00:00:00-05:00\",\"2004-12-21T00:00:00-05:00\",\"2004-12-22T00:00:00-05:00\",\"2004-12-23T00:00:00-05:00\",\"2004-12-27T00:00:00-05:00\",\"2004-12-28T00:00:00-05:00\",\"2004-12-29T00:00:00-05:00\",\"2004-12-30T00:00:00-05:00\",\"2004-12-31T00:00:00-05:00\",\"2005-01-03T00:00:00-05:00\",\"2005-01-04T00:00:00-05:00\",\"2005-01-05T00:00:00-05:00\",\"2005-01-06T00:00:00-05:00\",\"2005-01-07T00:00:00-05:00\",\"2005-01-10T00:00:00-05:00\",\"2005-01-11T00:00:00-05:00\",\"2005-01-12T00:00:00-05:00\",\"2005-01-13T00:00:00-05:00\",\"2005-01-14T00:00:00-05:00\",\"2005-01-18T00:00:00-05:00\",\"2005-01-19T00:00:00-05:00\",\"2005-01-20T00:00:00-05:00\",\"2005-01-21T00:00:00-05:00\",\"2005-01-24T00:00:00-05:00\",\"2005-01-25T00:00:00-05:00\",\"2005-01-26T00:00:00-05:00\",\"2005-01-27T00:00:00-05:00\",\"2005-01-28T00:00:00-05:00\",\"2005-01-31T00:00:00-05:00\",\"2005-02-01T00:00:00-05:00\",\"2005-02-02T00:00:00-05:00\",\"2005-02-03T00:00:00-05:00\",\"2005-02-04T00:00:00-05:00\",\"2005-02-07T00:00:00-05:00\",\"2005-02-08T00:00:00-05:00\",\"2005-02-09T00:00:00-05:00\",\"2005-02-10T00:00:00-05:00\",\"2005-02-11T00:00:00-05:00\",\"2005-02-14T00:00:00-05:00\",\"2005-02-15T00:00:00-05:00\",\"2005-02-16T00:00:00-05:00\",\"2005-02-17T00:00:00-05:00\",\"2005-02-18T00:00:00-05:00\",\"2005-02-22T00:00:00-05:00\",\"2005-02-23T00:00:00-05:00\",\"2005-02-24T00:00:00-05:00\",\"2005-02-25T00:00:00-05:00\",\"2005-02-28T00:00:00-05:00\",\"2005-03-01T00:00:00-05:00\",\"2005-03-02T00:00:00-05:00\",\"2005-03-03T00:00:00-05:00\",\"2005-03-04T00:00:00-05:00\",\"2005-03-07T00:00:00-05:00\",\"2005-03-08T00:00:00-05:00\",\"2005-03-09T00:00:00-05:00\",\"2005-03-10T00:00:00-05:00\",\"2005-03-11T00:00:00-05:00\",\"2005-03-14T00:00:00-05:00\",\"2005-03-15T00:00:00-05:00\",\"2005-03-16T00:00:00-05:00\",\"2005-03-17T00:00:00-05:00\",\"2005-03-18T00:00:00-05:00\",\"2005-03-21T00:00:00-05:00\",\"2005-03-22T00:00:00-05:00\",\"2005-03-23T00:00:00-05:00\",\"2005-03-24T00:00:00-05:00\",\"2005-03-28T00:00:00-05:00\",\"2005-03-29T00:00:00-05:00\",\"2005-03-30T00:00:00-05:00\",\"2005-03-31T00:00:00-05:00\",\"2005-04-01T00:00:00-05:00\",\"2005-04-04T00:00:00-04:00\",\"2005-04-05T00:00:00-04:00\",\"2005-04-06T00:00:00-04:00\",\"2005-04-07T00:00:00-04:00\",\"2005-04-08T00:00:00-04:00\",\"2005-04-11T00:00:00-04:00\",\"2005-04-12T00:00:00-04:00\",\"2005-04-13T00:00:00-04:00\",\"2005-04-14T00:00:00-04:00\",\"2005-04-15T00:00:00-04:00\",\"2005-04-18T00:00:00-04:00\",\"2005-04-19T00:00:00-04:00\",\"2005-04-20T00:00:00-04:00\",\"2005-04-21T00:00:00-04:00\",\"2005-04-22T00:00:00-04:00\",\"2005-04-25T00:00:00-04:00\",\"2005-04-26T00:00:00-04:00\",\"2005-04-27T00:00:00-04:00\",\"2005-04-28T00:00:00-04:00\",\"2005-04-29T00:00:00-04:00\",\"2005-05-02T00:00:00-04:00\",\"2005-05-03T00:00:00-04:00\",\"2005-05-04T00:00:00-04:00\",\"2005-05-05T00:00:00-04:00\",\"2005-05-06T00:00:00-04:00\",\"2005-05-09T00:00:00-04:00\",\"2005-05-10T00:00:00-04:00\",\"2005-05-11T00:00:00-04:00\",\"2005-05-12T00:00:00-04:00\",\"2005-05-13T00:00:00-04:00\",\"2005-05-16T00:00:00-04:00\",\"2005-05-17T00:00:00-04:00\",\"2005-05-18T00:00:00-04:00\",\"2005-05-19T00:00:00-04:00\",\"2005-05-20T00:00:00-04:00\",\"2005-05-23T00:00:00-04:00\",\"2005-05-24T00:00:00-04:00\",\"2005-05-25T00:00:00-04:00\",\"2005-05-26T00:00:00-04:00\",\"2005-05-27T00:00:00-04:00\",\"2005-05-31T00:00:00-04:00\",\"2005-06-01T00:00:00-04:00\",\"2005-06-02T00:00:00-04:00\",\"2005-06-03T00:00:00-04:00\",\"2005-06-06T00:00:00-04:00\",\"2005-06-07T00:00:00-04:00\",\"2005-06-08T00:00:00-04:00\",\"2005-06-09T00:00:00-04:00\",\"2005-06-10T00:00:00-04:00\",\"2005-06-13T00:00:00-04:00\",\"2005-06-14T00:00:00-04:00\",\"2005-06-15T00:00:00-04:00\",\"2005-06-16T00:00:00-04:00\",\"2005-06-17T00:00:00-04:00\",\"2005-06-20T00:00:00-04:00\",\"2005-06-21T00:00:00-04:00\",\"2005-06-22T00:00:00-04:00\",\"2005-06-23T00:00:00-04:00\",\"2005-06-24T00:00:00-04:00\",\"2005-06-27T00:00:00-04:00\",\"2005-06-28T00:00:00-04:00\",\"2005-06-29T00:00:00-04:00\",\"2005-06-30T00:00:00-04:00\",\"2005-07-01T00:00:00-04:00\",\"2005-07-05T00:00:00-04:00\",\"2005-07-06T00:00:00-04:00\",\"2005-07-07T00:00:00-04:00\",\"2005-07-08T00:00:00-04:00\",\"2005-07-11T00:00:00-04:00\",\"2005-07-12T00:00:00-04:00\",\"2005-07-13T00:00:00-04:00\",\"2005-07-14T00:00:00-04:00\",\"2005-07-15T00:00:00-04:00\",\"2005-07-18T00:00:00-04:00\",\"2005-07-19T00:00:00-04:00\",\"2005-07-20T00:00:00-04:00\",\"2005-07-21T00:00:00-04:00\",\"2005-07-22T00:00:00-04:00\",\"2005-07-25T00:00:00-04:00\",\"2005-07-26T00:00:00-04:00\",\"2005-07-27T00:00:00-04:00\",\"2005-07-28T00:00:00-04:00\",\"2005-07-29T00:00:00-04:00\",\"2005-08-01T00:00:00-04:00\",\"2005-08-02T00:00:00-04:00\",\"2005-08-03T00:00:00-04:00\",\"2005-08-04T00:00:00-04:00\",\"2005-08-05T00:00:00-04:00\",\"2005-08-08T00:00:00-04:00\",\"2005-08-09T00:00:00-04:00\",\"2005-08-10T00:00:00-04:00\",\"2005-08-11T00:00:00-04:00\",\"2005-08-12T00:00:00-04:00\",\"2005-08-15T00:00:00-04:00\",\"2005-08-16T00:00:00-04:00\",\"2005-08-17T00:00:00-04:00\",\"2005-08-18T00:00:00-04:00\",\"2005-08-19T00:00:00-04:00\",\"2005-08-22T00:00:00-04:00\",\"2005-08-23T00:00:00-04:00\",\"2005-08-24T00:00:00-04:00\",\"2005-08-25T00:00:00-04:00\",\"2005-08-26T00:00:00-04:00\",\"2005-08-29T00:00:00-04:00\",\"2005-08-30T00:00:00-04:00\",\"2005-08-31T00:00:00-04:00\",\"2005-09-01T00:00:00-04:00\",\"2005-09-02T00:00:00-04:00\",\"2005-09-06T00:00:00-04:00\",\"2005-09-07T00:00:00-04:00\",\"2005-09-08T00:00:00-04:00\",\"2005-09-09T00:00:00-04:00\",\"2005-09-12T00:00:00-04:00\",\"2005-09-13T00:00:00-04:00\",\"2005-09-14T00:00:00-04:00\",\"2005-09-15T00:00:00-04:00\",\"2005-09-16T00:00:00-04:00\",\"2005-09-19T00:00:00-04:00\",\"2005-09-20T00:00:00-04:00\",\"2005-09-21T00:00:00-04:00\",\"2005-09-22T00:00:00-04:00\",\"2005-09-23T00:00:00-04:00\",\"2005-09-26T00:00:00-04:00\",\"2005-09-27T00:00:00-04:00\",\"2005-09-28T00:00:00-04:00\",\"2005-09-29T00:00:00-04:00\",\"2005-09-30T00:00:00-04:00\",\"2005-10-03T00:00:00-04:00\",\"2005-10-04T00:00:00-04:00\",\"2005-10-05T00:00:00-04:00\",\"2005-10-06T00:00:00-04:00\",\"2005-10-07T00:00:00-04:00\",\"2005-10-10T00:00:00-04:00\",\"2005-10-11T00:00:00-04:00\",\"2005-10-12T00:00:00-04:00\",\"2005-10-13T00:00:00-04:00\",\"2005-10-14T00:00:00-04:00\",\"2005-10-17T00:00:00-04:00\",\"2005-10-18T00:00:00-04:00\",\"2005-10-19T00:00:00-04:00\",\"2005-10-20T00:00:00-04:00\",\"2005-10-21T00:00:00-04:00\",\"2005-10-24T00:00:00-04:00\",\"2005-10-25T00:00:00-04:00\",\"2005-10-26T00:00:00-04:00\",\"2005-10-27T00:00:00-04:00\",\"2005-10-28T00:00:00-04:00\",\"2005-10-31T00:00:00-05:00\",\"2005-11-01T00:00:00-05:00\",\"2005-11-02T00:00:00-05:00\",\"2005-11-03T00:00:00-05:00\",\"2005-11-04T00:00:00-05:00\",\"2005-11-07T00:00:00-05:00\",\"2005-11-08T00:00:00-05:00\",\"2005-11-09T00:00:00-05:00\",\"2005-11-10T00:00:00-05:00\",\"2005-11-11T00:00:00-05:00\",\"2005-11-14T00:00:00-05:00\",\"2005-11-15T00:00:00-05:00\",\"2005-11-16T00:00:00-05:00\",\"2005-11-17T00:00:00-05:00\",\"2005-11-18T00:00:00-05:00\",\"2005-11-21T00:00:00-05:00\",\"2005-11-22T00:00:00-05:00\",\"2005-11-23T00:00:00-05:00\",\"2005-11-25T00:00:00-05:00\",\"2005-11-28T00:00:00-05:00\",\"2005-11-29T00:00:00-05:00\",\"2005-11-30T00:00:00-05:00\",\"2005-12-01T00:00:00-05:00\",\"2005-12-02T00:00:00-05:00\",\"2005-12-05T00:00:00-05:00\",\"2005-12-06T00:00:00-05:00\",\"2005-12-07T00:00:00-05:00\",\"2005-12-08T00:00:00-05:00\",\"2005-12-09T00:00:00-05:00\",\"2005-12-12T00:00:00-05:00\",\"2005-12-13T00:00:00-05:00\",\"2005-12-14T00:00:00-05:00\",\"2005-12-15T00:00:00-05:00\",\"2005-12-16T00:00:00-05:00\",\"2005-12-19T00:00:00-05:00\",\"2005-12-20T00:00:00-05:00\",\"2005-12-21T00:00:00-05:00\",\"2005-12-22T00:00:00-05:00\",\"2005-12-23T00:00:00-05:00\",\"2005-12-27T00:00:00-05:00\",\"2005-12-28T00:00:00-05:00\",\"2005-12-29T00:00:00-05:00\",\"2005-12-30T00:00:00-05:00\",\"2006-01-03T00:00:00-05:00\",\"2006-01-04T00:00:00-05:00\",\"2006-01-05T00:00:00-05:00\",\"2006-01-06T00:00:00-05:00\",\"2006-01-09T00:00:00-05:00\",\"2006-01-10T00:00:00-05:00\",\"2006-01-11T00:00:00-05:00\",\"2006-01-12T00:00:00-05:00\",\"2006-01-13T00:00:00-05:00\",\"2006-01-17T00:00:00-05:00\",\"2006-01-18T00:00:00-05:00\",\"2006-01-19T00:00:00-05:00\",\"2006-01-20T00:00:00-05:00\",\"2006-01-23T00:00:00-05:00\",\"2006-01-24T00:00:00-05:00\",\"2006-01-25T00:00:00-05:00\",\"2006-01-26T00:00:00-05:00\",\"2006-01-27T00:00:00-05:00\",\"2006-01-30T00:00:00-05:00\",\"2006-01-31T00:00:00-05:00\",\"2006-02-01T00:00:00-05:00\",\"2006-02-02T00:00:00-05:00\",\"2006-02-03T00:00:00-05:00\",\"2006-02-06T00:00:00-05:00\",\"2006-02-07T00:00:00-05:00\",\"2006-02-08T00:00:00-05:00\",\"2006-02-09T00:00:00-05:00\",\"2006-02-10T00:00:00-05:00\",\"2006-02-13T00:00:00-05:00\",\"2006-02-14T00:00:00-05:00\",\"2006-02-15T00:00:00-05:00\",\"2006-02-16T00:00:00-05:00\",\"2006-02-17T00:00:00-05:00\",\"2006-02-21T00:00:00-05:00\",\"2006-02-22T00:00:00-05:00\",\"2006-02-23T00:00:00-05:00\",\"2006-02-24T00:00:00-05:00\",\"2006-02-27T00:00:00-05:00\",\"2006-02-28T00:00:00-05:00\",\"2006-03-01T00:00:00-05:00\",\"2006-03-02T00:00:00-05:00\",\"2006-03-03T00:00:00-05:00\",\"2006-03-06T00:00:00-05:00\",\"2006-03-07T00:00:00-05:00\",\"2006-03-08T00:00:00-05:00\",\"2006-03-09T00:00:00-05:00\",\"2006-03-10T00:00:00-05:00\",\"2006-03-13T00:00:00-05:00\",\"2006-03-14T00:00:00-05:00\",\"2006-03-15T00:00:00-05:00\",\"2006-03-16T00:00:00-05:00\",\"2006-03-17T00:00:00-05:00\",\"2006-03-20T00:00:00-05:00\",\"2006-03-21T00:00:00-05:00\",\"2006-03-22T00:00:00-05:00\",\"2006-03-23T00:00:00-05:00\",\"2006-03-24T00:00:00-05:00\",\"2006-03-27T00:00:00-05:00\",\"2006-03-28T00:00:00-05:00\",\"2006-03-29T00:00:00-05:00\",\"2006-03-30T00:00:00-05:00\",\"2006-03-31T00:00:00-05:00\",\"2006-04-03T00:00:00-04:00\",\"2006-04-04T00:00:00-04:00\",\"2006-04-05T00:00:00-04:00\",\"2006-04-06T00:00:00-04:00\",\"2006-04-07T00:00:00-04:00\",\"2006-04-10T00:00:00-04:00\",\"2006-04-11T00:00:00-04:00\",\"2006-04-12T00:00:00-04:00\",\"2006-04-13T00:00:00-04:00\",\"2006-04-17T00:00:00-04:00\",\"2006-04-18T00:00:00-04:00\",\"2006-04-19T00:00:00-04:00\",\"2006-04-20T00:00:00-04:00\",\"2006-04-21T00:00:00-04:00\",\"2006-04-24T00:00:00-04:00\",\"2006-04-25T00:00:00-04:00\",\"2006-04-26T00:00:00-04:00\",\"2006-04-27T00:00:00-04:00\",\"2006-04-28T00:00:00-04:00\",\"2006-05-01T00:00:00-04:00\",\"2006-05-02T00:00:00-04:00\",\"2006-05-03T00:00:00-04:00\",\"2006-05-04T00:00:00-04:00\",\"2006-05-05T00:00:00-04:00\",\"2006-05-08T00:00:00-04:00\",\"2006-05-09T00:00:00-04:00\",\"2006-05-10T00:00:00-04:00\",\"2006-05-11T00:00:00-04:00\",\"2006-05-12T00:00:00-04:00\",\"2006-05-15T00:00:00-04:00\",\"2006-05-16T00:00:00-04:00\",\"2006-05-17T00:00:00-04:00\",\"2006-05-18T00:00:00-04:00\",\"2006-05-19T00:00:00-04:00\",\"2006-05-22T00:00:00-04:00\",\"2006-05-23T00:00:00-04:00\",\"2006-05-24T00:00:00-04:00\",\"2006-05-25T00:00:00-04:00\",\"2006-05-26T00:00:00-04:00\",\"2006-05-30T00:00:00-04:00\",\"2006-05-31T00:00:00-04:00\",\"2006-06-01T00:00:00-04:00\",\"2006-06-02T00:00:00-04:00\",\"2006-06-05T00:00:00-04:00\",\"2006-06-06T00:00:00-04:00\",\"2006-06-07T00:00:00-04:00\",\"2006-06-08T00:00:00-04:00\",\"2006-06-09T00:00:00-04:00\",\"2006-06-12T00:00:00-04:00\",\"2006-06-13T00:00:00-04:00\",\"2006-06-14T00:00:00-04:00\",\"2006-06-15T00:00:00-04:00\",\"2006-06-16T00:00:00-04:00\",\"2006-06-19T00:00:00-04:00\",\"2006-06-20T00:00:00-04:00\",\"2006-06-21T00:00:00-04:00\",\"2006-06-22T00:00:00-04:00\",\"2006-06-23T00:00:00-04:00\",\"2006-06-26T00:00:00-04:00\",\"2006-06-27T00:00:00-04:00\",\"2006-06-28T00:00:00-04:00\",\"2006-06-29T00:00:00-04:00\",\"2006-06-30T00:00:00-04:00\",\"2006-07-03T00:00:00-04:00\",\"2006-07-05T00:00:00-04:00\",\"2006-07-06T00:00:00-04:00\",\"2006-07-07T00:00:00-04:00\",\"2006-07-10T00:00:00-04:00\",\"2006-07-11T00:00:00-04:00\",\"2006-07-12T00:00:00-04:00\",\"2006-07-13T00:00:00-04:00\",\"2006-07-14T00:00:00-04:00\",\"2006-07-17T00:00:00-04:00\",\"2006-07-18T00:00:00-04:00\",\"2006-07-19T00:00:00-04:00\",\"2006-07-20T00:00:00-04:00\",\"2006-07-21T00:00:00-04:00\",\"2006-07-24T00:00:00-04:00\",\"2006-07-25T00:00:00-04:00\",\"2006-07-26T00:00:00-04:00\",\"2006-07-27T00:00:00-04:00\",\"2006-07-28T00:00:00-04:00\",\"2006-07-31T00:00:00-04:00\",\"2006-08-01T00:00:00-04:00\",\"2006-08-02T00:00:00-04:00\",\"2006-08-03T00:00:00-04:00\",\"2006-08-04T00:00:00-04:00\",\"2006-08-07T00:00:00-04:00\",\"2006-08-08T00:00:00-04:00\",\"2006-08-09T00:00:00-04:00\",\"2006-08-10T00:00:00-04:00\",\"2006-08-11T00:00:00-04:00\",\"2006-08-14T00:00:00-04:00\",\"2006-08-15T00:00:00-04:00\",\"2006-08-16T00:00:00-04:00\",\"2006-08-17T00:00:00-04:00\",\"2006-08-18T00:00:00-04:00\",\"2006-08-21T00:00:00-04:00\",\"2006-08-22T00:00:00-04:00\",\"2006-08-23T00:00:00-04:00\",\"2006-08-24T00:00:00-04:00\",\"2006-08-25T00:00:00-04:00\",\"2006-08-28T00:00:00-04:00\",\"2006-08-29T00:00:00-04:00\",\"2006-08-30T00:00:00-04:00\",\"2006-08-31T00:00:00-04:00\",\"2006-09-01T00:00:00-04:00\",\"2006-09-05T00:00:00-04:00\",\"2006-09-06T00:00:00-04:00\",\"2006-09-07T00:00:00-04:00\",\"2006-09-08T00:00:00-04:00\",\"2006-09-11T00:00:00-04:00\",\"2006-09-12T00:00:00-04:00\",\"2006-09-13T00:00:00-04:00\",\"2006-09-14T00:00:00-04:00\",\"2006-09-15T00:00:00-04:00\",\"2006-09-18T00:00:00-04:00\",\"2006-09-19T00:00:00-04:00\",\"2006-09-20T00:00:00-04:00\",\"2006-09-21T00:00:00-04:00\",\"2006-09-22T00:00:00-04:00\",\"2006-09-25T00:00:00-04:00\",\"2006-09-26T00:00:00-04:00\",\"2006-09-27T00:00:00-04:00\",\"2006-09-28T00:00:00-04:00\",\"2006-09-29T00:00:00-04:00\",\"2006-10-02T00:00:00-04:00\",\"2006-10-03T00:00:00-04:00\",\"2006-10-04T00:00:00-04:00\",\"2006-10-05T00:00:00-04:00\",\"2006-10-06T00:00:00-04:00\",\"2006-10-09T00:00:00-04:00\",\"2006-10-10T00:00:00-04:00\",\"2006-10-11T00:00:00-04:00\",\"2006-10-12T00:00:00-04:00\",\"2006-10-13T00:00:00-04:00\",\"2006-10-16T00:00:00-04:00\",\"2006-10-17T00:00:00-04:00\",\"2006-10-18T00:00:00-04:00\",\"2006-10-19T00:00:00-04:00\",\"2006-10-20T00:00:00-04:00\",\"2006-10-23T00:00:00-04:00\",\"2006-10-24T00:00:00-04:00\",\"2006-10-25T00:00:00-04:00\",\"2006-10-26T00:00:00-04:00\",\"2006-10-27T00:00:00-04:00\",\"2006-10-30T00:00:00-05:00\",\"2006-10-31T00:00:00-05:00\",\"2006-11-01T00:00:00-05:00\",\"2006-11-02T00:00:00-05:00\",\"2006-11-03T00:00:00-05:00\",\"2006-11-06T00:00:00-05:00\",\"2006-11-07T00:00:00-05:00\",\"2006-11-08T00:00:00-05:00\",\"2006-11-09T00:00:00-05:00\",\"2006-11-10T00:00:00-05:00\",\"2006-11-13T00:00:00-05:00\",\"2006-11-14T00:00:00-05:00\",\"2006-11-15T00:00:00-05:00\",\"2006-11-16T00:00:00-05:00\",\"2006-11-17T00:00:00-05:00\",\"2006-11-20T00:00:00-05:00\",\"2006-11-21T00:00:00-05:00\",\"2006-11-22T00:00:00-05:00\",\"2006-11-24T00:00:00-05:00\",\"2006-11-27T00:00:00-05:00\",\"2006-11-28T00:00:00-05:00\",\"2006-11-29T00:00:00-05:00\",\"2006-11-30T00:00:00-05:00\",\"2006-12-01T00:00:00-05:00\",\"2006-12-04T00:00:00-05:00\",\"2006-12-05T00:00:00-05:00\",\"2006-12-06T00:00:00-05:00\",\"2006-12-07T00:00:00-05:00\",\"2006-12-08T00:00:00-05:00\",\"2006-12-11T00:00:00-05:00\",\"2006-12-12T00:00:00-05:00\",\"2006-12-13T00:00:00-05:00\",\"2006-12-14T00:00:00-05:00\",\"2006-12-15T00:00:00-05:00\",\"2006-12-18T00:00:00-05:00\",\"2006-12-19T00:00:00-05:00\",\"2006-12-20T00:00:00-05:00\",\"2006-12-21T00:00:00-05:00\",\"2006-12-22T00:00:00-05:00\",\"2006-12-26T00:00:00-05:00\",\"2006-12-27T00:00:00-05:00\",\"2006-12-28T00:00:00-05:00\",\"2006-12-29T00:00:00-05:00\",\"2007-01-03T00:00:00-05:00\",\"2007-01-04T00:00:00-05:00\",\"2007-01-05T00:00:00-05:00\",\"2007-01-08T00:00:00-05:00\",\"2007-01-09T00:00:00-05:00\",\"2007-01-10T00:00:00-05:00\",\"2007-01-11T00:00:00-05:00\",\"2007-01-12T00:00:00-05:00\",\"2007-01-16T00:00:00-05:00\",\"2007-01-17T00:00:00-05:00\",\"2007-01-18T00:00:00-05:00\",\"2007-01-19T00:00:00-05:00\",\"2007-01-22T00:00:00-05:00\",\"2007-01-23T00:00:00-05:00\",\"2007-01-24T00:00:00-05:00\",\"2007-01-25T00:00:00-05:00\",\"2007-01-26T00:00:00-05:00\",\"2007-01-29T00:00:00-05:00\",\"2007-01-30T00:00:00-05:00\",\"2007-01-31T00:00:00-05:00\",\"2007-02-01T00:00:00-05:00\",\"2007-02-02T00:00:00-05:00\",\"2007-02-05T00:00:00-05:00\",\"2007-02-06T00:00:00-05:00\",\"2007-02-07T00:00:00-05:00\",\"2007-02-08T00:00:00-05:00\",\"2007-02-09T00:00:00-05:00\",\"2007-02-12T00:00:00-05:00\",\"2007-02-13T00:00:00-05:00\",\"2007-02-14T00:00:00-05:00\",\"2007-02-15T00:00:00-05:00\",\"2007-02-16T00:00:00-05:00\",\"2007-02-20T00:00:00-05:00\",\"2007-02-21T00:00:00-05:00\",\"2007-02-22T00:00:00-05:00\",\"2007-02-23T00:00:00-05:00\",\"2007-02-26T00:00:00-05:00\",\"2007-02-27T00:00:00-05:00\",\"2007-02-28T00:00:00-05:00\",\"2007-03-01T00:00:00-05:00\",\"2007-03-02T00:00:00-05:00\",\"2007-03-05T00:00:00-05:00\",\"2007-03-06T00:00:00-05:00\",\"2007-03-07T00:00:00-05:00\",\"2007-03-08T00:00:00-05:00\",\"2007-03-09T00:00:00-05:00\",\"2007-03-12T00:00:00-04:00\",\"2007-03-13T00:00:00-04:00\",\"2007-03-14T00:00:00-04:00\",\"2007-03-15T00:00:00-04:00\",\"2007-03-16T00:00:00-04:00\",\"2007-03-19T00:00:00-04:00\",\"2007-03-20T00:00:00-04:00\",\"2007-03-21T00:00:00-04:00\",\"2007-03-22T00:00:00-04:00\",\"2007-03-23T00:00:00-04:00\",\"2007-03-26T00:00:00-04:00\",\"2007-03-27T00:00:00-04:00\",\"2007-03-28T00:00:00-04:00\",\"2007-03-29T00:00:00-04:00\",\"2007-03-30T00:00:00-04:00\",\"2007-04-02T00:00:00-04:00\",\"2007-04-03T00:00:00-04:00\",\"2007-04-04T00:00:00-04:00\",\"2007-04-05T00:00:00-04:00\",\"2007-04-09T00:00:00-04:00\",\"2007-04-10T00:00:00-04:00\",\"2007-04-11T00:00:00-04:00\",\"2007-04-12T00:00:00-04:00\",\"2007-04-13T00:00:00-04:00\",\"2007-04-16T00:00:00-04:00\",\"2007-04-17T00:00:00-04:00\",\"2007-04-18T00:00:00-04:00\",\"2007-04-19T00:00:00-04:00\",\"2007-04-20T00:00:00-04:00\",\"2007-04-23T00:00:00-04:00\",\"2007-04-24T00:00:00-04:00\",\"2007-04-25T00:00:00-04:00\",\"2007-04-26T00:00:00-04:00\",\"2007-04-27T00:00:00-04:00\",\"2007-04-30T00:00:00-04:00\",\"2007-05-01T00:00:00-04:00\",\"2007-05-02T00:00:00-04:00\",\"2007-05-03T00:00:00-04:00\",\"2007-05-04T00:00:00-04:00\",\"2007-05-07T00:00:00-04:00\",\"2007-05-08T00:00:00-04:00\",\"2007-05-09T00:00:00-04:00\",\"2007-05-10T00:00:00-04:00\",\"2007-05-11T00:00:00-04:00\",\"2007-05-14T00:00:00-04:00\",\"2007-05-15T00:00:00-04:00\",\"2007-05-16T00:00:00-04:00\",\"2007-05-17T00:00:00-04:00\",\"2007-05-18T00:00:00-04:00\",\"2007-05-21T00:00:00-04:00\",\"2007-05-22T00:00:00-04:00\",\"2007-05-23T00:00:00-04:00\",\"2007-05-24T00:00:00-04:00\",\"2007-05-25T00:00:00-04:00\",\"2007-05-29T00:00:00-04:00\",\"2007-05-30T00:00:00-04:00\",\"2007-05-31T00:00:00-04:00\",\"2007-06-01T00:00:00-04:00\",\"2007-06-04T00:00:00-04:00\",\"2007-06-05T00:00:00-04:00\",\"2007-06-06T00:00:00-04:00\",\"2007-06-07T00:00:00-04:00\",\"2007-06-08T00:00:00-04:00\",\"2007-06-11T00:00:00-04:00\",\"2007-06-12T00:00:00-04:00\",\"2007-06-13T00:00:00-04:00\",\"2007-06-14T00:00:00-04:00\",\"2007-06-15T00:00:00-04:00\",\"2007-06-18T00:00:00-04:00\",\"2007-06-19T00:00:00-04:00\",\"2007-06-20T00:00:00-04:00\",\"2007-06-21T00:00:00-04:00\",\"2007-06-22T00:00:00-04:00\",\"2007-06-25T00:00:00-04:00\",\"2007-06-26T00:00:00-04:00\",\"2007-06-27T00:00:00-04:00\",\"2007-06-28T00:00:00-04:00\",\"2007-06-29T00:00:00-04:00\",\"2007-07-02T00:00:00-04:00\",\"2007-07-03T00:00:00-04:00\",\"2007-07-05T00:00:00-04:00\",\"2007-07-06T00:00:00-04:00\",\"2007-07-09T00:00:00-04:00\",\"2007-07-10T00:00:00-04:00\",\"2007-07-11T00:00:00-04:00\",\"2007-07-12T00:00:00-04:00\",\"2007-07-13T00:00:00-04:00\",\"2007-07-16T00:00:00-04:00\",\"2007-07-17T00:00:00-04:00\",\"2007-07-18T00:00:00-04:00\",\"2007-07-19T00:00:00-04:00\",\"2007-07-20T00:00:00-04:00\",\"2007-07-23T00:00:00-04:00\",\"2007-07-24T00:00:00-04:00\",\"2007-07-25T00:00:00-04:00\",\"2007-07-26T00:00:00-04:00\",\"2007-07-27T00:00:00-04:00\",\"2007-07-30T00:00:00-04:00\",\"2007-07-31T00:00:00-04:00\",\"2007-08-01T00:00:00-04:00\",\"2007-08-02T00:00:00-04:00\",\"2007-08-03T00:00:00-04:00\",\"2007-08-06T00:00:00-04:00\",\"2007-08-07T00:00:00-04:00\",\"2007-08-08T00:00:00-04:00\",\"2007-08-09T00:00:00-04:00\",\"2007-08-10T00:00:00-04:00\",\"2007-08-13T00:00:00-04:00\",\"2007-08-14T00:00:00-04:00\",\"2007-08-15T00:00:00-04:00\",\"2007-08-16T00:00:00-04:00\",\"2007-08-17T00:00:00-04:00\",\"2007-08-20T00:00:00-04:00\",\"2007-08-21T00:00:00-04:00\",\"2007-08-22T00:00:00-04:00\",\"2007-08-23T00:00:00-04:00\",\"2007-08-24T00:00:00-04:00\",\"2007-08-27T00:00:00-04:00\",\"2007-08-28T00:00:00-04:00\",\"2007-08-29T00:00:00-04:00\",\"2007-08-30T00:00:00-04:00\",\"2007-08-31T00:00:00-04:00\",\"2007-09-04T00:00:00-04:00\",\"2007-09-05T00:00:00-04:00\",\"2007-09-06T00:00:00-04:00\",\"2007-09-07T00:00:00-04:00\",\"2007-09-10T00:00:00-04:00\",\"2007-09-11T00:00:00-04:00\",\"2007-09-12T00:00:00-04:00\",\"2007-09-13T00:00:00-04:00\",\"2007-09-14T00:00:00-04:00\",\"2007-09-17T00:00:00-04:00\",\"2007-09-18T00:00:00-04:00\",\"2007-09-19T00:00:00-04:00\",\"2007-09-20T00:00:00-04:00\",\"2007-09-21T00:00:00-04:00\",\"2007-09-24T00:00:00-04:00\",\"2007-09-25T00:00:00-04:00\",\"2007-09-26T00:00:00-04:00\",\"2007-09-27T00:00:00-04:00\",\"2007-09-28T00:00:00-04:00\",\"2007-10-01T00:00:00-04:00\",\"2007-10-02T00:00:00-04:00\",\"2007-10-03T00:00:00-04:00\",\"2007-10-04T00:00:00-04:00\",\"2007-10-05T00:00:00-04:00\",\"2007-10-08T00:00:00-04:00\",\"2007-10-09T00:00:00-04:00\",\"2007-10-10T00:00:00-04:00\",\"2007-10-11T00:00:00-04:00\",\"2007-10-12T00:00:00-04:00\",\"2007-10-15T00:00:00-04:00\",\"2007-10-16T00:00:00-04:00\",\"2007-10-17T00:00:00-04:00\",\"2007-10-18T00:00:00-04:00\",\"2007-10-19T00:00:00-04:00\",\"2007-10-22T00:00:00-04:00\",\"2007-10-23T00:00:00-04:00\",\"2007-10-24T00:00:00-04:00\",\"2007-10-25T00:00:00-04:00\",\"2007-10-26T00:00:00-04:00\",\"2007-10-29T00:00:00-04:00\",\"2007-10-30T00:00:00-04:00\",\"2007-10-31T00:00:00-04:00\",\"2007-11-01T00:00:00-04:00\",\"2007-11-02T00:00:00-04:00\",\"2007-11-05T00:00:00-05:00\",\"2007-11-06T00:00:00-05:00\",\"2007-11-07T00:00:00-05:00\",\"2007-11-08T00:00:00-05:00\",\"2007-11-09T00:00:00-05:00\",\"2007-11-12T00:00:00-05:00\",\"2007-11-13T00:00:00-05:00\",\"2007-11-14T00:00:00-05:00\",\"2007-11-15T00:00:00-05:00\",\"2007-11-16T00:00:00-05:00\",\"2007-11-19T00:00:00-05:00\",\"2007-11-20T00:00:00-05:00\",\"2007-11-21T00:00:00-05:00\",\"2007-11-23T00:00:00-05:00\",\"2007-11-26T00:00:00-05:00\",\"2007-11-27T00:00:00-05:00\",\"2007-11-28T00:00:00-05:00\",\"2007-11-29T00:00:00-05:00\",\"2007-11-30T00:00:00-05:00\",\"2007-12-03T00:00:00-05:00\",\"2007-12-04T00:00:00-05:00\",\"2007-12-05T00:00:00-05:00\",\"2007-12-06T00:00:00-05:00\",\"2007-12-07T00:00:00-05:00\",\"2007-12-10T00:00:00-05:00\",\"2007-12-11T00:00:00-05:00\",\"2007-12-12T00:00:00-05:00\",\"2007-12-13T00:00:00-05:00\",\"2007-12-14T00:00:00-05:00\",\"2007-12-17T00:00:00-05:00\",\"2007-12-18T00:00:00-05:00\",\"2007-12-19T00:00:00-05:00\",\"2007-12-20T00:00:00-05:00\",\"2007-12-21T00:00:00-05:00\",\"2007-12-24T00:00:00-05:00\",\"2007-12-26T00:00:00-05:00\",\"2007-12-27T00:00:00-05:00\",\"2007-12-28T00:00:00-05:00\",\"2007-12-31T00:00:00-05:00\",\"2008-01-02T00:00:00-05:00\",\"2008-01-03T00:00:00-05:00\",\"2008-01-04T00:00:00-05:00\",\"2008-01-07T00:00:00-05:00\",\"2008-01-08T00:00:00-05:00\",\"2008-01-09T00:00:00-05:00\",\"2008-01-10T00:00:00-05:00\",\"2008-01-11T00:00:00-05:00\",\"2008-01-14T00:00:00-05:00\",\"2008-01-15T00:00:00-05:00\",\"2008-01-16T00:00:00-05:00\",\"2008-01-17T00:00:00-05:00\",\"2008-01-18T00:00:00-05:00\",\"2008-01-22T00:00:00-05:00\",\"2008-01-23T00:00:00-05:00\",\"2008-01-24T00:00:00-05:00\",\"2008-01-25T00:00:00-05:00\",\"2008-01-28T00:00:00-05:00\",\"2008-01-29T00:00:00-05:00\",\"2008-01-30T00:00:00-05:00\",\"2008-01-31T00:00:00-05:00\",\"2008-02-01T00:00:00-05:00\",\"2008-02-04T00:00:00-05:00\",\"2008-02-05T00:00:00-05:00\",\"2008-02-06T00:00:00-05:00\",\"2008-02-07T00:00:00-05:00\",\"2008-02-08T00:00:00-05:00\",\"2008-02-11T00:00:00-05:00\",\"2008-02-12T00:00:00-05:00\",\"2008-02-13T00:00:00-05:00\",\"2008-02-14T00:00:00-05:00\",\"2008-02-15T00:00:00-05:00\",\"2008-02-19T00:00:00-05:00\",\"2008-02-20T00:00:00-05:00\",\"2008-02-21T00:00:00-05:00\",\"2008-02-22T00:00:00-05:00\",\"2008-02-25T00:00:00-05:00\",\"2008-02-26T00:00:00-05:00\",\"2008-02-27T00:00:00-05:00\",\"2008-02-28T00:00:00-05:00\",\"2008-02-29T00:00:00-05:00\",\"2008-03-03T00:00:00-05:00\",\"2008-03-04T00:00:00-05:00\",\"2008-03-05T00:00:00-05:00\",\"2008-03-06T00:00:00-05:00\",\"2008-03-07T00:00:00-05:00\",\"2008-03-10T00:00:00-04:00\",\"2008-03-11T00:00:00-04:00\",\"2008-03-12T00:00:00-04:00\",\"2008-03-13T00:00:00-04:00\",\"2008-03-14T00:00:00-04:00\",\"2008-03-17T00:00:00-04:00\",\"2008-03-18T00:00:00-04:00\",\"2008-03-19T00:00:00-04:00\",\"2008-03-20T00:00:00-04:00\",\"2008-03-24T00:00:00-04:00\",\"2008-03-25T00:00:00-04:00\",\"2008-03-26T00:00:00-04:00\",\"2008-03-27T00:00:00-04:00\",\"2008-03-28T00:00:00-04:00\",\"2008-03-31T00:00:00-04:00\",\"2008-04-01T00:00:00-04:00\",\"2008-04-02T00:00:00-04:00\",\"2008-04-03T00:00:00-04:00\",\"2008-04-04T00:00:00-04:00\",\"2008-04-07T00:00:00-04:00\",\"2008-04-08T00:00:00-04:00\",\"2008-04-09T00:00:00-04:00\",\"2008-04-10T00:00:00-04:00\",\"2008-04-11T00:00:00-04:00\",\"2008-04-14T00:00:00-04:00\",\"2008-04-15T00:00:00-04:00\",\"2008-04-16T00:00:00-04:00\",\"2008-04-17T00:00:00-04:00\",\"2008-04-18T00:00:00-04:00\",\"2008-04-21T00:00:00-04:00\",\"2008-04-22T00:00:00-04:00\",\"2008-04-23T00:00:00-04:00\",\"2008-04-24T00:00:00-04:00\",\"2008-04-25T00:00:00-04:00\",\"2008-04-28T00:00:00-04:00\",\"2008-04-29T00:00:00-04:00\",\"2008-04-30T00:00:00-04:00\",\"2008-05-01T00:00:00-04:00\",\"2008-05-02T00:00:00-04:00\",\"2008-05-05T00:00:00-04:00\",\"2008-05-06T00:00:00-04:00\",\"2008-05-07T00:00:00-04:00\",\"2008-05-08T00:00:00-04:00\",\"2008-05-09T00:00:00-04:00\",\"2008-05-12T00:00:00-04:00\",\"2008-05-13T00:00:00-04:00\",\"2008-05-14T00:00:00-04:00\",\"2008-05-15T00:00:00-04:00\",\"2008-05-16T00:00:00-04:00\",\"2008-05-19T00:00:00-04:00\",\"2008-05-20T00:00:00-04:00\",\"2008-05-21T00:00:00-04:00\",\"2008-05-22T00:00:00-04:00\",\"2008-05-23T00:00:00-04:00\",\"2008-05-27T00:00:00-04:00\",\"2008-05-28T00:00:00-04:00\",\"2008-05-29T00:00:00-04:00\",\"2008-05-30T00:00:00-04:00\",\"2008-06-02T00:00:00-04:00\",\"2008-06-03T00:00:00-04:00\",\"2008-06-04T00:00:00-04:00\",\"2008-06-05T00:00:00-04:00\",\"2008-06-06T00:00:00-04:00\",\"2008-06-09T00:00:00-04:00\",\"2008-06-10T00:00:00-04:00\",\"2008-06-11T00:00:00-04:00\",\"2008-06-12T00:00:00-04:00\",\"2008-06-13T00:00:00-04:00\",\"2008-06-16T00:00:00-04:00\",\"2008-06-17T00:00:00-04:00\",\"2008-06-18T00:00:00-04:00\",\"2008-06-19T00:00:00-04:00\",\"2008-06-20T00:00:00-04:00\",\"2008-06-23T00:00:00-04:00\",\"2008-06-24T00:00:00-04:00\",\"2008-06-25T00:00:00-04:00\",\"2008-06-26T00:00:00-04:00\",\"2008-06-27T00:00:00-04:00\",\"2008-06-30T00:00:00-04:00\",\"2008-07-01T00:00:00-04:00\",\"2008-07-02T00:00:00-04:00\",\"2008-07-03T00:00:00-04:00\",\"2008-07-07T00:00:00-04:00\",\"2008-07-08T00:00:00-04:00\",\"2008-07-09T00:00:00-04:00\",\"2008-07-10T00:00:00-04:00\",\"2008-07-11T00:00:00-04:00\",\"2008-07-14T00:00:00-04:00\",\"2008-07-15T00:00:00-04:00\",\"2008-07-16T00:00:00-04:00\",\"2008-07-17T00:00:00-04:00\",\"2008-07-18T00:00:00-04:00\",\"2008-07-21T00:00:00-04:00\",\"2008-07-22T00:00:00-04:00\",\"2008-07-23T00:00:00-04:00\",\"2008-07-24T00:00:00-04:00\",\"2008-07-25T00:00:00-04:00\",\"2008-07-28T00:00:00-04:00\",\"2008-07-29T00:00:00-04:00\",\"2008-07-30T00:00:00-04:00\",\"2008-07-31T00:00:00-04:00\",\"2008-08-01T00:00:00-04:00\",\"2008-08-04T00:00:00-04:00\",\"2008-08-05T00:00:00-04:00\",\"2008-08-06T00:00:00-04:00\",\"2008-08-07T00:00:00-04:00\",\"2008-08-08T00:00:00-04:00\",\"2008-08-11T00:00:00-04:00\",\"2008-08-12T00:00:00-04:00\",\"2008-08-13T00:00:00-04:00\",\"2008-08-14T00:00:00-04:00\",\"2008-08-15T00:00:00-04:00\",\"2008-08-18T00:00:00-04:00\",\"2008-08-19T00:00:00-04:00\",\"2008-08-20T00:00:00-04:00\",\"2008-08-21T00:00:00-04:00\",\"2008-08-22T00:00:00-04:00\",\"2008-08-25T00:00:00-04:00\",\"2008-08-26T00:00:00-04:00\",\"2008-08-27T00:00:00-04:00\",\"2008-08-28T00:00:00-04:00\",\"2008-08-29T00:00:00-04:00\",\"2008-09-02T00:00:00-04:00\",\"2008-09-03T00:00:00-04:00\",\"2008-09-04T00:00:00-04:00\",\"2008-09-05T00:00:00-04:00\",\"2008-09-08T00:00:00-04:00\",\"2008-09-09T00:00:00-04:00\",\"2008-09-10T00:00:00-04:00\",\"2008-09-11T00:00:00-04:00\",\"2008-09-12T00:00:00-04:00\",\"2008-09-15T00:00:00-04:00\",\"2008-09-16T00:00:00-04:00\",\"2008-09-17T00:00:00-04:00\",\"2008-09-18T00:00:00-04:00\",\"2008-09-19T00:00:00-04:00\",\"2008-09-22T00:00:00-04:00\",\"2008-09-23T00:00:00-04:00\",\"2008-09-24T00:00:00-04:00\",\"2008-09-25T00:00:00-04:00\",\"2008-09-26T00:00:00-04:00\",\"2008-09-29T00:00:00-04:00\",\"2008-09-30T00:00:00-04:00\",\"2008-10-01T00:00:00-04:00\",\"2008-10-02T00:00:00-04:00\",\"2008-10-03T00:00:00-04:00\",\"2008-10-06T00:00:00-04:00\",\"2008-10-07T00:00:00-04:00\",\"2008-10-08T00:00:00-04:00\",\"2008-10-09T00:00:00-04:00\",\"2008-10-10T00:00:00-04:00\",\"2008-10-13T00:00:00-04:00\",\"2008-10-14T00:00:00-04:00\",\"2008-10-15T00:00:00-04:00\",\"2008-10-16T00:00:00-04:00\",\"2008-10-17T00:00:00-04:00\",\"2008-10-20T00:00:00-04:00\",\"2008-10-21T00:00:00-04:00\",\"2008-10-22T00:00:00-04:00\",\"2008-10-23T00:00:00-04:00\",\"2008-10-24T00:00:00-04:00\",\"2008-10-27T00:00:00-04:00\",\"2008-10-28T00:00:00-04:00\",\"2008-10-29T00:00:00-04:00\",\"2008-10-30T00:00:00-04:00\",\"2008-10-31T00:00:00-04:00\",\"2008-11-03T00:00:00-05:00\",\"2008-11-04T00:00:00-05:00\",\"2008-11-05T00:00:00-05:00\",\"2008-11-06T00:00:00-05:00\",\"2008-11-07T00:00:00-05:00\",\"2008-11-10T00:00:00-05:00\",\"2008-11-11T00:00:00-05:00\",\"2008-11-12T00:00:00-05:00\",\"2008-11-13T00:00:00-05:00\",\"2008-11-14T00:00:00-05:00\",\"2008-11-17T00:00:00-05:00\",\"2008-11-18T00:00:00-05:00\",\"2008-11-19T00:00:00-05:00\",\"2008-11-20T00:00:00-05:00\",\"2008-11-21T00:00:00-05:00\",\"2008-11-24T00:00:00-05:00\",\"2008-11-25T00:00:00-05:00\",\"2008-11-26T00:00:00-05:00\",\"2008-11-28T00:00:00-05:00\",\"2008-12-01T00:00:00-05:00\",\"2008-12-02T00:00:00-05:00\",\"2008-12-03T00:00:00-05:00\",\"2008-12-04T00:00:00-05:00\",\"2008-12-05T00:00:00-05:00\",\"2008-12-08T00:00:00-05:00\",\"2008-12-09T00:00:00-05:00\",\"2008-12-10T00:00:00-05:00\",\"2008-12-11T00:00:00-05:00\",\"2008-12-12T00:00:00-05:00\",\"2008-12-15T00:00:00-05:00\",\"2008-12-16T00:00:00-05:00\",\"2008-12-17T00:00:00-05:00\",\"2008-12-18T00:00:00-05:00\",\"2008-12-19T00:00:00-05:00\",\"2008-12-22T00:00:00-05:00\",\"2008-12-23T00:00:00-05:00\",\"2008-12-24T00:00:00-05:00\",\"2008-12-26T00:00:00-05:00\",\"2008-12-29T00:00:00-05:00\",\"2008-12-30T00:00:00-05:00\",\"2008-12-31T00:00:00-05:00\",\"2009-01-02T00:00:00-05:00\",\"2009-01-05T00:00:00-05:00\",\"2009-01-06T00:00:00-05:00\",\"2009-01-07T00:00:00-05:00\",\"2009-01-08T00:00:00-05:00\",\"2009-01-09T00:00:00-05:00\",\"2009-01-12T00:00:00-05:00\",\"2009-01-13T00:00:00-05:00\",\"2009-01-14T00:00:00-05:00\",\"2009-01-15T00:00:00-05:00\",\"2009-01-16T00:00:00-05:00\",\"2009-01-20T00:00:00-05:00\",\"2009-01-21T00:00:00-05:00\",\"2009-01-22T00:00:00-05:00\",\"2009-01-23T00:00:00-05:00\",\"2009-01-26T00:00:00-05:00\",\"2009-01-27T00:00:00-05:00\",\"2009-01-28T00:00:00-05:00\",\"2009-01-29T00:00:00-05:00\",\"2009-01-30T00:00:00-05:00\",\"2009-02-02T00:00:00-05:00\",\"2009-02-03T00:00:00-05:00\",\"2009-02-04T00:00:00-05:00\",\"2009-02-05T00:00:00-05:00\",\"2009-02-06T00:00:00-05:00\",\"2009-02-09T00:00:00-05:00\",\"2009-02-10T00:00:00-05:00\",\"2009-02-11T00:00:00-05:00\",\"2009-02-12T00:00:00-05:00\",\"2009-02-13T00:00:00-05:00\",\"2009-02-17T00:00:00-05:00\",\"2009-02-18T00:00:00-05:00\",\"2009-02-19T00:00:00-05:00\",\"2009-02-20T00:00:00-05:00\",\"2009-02-23T00:00:00-05:00\",\"2009-02-24T00:00:00-05:00\",\"2009-02-25T00:00:00-05:00\",\"2009-02-26T00:00:00-05:00\",\"2009-02-27T00:00:00-05:00\",\"2009-03-02T00:00:00-05:00\",\"2009-03-03T00:00:00-05:00\",\"2009-03-04T00:00:00-05:00\",\"2009-03-05T00:00:00-05:00\",\"2009-03-06T00:00:00-05:00\",\"2009-03-09T00:00:00-04:00\",\"2009-03-10T00:00:00-04:00\",\"2009-03-11T00:00:00-04:00\",\"2009-03-12T00:00:00-04:00\",\"2009-03-13T00:00:00-04:00\",\"2009-03-16T00:00:00-04:00\",\"2009-03-17T00:00:00-04:00\",\"2009-03-18T00:00:00-04:00\",\"2009-03-19T00:00:00-04:00\",\"2009-03-20T00:00:00-04:00\",\"2009-03-23T00:00:00-04:00\",\"2009-03-24T00:00:00-04:00\",\"2009-03-25T00:00:00-04:00\",\"2009-03-26T00:00:00-04:00\",\"2009-03-27T00:00:00-04:00\",\"2009-03-30T00:00:00-04:00\",\"2009-03-31T00:00:00-04:00\",\"2009-04-01T00:00:00-04:00\",\"2009-04-02T00:00:00-04:00\",\"2009-04-03T00:00:00-04:00\",\"2009-04-06T00:00:00-04:00\",\"2009-04-07T00:00:00-04:00\",\"2009-04-08T00:00:00-04:00\",\"2009-04-09T00:00:00-04:00\",\"2009-04-13T00:00:00-04:00\",\"2009-04-14T00:00:00-04:00\",\"2009-04-15T00:00:00-04:00\",\"2009-04-16T00:00:00-04:00\",\"2009-04-17T00:00:00-04:00\",\"2009-04-20T00:00:00-04:00\",\"2009-04-21T00:00:00-04:00\",\"2009-04-22T00:00:00-04:00\",\"2009-04-23T00:00:00-04:00\",\"2009-04-24T00:00:00-04:00\",\"2009-04-27T00:00:00-04:00\",\"2009-04-28T00:00:00-04:00\",\"2009-04-29T00:00:00-04:00\",\"2009-04-30T00:00:00-04:00\",\"2009-05-01T00:00:00-04:00\",\"2009-05-04T00:00:00-04:00\",\"2009-05-05T00:00:00-04:00\",\"2009-05-06T00:00:00-04:00\",\"2009-05-07T00:00:00-04:00\",\"2009-05-08T00:00:00-04:00\",\"2009-05-11T00:00:00-04:00\",\"2009-05-12T00:00:00-04:00\",\"2009-05-13T00:00:00-04:00\",\"2009-05-14T00:00:00-04:00\",\"2009-05-15T00:00:00-04:00\",\"2009-05-18T00:00:00-04:00\",\"2009-05-19T00:00:00-04:00\",\"2009-05-20T00:00:00-04:00\",\"2009-05-21T00:00:00-04:00\",\"2009-05-22T00:00:00-04:00\",\"2009-05-26T00:00:00-04:00\",\"2009-05-27T00:00:00-04:00\",\"2009-05-28T00:00:00-04:00\",\"2009-05-29T00:00:00-04:00\",\"2009-06-01T00:00:00-04:00\",\"2009-06-02T00:00:00-04:00\",\"2009-06-03T00:00:00-04:00\",\"2009-06-04T00:00:00-04:00\",\"2009-06-05T00:00:00-04:00\",\"2009-06-08T00:00:00-04:00\",\"2009-06-09T00:00:00-04:00\",\"2009-06-10T00:00:00-04:00\",\"2009-06-11T00:00:00-04:00\",\"2009-06-12T00:00:00-04:00\",\"2009-06-15T00:00:00-04:00\",\"2009-06-16T00:00:00-04:00\",\"2009-06-17T00:00:00-04:00\",\"2009-06-18T00:00:00-04:00\",\"2009-06-19T00:00:00-04:00\",\"2009-06-22T00:00:00-04:00\",\"2009-06-23T00:00:00-04:00\",\"2009-06-24T00:00:00-04:00\",\"2009-06-25T00:00:00-04:00\",\"2009-06-26T00:00:00-04:00\",\"2009-06-29T00:00:00-04:00\",\"2009-06-30T00:00:00-04:00\",\"2009-07-01T00:00:00-04:00\",\"2009-07-02T00:00:00-04:00\",\"2009-07-06T00:00:00-04:00\",\"2009-07-07T00:00:00-04:00\",\"2009-07-08T00:00:00-04:00\",\"2009-07-09T00:00:00-04:00\",\"2009-07-10T00:00:00-04:00\",\"2009-07-13T00:00:00-04:00\",\"2009-07-14T00:00:00-04:00\",\"2009-07-15T00:00:00-04:00\",\"2009-07-16T00:00:00-04:00\",\"2009-07-17T00:00:00-04:00\",\"2009-07-20T00:00:00-04:00\",\"2009-07-21T00:00:00-04:00\",\"2009-07-22T00:00:00-04:00\",\"2009-07-23T00:00:00-04:00\",\"2009-07-24T00:00:00-04:00\",\"2009-07-27T00:00:00-04:00\",\"2009-07-28T00:00:00-04:00\",\"2009-07-29T00:00:00-04:00\",\"2009-07-30T00:00:00-04:00\",\"2009-07-31T00:00:00-04:00\",\"2009-08-03T00:00:00-04:00\",\"2009-08-04T00:00:00-04:00\",\"2009-08-05T00:00:00-04:00\",\"2009-08-06T00:00:00-04:00\",\"2009-08-07T00:00:00-04:00\",\"2009-08-10T00:00:00-04:00\",\"2009-08-11T00:00:00-04:00\",\"2009-08-12T00:00:00-04:00\",\"2009-08-13T00:00:00-04:00\",\"2009-08-14T00:00:00-04:00\",\"2009-08-17T00:00:00-04:00\",\"2009-08-18T00:00:00-04:00\",\"2009-08-19T00:00:00-04:00\",\"2009-08-20T00:00:00-04:00\",\"2009-08-21T00:00:00-04:00\",\"2009-08-24T00:00:00-04:00\",\"2009-08-25T00:00:00-04:00\",\"2009-08-26T00:00:00-04:00\",\"2009-08-27T00:00:00-04:00\",\"2009-08-28T00:00:00-04:00\",\"2009-08-31T00:00:00-04:00\",\"2009-09-01T00:00:00-04:00\",\"2009-09-02T00:00:00-04:00\",\"2009-09-03T00:00:00-04:00\",\"2009-09-04T00:00:00-04:00\",\"2009-09-08T00:00:00-04:00\",\"2009-09-09T00:00:00-04:00\",\"2009-09-10T00:00:00-04:00\",\"2009-09-11T00:00:00-04:00\",\"2009-09-14T00:00:00-04:00\",\"2009-09-15T00:00:00-04:00\",\"2009-09-16T00:00:00-04:00\",\"2009-09-17T00:00:00-04:00\",\"2009-09-18T00:00:00-04:00\",\"2009-09-21T00:00:00-04:00\",\"2009-09-22T00:00:00-04:00\",\"2009-09-23T00:00:00-04:00\",\"2009-09-24T00:00:00-04:00\",\"2009-09-25T00:00:00-04:00\",\"2009-09-28T00:00:00-04:00\",\"2009-09-29T00:00:00-04:00\",\"2009-09-30T00:00:00-04:00\",\"2009-10-01T00:00:00-04:00\",\"2009-10-02T00:00:00-04:00\",\"2009-10-05T00:00:00-04:00\",\"2009-10-06T00:00:00-04:00\",\"2009-10-07T00:00:00-04:00\",\"2009-10-08T00:00:00-04:00\",\"2009-10-09T00:00:00-04:00\",\"2009-10-12T00:00:00-04:00\",\"2009-10-13T00:00:00-04:00\",\"2009-10-14T00:00:00-04:00\",\"2009-10-15T00:00:00-04:00\",\"2009-10-16T00:00:00-04:00\",\"2009-10-19T00:00:00-04:00\",\"2009-10-20T00:00:00-04:00\",\"2009-10-21T00:00:00-04:00\",\"2009-10-22T00:00:00-04:00\",\"2009-10-23T00:00:00-04:00\",\"2009-10-26T00:00:00-04:00\",\"2009-10-27T00:00:00-04:00\",\"2009-10-28T00:00:00-04:00\",\"2009-10-29T00:00:00-04:00\",\"2009-10-30T00:00:00-04:00\",\"2009-11-02T00:00:00-05:00\",\"2009-11-03T00:00:00-05:00\",\"2009-11-04T00:00:00-05:00\",\"2009-11-05T00:00:00-05:00\",\"2009-11-06T00:00:00-05:00\",\"2009-11-09T00:00:00-05:00\",\"2009-11-10T00:00:00-05:00\",\"2009-11-11T00:00:00-05:00\",\"2009-11-12T00:00:00-05:00\",\"2009-11-13T00:00:00-05:00\",\"2009-11-16T00:00:00-05:00\",\"2009-11-17T00:00:00-05:00\",\"2009-11-18T00:00:00-05:00\",\"2009-11-19T00:00:00-05:00\",\"2009-11-20T00:00:00-05:00\",\"2009-11-23T00:00:00-05:00\",\"2009-11-24T00:00:00-05:00\",\"2009-11-25T00:00:00-05:00\",\"2009-11-27T00:00:00-05:00\",\"2009-11-30T00:00:00-05:00\",\"2009-12-01T00:00:00-05:00\",\"2009-12-02T00:00:00-05:00\",\"2009-12-03T00:00:00-05:00\",\"2009-12-04T00:00:00-05:00\",\"2009-12-07T00:00:00-05:00\",\"2009-12-08T00:00:00-05:00\",\"2009-12-09T00:00:00-05:00\",\"2009-12-10T00:00:00-05:00\",\"2009-12-11T00:00:00-05:00\",\"2009-12-14T00:00:00-05:00\",\"2009-12-15T00:00:00-05:00\",\"2009-12-16T00:00:00-05:00\",\"2009-12-17T00:00:00-05:00\",\"2009-12-18T00:00:00-05:00\",\"2009-12-21T00:00:00-05:00\",\"2009-12-22T00:00:00-05:00\",\"2009-12-23T00:00:00-05:00\",\"2009-12-24T00:00:00-05:00\",\"2009-12-28T00:00:00-05:00\",\"2009-12-29T00:00:00-05:00\",\"2009-12-30T00:00:00-05:00\",\"2009-12-31T00:00:00-05:00\",\"2010-01-04T00:00:00-05:00\",\"2010-01-05T00:00:00-05:00\",\"2010-01-06T00:00:00-05:00\",\"2010-01-07T00:00:00-05:00\",\"2010-01-08T00:00:00-05:00\",\"2010-01-11T00:00:00-05:00\",\"2010-01-12T00:00:00-05:00\",\"2010-01-13T00:00:00-05:00\",\"2010-01-14T00:00:00-05:00\",\"2010-01-15T00:00:00-05:00\",\"2010-01-19T00:00:00-05:00\",\"2010-01-20T00:00:00-05:00\",\"2010-01-21T00:00:00-05:00\",\"2010-01-22T00:00:00-05:00\",\"2010-01-25T00:00:00-05:00\",\"2010-01-26T00:00:00-05:00\",\"2010-01-27T00:00:00-05:00\",\"2010-01-28T00:00:00-05:00\",\"2010-01-29T00:00:00-05:00\",\"2010-02-01T00:00:00-05:00\",\"2010-02-02T00:00:00-05:00\",\"2010-02-03T00:00:00-05:00\",\"2010-02-04T00:00:00-05:00\",\"2010-02-05T00:00:00-05:00\",\"2010-02-08T00:00:00-05:00\",\"2010-02-09T00:00:00-05:00\",\"2010-02-10T00:00:00-05:00\",\"2010-02-11T00:00:00-05:00\",\"2010-02-12T00:00:00-05:00\",\"2010-02-16T00:00:00-05:00\",\"2010-02-17T00:00:00-05:00\",\"2010-02-18T00:00:00-05:00\",\"2010-02-19T00:00:00-05:00\",\"2010-02-22T00:00:00-05:00\",\"2010-02-23T00:00:00-05:00\",\"2010-02-24T00:00:00-05:00\",\"2010-02-25T00:00:00-05:00\",\"2010-02-26T00:00:00-05:00\",\"2010-03-01T00:00:00-05:00\",\"2010-03-02T00:00:00-05:00\",\"2010-03-03T00:00:00-05:00\",\"2010-03-04T00:00:00-05:00\",\"2010-03-05T00:00:00-05:00\",\"2010-03-08T00:00:00-05:00\",\"2010-03-09T00:00:00-05:00\",\"2010-03-10T00:00:00-05:00\",\"2010-03-11T00:00:00-05:00\",\"2010-03-12T00:00:00-05:00\",\"2010-03-15T00:00:00-04:00\",\"2010-03-16T00:00:00-04:00\",\"2010-03-17T00:00:00-04:00\",\"2010-03-18T00:00:00-04:00\",\"2010-03-19T00:00:00-04:00\",\"2010-03-22T00:00:00-04:00\",\"2010-03-23T00:00:00-04:00\",\"2010-03-24T00:00:00-04:00\",\"2010-03-25T00:00:00-04:00\",\"2010-03-26T00:00:00-04:00\",\"2010-03-29T00:00:00-04:00\",\"2010-03-30T00:00:00-04:00\",\"2010-03-31T00:00:00-04:00\",\"2010-04-01T00:00:00-04:00\",\"2010-04-05T00:00:00-04:00\",\"2010-04-06T00:00:00-04:00\",\"2010-04-07T00:00:00-04:00\",\"2010-04-08T00:00:00-04:00\",\"2010-04-09T00:00:00-04:00\",\"2010-04-12T00:00:00-04:00\",\"2010-04-13T00:00:00-04:00\",\"2010-04-14T00:00:00-04:00\",\"2010-04-15T00:00:00-04:00\",\"2010-04-16T00:00:00-04:00\",\"2010-04-19T00:00:00-04:00\",\"2010-04-20T00:00:00-04:00\",\"2010-04-21T00:00:00-04:00\",\"2010-04-22T00:00:00-04:00\",\"2010-04-23T00:00:00-04:00\",\"2010-04-26T00:00:00-04:00\",\"2010-04-27T00:00:00-04:00\",\"2010-04-28T00:00:00-04:00\",\"2010-04-29T00:00:00-04:00\",\"2010-04-30T00:00:00-04:00\",\"2010-05-03T00:00:00-04:00\",\"2010-05-04T00:00:00-04:00\",\"2010-05-05T00:00:00-04:00\",\"2010-05-06T00:00:00-04:00\",\"2010-05-07T00:00:00-04:00\",\"2010-05-10T00:00:00-04:00\",\"2010-05-11T00:00:00-04:00\",\"2010-05-12T00:00:00-04:00\",\"2010-05-13T00:00:00-04:00\",\"2010-05-14T00:00:00-04:00\",\"2010-05-17T00:00:00-04:00\",\"2010-05-18T00:00:00-04:00\",\"2010-05-19T00:00:00-04:00\",\"2010-05-20T00:00:00-04:00\",\"2010-05-21T00:00:00-04:00\",\"2010-05-24T00:00:00-04:00\",\"2010-05-25T00:00:00-04:00\",\"2010-05-26T00:00:00-04:00\",\"2010-05-27T00:00:00-04:00\",\"2010-05-28T00:00:00-04:00\",\"2010-06-01T00:00:00-04:00\",\"2010-06-02T00:00:00-04:00\",\"2010-06-03T00:00:00-04:00\",\"2010-06-04T00:00:00-04:00\",\"2010-06-07T00:00:00-04:00\",\"2010-06-08T00:00:00-04:00\",\"2010-06-09T00:00:00-04:00\",\"2010-06-10T00:00:00-04:00\",\"2010-06-11T00:00:00-04:00\",\"2010-06-14T00:00:00-04:00\",\"2010-06-15T00:00:00-04:00\",\"2010-06-16T00:00:00-04:00\",\"2010-06-17T00:00:00-04:00\",\"2010-06-18T00:00:00-04:00\",\"2010-06-21T00:00:00-04:00\",\"2010-06-22T00:00:00-04:00\",\"2010-06-23T00:00:00-04:00\",\"2010-06-24T00:00:00-04:00\",\"2010-06-25T00:00:00-04:00\",\"2010-06-28T00:00:00-04:00\",\"2010-06-29T00:00:00-04:00\",\"2010-06-30T00:00:00-04:00\",\"2010-07-01T00:00:00-04:00\",\"2010-07-02T00:00:00-04:00\",\"2010-07-06T00:00:00-04:00\",\"2010-07-07T00:00:00-04:00\",\"2010-07-08T00:00:00-04:00\",\"2010-07-09T00:00:00-04:00\",\"2010-07-12T00:00:00-04:00\",\"2010-07-13T00:00:00-04:00\",\"2010-07-14T00:00:00-04:00\",\"2010-07-15T00:00:00-04:00\",\"2010-07-16T00:00:00-04:00\",\"2010-07-19T00:00:00-04:00\",\"2010-07-20T00:00:00-04:00\",\"2010-07-21T00:00:00-04:00\",\"2010-07-22T00:00:00-04:00\",\"2010-07-23T00:00:00-04:00\",\"2010-07-26T00:00:00-04:00\",\"2010-07-27T00:00:00-04:00\",\"2010-07-28T00:00:00-04:00\",\"2010-07-29T00:00:00-04:00\",\"2010-07-30T00:00:00-04:00\",\"2010-08-02T00:00:00-04:00\",\"2010-08-03T00:00:00-04:00\",\"2010-08-04T00:00:00-04:00\",\"2010-08-05T00:00:00-04:00\",\"2010-08-06T00:00:00-04:00\",\"2010-08-09T00:00:00-04:00\",\"2010-08-10T00:00:00-04:00\",\"2010-08-11T00:00:00-04:00\",\"2010-08-12T00:00:00-04:00\",\"2010-08-13T00:00:00-04:00\",\"2010-08-16T00:00:00-04:00\",\"2010-08-17T00:00:00-04:00\",\"2010-08-18T00:00:00-04:00\",\"2010-08-19T00:00:00-04:00\",\"2010-08-20T00:00:00-04:00\",\"2010-08-23T00:00:00-04:00\",\"2010-08-24T00:00:00-04:00\",\"2010-08-25T00:00:00-04:00\",\"2010-08-26T00:00:00-04:00\",\"2010-08-27T00:00:00-04:00\",\"2010-08-30T00:00:00-04:00\",\"2010-08-31T00:00:00-04:00\",\"2010-09-01T00:00:00-04:00\",\"2010-09-02T00:00:00-04:00\",\"2010-09-03T00:00:00-04:00\",\"2010-09-07T00:00:00-04:00\",\"2010-09-08T00:00:00-04:00\",\"2010-09-09T00:00:00-04:00\",\"2010-09-10T00:00:00-04:00\",\"2010-09-13T00:00:00-04:00\",\"2010-09-14T00:00:00-04:00\",\"2010-09-15T00:00:00-04:00\",\"2010-09-16T00:00:00-04:00\",\"2010-09-17T00:00:00-04:00\",\"2010-09-20T00:00:00-04:00\",\"2010-09-21T00:00:00-04:00\",\"2010-09-22T00:00:00-04:00\",\"2010-09-23T00:00:00-04:00\",\"2010-09-24T00:00:00-04:00\",\"2010-09-27T00:00:00-04:00\",\"2010-09-28T00:00:00-04:00\",\"2010-09-29T00:00:00-04:00\",\"2010-09-30T00:00:00-04:00\",\"2010-10-01T00:00:00-04:00\",\"2010-10-04T00:00:00-04:00\",\"2010-10-05T00:00:00-04:00\",\"2010-10-06T00:00:00-04:00\",\"2010-10-07T00:00:00-04:00\",\"2010-10-08T00:00:00-04:00\",\"2010-10-11T00:00:00-04:00\",\"2010-10-12T00:00:00-04:00\",\"2010-10-13T00:00:00-04:00\",\"2010-10-14T00:00:00-04:00\",\"2010-10-15T00:00:00-04:00\",\"2010-10-18T00:00:00-04:00\",\"2010-10-19T00:00:00-04:00\",\"2010-10-20T00:00:00-04:00\",\"2010-10-21T00:00:00-04:00\",\"2010-10-22T00:00:00-04:00\",\"2010-10-25T00:00:00-04:00\",\"2010-10-26T00:00:00-04:00\",\"2010-10-27T00:00:00-04:00\",\"2010-10-28T00:00:00-04:00\",\"2010-10-29T00:00:00-04:00\",\"2010-11-01T00:00:00-04:00\",\"2010-11-02T00:00:00-04:00\",\"2010-11-03T00:00:00-04:00\",\"2010-11-04T00:00:00-04:00\",\"2010-11-05T00:00:00-04:00\",\"2010-11-08T00:00:00-05:00\",\"2010-11-09T00:00:00-05:00\",\"2010-11-10T00:00:00-05:00\",\"2010-11-11T00:00:00-05:00\",\"2010-11-12T00:00:00-05:00\",\"2010-11-15T00:00:00-05:00\",\"2010-11-16T00:00:00-05:00\",\"2010-11-17T00:00:00-05:00\",\"2010-11-18T00:00:00-05:00\",\"2010-11-19T00:00:00-05:00\",\"2010-11-22T00:00:00-05:00\",\"2010-11-23T00:00:00-05:00\",\"2010-11-24T00:00:00-05:00\",\"2010-11-26T00:00:00-05:00\",\"2010-11-29T00:00:00-05:00\",\"2010-11-30T00:00:00-05:00\",\"2010-12-01T00:00:00-05:00\",\"2010-12-02T00:00:00-05:00\",\"2010-12-03T00:00:00-05:00\",\"2010-12-06T00:00:00-05:00\",\"2010-12-07T00:00:00-05:00\",\"2010-12-08T00:00:00-05:00\",\"2010-12-09T00:00:00-05:00\",\"2010-12-10T00:00:00-05:00\",\"2010-12-13T00:00:00-05:00\",\"2010-12-14T00:00:00-05:00\",\"2010-12-15T00:00:00-05:00\",\"2010-12-16T00:00:00-05:00\",\"2010-12-17T00:00:00-05:00\",\"2010-12-20T00:00:00-05:00\",\"2010-12-21T00:00:00-05:00\",\"2010-12-22T00:00:00-05:00\",\"2010-12-23T00:00:00-05:00\",\"2010-12-27T00:00:00-05:00\",\"2010-12-28T00:00:00-05:00\",\"2010-12-29T00:00:00-05:00\",\"2010-12-30T00:00:00-05:00\",\"2010-12-31T00:00:00-05:00\",\"2011-01-03T00:00:00-05:00\",\"2011-01-04T00:00:00-05:00\",\"2011-01-05T00:00:00-05:00\",\"2011-01-06T00:00:00-05:00\",\"2011-01-07T00:00:00-05:00\",\"2011-01-10T00:00:00-05:00\",\"2011-01-11T00:00:00-05:00\",\"2011-01-12T00:00:00-05:00\",\"2011-01-13T00:00:00-05:00\",\"2011-01-14T00:00:00-05:00\",\"2011-01-18T00:00:00-05:00\",\"2011-01-19T00:00:00-05:00\",\"2011-01-20T00:00:00-05:00\",\"2011-01-21T00:00:00-05:00\",\"2011-01-24T00:00:00-05:00\",\"2011-01-25T00:00:00-05:00\",\"2011-01-26T00:00:00-05:00\",\"2011-01-27T00:00:00-05:00\",\"2011-01-28T00:00:00-05:00\",\"2011-01-31T00:00:00-05:00\",\"2011-02-01T00:00:00-05:00\",\"2011-02-02T00:00:00-05:00\",\"2011-02-03T00:00:00-05:00\",\"2011-02-04T00:00:00-05:00\",\"2011-02-07T00:00:00-05:00\",\"2011-02-08T00:00:00-05:00\",\"2011-02-09T00:00:00-05:00\",\"2011-02-10T00:00:00-05:00\",\"2011-02-11T00:00:00-05:00\",\"2011-02-14T00:00:00-05:00\",\"2011-02-15T00:00:00-05:00\",\"2011-02-16T00:00:00-05:00\",\"2011-02-17T00:00:00-05:00\",\"2011-02-18T00:00:00-05:00\",\"2011-02-22T00:00:00-05:00\",\"2011-02-23T00:00:00-05:00\",\"2011-02-24T00:00:00-05:00\",\"2011-02-25T00:00:00-05:00\",\"2011-02-28T00:00:00-05:00\",\"2011-03-01T00:00:00-05:00\",\"2011-03-02T00:00:00-05:00\",\"2011-03-03T00:00:00-05:00\",\"2011-03-04T00:00:00-05:00\",\"2011-03-07T00:00:00-05:00\",\"2011-03-08T00:00:00-05:00\",\"2011-03-09T00:00:00-05:00\",\"2011-03-10T00:00:00-05:00\",\"2011-03-11T00:00:00-05:00\",\"2011-03-14T00:00:00-04:00\",\"2011-03-15T00:00:00-04:00\",\"2011-03-16T00:00:00-04:00\",\"2011-03-17T00:00:00-04:00\",\"2011-03-18T00:00:00-04:00\",\"2011-03-21T00:00:00-04:00\",\"2011-03-22T00:00:00-04:00\",\"2011-03-23T00:00:00-04:00\",\"2011-03-24T00:00:00-04:00\",\"2011-03-25T00:00:00-04:00\",\"2011-03-28T00:00:00-04:00\",\"2011-03-29T00:00:00-04:00\",\"2011-03-30T00:00:00-04:00\",\"2011-03-31T00:00:00-04:00\",\"2011-04-01T00:00:00-04:00\",\"2011-04-04T00:00:00-04:00\",\"2011-04-05T00:00:00-04:00\",\"2011-04-06T00:00:00-04:00\",\"2011-04-07T00:00:00-04:00\",\"2011-04-08T00:00:00-04:00\",\"2011-04-11T00:00:00-04:00\",\"2011-04-12T00:00:00-04:00\",\"2011-04-13T00:00:00-04:00\",\"2011-04-14T00:00:00-04:00\",\"2011-04-15T00:00:00-04:00\",\"2011-04-18T00:00:00-04:00\",\"2011-04-19T00:00:00-04:00\",\"2011-04-20T00:00:00-04:00\",\"2011-04-21T00:00:00-04:00\",\"2011-04-25T00:00:00-04:00\",\"2011-04-26T00:00:00-04:00\",\"2011-04-27T00:00:00-04:00\",\"2011-04-28T00:00:00-04:00\",\"2011-04-29T00:00:00-04:00\",\"2011-05-02T00:00:00-04:00\",\"2011-05-03T00:00:00-04:00\",\"2011-05-04T00:00:00-04:00\",\"2011-05-05T00:00:00-04:00\",\"2011-05-06T00:00:00-04:00\",\"2011-05-09T00:00:00-04:00\",\"2011-05-10T00:00:00-04:00\",\"2011-05-11T00:00:00-04:00\",\"2011-05-12T00:00:00-04:00\",\"2011-05-13T00:00:00-04:00\",\"2011-05-16T00:00:00-04:00\",\"2011-05-17T00:00:00-04:00\",\"2011-05-18T00:00:00-04:00\",\"2011-05-19T00:00:00-04:00\",\"2011-05-20T00:00:00-04:00\",\"2011-05-23T00:00:00-04:00\",\"2011-05-24T00:00:00-04:00\",\"2011-05-25T00:00:00-04:00\",\"2011-05-26T00:00:00-04:00\",\"2011-05-27T00:00:00-04:00\",\"2011-05-31T00:00:00-04:00\",\"2011-06-01T00:00:00-04:00\",\"2011-06-02T00:00:00-04:00\",\"2011-06-03T00:00:00-04:00\",\"2011-06-06T00:00:00-04:00\",\"2011-06-07T00:00:00-04:00\",\"2011-06-08T00:00:00-04:00\",\"2011-06-09T00:00:00-04:00\",\"2011-06-10T00:00:00-04:00\",\"2011-06-13T00:00:00-04:00\",\"2011-06-14T00:00:00-04:00\",\"2011-06-15T00:00:00-04:00\",\"2011-06-16T00:00:00-04:00\",\"2011-06-17T00:00:00-04:00\",\"2011-06-20T00:00:00-04:00\",\"2011-06-21T00:00:00-04:00\",\"2011-06-22T00:00:00-04:00\",\"2011-06-23T00:00:00-04:00\",\"2011-06-24T00:00:00-04:00\",\"2011-06-27T00:00:00-04:00\",\"2011-06-28T00:00:00-04:00\",\"2011-06-29T00:00:00-04:00\",\"2011-06-30T00:00:00-04:00\",\"2011-07-01T00:00:00-04:00\",\"2011-07-05T00:00:00-04:00\",\"2011-07-06T00:00:00-04:00\",\"2011-07-07T00:00:00-04:00\",\"2011-07-08T00:00:00-04:00\",\"2011-07-11T00:00:00-04:00\",\"2011-07-12T00:00:00-04:00\",\"2011-07-13T00:00:00-04:00\",\"2011-07-14T00:00:00-04:00\",\"2011-07-15T00:00:00-04:00\",\"2011-07-18T00:00:00-04:00\",\"2011-07-19T00:00:00-04:00\",\"2011-07-20T00:00:00-04:00\",\"2011-07-21T00:00:00-04:00\",\"2011-07-22T00:00:00-04:00\",\"2011-07-25T00:00:00-04:00\",\"2011-07-26T00:00:00-04:00\",\"2011-07-27T00:00:00-04:00\",\"2011-07-28T00:00:00-04:00\",\"2011-07-29T00:00:00-04:00\",\"2011-08-01T00:00:00-04:00\",\"2011-08-02T00:00:00-04:00\",\"2011-08-03T00:00:00-04:00\",\"2011-08-04T00:00:00-04:00\",\"2011-08-05T00:00:00-04:00\",\"2011-08-08T00:00:00-04:00\",\"2011-08-09T00:00:00-04:00\",\"2011-08-10T00:00:00-04:00\",\"2011-08-11T00:00:00-04:00\",\"2011-08-12T00:00:00-04:00\",\"2011-08-15T00:00:00-04:00\",\"2011-08-16T00:00:00-04:00\",\"2011-08-17T00:00:00-04:00\",\"2011-08-18T00:00:00-04:00\",\"2011-08-19T00:00:00-04:00\",\"2011-08-22T00:00:00-04:00\",\"2011-08-23T00:00:00-04:00\",\"2011-08-24T00:00:00-04:00\",\"2011-08-25T00:00:00-04:00\",\"2011-08-26T00:00:00-04:00\",\"2011-08-29T00:00:00-04:00\",\"2011-08-30T00:00:00-04:00\",\"2011-08-31T00:00:00-04:00\",\"2011-09-01T00:00:00-04:00\",\"2011-09-02T00:00:00-04:00\",\"2011-09-06T00:00:00-04:00\",\"2011-09-07T00:00:00-04:00\",\"2011-09-08T00:00:00-04:00\",\"2011-09-09T00:00:00-04:00\",\"2011-09-12T00:00:00-04:00\",\"2011-09-13T00:00:00-04:00\",\"2011-09-14T00:00:00-04:00\",\"2011-09-15T00:00:00-04:00\",\"2011-09-16T00:00:00-04:00\",\"2011-09-19T00:00:00-04:00\",\"2011-09-20T00:00:00-04:00\",\"2011-09-21T00:00:00-04:00\",\"2011-09-22T00:00:00-04:00\",\"2011-09-23T00:00:00-04:00\",\"2011-09-26T00:00:00-04:00\",\"2011-09-27T00:00:00-04:00\",\"2011-09-28T00:00:00-04:00\",\"2011-09-29T00:00:00-04:00\",\"2011-09-30T00:00:00-04:00\",\"2011-10-03T00:00:00-04:00\",\"2011-10-04T00:00:00-04:00\",\"2011-10-05T00:00:00-04:00\",\"2011-10-06T00:00:00-04:00\",\"2011-10-07T00:00:00-04:00\",\"2011-10-10T00:00:00-04:00\",\"2011-10-11T00:00:00-04:00\",\"2011-10-12T00:00:00-04:00\",\"2011-10-13T00:00:00-04:00\",\"2011-10-14T00:00:00-04:00\",\"2011-10-17T00:00:00-04:00\",\"2011-10-18T00:00:00-04:00\",\"2011-10-19T00:00:00-04:00\",\"2011-10-20T00:00:00-04:00\",\"2011-10-21T00:00:00-04:00\",\"2011-10-24T00:00:00-04:00\",\"2011-10-25T00:00:00-04:00\",\"2011-10-26T00:00:00-04:00\",\"2011-10-27T00:00:00-04:00\",\"2011-10-28T00:00:00-04:00\",\"2011-10-31T00:00:00-04:00\",\"2011-11-01T00:00:00-04:00\",\"2011-11-02T00:00:00-04:00\",\"2011-11-03T00:00:00-04:00\",\"2011-11-04T00:00:00-04:00\",\"2011-11-07T00:00:00-05:00\",\"2011-11-08T00:00:00-05:00\",\"2011-11-09T00:00:00-05:00\",\"2011-11-10T00:00:00-05:00\",\"2011-11-11T00:00:00-05:00\",\"2011-11-14T00:00:00-05:00\",\"2011-11-15T00:00:00-05:00\",\"2011-11-16T00:00:00-05:00\",\"2011-11-17T00:00:00-05:00\",\"2011-11-18T00:00:00-05:00\",\"2011-11-21T00:00:00-05:00\",\"2011-11-22T00:00:00-05:00\",\"2011-11-23T00:00:00-05:00\",\"2011-11-25T00:00:00-05:00\",\"2011-11-28T00:00:00-05:00\",\"2011-11-29T00:00:00-05:00\",\"2011-11-30T00:00:00-05:00\",\"2011-12-01T00:00:00-05:00\",\"2011-12-02T00:00:00-05:00\",\"2011-12-05T00:00:00-05:00\",\"2011-12-06T00:00:00-05:00\",\"2011-12-07T00:00:00-05:00\",\"2011-12-08T00:00:00-05:00\",\"2011-12-09T00:00:00-05:00\",\"2011-12-12T00:00:00-05:00\",\"2011-12-13T00:00:00-05:00\",\"2011-12-14T00:00:00-05:00\",\"2011-12-15T00:00:00-05:00\",\"2011-12-16T00:00:00-05:00\",\"2011-12-19T00:00:00-05:00\",\"2011-12-20T00:00:00-05:00\",\"2011-12-21T00:00:00-05:00\",\"2011-12-22T00:00:00-05:00\",\"2011-12-23T00:00:00-05:00\",\"2011-12-27T00:00:00-05:00\",\"2011-12-28T00:00:00-05:00\",\"2011-12-29T00:00:00-05:00\",\"2011-12-30T00:00:00-05:00\",\"2012-01-03T00:00:00-05:00\",\"2012-01-04T00:00:00-05:00\",\"2012-01-05T00:00:00-05:00\",\"2012-01-06T00:00:00-05:00\",\"2012-01-09T00:00:00-05:00\",\"2012-01-10T00:00:00-05:00\",\"2012-01-11T00:00:00-05:00\",\"2012-01-12T00:00:00-05:00\",\"2012-01-13T00:00:00-05:00\",\"2012-01-17T00:00:00-05:00\",\"2012-01-18T00:00:00-05:00\",\"2012-01-19T00:00:00-05:00\",\"2012-01-20T00:00:00-05:00\",\"2012-01-23T00:00:00-05:00\",\"2012-01-24T00:00:00-05:00\",\"2012-01-25T00:00:00-05:00\",\"2012-01-26T00:00:00-05:00\",\"2012-01-27T00:00:00-05:00\",\"2012-01-30T00:00:00-05:00\",\"2012-01-31T00:00:00-05:00\",\"2012-02-01T00:00:00-05:00\",\"2012-02-02T00:00:00-05:00\",\"2012-02-03T00:00:00-05:00\",\"2012-02-06T00:00:00-05:00\",\"2012-02-07T00:00:00-05:00\",\"2012-02-08T00:00:00-05:00\",\"2012-02-09T00:00:00-05:00\",\"2012-02-10T00:00:00-05:00\",\"2012-02-13T00:00:00-05:00\",\"2012-02-14T00:00:00-05:00\",\"2012-02-15T00:00:00-05:00\",\"2012-02-16T00:00:00-05:00\",\"2012-02-17T00:00:00-05:00\",\"2012-02-21T00:00:00-05:00\",\"2012-02-22T00:00:00-05:00\",\"2012-02-23T00:00:00-05:00\",\"2012-02-24T00:00:00-05:00\",\"2012-02-27T00:00:00-05:00\",\"2012-02-28T00:00:00-05:00\",\"2012-02-29T00:00:00-05:00\",\"2012-03-01T00:00:00-05:00\",\"2012-03-02T00:00:00-05:00\",\"2012-03-05T00:00:00-05:00\",\"2012-03-06T00:00:00-05:00\",\"2012-03-07T00:00:00-05:00\",\"2012-03-08T00:00:00-05:00\",\"2012-03-09T00:00:00-05:00\",\"2012-03-12T00:00:00-04:00\",\"2012-03-13T00:00:00-04:00\",\"2012-03-14T00:00:00-04:00\",\"2012-03-15T00:00:00-04:00\",\"2012-03-16T00:00:00-04:00\",\"2012-03-19T00:00:00-04:00\",\"2012-03-20T00:00:00-04:00\",\"2012-03-21T00:00:00-04:00\",\"2012-03-22T00:00:00-04:00\",\"2012-03-23T00:00:00-04:00\",\"2012-03-26T00:00:00-04:00\",\"2012-03-27T00:00:00-04:00\",\"2012-03-28T00:00:00-04:00\",\"2012-03-29T00:00:00-04:00\",\"2012-03-30T00:00:00-04:00\",\"2012-04-02T00:00:00-04:00\",\"2012-04-03T00:00:00-04:00\",\"2012-04-04T00:00:00-04:00\",\"2012-04-05T00:00:00-04:00\",\"2012-04-09T00:00:00-04:00\",\"2012-04-10T00:00:00-04:00\",\"2012-04-11T00:00:00-04:00\",\"2012-04-12T00:00:00-04:00\",\"2012-04-13T00:00:00-04:00\",\"2012-04-16T00:00:00-04:00\",\"2012-04-17T00:00:00-04:00\",\"2012-04-18T00:00:00-04:00\",\"2012-04-19T00:00:00-04:00\",\"2012-04-20T00:00:00-04:00\",\"2012-04-23T00:00:00-04:00\",\"2012-04-24T00:00:00-04:00\",\"2012-04-25T00:00:00-04:00\",\"2012-04-26T00:00:00-04:00\",\"2012-04-27T00:00:00-04:00\",\"2012-04-30T00:00:00-04:00\",\"2012-05-01T00:00:00-04:00\",\"2012-05-02T00:00:00-04:00\",\"2012-05-03T00:00:00-04:00\",\"2012-05-04T00:00:00-04:00\",\"2012-05-07T00:00:00-04:00\",\"2012-05-08T00:00:00-04:00\",\"2012-05-09T00:00:00-04:00\",\"2012-05-10T00:00:00-04:00\",\"2012-05-11T00:00:00-04:00\",\"2012-05-14T00:00:00-04:00\",\"2012-05-15T00:00:00-04:00\",\"2012-05-16T00:00:00-04:00\",\"2012-05-17T00:00:00-04:00\",\"2012-05-18T00:00:00-04:00\",\"2012-05-21T00:00:00-04:00\",\"2012-05-22T00:00:00-04:00\",\"2012-05-23T00:00:00-04:00\",\"2012-05-24T00:00:00-04:00\",\"2012-05-25T00:00:00-04:00\",\"2012-05-29T00:00:00-04:00\",\"2012-05-30T00:00:00-04:00\",\"2012-05-31T00:00:00-04:00\",\"2012-06-01T00:00:00-04:00\",\"2012-06-04T00:00:00-04:00\",\"2012-06-05T00:00:00-04:00\",\"2012-06-06T00:00:00-04:00\",\"2012-06-07T00:00:00-04:00\",\"2012-06-08T00:00:00-04:00\",\"2012-06-11T00:00:00-04:00\",\"2012-06-12T00:00:00-04:00\",\"2012-06-13T00:00:00-04:00\",\"2012-06-14T00:00:00-04:00\",\"2012-06-15T00:00:00-04:00\",\"2012-06-18T00:00:00-04:00\",\"2012-06-19T00:00:00-04:00\",\"2012-06-20T00:00:00-04:00\",\"2012-06-21T00:00:00-04:00\",\"2012-06-22T00:00:00-04:00\",\"2012-06-25T00:00:00-04:00\",\"2012-06-26T00:00:00-04:00\",\"2012-06-27T00:00:00-04:00\",\"2012-06-28T00:00:00-04:00\",\"2012-06-29T00:00:00-04:00\",\"2012-07-02T00:00:00-04:00\",\"2012-07-03T00:00:00-04:00\",\"2012-07-05T00:00:00-04:00\",\"2012-07-06T00:00:00-04:00\",\"2012-07-09T00:00:00-04:00\",\"2012-07-10T00:00:00-04:00\",\"2012-07-11T00:00:00-04:00\",\"2012-07-12T00:00:00-04:00\",\"2012-07-13T00:00:00-04:00\",\"2012-07-16T00:00:00-04:00\",\"2012-07-17T00:00:00-04:00\",\"2012-07-18T00:00:00-04:00\",\"2012-07-19T00:00:00-04:00\",\"2012-07-20T00:00:00-04:00\",\"2012-07-23T00:00:00-04:00\",\"2012-07-24T00:00:00-04:00\",\"2012-07-25T00:00:00-04:00\",\"2012-07-26T00:00:00-04:00\",\"2012-07-27T00:00:00-04:00\",\"2012-07-30T00:00:00-04:00\",\"2012-07-31T00:00:00-04:00\",\"2012-08-01T00:00:00-04:00\",\"2012-08-02T00:00:00-04:00\",\"2012-08-03T00:00:00-04:00\",\"2012-08-06T00:00:00-04:00\",\"2012-08-07T00:00:00-04:00\",\"2012-08-08T00:00:00-04:00\",\"2012-08-09T00:00:00-04:00\",\"2012-08-10T00:00:00-04:00\",\"2012-08-13T00:00:00-04:00\",\"2012-08-14T00:00:00-04:00\",\"2012-08-15T00:00:00-04:00\",\"2012-08-16T00:00:00-04:00\",\"2012-08-17T00:00:00-04:00\",\"2012-08-20T00:00:00-04:00\",\"2012-08-21T00:00:00-04:00\",\"2012-08-22T00:00:00-04:00\",\"2012-08-23T00:00:00-04:00\",\"2012-08-24T00:00:00-04:00\",\"2012-08-27T00:00:00-04:00\",\"2012-08-28T00:00:00-04:00\",\"2012-08-29T00:00:00-04:00\",\"2012-08-30T00:00:00-04:00\",\"2012-08-31T00:00:00-04:00\",\"2012-09-04T00:00:00-04:00\",\"2012-09-05T00:00:00-04:00\",\"2012-09-06T00:00:00-04:00\",\"2012-09-07T00:00:00-04:00\",\"2012-09-10T00:00:00-04:00\",\"2012-09-11T00:00:00-04:00\",\"2012-09-12T00:00:00-04:00\",\"2012-09-13T00:00:00-04:00\",\"2012-09-14T00:00:00-04:00\",\"2012-09-17T00:00:00-04:00\",\"2012-09-18T00:00:00-04:00\",\"2012-09-19T00:00:00-04:00\",\"2012-09-20T00:00:00-04:00\",\"2012-09-21T00:00:00-04:00\",\"2012-09-24T00:00:00-04:00\",\"2012-09-25T00:00:00-04:00\",\"2012-09-26T00:00:00-04:00\",\"2012-09-27T00:00:00-04:00\",\"2012-09-28T00:00:00-04:00\",\"2012-10-01T00:00:00-04:00\",\"2012-10-02T00:00:00-04:00\",\"2012-10-03T00:00:00-04:00\",\"2012-10-04T00:00:00-04:00\",\"2012-10-05T00:00:00-04:00\",\"2012-10-08T00:00:00-04:00\",\"2012-10-09T00:00:00-04:00\",\"2012-10-10T00:00:00-04:00\",\"2012-10-11T00:00:00-04:00\",\"2012-10-12T00:00:00-04:00\",\"2012-10-15T00:00:00-04:00\",\"2012-10-16T00:00:00-04:00\",\"2012-10-17T00:00:00-04:00\",\"2012-10-18T00:00:00-04:00\",\"2012-10-19T00:00:00-04:00\",\"2012-10-22T00:00:00-04:00\",\"2012-10-23T00:00:00-04:00\",\"2012-10-24T00:00:00-04:00\",\"2012-10-25T00:00:00-04:00\",\"2012-10-26T00:00:00-04:00\",\"2012-10-31T00:00:00-04:00\",\"2012-11-01T00:00:00-04:00\",\"2012-11-02T00:00:00-04:00\",\"2012-11-05T00:00:00-05:00\",\"2012-11-06T00:00:00-05:00\",\"2012-11-07T00:00:00-05:00\",\"2012-11-08T00:00:00-05:00\",\"2012-11-09T00:00:00-05:00\",\"2012-11-12T00:00:00-05:00\",\"2012-11-13T00:00:00-05:00\",\"2012-11-14T00:00:00-05:00\",\"2012-11-15T00:00:00-05:00\",\"2012-11-16T00:00:00-05:00\",\"2012-11-19T00:00:00-05:00\",\"2012-11-20T00:00:00-05:00\",\"2012-11-21T00:00:00-05:00\",\"2012-11-23T00:00:00-05:00\",\"2012-11-26T00:00:00-05:00\",\"2012-11-27T00:00:00-05:00\",\"2012-11-28T00:00:00-05:00\",\"2012-11-29T00:00:00-05:00\",\"2012-11-30T00:00:00-05:00\",\"2012-12-03T00:00:00-05:00\",\"2012-12-04T00:00:00-05:00\",\"2012-12-05T00:00:00-05:00\",\"2012-12-06T00:00:00-05:00\",\"2012-12-07T00:00:00-05:00\",\"2012-12-10T00:00:00-05:00\",\"2012-12-11T00:00:00-05:00\",\"2012-12-12T00:00:00-05:00\",\"2012-12-13T00:00:00-05:00\",\"2012-12-14T00:00:00-05:00\",\"2012-12-17T00:00:00-05:00\",\"2012-12-18T00:00:00-05:00\",\"2012-12-19T00:00:00-05:00\",\"2012-12-20T00:00:00-05:00\",\"2012-12-21T00:00:00-05:00\",\"2012-12-24T00:00:00-05:00\",\"2012-12-26T00:00:00-05:00\",\"2012-12-27T00:00:00-05:00\",\"2012-12-28T00:00:00-05:00\",\"2012-12-31T00:00:00-05:00\",\"2013-01-02T00:00:00-05:00\",\"2013-01-03T00:00:00-05:00\",\"2013-01-04T00:00:00-05:00\",\"2013-01-07T00:00:00-05:00\",\"2013-01-08T00:00:00-05:00\",\"2013-01-09T00:00:00-05:00\",\"2013-01-10T00:00:00-05:00\",\"2013-01-11T00:00:00-05:00\",\"2013-01-14T00:00:00-05:00\",\"2013-01-15T00:00:00-05:00\",\"2013-01-16T00:00:00-05:00\",\"2013-01-17T00:00:00-05:00\",\"2013-01-18T00:00:00-05:00\",\"2013-01-22T00:00:00-05:00\",\"2013-01-23T00:00:00-05:00\",\"2013-01-24T00:00:00-05:00\",\"2013-01-25T00:00:00-05:00\",\"2013-01-28T00:00:00-05:00\",\"2013-01-29T00:00:00-05:00\",\"2013-01-30T00:00:00-05:00\",\"2013-01-31T00:00:00-05:00\",\"2013-02-01T00:00:00-05:00\",\"2013-02-04T00:00:00-05:00\",\"2013-02-05T00:00:00-05:00\",\"2013-02-06T00:00:00-05:00\",\"2013-02-07T00:00:00-05:00\",\"2013-02-08T00:00:00-05:00\",\"2013-02-11T00:00:00-05:00\",\"2013-02-12T00:00:00-05:00\",\"2013-02-13T00:00:00-05:00\",\"2013-02-14T00:00:00-05:00\",\"2013-02-15T00:00:00-05:00\",\"2013-02-19T00:00:00-05:00\",\"2013-02-20T00:00:00-05:00\",\"2013-02-21T00:00:00-05:00\",\"2013-02-22T00:00:00-05:00\",\"2013-02-25T00:00:00-05:00\",\"2013-02-26T00:00:00-05:00\",\"2013-02-27T00:00:00-05:00\",\"2013-02-28T00:00:00-05:00\",\"2013-03-01T00:00:00-05:00\",\"2013-03-04T00:00:00-05:00\",\"2013-03-05T00:00:00-05:00\",\"2013-03-06T00:00:00-05:00\",\"2013-03-07T00:00:00-05:00\",\"2013-03-08T00:00:00-05:00\",\"2013-03-11T00:00:00-04:00\",\"2013-03-12T00:00:00-04:00\",\"2013-03-13T00:00:00-04:00\",\"2013-03-14T00:00:00-04:00\",\"2013-03-15T00:00:00-04:00\",\"2013-03-18T00:00:00-04:00\",\"2013-03-19T00:00:00-04:00\",\"2013-03-20T00:00:00-04:00\",\"2013-03-21T00:00:00-04:00\",\"2013-03-22T00:00:00-04:00\",\"2013-03-25T00:00:00-04:00\",\"2013-03-26T00:00:00-04:00\",\"2013-03-27T00:00:00-04:00\",\"2013-03-28T00:00:00-04:00\",\"2013-04-01T00:00:00-04:00\",\"2013-04-02T00:00:00-04:00\",\"2013-04-03T00:00:00-04:00\",\"2013-04-04T00:00:00-04:00\",\"2013-04-05T00:00:00-04:00\",\"2013-04-08T00:00:00-04:00\",\"2013-04-09T00:00:00-04:00\",\"2013-04-10T00:00:00-04:00\",\"2013-04-11T00:00:00-04:00\",\"2013-04-12T00:00:00-04:00\",\"2013-04-15T00:00:00-04:00\",\"2013-04-16T00:00:00-04:00\",\"2013-04-17T00:00:00-04:00\",\"2013-04-18T00:00:00-04:00\",\"2013-04-19T00:00:00-04:00\",\"2013-04-22T00:00:00-04:00\",\"2013-04-23T00:00:00-04:00\",\"2013-04-24T00:00:00-04:00\",\"2013-04-25T00:00:00-04:00\",\"2013-04-26T00:00:00-04:00\",\"2013-04-29T00:00:00-04:00\",\"2013-04-30T00:00:00-04:00\",\"2013-05-01T00:00:00-04:00\",\"2013-05-02T00:00:00-04:00\",\"2013-05-03T00:00:00-04:00\",\"2013-05-06T00:00:00-04:00\",\"2013-05-07T00:00:00-04:00\",\"2013-05-08T00:00:00-04:00\",\"2013-05-09T00:00:00-04:00\",\"2013-05-10T00:00:00-04:00\",\"2013-05-13T00:00:00-04:00\",\"2013-05-14T00:00:00-04:00\",\"2013-05-15T00:00:00-04:00\",\"2013-05-16T00:00:00-04:00\",\"2013-05-17T00:00:00-04:00\",\"2013-05-20T00:00:00-04:00\",\"2013-05-21T00:00:00-04:00\",\"2013-05-22T00:00:00-04:00\",\"2013-05-23T00:00:00-04:00\",\"2013-05-24T00:00:00-04:00\",\"2013-05-28T00:00:00-04:00\",\"2013-05-29T00:00:00-04:00\",\"2013-05-30T00:00:00-04:00\",\"2013-05-31T00:00:00-04:00\",\"2013-06-03T00:00:00-04:00\",\"2013-06-04T00:00:00-04:00\",\"2013-06-05T00:00:00-04:00\",\"2013-06-06T00:00:00-04:00\",\"2013-06-07T00:00:00-04:00\",\"2013-06-10T00:00:00-04:00\",\"2013-06-11T00:00:00-04:00\",\"2013-06-12T00:00:00-04:00\",\"2013-06-13T00:00:00-04:00\",\"2013-06-14T00:00:00-04:00\",\"2013-06-17T00:00:00-04:00\",\"2013-06-18T00:00:00-04:00\",\"2013-06-19T00:00:00-04:00\",\"2013-06-20T00:00:00-04:00\",\"2013-06-21T00:00:00-04:00\",\"2013-06-24T00:00:00-04:00\",\"2013-06-25T00:00:00-04:00\",\"2013-06-26T00:00:00-04:00\",\"2013-06-27T00:00:00-04:00\",\"2013-06-28T00:00:00-04:00\",\"2013-07-01T00:00:00-04:00\",\"2013-07-02T00:00:00-04:00\",\"2013-07-03T00:00:00-04:00\",\"2013-07-05T00:00:00-04:00\",\"2013-07-08T00:00:00-04:00\",\"2013-07-09T00:00:00-04:00\",\"2013-07-10T00:00:00-04:00\",\"2013-07-11T00:00:00-04:00\",\"2013-07-12T00:00:00-04:00\",\"2013-07-15T00:00:00-04:00\",\"2013-07-16T00:00:00-04:00\",\"2013-07-17T00:00:00-04:00\",\"2013-07-18T00:00:00-04:00\",\"2013-07-19T00:00:00-04:00\",\"2013-07-22T00:00:00-04:00\",\"2013-07-23T00:00:00-04:00\",\"2013-07-24T00:00:00-04:00\",\"2013-07-25T00:00:00-04:00\",\"2013-07-26T00:00:00-04:00\",\"2013-07-29T00:00:00-04:00\",\"2013-07-30T00:00:00-04:00\",\"2013-07-31T00:00:00-04:00\",\"2013-08-01T00:00:00-04:00\",\"2013-08-02T00:00:00-04:00\",\"2013-08-05T00:00:00-04:00\",\"2013-08-06T00:00:00-04:00\",\"2013-08-07T00:00:00-04:00\",\"2013-08-08T00:00:00-04:00\",\"2013-08-09T00:00:00-04:00\",\"2013-08-12T00:00:00-04:00\",\"2013-08-13T00:00:00-04:00\",\"2013-08-14T00:00:00-04:00\",\"2013-08-15T00:00:00-04:00\",\"2013-08-16T00:00:00-04:00\",\"2013-08-19T00:00:00-04:00\",\"2013-08-20T00:00:00-04:00\",\"2013-08-21T00:00:00-04:00\",\"2013-08-22T00:00:00-04:00\",\"2013-08-23T00:00:00-04:00\",\"2013-08-26T00:00:00-04:00\",\"2013-08-27T00:00:00-04:00\",\"2013-08-28T00:00:00-04:00\",\"2013-08-29T00:00:00-04:00\",\"2013-08-30T00:00:00-04:00\",\"2013-09-03T00:00:00-04:00\",\"2013-09-04T00:00:00-04:00\",\"2013-09-05T00:00:00-04:00\",\"2013-09-06T00:00:00-04:00\",\"2013-09-09T00:00:00-04:00\",\"2013-09-10T00:00:00-04:00\",\"2013-09-11T00:00:00-04:00\",\"2013-09-12T00:00:00-04:00\",\"2013-09-13T00:00:00-04:00\",\"2013-09-16T00:00:00-04:00\",\"2013-09-17T00:00:00-04:00\",\"2013-09-18T00:00:00-04:00\",\"2013-09-19T00:00:00-04:00\",\"2013-09-20T00:00:00-04:00\",\"2013-09-23T00:00:00-04:00\",\"2013-09-24T00:00:00-04:00\",\"2013-09-25T00:00:00-04:00\",\"2013-09-26T00:00:00-04:00\",\"2013-09-27T00:00:00-04:00\",\"2013-09-30T00:00:00-04:00\",\"2013-10-01T00:00:00-04:00\",\"2013-10-02T00:00:00-04:00\",\"2013-10-03T00:00:00-04:00\",\"2013-10-04T00:00:00-04:00\",\"2013-10-07T00:00:00-04:00\",\"2013-10-08T00:00:00-04:00\",\"2013-10-09T00:00:00-04:00\",\"2013-10-10T00:00:00-04:00\",\"2013-10-11T00:00:00-04:00\",\"2013-10-14T00:00:00-04:00\",\"2013-10-15T00:00:00-04:00\",\"2013-10-16T00:00:00-04:00\",\"2013-10-17T00:00:00-04:00\",\"2013-10-18T00:00:00-04:00\",\"2013-10-21T00:00:00-04:00\",\"2013-10-22T00:00:00-04:00\",\"2013-10-23T00:00:00-04:00\",\"2013-10-24T00:00:00-04:00\",\"2013-10-25T00:00:00-04:00\",\"2013-10-28T00:00:00-04:00\",\"2013-10-29T00:00:00-04:00\",\"2013-10-30T00:00:00-04:00\",\"2013-10-31T00:00:00-04:00\",\"2013-11-01T00:00:00-04:00\",\"2013-11-04T00:00:00-05:00\",\"2013-11-05T00:00:00-05:00\",\"2013-11-06T00:00:00-05:00\",\"2013-11-07T00:00:00-05:00\",\"2013-11-08T00:00:00-05:00\",\"2013-11-11T00:00:00-05:00\",\"2013-11-12T00:00:00-05:00\",\"2013-11-13T00:00:00-05:00\",\"2013-11-14T00:00:00-05:00\",\"2013-11-15T00:00:00-05:00\",\"2013-11-18T00:00:00-05:00\",\"2013-11-19T00:00:00-05:00\",\"2013-11-20T00:00:00-05:00\",\"2013-11-21T00:00:00-05:00\",\"2013-11-22T00:00:00-05:00\",\"2013-11-25T00:00:00-05:00\",\"2013-11-26T00:00:00-05:00\",\"2013-11-27T00:00:00-05:00\",\"2013-11-29T00:00:00-05:00\",\"2013-12-02T00:00:00-05:00\",\"2013-12-03T00:00:00-05:00\",\"2013-12-04T00:00:00-05:00\",\"2013-12-05T00:00:00-05:00\",\"2013-12-06T00:00:00-05:00\",\"2013-12-09T00:00:00-05:00\",\"2013-12-10T00:00:00-05:00\",\"2013-12-11T00:00:00-05:00\",\"2013-12-12T00:00:00-05:00\",\"2013-12-13T00:00:00-05:00\",\"2013-12-16T00:00:00-05:00\",\"2013-12-17T00:00:00-05:00\",\"2013-12-18T00:00:00-05:00\",\"2013-12-19T00:00:00-05:00\",\"2013-12-20T00:00:00-05:00\",\"2013-12-23T00:00:00-05:00\",\"2013-12-24T00:00:00-05:00\",\"2013-12-26T00:00:00-05:00\",\"2013-12-27T00:00:00-05:00\",\"2013-12-30T00:00:00-05:00\",\"2013-12-31T00:00:00-05:00\",\"2014-01-02T00:00:00-05:00\",\"2014-01-03T00:00:00-05:00\",\"2014-01-06T00:00:00-05:00\",\"2014-01-07T00:00:00-05:00\",\"2014-01-08T00:00:00-05:00\",\"2014-01-09T00:00:00-05:00\",\"2014-01-10T00:00:00-05:00\",\"2014-01-13T00:00:00-05:00\",\"2014-01-14T00:00:00-05:00\",\"2014-01-15T00:00:00-05:00\",\"2014-01-16T00:00:00-05:00\",\"2014-01-17T00:00:00-05:00\",\"2014-01-21T00:00:00-05:00\",\"2014-01-22T00:00:00-05:00\",\"2014-01-23T00:00:00-05:00\",\"2014-01-24T00:00:00-05:00\",\"2014-01-27T00:00:00-05:00\",\"2014-01-28T00:00:00-05:00\",\"2014-01-29T00:00:00-05:00\",\"2014-01-30T00:00:00-05:00\",\"2014-01-31T00:00:00-05:00\",\"2014-02-03T00:00:00-05:00\",\"2014-02-04T00:00:00-05:00\",\"2014-02-05T00:00:00-05:00\",\"2014-02-06T00:00:00-05:00\",\"2014-02-07T00:00:00-05:00\",\"2014-02-10T00:00:00-05:00\",\"2014-02-11T00:00:00-05:00\",\"2014-02-12T00:00:00-05:00\",\"2014-02-13T00:00:00-05:00\",\"2014-02-14T00:00:00-05:00\",\"2014-02-18T00:00:00-05:00\",\"2014-02-19T00:00:00-05:00\",\"2014-02-20T00:00:00-05:00\",\"2014-02-21T00:00:00-05:00\",\"2014-02-24T00:00:00-05:00\",\"2014-02-25T00:00:00-05:00\",\"2014-02-26T00:00:00-05:00\",\"2014-02-27T00:00:00-05:00\",\"2014-02-28T00:00:00-05:00\",\"2014-03-03T00:00:00-05:00\",\"2014-03-04T00:00:00-05:00\",\"2014-03-05T00:00:00-05:00\",\"2014-03-06T00:00:00-05:00\",\"2014-03-07T00:00:00-05:00\",\"2014-03-10T00:00:00-04:00\",\"2014-03-11T00:00:00-04:00\",\"2014-03-12T00:00:00-04:00\",\"2014-03-13T00:00:00-04:00\",\"2014-03-14T00:00:00-04:00\",\"2014-03-17T00:00:00-04:00\",\"2014-03-18T00:00:00-04:00\",\"2014-03-19T00:00:00-04:00\",\"2014-03-20T00:00:00-04:00\",\"2014-03-21T00:00:00-04:00\",\"2014-03-24T00:00:00-04:00\",\"2014-03-25T00:00:00-04:00\",\"2014-03-26T00:00:00-04:00\",\"2014-03-27T00:00:00-04:00\",\"2014-03-28T00:00:00-04:00\",\"2014-03-31T00:00:00-04:00\",\"2014-04-01T00:00:00-04:00\",\"2014-04-02T00:00:00-04:00\",\"2014-04-03T00:00:00-04:00\",\"2014-04-04T00:00:00-04:00\",\"2014-04-07T00:00:00-04:00\",\"2014-04-08T00:00:00-04:00\",\"2014-04-09T00:00:00-04:00\",\"2014-04-10T00:00:00-04:00\",\"2014-04-11T00:00:00-04:00\",\"2014-04-14T00:00:00-04:00\",\"2014-04-15T00:00:00-04:00\",\"2014-04-16T00:00:00-04:00\",\"2014-04-17T00:00:00-04:00\",\"2014-04-21T00:00:00-04:00\",\"2014-04-22T00:00:00-04:00\",\"2014-04-23T00:00:00-04:00\",\"2014-04-24T00:00:00-04:00\",\"2014-04-25T00:00:00-04:00\",\"2014-04-28T00:00:00-04:00\",\"2014-04-29T00:00:00-04:00\",\"2014-04-30T00:00:00-04:00\",\"2014-05-01T00:00:00-04:00\",\"2014-05-02T00:00:00-04:00\",\"2014-05-05T00:00:00-04:00\",\"2014-05-06T00:00:00-04:00\",\"2014-05-07T00:00:00-04:00\",\"2014-05-08T00:00:00-04:00\",\"2014-05-09T00:00:00-04:00\",\"2014-05-12T00:00:00-04:00\",\"2014-05-13T00:00:00-04:00\",\"2014-05-14T00:00:00-04:00\",\"2014-05-15T00:00:00-04:00\",\"2014-05-16T00:00:00-04:00\",\"2014-05-19T00:00:00-04:00\",\"2014-05-20T00:00:00-04:00\",\"2014-05-21T00:00:00-04:00\",\"2014-05-22T00:00:00-04:00\",\"2014-05-23T00:00:00-04:00\",\"2014-05-27T00:00:00-04:00\",\"2014-05-28T00:00:00-04:00\",\"2014-05-29T00:00:00-04:00\",\"2014-05-30T00:00:00-04:00\",\"2014-06-02T00:00:00-04:00\",\"2014-06-03T00:00:00-04:00\",\"2014-06-04T00:00:00-04:00\",\"2014-06-05T00:00:00-04:00\",\"2014-06-06T00:00:00-04:00\",\"2014-06-09T00:00:00-04:00\",\"2014-06-10T00:00:00-04:00\",\"2014-06-11T00:00:00-04:00\",\"2014-06-12T00:00:00-04:00\",\"2014-06-13T00:00:00-04:00\",\"2014-06-16T00:00:00-04:00\",\"2014-06-17T00:00:00-04:00\",\"2014-06-18T00:00:00-04:00\",\"2014-06-19T00:00:00-04:00\",\"2014-06-20T00:00:00-04:00\",\"2014-06-23T00:00:00-04:00\",\"2014-06-24T00:00:00-04:00\",\"2014-06-25T00:00:00-04:00\",\"2014-06-26T00:00:00-04:00\",\"2014-06-27T00:00:00-04:00\",\"2014-06-30T00:00:00-04:00\",\"2014-07-01T00:00:00-04:00\",\"2014-07-02T00:00:00-04:00\",\"2014-07-03T00:00:00-04:00\",\"2014-07-07T00:00:00-04:00\",\"2014-07-08T00:00:00-04:00\",\"2014-07-09T00:00:00-04:00\",\"2014-07-10T00:00:00-04:00\",\"2014-07-11T00:00:00-04:00\",\"2014-07-14T00:00:00-04:00\",\"2014-07-15T00:00:00-04:00\",\"2014-07-16T00:00:00-04:00\",\"2014-07-17T00:00:00-04:00\",\"2014-07-18T00:00:00-04:00\",\"2014-07-21T00:00:00-04:00\",\"2014-07-22T00:00:00-04:00\",\"2014-07-23T00:00:00-04:00\",\"2014-07-24T00:00:00-04:00\",\"2014-07-25T00:00:00-04:00\",\"2014-07-28T00:00:00-04:00\",\"2014-07-29T00:00:00-04:00\",\"2014-07-30T00:00:00-04:00\",\"2014-07-31T00:00:00-04:00\",\"2014-08-01T00:00:00-04:00\",\"2014-08-04T00:00:00-04:00\",\"2014-08-05T00:00:00-04:00\",\"2014-08-06T00:00:00-04:00\",\"2014-08-07T00:00:00-04:00\",\"2014-08-08T00:00:00-04:00\",\"2014-08-11T00:00:00-04:00\",\"2014-08-12T00:00:00-04:00\",\"2014-08-13T00:00:00-04:00\",\"2014-08-14T00:00:00-04:00\",\"2014-08-15T00:00:00-04:00\",\"2014-08-18T00:00:00-04:00\",\"2014-08-19T00:00:00-04:00\",\"2014-08-20T00:00:00-04:00\",\"2014-08-21T00:00:00-04:00\",\"2014-08-22T00:00:00-04:00\",\"2014-08-25T00:00:00-04:00\",\"2014-08-26T00:00:00-04:00\",\"2014-08-27T00:00:00-04:00\",\"2014-08-28T00:00:00-04:00\",\"2014-08-29T00:00:00-04:00\",\"2014-09-02T00:00:00-04:00\",\"2014-09-03T00:00:00-04:00\",\"2014-09-04T00:00:00-04:00\",\"2014-09-05T00:00:00-04:00\",\"2014-09-08T00:00:00-04:00\",\"2014-09-09T00:00:00-04:00\",\"2014-09-10T00:00:00-04:00\",\"2014-09-11T00:00:00-04:00\",\"2014-09-12T00:00:00-04:00\",\"2014-09-15T00:00:00-04:00\",\"2014-09-16T00:00:00-04:00\",\"2014-09-17T00:00:00-04:00\",\"2014-09-18T00:00:00-04:00\",\"2014-09-19T00:00:00-04:00\",\"2014-09-22T00:00:00-04:00\",\"2014-09-23T00:00:00-04:00\",\"2014-09-24T00:00:00-04:00\",\"2014-09-25T00:00:00-04:00\",\"2014-09-26T00:00:00-04:00\",\"2014-09-29T00:00:00-04:00\",\"2014-09-30T00:00:00-04:00\",\"2014-10-01T00:00:00-04:00\",\"2014-10-02T00:00:00-04:00\",\"2014-10-03T00:00:00-04:00\",\"2014-10-06T00:00:00-04:00\",\"2014-10-07T00:00:00-04:00\",\"2014-10-08T00:00:00-04:00\",\"2014-10-09T00:00:00-04:00\",\"2014-10-10T00:00:00-04:00\",\"2014-10-13T00:00:00-04:00\",\"2014-10-14T00:00:00-04:00\",\"2014-10-15T00:00:00-04:00\",\"2014-10-16T00:00:00-04:00\",\"2014-10-17T00:00:00-04:00\",\"2014-10-20T00:00:00-04:00\",\"2014-10-21T00:00:00-04:00\",\"2014-10-22T00:00:00-04:00\",\"2014-10-23T00:00:00-04:00\",\"2014-10-24T00:00:00-04:00\",\"2014-10-27T00:00:00-04:00\",\"2014-10-28T00:00:00-04:00\",\"2014-10-29T00:00:00-04:00\",\"2014-10-30T00:00:00-04:00\",\"2014-10-31T00:00:00-04:00\",\"2014-11-03T00:00:00-05:00\",\"2014-11-04T00:00:00-05:00\",\"2014-11-05T00:00:00-05:00\",\"2014-11-06T00:00:00-05:00\",\"2014-11-07T00:00:00-05:00\",\"2014-11-10T00:00:00-05:00\",\"2014-11-11T00:00:00-05:00\",\"2014-11-12T00:00:00-05:00\",\"2014-11-13T00:00:00-05:00\",\"2014-11-14T00:00:00-05:00\",\"2014-11-17T00:00:00-05:00\",\"2014-11-18T00:00:00-05:00\",\"2014-11-19T00:00:00-05:00\",\"2014-11-20T00:00:00-05:00\",\"2014-11-21T00:00:00-05:00\",\"2014-11-24T00:00:00-05:00\",\"2014-11-25T00:00:00-05:00\",\"2014-11-26T00:00:00-05:00\",\"2014-11-28T00:00:00-05:00\",\"2014-12-01T00:00:00-05:00\",\"2014-12-02T00:00:00-05:00\",\"2014-12-03T00:00:00-05:00\",\"2014-12-04T00:00:00-05:00\",\"2014-12-05T00:00:00-05:00\",\"2014-12-08T00:00:00-05:00\",\"2014-12-09T00:00:00-05:00\",\"2014-12-10T00:00:00-05:00\",\"2014-12-11T00:00:00-05:00\",\"2014-12-12T00:00:00-05:00\",\"2014-12-15T00:00:00-05:00\",\"2014-12-16T00:00:00-05:00\",\"2014-12-17T00:00:00-05:00\",\"2014-12-18T00:00:00-05:00\",\"2014-12-19T00:00:00-05:00\",\"2014-12-22T00:00:00-05:00\",\"2014-12-23T00:00:00-05:00\",\"2014-12-24T00:00:00-05:00\",\"2014-12-26T00:00:00-05:00\",\"2014-12-29T00:00:00-05:00\",\"2014-12-30T00:00:00-05:00\",\"2014-12-31T00:00:00-05:00\",\"2015-01-02T00:00:00-05:00\",\"2015-01-05T00:00:00-05:00\",\"2015-01-06T00:00:00-05:00\",\"2015-01-07T00:00:00-05:00\",\"2015-01-08T00:00:00-05:00\",\"2015-01-09T00:00:00-05:00\",\"2015-01-12T00:00:00-05:00\",\"2015-01-13T00:00:00-05:00\",\"2015-01-14T00:00:00-05:00\",\"2015-01-15T00:00:00-05:00\",\"2015-01-16T00:00:00-05:00\",\"2015-01-20T00:00:00-05:00\",\"2015-01-21T00:00:00-05:00\",\"2015-01-22T00:00:00-05:00\",\"2015-01-23T00:00:00-05:00\",\"2015-01-26T00:00:00-05:00\",\"2015-01-27T00:00:00-05:00\",\"2015-01-28T00:00:00-05:00\",\"2015-01-29T00:00:00-05:00\",\"2015-01-30T00:00:00-05:00\",\"2015-02-02T00:00:00-05:00\",\"2015-02-03T00:00:00-05:00\",\"2015-02-04T00:00:00-05:00\",\"2015-02-05T00:00:00-05:00\",\"2015-02-06T00:00:00-05:00\",\"2015-02-09T00:00:00-05:00\",\"2015-02-10T00:00:00-05:00\",\"2015-02-11T00:00:00-05:00\",\"2015-02-12T00:00:00-05:00\",\"2015-02-13T00:00:00-05:00\",\"2015-02-17T00:00:00-05:00\",\"2015-02-18T00:00:00-05:00\",\"2015-02-19T00:00:00-05:00\",\"2015-02-20T00:00:00-05:00\",\"2015-02-23T00:00:00-05:00\",\"2015-02-24T00:00:00-05:00\",\"2015-02-25T00:00:00-05:00\",\"2015-02-26T00:00:00-05:00\",\"2015-02-27T00:00:00-05:00\",\"2015-03-02T00:00:00-05:00\",\"2015-03-03T00:00:00-05:00\",\"2015-03-04T00:00:00-05:00\",\"2015-03-05T00:00:00-05:00\",\"2015-03-06T00:00:00-05:00\",\"2015-03-09T00:00:00-04:00\",\"2015-03-10T00:00:00-04:00\",\"2015-03-11T00:00:00-04:00\",\"2015-03-12T00:00:00-04:00\",\"2015-03-13T00:00:00-04:00\",\"2015-03-16T00:00:00-04:00\",\"2015-03-17T00:00:00-04:00\",\"2015-03-18T00:00:00-04:00\",\"2015-03-19T00:00:00-04:00\",\"2015-03-20T00:00:00-04:00\",\"2015-03-23T00:00:00-04:00\",\"2015-03-24T00:00:00-04:00\",\"2015-03-25T00:00:00-04:00\",\"2015-03-26T00:00:00-04:00\",\"2015-03-27T00:00:00-04:00\",\"2015-03-30T00:00:00-04:00\",\"2015-03-31T00:00:00-04:00\",\"2015-04-01T00:00:00-04:00\",\"2015-04-02T00:00:00-04:00\",\"2015-04-06T00:00:00-04:00\",\"2015-04-07T00:00:00-04:00\",\"2015-04-08T00:00:00-04:00\",\"2015-04-09T00:00:00-04:00\",\"2015-04-10T00:00:00-04:00\",\"2015-04-13T00:00:00-04:00\",\"2015-04-14T00:00:00-04:00\",\"2015-04-15T00:00:00-04:00\",\"2015-04-16T00:00:00-04:00\",\"2015-04-17T00:00:00-04:00\",\"2015-04-20T00:00:00-04:00\",\"2015-04-21T00:00:00-04:00\",\"2015-04-22T00:00:00-04:00\",\"2015-04-23T00:00:00-04:00\",\"2015-04-24T00:00:00-04:00\",\"2015-04-27T00:00:00-04:00\",\"2015-04-28T00:00:00-04:00\",\"2015-04-29T00:00:00-04:00\",\"2015-04-30T00:00:00-04:00\",\"2015-05-01T00:00:00-04:00\",\"2015-05-04T00:00:00-04:00\",\"2015-05-05T00:00:00-04:00\",\"2015-05-06T00:00:00-04:00\",\"2015-05-07T00:00:00-04:00\",\"2015-05-08T00:00:00-04:00\",\"2015-05-11T00:00:00-04:00\",\"2015-05-12T00:00:00-04:00\",\"2015-05-13T00:00:00-04:00\",\"2015-05-14T00:00:00-04:00\",\"2015-05-15T00:00:00-04:00\",\"2015-05-18T00:00:00-04:00\",\"2015-05-19T00:00:00-04:00\",\"2015-05-20T00:00:00-04:00\",\"2015-05-21T00:00:00-04:00\",\"2015-05-22T00:00:00-04:00\",\"2015-05-26T00:00:00-04:00\",\"2015-05-27T00:00:00-04:00\",\"2015-05-28T00:00:00-04:00\",\"2015-05-29T00:00:00-04:00\",\"2015-06-01T00:00:00-04:00\",\"2015-06-02T00:00:00-04:00\",\"2015-06-03T00:00:00-04:00\",\"2015-06-04T00:00:00-04:00\",\"2015-06-05T00:00:00-04:00\",\"2015-06-08T00:00:00-04:00\",\"2015-06-09T00:00:00-04:00\",\"2015-06-10T00:00:00-04:00\",\"2015-06-11T00:00:00-04:00\",\"2015-06-12T00:00:00-04:00\",\"2015-06-15T00:00:00-04:00\",\"2015-06-16T00:00:00-04:00\",\"2015-06-17T00:00:00-04:00\",\"2015-06-18T00:00:00-04:00\",\"2015-06-19T00:00:00-04:00\",\"2015-06-22T00:00:00-04:00\",\"2015-06-23T00:00:00-04:00\",\"2015-06-24T00:00:00-04:00\",\"2015-06-25T00:00:00-04:00\",\"2015-06-26T00:00:00-04:00\",\"2015-06-29T00:00:00-04:00\",\"2015-06-30T00:00:00-04:00\",\"2015-07-01T00:00:00-04:00\",\"2015-07-02T00:00:00-04:00\",\"2015-07-06T00:00:00-04:00\",\"2015-07-07T00:00:00-04:00\",\"2015-07-08T00:00:00-04:00\",\"2015-07-09T00:00:00-04:00\",\"2015-07-10T00:00:00-04:00\",\"2015-07-13T00:00:00-04:00\",\"2015-07-14T00:00:00-04:00\",\"2015-07-15T00:00:00-04:00\",\"2015-07-16T00:00:00-04:00\",\"2015-07-17T00:00:00-04:00\",\"2015-07-20T00:00:00-04:00\",\"2015-07-21T00:00:00-04:00\",\"2015-07-22T00:00:00-04:00\",\"2015-07-23T00:00:00-04:00\",\"2015-07-24T00:00:00-04:00\",\"2015-07-27T00:00:00-04:00\",\"2015-07-28T00:00:00-04:00\",\"2015-07-29T00:00:00-04:00\",\"2015-07-30T00:00:00-04:00\",\"2015-07-31T00:00:00-04:00\",\"2015-08-03T00:00:00-04:00\",\"2015-08-04T00:00:00-04:00\",\"2015-08-05T00:00:00-04:00\",\"2015-08-06T00:00:00-04:00\",\"2015-08-07T00:00:00-04:00\",\"2015-08-10T00:00:00-04:00\",\"2015-08-11T00:00:00-04:00\",\"2015-08-12T00:00:00-04:00\",\"2015-08-13T00:00:00-04:00\",\"2015-08-14T00:00:00-04:00\",\"2015-08-17T00:00:00-04:00\",\"2015-08-18T00:00:00-04:00\",\"2015-08-19T00:00:00-04:00\",\"2015-08-20T00:00:00-04:00\",\"2015-08-21T00:00:00-04:00\",\"2015-08-24T00:00:00-04:00\",\"2015-08-25T00:00:00-04:00\",\"2015-08-26T00:00:00-04:00\",\"2015-08-27T00:00:00-04:00\",\"2015-08-28T00:00:00-04:00\",\"2015-08-31T00:00:00-04:00\",\"2015-09-01T00:00:00-04:00\",\"2015-09-02T00:00:00-04:00\",\"2015-09-03T00:00:00-04:00\",\"2015-09-04T00:00:00-04:00\",\"2015-09-08T00:00:00-04:00\",\"2015-09-09T00:00:00-04:00\",\"2015-09-10T00:00:00-04:00\",\"2015-09-11T00:00:00-04:00\",\"2015-09-14T00:00:00-04:00\",\"2015-09-15T00:00:00-04:00\",\"2015-09-16T00:00:00-04:00\",\"2015-09-17T00:00:00-04:00\",\"2015-09-18T00:00:00-04:00\",\"2015-09-21T00:00:00-04:00\",\"2015-09-22T00:00:00-04:00\",\"2015-09-23T00:00:00-04:00\",\"2015-09-24T00:00:00-04:00\",\"2015-09-25T00:00:00-04:00\",\"2015-09-28T00:00:00-04:00\",\"2015-09-29T00:00:00-04:00\",\"2015-09-30T00:00:00-04:00\",\"2015-10-01T00:00:00-04:00\",\"2015-10-02T00:00:00-04:00\",\"2015-10-05T00:00:00-04:00\",\"2015-10-06T00:00:00-04:00\",\"2015-10-07T00:00:00-04:00\",\"2015-10-08T00:00:00-04:00\",\"2015-10-09T00:00:00-04:00\",\"2015-10-12T00:00:00-04:00\",\"2015-10-13T00:00:00-04:00\",\"2015-10-14T00:00:00-04:00\",\"2015-10-15T00:00:00-04:00\",\"2015-10-16T00:00:00-04:00\",\"2015-10-19T00:00:00-04:00\",\"2015-10-20T00:00:00-04:00\",\"2015-10-21T00:00:00-04:00\",\"2015-10-22T00:00:00-04:00\",\"2015-10-23T00:00:00-04:00\",\"2015-10-26T00:00:00-04:00\",\"2015-10-27T00:00:00-04:00\",\"2015-10-28T00:00:00-04:00\",\"2015-10-29T00:00:00-04:00\",\"2015-10-30T00:00:00-04:00\",\"2015-11-02T00:00:00-05:00\",\"2015-11-03T00:00:00-05:00\",\"2015-11-04T00:00:00-05:00\",\"2015-11-05T00:00:00-05:00\",\"2015-11-06T00:00:00-05:00\",\"2015-11-09T00:00:00-05:00\",\"2015-11-10T00:00:00-05:00\",\"2015-11-11T00:00:00-05:00\",\"2015-11-12T00:00:00-05:00\",\"2015-11-13T00:00:00-05:00\",\"2015-11-16T00:00:00-05:00\",\"2015-11-17T00:00:00-05:00\",\"2015-11-18T00:00:00-05:00\",\"2015-11-19T00:00:00-05:00\",\"2015-11-20T00:00:00-05:00\",\"2015-11-23T00:00:00-05:00\",\"2015-11-24T00:00:00-05:00\",\"2015-11-25T00:00:00-05:00\",\"2015-11-27T00:00:00-05:00\",\"2015-11-30T00:00:00-05:00\",\"2015-12-01T00:00:00-05:00\",\"2015-12-02T00:00:00-05:00\",\"2015-12-03T00:00:00-05:00\",\"2015-12-04T00:00:00-05:00\",\"2015-12-07T00:00:00-05:00\",\"2015-12-08T00:00:00-05:00\",\"2015-12-09T00:00:00-05:00\",\"2015-12-10T00:00:00-05:00\",\"2015-12-11T00:00:00-05:00\",\"2015-12-14T00:00:00-05:00\",\"2015-12-15T00:00:00-05:00\",\"2015-12-16T00:00:00-05:00\",\"2015-12-17T00:00:00-05:00\",\"2015-12-18T00:00:00-05:00\",\"2015-12-21T00:00:00-05:00\",\"2015-12-22T00:00:00-05:00\",\"2015-12-23T00:00:00-05:00\",\"2015-12-24T00:00:00-05:00\",\"2015-12-28T00:00:00-05:00\",\"2015-12-29T00:00:00-05:00\",\"2015-12-30T00:00:00-05:00\",\"2015-12-31T00:00:00-05:00\",\"2016-01-04T00:00:00-05:00\",\"2016-01-05T00:00:00-05:00\",\"2016-01-06T00:00:00-05:00\",\"2016-01-07T00:00:00-05:00\",\"2016-01-08T00:00:00-05:00\",\"2016-01-11T00:00:00-05:00\",\"2016-01-12T00:00:00-05:00\",\"2016-01-13T00:00:00-05:00\",\"2016-01-14T00:00:00-05:00\",\"2016-01-15T00:00:00-05:00\",\"2016-01-19T00:00:00-05:00\",\"2016-01-20T00:00:00-05:00\",\"2016-01-21T00:00:00-05:00\",\"2016-01-22T00:00:00-05:00\",\"2016-01-25T00:00:00-05:00\",\"2016-01-26T00:00:00-05:00\",\"2016-01-27T00:00:00-05:00\",\"2016-01-28T00:00:00-05:00\",\"2016-01-29T00:00:00-05:00\",\"2016-02-01T00:00:00-05:00\",\"2016-02-02T00:00:00-05:00\",\"2016-02-03T00:00:00-05:00\",\"2016-02-04T00:00:00-05:00\",\"2016-02-05T00:00:00-05:00\",\"2016-02-08T00:00:00-05:00\",\"2016-02-09T00:00:00-05:00\",\"2016-02-10T00:00:00-05:00\",\"2016-02-11T00:00:00-05:00\",\"2016-02-12T00:00:00-05:00\",\"2016-02-16T00:00:00-05:00\",\"2016-02-17T00:00:00-05:00\",\"2016-02-18T00:00:00-05:00\",\"2016-02-19T00:00:00-05:00\",\"2016-02-22T00:00:00-05:00\",\"2016-02-23T00:00:00-05:00\",\"2016-02-24T00:00:00-05:00\",\"2016-02-25T00:00:00-05:00\",\"2016-02-26T00:00:00-05:00\",\"2016-02-29T00:00:00-05:00\",\"2016-03-01T00:00:00-05:00\",\"2016-03-02T00:00:00-05:00\",\"2016-03-03T00:00:00-05:00\",\"2016-03-04T00:00:00-05:00\",\"2016-03-07T00:00:00-05:00\",\"2016-03-08T00:00:00-05:00\",\"2016-03-09T00:00:00-05:00\",\"2016-03-10T00:00:00-05:00\",\"2016-03-11T00:00:00-05:00\",\"2016-03-14T00:00:00-04:00\",\"2016-03-15T00:00:00-04:00\",\"2016-03-16T00:00:00-04:00\",\"2016-03-17T00:00:00-04:00\",\"2016-03-18T00:00:00-04:00\",\"2016-03-21T00:00:00-04:00\",\"2016-03-22T00:00:00-04:00\",\"2016-03-23T00:00:00-04:00\",\"2016-03-24T00:00:00-04:00\",\"2016-03-28T00:00:00-04:00\",\"2016-03-29T00:00:00-04:00\",\"2016-03-30T00:00:00-04:00\",\"2016-03-31T00:00:00-04:00\",\"2016-04-01T00:00:00-04:00\",\"2016-04-04T00:00:00-04:00\",\"2016-04-05T00:00:00-04:00\",\"2016-04-06T00:00:00-04:00\",\"2016-04-07T00:00:00-04:00\",\"2016-04-08T00:00:00-04:00\",\"2016-04-11T00:00:00-04:00\",\"2016-04-12T00:00:00-04:00\",\"2016-04-13T00:00:00-04:00\",\"2016-04-14T00:00:00-04:00\",\"2016-04-15T00:00:00-04:00\",\"2016-04-18T00:00:00-04:00\",\"2016-04-19T00:00:00-04:00\",\"2016-04-20T00:00:00-04:00\",\"2016-04-21T00:00:00-04:00\",\"2016-04-22T00:00:00-04:00\",\"2016-04-25T00:00:00-04:00\",\"2016-04-26T00:00:00-04:00\",\"2016-04-27T00:00:00-04:00\",\"2016-04-28T00:00:00-04:00\",\"2016-04-29T00:00:00-04:00\",\"2016-05-02T00:00:00-04:00\",\"2016-05-03T00:00:00-04:00\",\"2016-05-04T00:00:00-04:00\",\"2016-05-05T00:00:00-04:00\",\"2016-05-06T00:00:00-04:00\",\"2016-05-09T00:00:00-04:00\",\"2016-05-10T00:00:00-04:00\",\"2016-05-11T00:00:00-04:00\",\"2016-05-12T00:00:00-04:00\",\"2016-05-13T00:00:00-04:00\",\"2016-05-16T00:00:00-04:00\",\"2016-05-17T00:00:00-04:00\",\"2016-05-18T00:00:00-04:00\",\"2016-05-19T00:00:00-04:00\",\"2016-05-20T00:00:00-04:00\",\"2016-05-23T00:00:00-04:00\",\"2016-05-24T00:00:00-04:00\",\"2016-05-25T00:00:00-04:00\",\"2016-05-26T00:00:00-04:00\",\"2016-05-27T00:00:00-04:00\",\"2016-05-31T00:00:00-04:00\",\"2016-06-01T00:00:00-04:00\",\"2016-06-02T00:00:00-04:00\",\"2016-06-03T00:00:00-04:00\",\"2016-06-06T00:00:00-04:00\",\"2016-06-07T00:00:00-04:00\",\"2016-06-08T00:00:00-04:00\",\"2016-06-09T00:00:00-04:00\",\"2016-06-10T00:00:00-04:00\",\"2016-06-13T00:00:00-04:00\",\"2016-06-14T00:00:00-04:00\",\"2016-06-15T00:00:00-04:00\",\"2016-06-16T00:00:00-04:00\",\"2016-06-17T00:00:00-04:00\",\"2016-06-20T00:00:00-04:00\",\"2016-06-21T00:00:00-04:00\",\"2016-06-22T00:00:00-04:00\",\"2016-06-23T00:00:00-04:00\",\"2016-06-24T00:00:00-04:00\",\"2016-06-27T00:00:00-04:00\",\"2016-06-28T00:00:00-04:00\",\"2016-06-29T00:00:00-04:00\",\"2016-06-30T00:00:00-04:00\",\"2016-07-01T00:00:00-04:00\",\"2016-07-05T00:00:00-04:00\",\"2016-07-06T00:00:00-04:00\",\"2016-07-07T00:00:00-04:00\",\"2016-07-08T00:00:00-04:00\",\"2016-07-11T00:00:00-04:00\",\"2016-07-12T00:00:00-04:00\",\"2016-07-13T00:00:00-04:00\",\"2016-07-14T00:00:00-04:00\",\"2016-07-15T00:00:00-04:00\",\"2016-07-18T00:00:00-04:00\",\"2016-07-19T00:00:00-04:00\",\"2016-07-20T00:00:00-04:00\",\"2016-07-21T00:00:00-04:00\",\"2016-07-22T00:00:00-04:00\",\"2016-07-25T00:00:00-04:00\",\"2016-07-26T00:00:00-04:00\",\"2016-07-27T00:00:00-04:00\",\"2016-07-28T00:00:00-04:00\",\"2016-07-29T00:00:00-04:00\",\"2016-08-01T00:00:00-04:00\",\"2016-08-02T00:00:00-04:00\",\"2016-08-03T00:00:00-04:00\",\"2016-08-04T00:00:00-04:00\",\"2016-08-05T00:00:00-04:00\",\"2016-08-08T00:00:00-04:00\",\"2016-08-09T00:00:00-04:00\",\"2016-08-10T00:00:00-04:00\",\"2016-08-11T00:00:00-04:00\",\"2016-08-12T00:00:00-04:00\",\"2016-08-15T00:00:00-04:00\",\"2016-08-16T00:00:00-04:00\",\"2016-08-17T00:00:00-04:00\",\"2016-08-18T00:00:00-04:00\",\"2016-08-19T00:00:00-04:00\",\"2016-08-22T00:00:00-04:00\",\"2016-08-23T00:00:00-04:00\",\"2016-08-24T00:00:00-04:00\",\"2016-08-25T00:00:00-04:00\",\"2016-08-26T00:00:00-04:00\",\"2016-08-29T00:00:00-04:00\",\"2016-08-30T00:00:00-04:00\",\"2016-08-31T00:00:00-04:00\",\"2016-09-01T00:00:00-04:00\",\"2016-09-02T00:00:00-04:00\",\"2016-09-06T00:00:00-04:00\",\"2016-09-07T00:00:00-04:00\",\"2016-09-08T00:00:00-04:00\",\"2016-09-09T00:00:00-04:00\",\"2016-09-12T00:00:00-04:00\",\"2016-09-13T00:00:00-04:00\",\"2016-09-14T00:00:00-04:00\",\"2016-09-15T00:00:00-04:00\",\"2016-09-16T00:00:00-04:00\",\"2016-09-19T00:00:00-04:00\",\"2016-09-20T00:00:00-04:00\",\"2016-09-21T00:00:00-04:00\",\"2016-09-22T00:00:00-04:00\",\"2016-09-23T00:00:00-04:00\",\"2016-09-26T00:00:00-04:00\",\"2016-09-27T00:00:00-04:00\",\"2016-09-28T00:00:00-04:00\",\"2016-09-29T00:00:00-04:00\",\"2016-09-30T00:00:00-04:00\",\"2016-10-03T00:00:00-04:00\",\"2016-10-04T00:00:00-04:00\",\"2016-10-05T00:00:00-04:00\",\"2016-10-06T00:00:00-04:00\",\"2016-10-07T00:00:00-04:00\",\"2016-10-10T00:00:00-04:00\",\"2016-10-11T00:00:00-04:00\",\"2016-10-12T00:00:00-04:00\",\"2016-10-13T00:00:00-04:00\",\"2016-10-14T00:00:00-04:00\",\"2016-10-17T00:00:00-04:00\",\"2016-10-18T00:00:00-04:00\",\"2016-10-19T00:00:00-04:00\",\"2016-10-20T00:00:00-04:00\",\"2016-10-21T00:00:00-04:00\",\"2016-10-24T00:00:00-04:00\",\"2016-10-25T00:00:00-04:00\",\"2016-10-26T00:00:00-04:00\",\"2016-10-27T00:00:00-04:00\",\"2016-10-28T00:00:00-04:00\",\"2016-10-31T00:00:00-04:00\",\"2016-11-01T00:00:00-04:00\",\"2016-11-02T00:00:00-04:00\",\"2016-11-03T00:00:00-04:00\",\"2016-11-04T00:00:00-04:00\",\"2016-11-07T00:00:00-05:00\",\"2016-11-08T00:00:00-05:00\",\"2016-11-09T00:00:00-05:00\",\"2016-11-10T00:00:00-05:00\",\"2016-11-11T00:00:00-05:00\",\"2016-11-14T00:00:00-05:00\",\"2016-11-15T00:00:00-05:00\",\"2016-11-16T00:00:00-05:00\",\"2016-11-17T00:00:00-05:00\",\"2016-11-18T00:00:00-05:00\",\"2016-11-21T00:00:00-05:00\",\"2016-11-22T00:00:00-05:00\",\"2016-11-23T00:00:00-05:00\",\"2016-11-25T00:00:00-05:00\",\"2016-11-28T00:00:00-05:00\",\"2016-11-29T00:00:00-05:00\",\"2016-11-30T00:00:00-05:00\",\"2016-12-01T00:00:00-05:00\",\"2016-12-02T00:00:00-05:00\",\"2016-12-05T00:00:00-05:00\",\"2016-12-06T00:00:00-05:00\",\"2016-12-07T00:00:00-05:00\",\"2016-12-08T00:00:00-05:00\",\"2016-12-09T00:00:00-05:00\",\"2016-12-12T00:00:00-05:00\",\"2016-12-13T00:00:00-05:00\",\"2016-12-14T00:00:00-05:00\",\"2016-12-15T00:00:00-05:00\",\"2016-12-16T00:00:00-05:00\",\"2016-12-19T00:00:00-05:00\",\"2016-12-20T00:00:00-05:00\",\"2016-12-21T00:00:00-05:00\",\"2016-12-22T00:00:00-05:00\",\"2016-12-23T00:00:00-05:00\",\"2016-12-27T00:00:00-05:00\",\"2016-12-28T00:00:00-05:00\",\"2016-12-29T00:00:00-05:00\",\"2016-12-30T00:00:00-05:00\",\"2017-01-03T00:00:00-05:00\",\"2017-01-04T00:00:00-05:00\",\"2017-01-05T00:00:00-05:00\",\"2017-01-06T00:00:00-05:00\",\"2017-01-09T00:00:00-05:00\",\"2017-01-10T00:00:00-05:00\",\"2017-01-11T00:00:00-05:00\",\"2017-01-12T00:00:00-05:00\",\"2017-01-13T00:00:00-05:00\",\"2017-01-17T00:00:00-05:00\",\"2017-01-18T00:00:00-05:00\",\"2017-01-19T00:00:00-05:00\",\"2017-01-20T00:00:00-05:00\",\"2017-01-23T00:00:00-05:00\",\"2017-01-24T00:00:00-05:00\",\"2017-01-25T00:00:00-05:00\",\"2017-01-26T00:00:00-05:00\",\"2017-01-27T00:00:00-05:00\",\"2017-01-30T00:00:00-05:00\",\"2017-01-31T00:00:00-05:00\",\"2017-02-01T00:00:00-05:00\",\"2017-02-02T00:00:00-05:00\",\"2017-02-03T00:00:00-05:00\",\"2017-02-06T00:00:00-05:00\",\"2017-02-07T00:00:00-05:00\",\"2017-02-08T00:00:00-05:00\",\"2017-02-09T00:00:00-05:00\",\"2017-02-10T00:00:00-05:00\",\"2017-02-13T00:00:00-05:00\",\"2017-02-14T00:00:00-05:00\",\"2017-02-15T00:00:00-05:00\",\"2017-02-16T00:00:00-05:00\",\"2017-02-17T00:00:00-05:00\",\"2017-02-21T00:00:00-05:00\",\"2017-02-22T00:00:00-05:00\",\"2017-02-23T00:00:00-05:00\",\"2017-02-24T00:00:00-05:00\",\"2017-02-27T00:00:00-05:00\",\"2017-02-28T00:00:00-05:00\",\"2017-03-01T00:00:00-05:00\",\"2017-03-02T00:00:00-05:00\",\"2017-03-03T00:00:00-05:00\",\"2017-03-06T00:00:00-05:00\",\"2017-03-07T00:00:00-05:00\",\"2017-03-08T00:00:00-05:00\",\"2017-03-09T00:00:00-05:00\",\"2017-03-10T00:00:00-05:00\",\"2017-03-13T00:00:00-04:00\",\"2017-03-14T00:00:00-04:00\",\"2017-03-15T00:00:00-04:00\",\"2017-03-16T00:00:00-04:00\",\"2017-03-17T00:00:00-04:00\",\"2017-03-20T00:00:00-04:00\",\"2017-03-21T00:00:00-04:00\",\"2017-03-22T00:00:00-04:00\",\"2017-03-23T00:00:00-04:00\",\"2017-03-24T00:00:00-04:00\",\"2017-03-27T00:00:00-04:00\",\"2017-03-28T00:00:00-04:00\",\"2017-03-29T00:00:00-04:00\",\"2017-03-30T00:00:00-04:00\",\"2017-03-31T00:00:00-04:00\",\"2017-04-03T00:00:00-04:00\",\"2017-04-04T00:00:00-04:00\",\"2017-04-05T00:00:00-04:00\",\"2017-04-06T00:00:00-04:00\",\"2017-04-07T00:00:00-04:00\",\"2017-04-10T00:00:00-04:00\",\"2017-04-11T00:00:00-04:00\",\"2017-04-12T00:00:00-04:00\",\"2017-04-13T00:00:00-04:00\",\"2017-04-17T00:00:00-04:00\",\"2017-04-18T00:00:00-04:00\",\"2017-04-19T00:00:00-04:00\",\"2017-04-20T00:00:00-04:00\",\"2017-04-21T00:00:00-04:00\",\"2017-04-24T00:00:00-04:00\",\"2017-04-25T00:00:00-04:00\",\"2017-04-26T00:00:00-04:00\",\"2017-04-27T00:00:00-04:00\",\"2017-04-28T00:00:00-04:00\",\"2017-05-01T00:00:00-04:00\",\"2017-05-02T00:00:00-04:00\",\"2017-05-03T00:00:00-04:00\",\"2017-05-04T00:00:00-04:00\",\"2017-05-05T00:00:00-04:00\",\"2017-05-08T00:00:00-04:00\",\"2017-05-09T00:00:00-04:00\",\"2017-05-10T00:00:00-04:00\",\"2017-05-11T00:00:00-04:00\",\"2017-05-12T00:00:00-04:00\",\"2017-05-15T00:00:00-04:00\",\"2017-05-16T00:00:00-04:00\",\"2017-05-17T00:00:00-04:00\",\"2017-05-18T00:00:00-04:00\",\"2017-05-19T00:00:00-04:00\",\"2017-05-22T00:00:00-04:00\",\"2017-05-23T00:00:00-04:00\",\"2017-05-24T00:00:00-04:00\",\"2017-05-25T00:00:00-04:00\",\"2017-05-26T00:00:00-04:00\",\"2017-05-30T00:00:00-04:00\",\"2017-05-31T00:00:00-04:00\",\"2017-06-01T00:00:00-04:00\",\"2017-06-02T00:00:00-04:00\",\"2017-06-05T00:00:00-04:00\",\"2017-06-06T00:00:00-04:00\",\"2017-06-07T00:00:00-04:00\",\"2017-06-08T00:00:00-04:00\",\"2017-06-09T00:00:00-04:00\",\"2017-06-12T00:00:00-04:00\",\"2017-06-13T00:00:00-04:00\",\"2017-06-14T00:00:00-04:00\",\"2017-06-15T00:00:00-04:00\",\"2017-06-16T00:00:00-04:00\",\"2017-06-19T00:00:00-04:00\",\"2017-06-20T00:00:00-04:00\",\"2017-06-21T00:00:00-04:00\",\"2017-06-22T00:00:00-04:00\",\"2017-06-23T00:00:00-04:00\",\"2017-06-26T00:00:00-04:00\",\"2017-06-27T00:00:00-04:00\",\"2017-06-28T00:00:00-04:00\",\"2017-06-29T00:00:00-04:00\",\"2017-06-30T00:00:00-04:00\",\"2017-07-03T00:00:00-04:00\",\"2017-07-05T00:00:00-04:00\",\"2017-07-06T00:00:00-04:00\",\"2017-07-07T00:00:00-04:00\",\"2017-07-10T00:00:00-04:00\",\"2017-07-11T00:00:00-04:00\",\"2017-07-12T00:00:00-04:00\",\"2017-07-13T00:00:00-04:00\",\"2017-07-14T00:00:00-04:00\",\"2017-07-17T00:00:00-04:00\",\"2017-07-18T00:00:00-04:00\",\"2017-07-19T00:00:00-04:00\",\"2017-07-20T00:00:00-04:00\",\"2017-07-21T00:00:00-04:00\",\"2017-07-24T00:00:00-04:00\",\"2017-07-25T00:00:00-04:00\",\"2017-07-26T00:00:00-04:00\",\"2017-07-27T00:00:00-04:00\",\"2017-07-28T00:00:00-04:00\",\"2017-07-31T00:00:00-04:00\",\"2017-08-01T00:00:00-04:00\",\"2017-08-02T00:00:00-04:00\",\"2017-08-03T00:00:00-04:00\",\"2017-08-04T00:00:00-04:00\",\"2017-08-07T00:00:00-04:00\",\"2017-08-08T00:00:00-04:00\",\"2017-08-09T00:00:00-04:00\",\"2017-08-10T00:00:00-04:00\",\"2017-08-11T00:00:00-04:00\",\"2017-08-14T00:00:00-04:00\",\"2017-08-15T00:00:00-04:00\",\"2017-08-16T00:00:00-04:00\",\"2017-08-17T00:00:00-04:00\",\"2017-08-18T00:00:00-04:00\",\"2017-08-21T00:00:00-04:00\",\"2017-08-22T00:00:00-04:00\",\"2017-08-23T00:00:00-04:00\",\"2017-08-24T00:00:00-04:00\",\"2017-08-25T00:00:00-04:00\",\"2017-08-28T00:00:00-04:00\",\"2017-08-29T00:00:00-04:00\",\"2017-08-30T00:00:00-04:00\",\"2017-08-31T00:00:00-04:00\",\"2017-09-01T00:00:00-04:00\",\"2017-09-05T00:00:00-04:00\",\"2017-09-06T00:00:00-04:00\",\"2017-09-07T00:00:00-04:00\",\"2017-09-08T00:00:00-04:00\",\"2017-09-11T00:00:00-04:00\",\"2017-09-12T00:00:00-04:00\",\"2017-09-13T00:00:00-04:00\",\"2017-09-14T00:00:00-04:00\",\"2017-09-15T00:00:00-04:00\",\"2017-09-18T00:00:00-04:00\",\"2017-09-19T00:00:00-04:00\",\"2017-09-20T00:00:00-04:00\",\"2017-09-21T00:00:00-04:00\",\"2017-09-22T00:00:00-04:00\",\"2017-09-25T00:00:00-04:00\",\"2017-09-26T00:00:00-04:00\",\"2017-09-27T00:00:00-04:00\",\"2017-09-28T00:00:00-04:00\",\"2017-09-29T00:00:00-04:00\",\"2017-10-02T00:00:00-04:00\",\"2017-10-03T00:00:00-04:00\",\"2017-10-04T00:00:00-04:00\",\"2017-10-05T00:00:00-04:00\",\"2017-10-06T00:00:00-04:00\",\"2017-10-09T00:00:00-04:00\",\"2017-10-10T00:00:00-04:00\",\"2017-10-11T00:00:00-04:00\",\"2017-10-12T00:00:00-04:00\",\"2017-10-13T00:00:00-04:00\",\"2017-10-16T00:00:00-04:00\",\"2017-10-17T00:00:00-04:00\",\"2017-10-18T00:00:00-04:00\",\"2017-10-19T00:00:00-04:00\",\"2017-10-20T00:00:00-04:00\",\"2017-10-23T00:00:00-04:00\",\"2017-10-24T00:00:00-04:00\",\"2017-10-25T00:00:00-04:00\",\"2017-10-26T00:00:00-04:00\",\"2017-10-27T00:00:00-04:00\",\"2017-10-30T00:00:00-04:00\",\"2017-10-31T00:00:00-04:00\",\"2017-11-01T00:00:00-04:00\",\"2017-11-02T00:00:00-04:00\",\"2017-11-03T00:00:00-04:00\",\"2017-11-06T00:00:00-05:00\",\"2017-11-07T00:00:00-05:00\",\"2017-11-08T00:00:00-05:00\",\"2017-11-09T00:00:00-05:00\",\"2017-11-10T00:00:00-05:00\",\"2017-11-13T00:00:00-05:00\",\"2017-11-14T00:00:00-05:00\",\"2017-11-15T00:00:00-05:00\",\"2017-11-16T00:00:00-05:00\",\"2017-11-17T00:00:00-05:00\",\"2017-11-20T00:00:00-05:00\",\"2017-11-21T00:00:00-05:00\",\"2017-11-22T00:00:00-05:00\",\"2017-11-24T00:00:00-05:00\",\"2017-11-27T00:00:00-05:00\",\"2017-11-28T00:00:00-05:00\",\"2017-11-29T00:00:00-05:00\",\"2017-11-30T00:00:00-05:00\",\"2017-12-01T00:00:00-05:00\",\"2017-12-04T00:00:00-05:00\",\"2017-12-05T00:00:00-05:00\",\"2017-12-06T00:00:00-05:00\",\"2017-12-07T00:00:00-05:00\",\"2017-12-08T00:00:00-05:00\",\"2017-12-11T00:00:00-05:00\",\"2017-12-12T00:00:00-05:00\",\"2017-12-13T00:00:00-05:00\",\"2017-12-14T00:00:00-05:00\",\"2017-12-15T00:00:00-05:00\",\"2017-12-18T00:00:00-05:00\",\"2017-12-19T00:00:00-05:00\",\"2017-12-20T00:00:00-05:00\",\"2017-12-21T00:00:00-05:00\",\"2017-12-22T00:00:00-05:00\",\"2017-12-26T00:00:00-05:00\",\"2017-12-27T00:00:00-05:00\",\"2017-12-28T00:00:00-05:00\",\"2017-12-29T00:00:00-05:00\",\"2018-01-02T00:00:00-05:00\",\"2018-01-03T00:00:00-05:00\",\"2018-01-04T00:00:00-05:00\",\"2018-01-05T00:00:00-05:00\",\"2018-01-08T00:00:00-05:00\",\"2018-01-09T00:00:00-05:00\",\"2018-01-10T00:00:00-05:00\",\"2018-01-11T00:00:00-05:00\",\"2018-01-12T00:00:00-05:00\",\"2018-01-16T00:00:00-05:00\",\"2018-01-17T00:00:00-05:00\",\"2018-01-18T00:00:00-05:00\",\"2018-01-19T00:00:00-05:00\",\"2018-01-22T00:00:00-05:00\",\"2018-01-23T00:00:00-05:00\",\"2018-01-24T00:00:00-05:00\",\"2018-01-25T00:00:00-05:00\",\"2018-01-26T00:00:00-05:00\",\"2018-01-29T00:00:00-05:00\",\"2018-01-30T00:00:00-05:00\",\"2018-01-31T00:00:00-05:00\",\"2018-02-01T00:00:00-05:00\",\"2018-02-02T00:00:00-05:00\",\"2018-02-05T00:00:00-05:00\",\"2018-02-06T00:00:00-05:00\",\"2018-02-07T00:00:00-05:00\",\"2018-02-08T00:00:00-05:00\",\"2018-02-09T00:00:00-05:00\",\"2018-02-12T00:00:00-05:00\",\"2018-02-13T00:00:00-05:00\",\"2018-02-14T00:00:00-05:00\",\"2018-02-15T00:00:00-05:00\",\"2018-02-16T00:00:00-05:00\",\"2018-02-20T00:00:00-05:00\",\"2018-02-21T00:00:00-05:00\",\"2018-02-22T00:00:00-05:00\",\"2018-02-23T00:00:00-05:00\",\"2018-02-26T00:00:00-05:00\",\"2018-02-27T00:00:00-05:00\",\"2018-02-28T00:00:00-05:00\",\"2018-03-01T00:00:00-05:00\",\"2018-03-02T00:00:00-05:00\",\"2018-03-05T00:00:00-05:00\",\"2018-03-06T00:00:00-05:00\",\"2018-03-07T00:00:00-05:00\",\"2018-03-08T00:00:00-05:00\",\"2018-03-09T00:00:00-05:00\",\"2018-03-12T00:00:00-04:00\",\"2018-03-13T00:00:00-04:00\",\"2018-03-14T00:00:00-04:00\",\"2018-03-15T00:00:00-04:00\",\"2018-03-16T00:00:00-04:00\",\"2018-03-19T00:00:00-04:00\",\"2018-03-20T00:00:00-04:00\",\"2018-03-21T00:00:00-04:00\",\"2018-03-22T00:00:00-04:00\",\"2018-03-23T00:00:00-04:00\",\"2018-03-26T00:00:00-04:00\",\"2018-03-27T00:00:00-04:00\",\"2018-03-28T00:00:00-04:00\",\"2018-03-29T00:00:00-04:00\",\"2018-04-02T00:00:00-04:00\",\"2018-04-03T00:00:00-04:00\",\"2018-04-04T00:00:00-04:00\",\"2018-04-05T00:00:00-04:00\",\"2018-04-06T00:00:00-04:00\",\"2018-04-09T00:00:00-04:00\",\"2018-04-10T00:00:00-04:00\",\"2018-04-11T00:00:00-04:00\",\"2018-04-12T00:00:00-04:00\",\"2018-04-13T00:00:00-04:00\",\"2018-04-16T00:00:00-04:00\",\"2018-04-17T00:00:00-04:00\",\"2018-04-18T00:00:00-04:00\",\"2018-04-19T00:00:00-04:00\",\"2018-04-20T00:00:00-04:00\",\"2018-04-23T00:00:00-04:00\",\"2018-04-24T00:00:00-04:00\",\"2018-04-25T00:00:00-04:00\",\"2018-04-26T00:00:00-04:00\",\"2018-04-27T00:00:00-04:00\",\"2018-04-30T00:00:00-04:00\",\"2018-05-01T00:00:00-04:00\",\"2018-05-02T00:00:00-04:00\",\"2018-05-03T00:00:00-04:00\",\"2018-05-04T00:00:00-04:00\",\"2018-05-07T00:00:00-04:00\",\"2018-05-08T00:00:00-04:00\",\"2018-05-09T00:00:00-04:00\",\"2018-05-10T00:00:00-04:00\",\"2018-05-11T00:00:00-04:00\",\"2018-05-14T00:00:00-04:00\",\"2018-05-15T00:00:00-04:00\",\"2018-05-16T00:00:00-04:00\",\"2018-05-17T00:00:00-04:00\",\"2018-05-18T00:00:00-04:00\",\"2018-05-21T00:00:00-04:00\",\"2018-05-22T00:00:00-04:00\",\"2018-05-23T00:00:00-04:00\",\"2018-05-24T00:00:00-04:00\",\"2018-05-25T00:00:00-04:00\",\"2018-05-29T00:00:00-04:00\",\"2018-05-30T00:00:00-04:00\",\"2018-05-31T00:00:00-04:00\",\"2018-06-01T00:00:00-04:00\",\"2018-06-04T00:00:00-04:00\",\"2018-06-05T00:00:00-04:00\",\"2018-06-06T00:00:00-04:00\",\"2018-06-07T00:00:00-04:00\",\"2018-06-08T00:00:00-04:00\",\"2018-06-11T00:00:00-04:00\",\"2018-06-12T00:00:00-04:00\",\"2018-06-13T00:00:00-04:00\",\"2018-06-14T00:00:00-04:00\",\"2018-06-15T00:00:00-04:00\",\"2018-06-18T00:00:00-04:00\",\"2018-06-19T00:00:00-04:00\",\"2018-06-20T00:00:00-04:00\",\"2018-06-21T00:00:00-04:00\",\"2018-06-22T00:00:00-04:00\",\"2018-06-25T00:00:00-04:00\",\"2018-06-26T00:00:00-04:00\",\"2018-06-27T00:00:00-04:00\",\"2018-06-28T00:00:00-04:00\",\"2018-06-29T00:00:00-04:00\",\"2018-07-02T00:00:00-04:00\",\"2018-07-03T00:00:00-04:00\",\"2018-07-05T00:00:00-04:00\",\"2018-07-06T00:00:00-04:00\",\"2018-07-09T00:00:00-04:00\",\"2018-07-10T00:00:00-04:00\",\"2018-07-11T00:00:00-04:00\",\"2018-07-12T00:00:00-04:00\",\"2018-07-13T00:00:00-04:00\",\"2018-07-16T00:00:00-04:00\",\"2018-07-17T00:00:00-04:00\",\"2018-07-18T00:00:00-04:00\",\"2018-07-19T00:00:00-04:00\",\"2018-07-20T00:00:00-04:00\",\"2018-07-23T00:00:00-04:00\",\"2018-07-24T00:00:00-04:00\",\"2018-07-25T00:00:00-04:00\",\"2018-07-26T00:00:00-04:00\",\"2018-07-27T00:00:00-04:00\",\"2018-07-30T00:00:00-04:00\",\"2018-07-31T00:00:00-04:00\",\"2018-08-01T00:00:00-04:00\",\"2018-08-02T00:00:00-04:00\",\"2018-08-03T00:00:00-04:00\",\"2018-08-06T00:00:00-04:00\",\"2018-08-07T00:00:00-04:00\",\"2018-08-08T00:00:00-04:00\",\"2018-08-09T00:00:00-04:00\",\"2018-08-10T00:00:00-04:00\",\"2018-08-13T00:00:00-04:00\",\"2018-08-14T00:00:00-04:00\",\"2018-08-15T00:00:00-04:00\",\"2018-08-16T00:00:00-04:00\",\"2018-08-17T00:00:00-04:00\",\"2018-08-20T00:00:00-04:00\",\"2018-08-21T00:00:00-04:00\",\"2018-08-22T00:00:00-04:00\",\"2018-08-23T00:00:00-04:00\",\"2018-08-24T00:00:00-04:00\",\"2018-08-27T00:00:00-04:00\",\"2018-08-28T00:00:00-04:00\",\"2018-08-29T00:00:00-04:00\",\"2018-08-30T00:00:00-04:00\",\"2018-08-31T00:00:00-04:00\",\"2018-09-04T00:00:00-04:00\",\"2018-09-05T00:00:00-04:00\",\"2018-09-06T00:00:00-04:00\",\"2018-09-07T00:00:00-04:00\",\"2018-09-10T00:00:00-04:00\",\"2018-09-11T00:00:00-04:00\",\"2018-09-12T00:00:00-04:00\",\"2018-09-13T00:00:00-04:00\",\"2018-09-14T00:00:00-04:00\",\"2018-09-17T00:00:00-04:00\",\"2018-09-18T00:00:00-04:00\",\"2018-09-19T00:00:00-04:00\",\"2018-09-20T00:00:00-04:00\",\"2018-09-21T00:00:00-04:00\",\"2018-09-24T00:00:00-04:00\",\"2018-09-25T00:00:00-04:00\",\"2018-09-26T00:00:00-04:00\",\"2018-09-27T00:00:00-04:00\",\"2018-09-28T00:00:00-04:00\",\"2018-10-01T00:00:00-04:00\",\"2018-10-02T00:00:00-04:00\",\"2018-10-03T00:00:00-04:00\",\"2018-10-04T00:00:00-04:00\",\"2018-10-05T00:00:00-04:00\",\"2018-10-08T00:00:00-04:00\",\"2018-10-09T00:00:00-04:00\",\"2018-10-10T00:00:00-04:00\",\"2018-10-11T00:00:00-04:00\",\"2018-10-12T00:00:00-04:00\",\"2018-10-15T00:00:00-04:00\",\"2018-10-16T00:00:00-04:00\",\"2018-10-17T00:00:00-04:00\",\"2018-10-18T00:00:00-04:00\",\"2018-10-19T00:00:00-04:00\",\"2018-10-22T00:00:00-04:00\",\"2018-10-23T00:00:00-04:00\",\"2018-10-24T00:00:00-04:00\",\"2018-10-25T00:00:00-04:00\",\"2018-10-26T00:00:00-04:00\",\"2018-10-29T00:00:00-04:00\",\"2018-10-30T00:00:00-04:00\",\"2018-10-31T00:00:00-04:00\",\"2018-11-01T00:00:00-04:00\",\"2018-11-02T00:00:00-04:00\",\"2018-11-05T00:00:00-05:00\",\"2018-11-06T00:00:00-05:00\",\"2018-11-07T00:00:00-05:00\",\"2018-11-08T00:00:00-05:00\",\"2018-11-09T00:00:00-05:00\",\"2018-11-12T00:00:00-05:00\",\"2018-11-13T00:00:00-05:00\",\"2018-11-14T00:00:00-05:00\",\"2018-11-15T00:00:00-05:00\",\"2018-11-16T00:00:00-05:00\",\"2018-11-19T00:00:00-05:00\",\"2018-11-20T00:00:00-05:00\",\"2018-11-21T00:00:00-05:00\",\"2018-11-23T00:00:00-05:00\",\"2018-11-26T00:00:00-05:00\",\"2018-11-27T00:00:00-05:00\",\"2018-11-28T00:00:00-05:00\",\"2018-11-29T00:00:00-05:00\",\"2018-11-30T00:00:00-05:00\",\"2018-12-03T00:00:00-05:00\",\"2018-12-04T00:00:00-05:00\",\"2018-12-06T00:00:00-05:00\",\"2018-12-07T00:00:00-05:00\",\"2018-12-10T00:00:00-05:00\",\"2018-12-11T00:00:00-05:00\",\"2018-12-12T00:00:00-05:00\",\"2018-12-13T00:00:00-05:00\",\"2018-12-14T00:00:00-05:00\",\"2018-12-17T00:00:00-05:00\",\"2018-12-18T00:00:00-05:00\",\"2018-12-19T00:00:00-05:00\",\"2018-12-20T00:00:00-05:00\",\"2018-12-21T00:00:00-05:00\",\"2018-12-24T00:00:00-05:00\",\"2018-12-26T00:00:00-05:00\",\"2018-12-27T00:00:00-05:00\",\"2018-12-28T00:00:00-05:00\",\"2018-12-31T00:00:00-05:00\",\"2019-01-02T00:00:00-05:00\",\"2019-01-03T00:00:00-05:00\",\"2019-01-04T00:00:00-05:00\",\"2019-01-07T00:00:00-05:00\",\"2019-01-08T00:00:00-05:00\",\"2019-01-09T00:00:00-05:00\",\"2019-01-10T00:00:00-05:00\",\"2019-01-11T00:00:00-05:00\",\"2019-01-14T00:00:00-05:00\",\"2019-01-15T00:00:00-05:00\",\"2019-01-16T00:00:00-05:00\",\"2019-01-17T00:00:00-05:00\",\"2019-01-18T00:00:00-05:00\",\"2019-01-22T00:00:00-05:00\",\"2019-01-23T00:00:00-05:00\",\"2019-01-24T00:00:00-05:00\",\"2019-01-25T00:00:00-05:00\",\"2019-01-28T00:00:00-05:00\",\"2019-01-29T00:00:00-05:00\",\"2019-01-30T00:00:00-05:00\",\"2019-01-31T00:00:00-05:00\",\"2019-02-01T00:00:00-05:00\",\"2019-02-04T00:00:00-05:00\",\"2019-02-05T00:00:00-05:00\",\"2019-02-06T00:00:00-05:00\",\"2019-02-07T00:00:00-05:00\",\"2019-02-08T00:00:00-05:00\",\"2019-02-11T00:00:00-05:00\",\"2019-02-12T00:00:00-05:00\",\"2019-02-13T00:00:00-05:00\",\"2019-02-14T00:00:00-05:00\",\"2019-02-15T00:00:00-05:00\",\"2019-02-19T00:00:00-05:00\",\"2019-02-20T00:00:00-05:00\",\"2019-02-21T00:00:00-05:00\",\"2019-02-22T00:00:00-05:00\",\"2019-02-25T00:00:00-05:00\",\"2019-02-26T00:00:00-05:00\",\"2019-02-27T00:00:00-05:00\",\"2019-02-28T00:00:00-05:00\",\"2019-03-01T00:00:00-05:00\",\"2019-03-04T00:00:00-05:00\",\"2019-03-05T00:00:00-05:00\",\"2019-03-06T00:00:00-05:00\",\"2019-03-07T00:00:00-05:00\",\"2019-03-08T00:00:00-05:00\",\"2019-03-11T00:00:00-04:00\",\"2019-03-12T00:00:00-04:00\",\"2019-03-13T00:00:00-04:00\",\"2019-03-14T00:00:00-04:00\",\"2019-03-15T00:00:00-04:00\",\"2019-03-18T00:00:00-04:00\",\"2019-03-19T00:00:00-04:00\",\"2019-03-20T00:00:00-04:00\",\"2019-03-21T00:00:00-04:00\",\"2019-03-22T00:00:00-04:00\",\"2019-03-25T00:00:00-04:00\",\"2019-03-26T00:00:00-04:00\",\"2019-03-27T00:00:00-04:00\",\"2019-03-28T00:00:00-04:00\",\"2019-03-29T00:00:00-04:00\",\"2019-04-01T00:00:00-04:00\",\"2019-04-02T00:00:00-04:00\",\"2019-04-03T00:00:00-04:00\",\"2019-04-04T00:00:00-04:00\",\"2019-04-05T00:00:00-04:00\",\"2019-04-08T00:00:00-04:00\",\"2019-04-09T00:00:00-04:00\",\"2019-04-10T00:00:00-04:00\",\"2019-04-11T00:00:00-04:00\",\"2019-04-12T00:00:00-04:00\",\"2019-04-15T00:00:00-04:00\",\"2019-04-16T00:00:00-04:00\",\"2019-04-17T00:00:00-04:00\",\"2019-04-18T00:00:00-04:00\",\"2019-04-22T00:00:00-04:00\",\"2019-04-23T00:00:00-04:00\",\"2019-04-24T00:00:00-04:00\",\"2019-04-25T00:00:00-04:00\",\"2019-04-26T00:00:00-04:00\",\"2019-04-29T00:00:00-04:00\",\"2019-04-30T00:00:00-04:00\",\"2019-05-01T00:00:00-04:00\",\"2019-05-02T00:00:00-04:00\",\"2019-05-03T00:00:00-04:00\",\"2019-05-06T00:00:00-04:00\",\"2019-05-07T00:00:00-04:00\",\"2019-05-08T00:00:00-04:00\",\"2019-05-09T00:00:00-04:00\",\"2019-05-10T00:00:00-04:00\",\"2019-05-13T00:00:00-04:00\",\"2019-05-14T00:00:00-04:00\",\"2019-05-15T00:00:00-04:00\",\"2019-05-16T00:00:00-04:00\",\"2019-05-17T00:00:00-04:00\",\"2019-05-20T00:00:00-04:00\",\"2019-05-21T00:00:00-04:00\",\"2019-05-22T00:00:00-04:00\",\"2019-05-23T00:00:00-04:00\",\"2019-05-24T00:00:00-04:00\",\"2019-05-28T00:00:00-04:00\",\"2019-05-29T00:00:00-04:00\",\"2019-05-30T00:00:00-04:00\",\"2019-05-31T00:00:00-04:00\",\"2019-06-03T00:00:00-04:00\",\"2019-06-04T00:00:00-04:00\",\"2019-06-05T00:00:00-04:00\",\"2019-06-06T00:00:00-04:00\",\"2019-06-07T00:00:00-04:00\",\"2019-06-10T00:00:00-04:00\",\"2019-06-11T00:00:00-04:00\",\"2019-06-12T00:00:00-04:00\",\"2019-06-13T00:00:00-04:00\",\"2019-06-14T00:00:00-04:00\",\"2019-06-17T00:00:00-04:00\",\"2019-06-18T00:00:00-04:00\",\"2019-06-19T00:00:00-04:00\",\"2019-06-20T00:00:00-04:00\",\"2019-06-21T00:00:00-04:00\",\"2019-06-24T00:00:00-04:00\",\"2019-06-25T00:00:00-04:00\",\"2019-06-26T00:00:00-04:00\",\"2019-06-27T00:00:00-04:00\",\"2019-06-28T00:00:00-04:00\",\"2019-07-01T00:00:00-04:00\",\"2019-07-02T00:00:00-04:00\",\"2019-07-03T00:00:00-04:00\",\"2019-07-05T00:00:00-04:00\",\"2019-07-08T00:00:00-04:00\",\"2019-07-09T00:00:00-04:00\",\"2019-07-10T00:00:00-04:00\",\"2019-07-11T00:00:00-04:00\",\"2019-07-12T00:00:00-04:00\",\"2019-07-15T00:00:00-04:00\",\"2019-07-16T00:00:00-04:00\",\"2019-07-17T00:00:00-04:00\",\"2019-07-18T00:00:00-04:00\",\"2019-07-19T00:00:00-04:00\",\"2019-07-22T00:00:00-04:00\",\"2019-07-23T00:00:00-04:00\",\"2019-07-24T00:00:00-04:00\",\"2019-07-25T00:00:00-04:00\",\"2019-07-26T00:00:00-04:00\",\"2019-07-29T00:00:00-04:00\",\"2019-07-30T00:00:00-04:00\",\"2019-07-31T00:00:00-04:00\",\"2019-08-01T00:00:00-04:00\",\"2019-08-02T00:00:00-04:00\",\"2019-08-05T00:00:00-04:00\",\"2019-08-06T00:00:00-04:00\",\"2019-08-07T00:00:00-04:00\",\"2019-08-08T00:00:00-04:00\",\"2019-08-09T00:00:00-04:00\",\"2019-08-12T00:00:00-04:00\",\"2019-08-13T00:00:00-04:00\",\"2019-08-14T00:00:00-04:00\",\"2019-08-15T00:00:00-04:00\",\"2019-08-16T00:00:00-04:00\",\"2019-08-19T00:00:00-04:00\",\"2019-08-20T00:00:00-04:00\",\"2019-08-21T00:00:00-04:00\",\"2019-08-22T00:00:00-04:00\",\"2019-08-23T00:00:00-04:00\",\"2019-08-26T00:00:00-04:00\",\"2019-08-27T00:00:00-04:00\",\"2019-08-28T00:00:00-04:00\",\"2019-08-29T00:00:00-04:00\",\"2019-08-30T00:00:00-04:00\",\"2019-09-03T00:00:00-04:00\",\"2019-09-04T00:00:00-04:00\",\"2019-09-05T00:00:00-04:00\",\"2019-09-06T00:00:00-04:00\",\"2019-09-09T00:00:00-04:00\",\"2019-09-10T00:00:00-04:00\",\"2019-09-11T00:00:00-04:00\",\"2019-09-12T00:00:00-04:00\",\"2019-09-13T00:00:00-04:00\",\"2019-09-16T00:00:00-04:00\",\"2019-09-17T00:00:00-04:00\",\"2019-09-18T00:00:00-04:00\",\"2019-09-19T00:00:00-04:00\",\"2019-09-20T00:00:00-04:00\",\"2019-09-23T00:00:00-04:00\",\"2019-09-24T00:00:00-04:00\",\"2019-09-25T00:00:00-04:00\",\"2019-09-26T00:00:00-04:00\",\"2019-09-27T00:00:00-04:00\",\"2019-09-30T00:00:00-04:00\",\"2019-10-01T00:00:00-04:00\",\"2019-10-02T00:00:00-04:00\",\"2019-10-03T00:00:00-04:00\",\"2019-10-04T00:00:00-04:00\",\"2019-10-07T00:00:00-04:00\",\"2019-10-08T00:00:00-04:00\",\"2019-10-09T00:00:00-04:00\",\"2019-10-10T00:00:00-04:00\",\"2019-10-11T00:00:00-04:00\",\"2019-10-14T00:00:00-04:00\",\"2019-10-15T00:00:00-04:00\",\"2019-10-16T00:00:00-04:00\",\"2019-10-17T00:00:00-04:00\",\"2019-10-18T00:00:00-04:00\",\"2019-10-21T00:00:00-04:00\",\"2019-10-22T00:00:00-04:00\",\"2019-10-23T00:00:00-04:00\",\"2019-10-24T00:00:00-04:00\",\"2019-10-25T00:00:00-04:00\",\"2019-10-28T00:00:00-04:00\",\"2019-10-29T00:00:00-04:00\",\"2019-10-30T00:00:00-04:00\",\"2019-10-31T00:00:00-04:00\",\"2019-11-01T00:00:00-04:00\",\"2019-11-04T00:00:00-05:00\",\"2019-11-05T00:00:00-05:00\",\"2019-11-06T00:00:00-05:00\",\"2019-11-07T00:00:00-05:00\",\"2019-11-08T00:00:00-05:00\",\"2019-11-11T00:00:00-05:00\",\"2019-11-12T00:00:00-05:00\",\"2019-11-13T00:00:00-05:00\",\"2019-11-14T00:00:00-05:00\",\"2019-11-15T00:00:00-05:00\",\"2019-11-18T00:00:00-05:00\",\"2019-11-19T00:00:00-05:00\",\"2019-11-20T00:00:00-05:00\",\"2019-11-21T00:00:00-05:00\",\"2019-11-22T00:00:00-05:00\",\"2019-11-25T00:00:00-05:00\",\"2019-11-26T00:00:00-05:00\",\"2019-11-27T00:00:00-05:00\",\"2019-11-29T00:00:00-05:00\",\"2019-12-02T00:00:00-05:00\",\"2019-12-03T00:00:00-05:00\",\"2019-12-04T00:00:00-05:00\",\"2019-12-05T00:00:00-05:00\",\"2019-12-06T00:00:00-05:00\",\"2019-12-09T00:00:00-05:00\",\"2019-12-10T00:00:00-05:00\",\"2019-12-11T00:00:00-05:00\",\"2019-12-12T00:00:00-05:00\",\"2019-12-13T00:00:00-05:00\",\"2019-12-16T00:00:00-05:00\",\"2019-12-17T00:00:00-05:00\",\"2019-12-18T00:00:00-05:00\",\"2019-12-19T00:00:00-05:00\",\"2019-12-20T00:00:00-05:00\",\"2019-12-23T00:00:00-05:00\",\"2019-12-24T00:00:00-05:00\",\"2019-12-26T00:00:00-05:00\",\"2019-12-27T00:00:00-05:00\",\"2019-12-30T00:00:00-05:00\",\"2019-12-31T00:00:00-05:00\",\"2020-01-02T00:00:00-05:00\",\"2020-01-03T00:00:00-05:00\",\"2020-01-06T00:00:00-05:00\",\"2020-01-07T00:00:00-05:00\",\"2020-01-08T00:00:00-05:00\",\"2020-01-09T00:00:00-05:00\",\"2020-01-10T00:00:00-05:00\",\"2020-01-13T00:00:00-05:00\",\"2020-01-14T00:00:00-05:00\",\"2020-01-15T00:00:00-05:00\",\"2020-01-16T00:00:00-05:00\",\"2020-01-17T00:00:00-05:00\",\"2020-01-21T00:00:00-05:00\",\"2020-01-22T00:00:00-05:00\",\"2020-01-23T00:00:00-05:00\",\"2020-01-24T00:00:00-05:00\",\"2020-01-27T00:00:00-05:00\",\"2020-01-28T00:00:00-05:00\",\"2020-01-29T00:00:00-05:00\",\"2020-01-30T00:00:00-05:00\",\"2020-01-31T00:00:00-05:00\",\"2020-02-03T00:00:00-05:00\",\"2020-02-04T00:00:00-05:00\",\"2020-02-05T00:00:00-05:00\",\"2020-02-06T00:00:00-05:00\",\"2020-02-07T00:00:00-05:00\",\"2020-02-10T00:00:00-05:00\",\"2020-02-11T00:00:00-05:00\",\"2020-02-12T00:00:00-05:00\",\"2020-02-13T00:00:00-05:00\",\"2020-02-14T00:00:00-05:00\",\"2020-02-18T00:00:00-05:00\",\"2020-02-19T00:00:00-05:00\",\"2020-02-20T00:00:00-05:00\",\"2020-02-21T00:00:00-05:00\",\"2020-02-24T00:00:00-05:00\",\"2020-02-25T00:00:00-05:00\",\"2020-02-26T00:00:00-05:00\",\"2020-02-27T00:00:00-05:00\",\"2020-02-28T00:00:00-05:00\",\"2020-03-02T00:00:00-05:00\",\"2020-03-03T00:00:00-05:00\",\"2020-03-04T00:00:00-05:00\",\"2020-03-05T00:00:00-05:00\",\"2020-03-06T00:00:00-05:00\",\"2020-03-09T00:00:00-04:00\",\"2020-03-10T00:00:00-04:00\",\"2020-03-11T00:00:00-04:00\",\"2020-03-12T00:00:00-04:00\",\"2020-03-13T00:00:00-04:00\",\"2020-03-16T00:00:00-04:00\",\"2020-03-17T00:00:00-04:00\",\"2020-03-18T00:00:00-04:00\",\"2020-03-19T00:00:00-04:00\",\"2020-03-20T00:00:00-04:00\",\"2020-03-23T00:00:00-04:00\",\"2020-03-24T00:00:00-04:00\",\"2020-03-25T00:00:00-04:00\",\"2020-03-26T00:00:00-04:00\",\"2020-03-27T00:00:00-04:00\",\"2020-03-30T00:00:00-04:00\",\"2020-03-31T00:00:00-04:00\",\"2020-04-01T00:00:00-04:00\",\"2020-04-02T00:00:00-04:00\",\"2020-04-03T00:00:00-04:00\",\"2020-04-06T00:00:00-04:00\",\"2020-04-07T00:00:00-04:00\",\"2020-04-08T00:00:00-04:00\",\"2020-04-09T00:00:00-04:00\",\"2020-04-13T00:00:00-04:00\",\"2020-04-14T00:00:00-04:00\",\"2020-04-15T00:00:00-04:00\",\"2020-04-16T00:00:00-04:00\",\"2020-04-17T00:00:00-04:00\",\"2020-04-20T00:00:00-04:00\",\"2020-04-21T00:00:00-04:00\",\"2020-04-22T00:00:00-04:00\",\"2020-04-23T00:00:00-04:00\",\"2020-04-24T00:00:00-04:00\",\"2020-04-27T00:00:00-04:00\",\"2020-04-28T00:00:00-04:00\",\"2020-04-29T00:00:00-04:00\",\"2020-04-30T00:00:00-04:00\",\"2020-05-01T00:00:00-04:00\",\"2020-05-04T00:00:00-04:00\",\"2020-05-05T00:00:00-04:00\",\"2020-05-06T00:00:00-04:00\",\"2020-05-07T00:00:00-04:00\",\"2020-05-08T00:00:00-04:00\",\"2020-05-11T00:00:00-04:00\",\"2020-05-12T00:00:00-04:00\",\"2020-05-13T00:00:00-04:00\",\"2020-05-14T00:00:00-04:00\",\"2020-05-15T00:00:00-04:00\",\"2020-05-18T00:00:00-04:00\",\"2020-05-19T00:00:00-04:00\",\"2020-05-20T00:00:00-04:00\",\"2020-05-21T00:00:00-04:00\",\"2020-05-22T00:00:00-04:00\",\"2020-05-26T00:00:00-04:00\",\"2020-05-27T00:00:00-04:00\",\"2020-05-28T00:00:00-04:00\",\"2020-05-29T00:00:00-04:00\",\"2020-06-01T00:00:00-04:00\",\"2020-06-02T00:00:00-04:00\",\"2020-06-03T00:00:00-04:00\",\"2020-06-04T00:00:00-04:00\",\"2020-06-05T00:00:00-04:00\",\"2020-06-08T00:00:00-04:00\",\"2020-06-09T00:00:00-04:00\",\"2020-06-10T00:00:00-04:00\",\"2020-06-11T00:00:00-04:00\",\"2020-06-12T00:00:00-04:00\",\"2020-06-15T00:00:00-04:00\",\"2020-06-16T00:00:00-04:00\",\"2020-06-17T00:00:00-04:00\",\"2020-06-18T00:00:00-04:00\",\"2020-06-19T00:00:00-04:00\",\"2020-06-22T00:00:00-04:00\",\"2020-06-23T00:00:00-04:00\",\"2020-06-24T00:00:00-04:00\",\"2020-06-25T00:00:00-04:00\",\"2020-06-26T00:00:00-04:00\",\"2020-06-29T00:00:00-04:00\",\"2020-06-30T00:00:00-04:00\",\"2020-07-01T00:00:00-04:00\",\"2020-07-02T00:00:00-04:00\",\"2020-07-06T00:00:00-04:00\",\"2020-07-07T00:00:00-04:00\",\"2020-07-08T00:00:00-04:00\",\"2020-07-09T00:00:00-04:00\",\"2020-07-10T00:00:00-04:00\",\"2020-07-13T00:00:00-04:00\",\"2020-07-14T00:00:00-04:00\",\"2020-07-15T00:00:00-04:00\",\"2020-07-16T00:00:00-04:00\",\"2020-07-17T00:00:00-04:00\",\"2020-07-20T00:00:00-04:00\",\"2020-07-21T00:00:00-04:00\",\"2020-07-22T00:00:00-04:00\",\"2020-07-23T00:00:00-04:00\",\"2020-07-24T00:00:00-04:00\",\"2020-07-27T00:00:00-04:00\",\"2020-07-28T00:00:00-04:00\",\"2020-07-29T00:00:00-04:00\",\"2020-07-30T00:00:00-04:00\",\"2020-07-31T00:00:00-04:00\",\"2020-08-03T00:00:00-04:00\",\"2020-08-04T00:00:00-04:00\",\"2020-08-05T00:00:00-04:00\",\"2020-08-06T00:00:00-04:00\",\"2020-08-07T00:00:00-04:00\",\"2020-08-10T00:00:00-04:00\",\"2020-08-11T00:00:00-04:00\",\"2020-08-12T00:00:00-04:00\",\"2020-08-13T00:00:00-04:00\",\"2020-08-14T00:00:00-04:00\",\"2020-08-17T00:00:00-04:00\",\"2020-08-18T00:00:00-04:00\",\"2020-08-19T00:00:00-04:00\",\"2020-08-20T00:00:00-04:00\",\"2020-08-21T00:00:00-04:00\",\"2020-08-24T00:00:00-04:00\",\"2020-08-25T00:00:00-04:00\",\"2020-08-26T00:00:00-04:00\",\"2020-08-27T00:00:00-04:00\",\"2020-08-28T00:00:00-04:00\",\"2020-08-31T00:00:00-04:00\",\"2020-09-01T00:00:00-04:00\",\"2020-09-02T00:00:00-04:00\",\"2020-09-03T00:00:00-04:00\",\"2020-09-04T00:00:00-04:00\",\"2020-09-08T00:00:00-04:00\",\"2020-09-09T00:00:00-04:00\",\"2020-09-10T00:00:00-04:00\",\"2020-09-11T00:00:00-04:00\",\"2020-09-14T00:00:00-04:00\",\"2020-09-15T00:00:00-04:00\",\"2020-09-16T00:00:00-04:00\",\"2020-09-17T00:00:00-04:00\",\"2020-09-18T00:00:00-04:00\",\"2020-09-21T00:00:00-04:00\",\"2020-09-22T00:00:00-04:00\",\"2020-09-23T00:00:00-04:00\",\"2020-09-24T00:00:00-04:00\",\"2020-09-25T00:00:00-04:00\",\"2020-09-28T00:00:00-04:00\",\"2020-09-29T00:00:00-04:00\",\"2020-09-30T00:00:00-04:00\",\"2020-10-01T00:00:00-04:00\",\"2020-10-02T00:00:00-04:00\",\"2020-10-05T00:00:00-04:00\",\"2020-10-06T00:00:00-04:00\",\"2020-10-07T00:00:00-04:00\",\"2020-10-08T00:00:00-04:00\",\"2020-10-09T00:00:00-04:00\",\"2020-10-12T00:00:00-04:00\",\"2020-10-13T00:00:00-04:00\",\"2020-10-14T00:00:00-04:00\",\"2020-10-15T00:00:00-04:00\",\"2020-10-16T00:00:00-04:00\",\"2020-10-19T00:00:00-04:00\",\"2020-10-20T00:00:00-04:00\",\"2020-10-21T00:00:00-04:00\",\"2020-10-22T00:00:00-04:00\",\"2020-10-23T00:00:00-04:00\",\"2020-10-26T00:00:00-04:00\",\"2020-10-27T00:00:00-04:00\",\"2020-10-28T00:00:00-04:00\",\"2020-10-29T00:00:00-04:00\",\"2020-10-30T00:00:00-04:00\",\"2020-11-02T00:00:00-05:00\",\"2020-11-03T00:00:00-05:00\",\"2020-11-04T00:00:00-05:00\",\"2020-11-05T00:00:00-05:00\",\"2020-11-06T00:00:00-05:00\",\"2020-11-09T00:00:00-05:00\",\"2020-11-10T00:00:00-05:00\",\"2020-11-11T00:00:00-05:00\",\"2020-11-12T00:00:00-05:00\",\"2020-11-13T00:00:00-05:00\",\"2020-11-16T00:00:00-05:00\",\"2020-11-17T00:00:00-05:00\",\"2020-11-18T00:00:00-05:00\",\"2020-11-19T00:00:00-05:00\",\"2020-11-20T00:00:00-05:00\",\"2020-11-23T00:00:00-05:00\",\"2020-11-24T00:00:00-05:00\",\"2020-11-25T00:00:00-05:00\",\"2020-11-27T00:00:00-05:00\",\"2020-11-30T00:00:00-05:00\",\"2020-12-01T00:00:00-05:00\",\"2020-12-02T00:00:00-05:00\",\"2020-12-03T00:00:00-05:00\",\"2020-12-04T00:00:00-05:00\",\"2020-12-07T00:00:00-05:00\",\"2020-12-08T00:00:00-05:00\",\"2020-12-09T00:00:00-05:00\",\"2020-12-10T00:00:00-05:00\",\"2020-12-11T00:00:00-05:00\",\"2020-12-14T00:00:00-05:00\",\"2020-12-15T00:00:00-05:00\",\"2020-12-16T00:00:00-05:00\",\"2020-12-17T00:00:00-05:00\",\"2020-12-18T00:00:00-05:00\",\"2020-12-21T00:00:00-05:00\",\"2020-12-22T00:00:00-05:00\",\"2020-12-23T00:00:00-05:00\",\"2020-12-24T00:00:00-05:00\",\"2020-12-28T00:00:00-05:00\",\"2020-12-29T00:00:00-05:00\",\"2020-12-30T00:00:00-05:00\",\"2020-12-31T00:00:00-05:00\",\"2021-01-04T00:00:00-05:00\",\"2021-01-05T00:00:00-05:00\",\"2021-01-06T00:00:00-05:00\",\"2021-01-07T00:00:00-05:00\",\"2021-01-08T00:00:00-05:00\",\"2021-01-11T00:00:00-05:00\",\"2021-01-12T00:00:00-05:00\",\"2021-01-13T00:00:00-05:00\",\"2021-01-14T00:00:00-05:00\",\"2021-01-15T00:00:00-05:00\",\"2021-01-19T00:00:00-05:00\",\"2021-01-20T00:00:00-05:00\",\"2021-01-21T00:00:00-05:00\",\"2021-01-22T00:00:00-05:00\",\"2021-01-25T00:00:00-05:00\",\"2021-01-26T00:00:00-05:00\",\"2021-01-27T00:00:00-05:00\",\"2021-01-28T00:00:00-05:00\",\"2021-01-29T00:00:00-05:00\",\"2021-02-01T00:00:00-05:00\",\"2021-02-02T00:00:00-05:00\",\"2021-02-03T00:00:00-05:00\",\"2021-02-04T00:00:00-05:00\",\"2021-02-05T00:00:00-05:00\",\"2021-02-08T00:00:00-05:00\",\"2021-02-09T00:00:00-05:00\",\"2021-02-10T00:00:00-05:00\",\"2021-02-11T00:00:00-05:00\",\"2021-02-12T00:00:00-05:00\",\"2021-02-16T00:00:00-05:00\",\"2021-02-17T00:00:00-05:00\",\"2021-02-18T00:00:00-05:00\",\"2021-02-19T00:00:00-05:00\",\"2021-02-22T00:00:00-05:00\",\"2021-02-23T00:00:00-05:00\",\"2021-02-24T00:00:00-05:00\",\"2021-02-25T00:00:00-05:00\",\"2021-02-26T00:00:00-05:00\",\"2021-03-01T00:00:00-05:00\",\"2021-03-02T00:00:00-05:00\",\"2021-03-03T00:00:00-05:00\",\"2021-03-04T00:00:00-05:00\",\"2021-03-05T00:00:00-05:00\",\"2021-03-08T00:00:00-05:00\",\"2021-03-09T00:00:00-05:00\",\"2021-03-10T00:00:00-05:00\",\"2021-03-11T00:00:00-05:00\",\"2021-03-12T00:00:00-05:00\",\"2021-03-15T00:00:00-04:00\",\"2021-03-16T00:00:00-04:00\",\"2021-03-17T00:00:00-04:00\",\"2021-03-18T00:00:00-04:00\",\"2021-03-19T00:00:00-04:00\",\"2021-03-22T00:00:00-04:00\",\"2021-03-23T00:00:00-04:00\",\"2021-03-24T00:00:00-04:00\",\"2021-03-25T00:00:00-04:00\",\"2021-03-26T00:00:00-04:00\",\"2021-03-29T00:00:00-04:00\",\"2021-03-30T00:00:00-04:00\",\"2021-03-31T00:00:00-04:00\",\"2021-04-01T00:00:00-04:00\",\"2021-04-05T00:00:00-04:00\",\"2021-04-06T00:00:00-04:00\",\"2021-04-07T00:00:00-04:00\",\"2021-04-08T00:00:00-04:00\",\"2021-04-09T00:00:00-04:00\",\"2021-04-12T00:00:00-04:00\",\"2021-04-13T00:00:00-04:00\",\"2021-04-14T00:00:00-04:00\",\"2021-04-15T00:00:00-04:00\",\"2021-04-16T00:00:00-04:00\",\"2021-04-19T00:00:00-04:00\",\"2021-04-20T00:00:00-04:00\",\"2021-04-21T00:00:00-04:00\",\"2021-04-22T00:00:00-04:00\",\"2021-04-23T00:00:00-04:00\",\"2021-04-26T00:00:00-04:00\",\"2021-04-27T00:00:00-04:00\",\"2021-04-28T00:00:00-04:00\",\"2021-04-29T00:00:00-04:00\",\"2021-04-30T00:00:00-04:00\",\"2021-05-03T00:00:00-04:00\",\"2021-05-04T00:00:00-04:00\",\"2021-05-05T00:00:00-04:00\",\"2021-05-06T00:00:00-04:00\",\"2021-05-07T00:00:00-04:00\",\"2021-05-10T00:00:00-04:00\",\"2021-05-11T00:00:00-04:00\",\"2021-05-12T00:00:00-04:00\",\"2021-05-13T00:00:00-04:00\",\"2021-05-14T00:00:00-04:00\",\"2021-05-17T00:00:00-04:00\",\"2021-05-18T00:00:00-04:00\",\"2021-05-19T00:00:00-04:00\",\"2021-05-20T00:00:00-04:00\",\"2021-05-21T00:00:00-04:00\",\"2021-05-24T00:00:00-04:00\",\"2021-05-25T00:00:00-04:00\",\"2021-05-26T00:00:00-04:00\",\"2021-05-27T00:00:00-04:00\",\"2021-05-28T00:00:00-04:00\",\"2021-06-01T00:00:00-04:00\",\"2021-06-02T00:00:00-04:00\",\"2021-06-03T00:00:00-04:00\",\"2021-06-04T00:00:00-04:00\",\"2021-06-07T00:00:00-04:00\",\"2021-06-08T00:00:00-04:00\",\"2021-06-09T00:00:00-04:00\",\"2021-06-10T00:00:00-04:00\",\"2021-06-11T00:00:00-04:00\",\"2021-06-14T00:00:00-04:00\"],\"y\":[1.6916661262512207,1.6832505464553833,1.67483389377594,1.6075043678283691,1.6622099876403809,1.6580015420913696,1.6285446882247925,1.6411690711975098,1.6411690711975098,1.6117116212844849,1.6075043678283691,1.6302279233932495,1.6580015420913696,1.6201285123825073,1.6285446882247925,1.71859872341156,1.7589967250823975,1.781720519065857,1.784245491027832,1.7690962553024292,1.767412543296814,1.7127071619033813,1.624336838722229,1.5738393068313599,1.516608476638794,1.5780470371246338,1.624336838722229,1.659684658050537,1.6815669536590576,1.733748197555542,1.7000831365585327,1.6032956838607788,1.5687891244888306,1.5654226541519165,1.5948796272277832,1.5561649799346924,1.5401737689971924,1.5948796272277832,1.5923545360565186,1.557006597518921,1.5359656810760498,1.562056303024292,1.5990878343582153,1.6672593355178833,1.6672593355178833,1.7059741020202637,1.6832505464553833,1.6453768014907837,1.633594274520874,1.632752776145935,1.6201285123825073,1.590671420097351,1.6032956838607788,1.725331425666809,1.7531057596206665,1.7505799531936646,1.8305355310440063,1.8094942569732666,1.8852403163909912,1.9231133460998535,1.8566253185272217,1.8094942569732666,1.7505799531936646,1.6706258058547974,1.733748197555542,1.7867698669433594,1.7993944883346558,1.725331425666809,1.7884533405303955,1.8860818147659302,1.9744528532028198,2.037574052810669,1.9862356185913086,1.9576201438903809,2.03589129447937,1.9567787647247314,1.9719282388687134,1.9567787647247314,1.9567787647247314,1.9315296411514282,1.893656849861145,1.914697289466858,1.8852403163909912,1.932371735572815,1.8944982290267944,1.9374209642410278,1.895339846611023,1.935738205909729,1.8431591987609863,1.767412543296814,1.7270150184631348,1.6815669536590576,1.5948796272277832,1.6832505464553833,1.766571283340454,1.6613683700561523,1.5788887739181519,1.557006597518921,1.5999295711517334,1.6672593355178833,1.6411690711975098,1.6159204244613647,1.5511153936386108,1.488835334777832,1.405514121055603,1.3625911474227905,1.354175090789795,1.3499666452407837,1.3280843496322632,1.3297677040100098,1.34660005569458,1.4804186820983887,1.4290794134140015,1.476210594177246,1.5401737689971924,1.5107169151306152,1.4728443622589111,1.4046725034713745,1.270853877067566,1.2918949127197266,1.3289259672164917,1.3373425006866455,1.2540215253829956,1.2834782600402832,1.3676409721374512,1.3760573863983154,1.4560112953186035,1.5233417749404907,1.5931965112686157,1.6790424585342407,1.7606797218322754,1.805286169052124,1.725331425666809,1.6622099876403809,1.7387975454330444,1.7345893383026123,1.7589967250823975,1.803602695465088,1.7505799531936646,1.6832505464553833,1.5654226541519165,1.6142370700836182,1.6504267454147339,1.687458872795105,1.7169151306152344,1.7505799531936646,1.7169151306152344,1.649585485458374,1.700924277305603,1.71859872341156,1.6916661262512207,1.7068160772323608,1.687458872795105,1.67483389377594,1.6344361305236816,1.6537930965423584,1.737956166267395,1.790978193283081,1.7211235761642456,1.6832505464553833,1.6664173603057861,1.6117116212844849,1.6251782178878784,1.5654226541519165,1.590671420097351,1.470319151878357,1.5410155057907104,1.562897801399231,1.5772056579589844,1.6487435102462769,1.6411690711975098,1.6647348403930664,1.7127071619033813,1.7547886371612549,1.6133956909179688,1.6782007217407227,1.7169151306152344,1.7127071619033813,1.5612146854400635,1.514925479888916,1.514925479888916,1.5065089464187622,1.483784794807434,1.521658182144165,1.5780470371246338,1.5654226541519165,1.5544813871383667,1.4332879781723022,1.4644278287887573,1.5485901832580566,1.5990878343582153,1.5990878343582153,1.6975581645965576,1.7034494876861572,1.6075043678283691,1.6201285123825073,1.6361194849014282,1.557006597518921,1.562056303024292,1.557006597518921,1.571313738822937,1.5654226541519165,1.590671420097351,1.6041374206542969,1.582255244255066,1.6201285123825073,1.6176037788391113,1.5275492668151855,1.5250248908996582,1.4484366178512573,1.5233417749404907,1.3297677040100098,1.34660005569458,1.2540215253829956,1.121044397354126,0.7843945622444153,0.7970190048217773,0.791127622127533,0.7700868844985962,0.7742950916290283,0.7869196534156799,0.8189013600349426,0.824792742729187,0.8180597424507141,0.8306841850280762,0.8315258622169495,0.8500415682792664,0.8542495965957642,0.892122745513916,0.87360680103302,0.8879144191741943,0.8332086801528931,0.8029104471206665,0.8037521839141846,0.8037521839141846,0.8121684193611145,0.8332086801528931,0.8205845355987549,0.7919691801071167,0.757462739944458,0.7566210627555847,0.757462739944458,0.7465213537216187,0.715381383895874,0.6951824426651001,0.7145397067070007,0.6943408250808716,0.67330002784729,0.6665672659873962,0.6497344970703125,0.6387935280799866,0.67330002784729,0.6665672659873962,0.692657470703125,0.8584575653076172,0.8752899765968323,0.8576160073280334,0.892122745513916,0.8710820078849792,0.8677156567573547,0.8550911545753479,0.8635075092315674,0.883706271648407,0.9072719812393188,0.8752899765968323,0.883706271648407,0.908955454826355,0.9190546274185181,0.892122745513916,0.9022220969200134,0.9257878065109253,0.9712353944778442,1.0183664560317993,1.022574543952942,1.0183664560317993,1.0208911895751953,0.9931178092956543,1.0200494527816772,0.9905929565429688,1.0015339851379395,1.0099503993988037,1.0099503993988037,1.0133168697357178,1.0099503993988037,1.0107920169830322,1.0250996351242065,1.0082669258117676,1.0840131044387817,1.0899046659469604,1.0772804021835327,1.0570809841156006,1.0377238988876343,1.0452982187271118,1.0730717182159424,1.0562394857406616,1.0629727840423584,1.0419319868087769,1.0604478120803833,1.0688637495040894,1.094112515449524,1.0436152219772339,1.0166829824447632,1.0335156917572021,1.0671807527542114,1.005742073059082,0.9594525098800659,0.9476699233055115,1.0074255466461182,0.9880677461624146,1.1176782846450806,1.0983209609985352,1.118519902229309,1.1538681983947754,1.0966376066207886,1.1235697269439697,1.093271255493164,1.094112515449524,1.046140432357788,1.0166829824447632,1.0394073724746704,0.9720770120620728,0.9889096021652222,1.0141586065292358,1.0495065450668335,1.0495065450668335,1.0545564889907837,1.0638139247894287,1.0621312856674194,1.0604478120803833,1.0814881324768066,1.0856965780258179,1.0730717182159424,1.0730717182159424,1.0730717182159424,1.069705605506897,1.0730717182159424,1.1101036071777344,1.1681756973266602,1.1673340797424316,1.1395604610443115,1.1429270505905151,1.1025290489196777,1.1260942220687866,1.110945463180542,1.089063048362732,1.0562394857406616,1.0873796939849854,1.1101036071777344,1.1446101665496826,1.119361400604248,1.1589176654815674,1.227931022644043,1.249813437461853,1.2035237550735474,1.1824833154678345,1.2119401693344116,1.1883747577667236,1.14629328250885,1.136194109916687,1.140401840209961,1.110945463180542,1.154709815979004,1.115994930267334,1.1319859027862549,1.136194109916687,1.186691403388977,1.1993156671524048,1.1908996105194092,1.1446101665496826,1.138718843460083,1.1572346687316895,1.1277776956558228,1.1025290489196777,1.1058952808380127,1.0705472230911255,1.0654971599578857,1.0730717182159424,1.0814881324768066,1.1025290489196777,1.110945463180542,1.094112515449524,1.2052072286605835,1.2430802583694458,1.3163018226623535,1.3701658248901367,1.3886816501617432,1.342392086982727,1.3802655935287476,1.3886816501617432,1.3996224403381348,1.4560112953186035,1.495568037033081,1.5132421255111694,1.514925479888916,1.5014591217041016,1.4896763563156128,1.4509614706039429,1.42992103099823,1.414771556854248,1.447595238685608,1.4181383848190308,1.453486442565918,1.4433870315551758,1.4433870315551758,1.4122470617294312,1.4433870315551758,1.3785820007324219,1.34660005569458,1.3676409721374512,1.3718488216400146,1.338184118270874,1.3676409721374512,1.3954144716262817,1.403830885887146,1.45180344581604,1.45180344581604,1.4374955892562866,1.4728443622589111,1.466111183166504,1.5511153936386108,1.586463451385498,1.5923545360565186,1.575522541999817,1.5359656810760498,1.519133448600769,1.5157665014266968,1.4770525693893433,1.431604266166687,1.3524913787841797,1.403830885887146,1.4602196216583252,1.430762767791748,1.430762767791748,1.4156135320663452,1.3146185874938965,1.3356592655181885,1.405514121055603,1.4223464727401733,1.4139301776885986,1.4013060331344604,1.4223464727401733,1.453486442565918,1.405514121055603,1.3609079122543335,1.34660005569458,1.2750617265701294,1.2969443798065186,1.3651158809661865,1.3609079122543335,1.386156439781189,1.3575413227081299,1.3600661754608154,1.3592244386672974,1.3457585573196411,1.2834782600402832,1.2876865863800049,1.250655174255371,1.2371889352798462,1.2346643209457397,1.2035237550735474,1.2169901132583618,1.2876865863800049,1.2742202281951904,1.2127819061279297,1.2573879957199097,1.2371889352798462,1.2750617265701294,1.295261263847351,1.2658041715621948,1.323876142501831,1.2615962028503418,1.2674872875213623,1.2961026430130005,1.3070439100265503,1.2969443798065186,1.273378849029541,1.3516498804092407,1.514925479888916,1.4349709749221802,1.562897801399231,1.5124003887176514,1.5115585327148438,1.4997756481170654,1.4795771837234497,1.4644278287887573,1.4728443622589111,1.4644278287887573,1.4694772958755493,1.4484366178512573,1.42992103099823,1.4425456523895264,1.4349709749221802,1.3928896188735962,1.3886816501617432,1.3970974683761597,1.3760573863983154,1.3710072040557861,1.3735321760177612,1.3886816501617432,1.466111183166504,1.4139301776885986,1.447595238685608,1.4728443622589111,1.4728443622589111,1.4459118843078613,1.5410155057907104,1.519133448600769,1.5199750661849976,1.514925479888916,1.4989345073699951,1.5679476261138916,1.5696312189102173,1.5553230047225952,1.5696312189102173,1.562056303024292,1.5275492668151855,1.539332628250122,1.5157665014266968,1.5233417749404907,1.4980928897857666,1.492201328277588,1.4366538524627686,1.4189801216125488,1.5065089464187622,1.4795771837234497,1.4450706243515015,1.4198215007781982,1.4080389738082886,1.4366538524627686,1.3895231485366821,1.430762767791748,1.42992103099823,1.45180344581604,1.4711602926254272,1.5258662700653076,1.5115585327148438,1.516608476638794,1.5090339183807373,1.5452238321304321,1.5536402463912964,1.5485901832580566,1.541857361793518,1.5502734184265137,1.5527983903884888,1.5107169151306152,1.5073508024215698,1.539332628250122,1.5334409475326538,1.5376498699188232,1.5140841007232666,1.5561649799346924,1.560373306274414,1.5275492668151855,1.5283913612365723,1.5384910106658936,1.5140841007232666,1.493884563446045,1.4821021556854248,1.495568037033081,1.5300745964050293,1.521658182144165,1.519133448600769,1.4812601804733276,1.447595238685608,1.4728443622589111,1.4593781232833862,1.45180344581604,1.4366538524627686,1.3912065029144287,1.3255597352981567,1.3045190572738647,1.2902114391326904,1.2961026430130005,1.295261263847351,1.2961026430130005,1.3213515281677246,1.323876142501831,1.3146185874938965,1.3062024116516113,1.3095686435699463,1.2876865863800049,1.3120934963226318,1.342392086982727,1.342392086982727,1.3524913787841797,1.3314510583877563,1.2969443798065186,1.2961026430130005,1.3280843496322632,1.3053605556488037,1.264962911605835,1.2624378204345703,1.22372305393219,1.248971700668335,1.2397137880325317,1.270853877067566,1.2632794380187988,1.2540215253829956,1.2809535264968872,1.24560546875,1.250655174255371,1.2413970232009888,1.2270891666412354,1.2371889352798462,1.24560546875,1.2624378204345703,1.2742202281951904,1.2750617265701294,1.270012617111206,1.266645908355713,1.24560546875,1.2775870561599731,1.3062024116516113,1.2918949127197266,1.2254061698913574,1.2262476682662964,1.2868449687957764,1.2716953754425049,1.295261263847351,1.2961026430130005,1.3196684122085571,1.2876865863800049,1.2792704105377197,1.2582294940948486,1.2624378204345703,1.2514965534210205,1.270012617111206,1.2658041715621948,1.2548632621765137,1.2624378204345703,1.3297677040100098,1.3508081436157227,1.4088802337646484,1.4433870315551758,1.430762767791748,1.4080389738082886,1.4273961782455444,1.430762767791748,1.4198215007781982,1.42992103099823,1.4400206804275513,1.4105638265609741,1.425713062286377,1.4560112953186035,1.452644944190979,1.4585366249084473,1.4341293573379517,1.452644944190979,1.4509614706039429,1.4585366249084473,1.4686362743377686,1.4753694534301758,1.49640953540802,1.5780470371246338,1.5233417749404907,1.557006597518921,1.5317579507827759,1.5023008584976196,1.5359656810760498,1.5081921815872192,1.49640953540802,1.5292327404022217,1.557848334312439,1.5923545360565186,1.6790424585342407,1.7026076316833496,1.6739925146102905,1.5923545360565186,1.575522541999817,1.6091874837875366,1.6159204244613647,1.586463451385498,1.5527983903884888,1.606662631034851,1.6075043678283691,1.5931965112686157,1.610870122909546,1.6394857168197632,1.6218119859695435,1.6159204244613647,1.6369612216949463,1.6840925216674805,1.67483389377594,1.6487435102462769,1.6672593355178833,1.6882998943328857,1.6798837184906006,1.7084991931915283,1.812018632888794,1.9231133460998535,1.8507332801818848,1.8010777235031128,1.8002358675003052,1.9778192043304443,1.9483627080917358,1.8776659965515137,1.8515756130218506,1.8431591987609863,1.7286983728408813,1.6655758619308472,1.733748197555542,1.8078107833862305,1.8263264894485474,1.7968695163726807,1.7749872207641602,1.7758288383483887,1.7724624872207642,1.767412543296814,1.7707788944244385,1.7758288383483887,1.8027607202529907,1.8027607202529907,1.8221184015274048,1.8094942569732666,1.7867698669433594,1.7892953157424927,1.8069688081741333,1.7800374031066895,1.7690962553024292,1.784245491027832,1.8456836938858032,1.8061274290084839,1.7943447828292847,1.872616171836853,1.8793491125106812,1.8902896642684937,1.8818738460540771,1.812018632888794,1.7926617860794067,1.790978193283081,1.7800374031066895,1.6453768014907837,1.632752776145935,1.6117116212844849,1.6024540662765503,1.5974047183990479,1.6032956838607788,1.6260195970535278,1.629386305809021,1.6133956909179688,1.6075043678283691,1.5721561908721924,1.5729976892471313,1.6091874837875366,1.619287371635437,1.582255244255066,1.606662631034851,1.6218119859695435,1.6866165399551392,1.6504267454147339,1.6546348333358765,1.6411690711975098,1.6411690711975098,1.6091874837875366,1.5923545360565186,1.6117116212844849,1.6201285123825073,1.6571600437164307,1.6580015420913696,1.663051724433899,1.6436941623687744,1.574681043624878,1.5856215953826904,1.5654226541519165,1.6184453964233398,1.633594274520874,1.7059741020202637,1.7068160772323608,1.7127071619033813,1.7413222789764404,1.7514219284057617,1.727856159210205,1.7051329612731934,1.7084991931915283,1.7076574563980103,1.6546348333358765,1.783403754234314,1.7505799531936646,1.7699379920959473,1.7690962553024292,1.7345893383026123,1.6411690711975098,1.8473666906356812,1.8978642225265503,1.971086025238037,1.8995482921600342,1.9121720790863037,1.8650416135787964,1.832217812538147,1.8330597877502441,1.8608336448669434,1.8456836938858032,1.8507332801818848,1.8330597877502441,1.8103357553482056,1.8473666906356812,1.811177372932434,1.7598377466201782,1.8187519311904907,1.9954928159713745,2.0283172130584717,1.971086025238037,2.0131678581237793,1.9904435873031616,2.050199270248413,2.0687148571014404,2.0594568252563477,2.0645065307617188,2.071239948272705,2.1579270362854004,2.1461434364318848,2.1166868209838867,2.1713931560516357,2.1739180088043213,2.167184591293335,2.1596100330352783,2.165501594543457,2.1713931560516357,2.145303249359131,2.160451889038086,2.2050580978393555,2.2866954803466797,2.35823392868042,2.35823392868042,2.401998281478882,2.5038347244262695,2.4062061309814453,2.480268955230713,2.513934850692749,2.4541783332824707,2.5282416343688965,2.533291816711426,2.6157708168029785,2.737807035446167,2.6957249641418457,2.625870704650879,2.7176074981689453,2.7580056190490723,2.7436976432800293,2.725182294845581,2.8211276531219482,2.7765214443206787,2.7832539081573486,2.7260236740112305,2.697408437728882,2.7352819442749023,2.7352819442749023,2.7016162872314453,2.6578519344329834,2.728548288345337,2.732757568359375,2.752955913543701,2.7613723278045654,2.784937858581543,2.830385684967041,2.8800413608551025,2.9591543674468994,2.985244035720825,3.0046017169952393,2.9860854148864746,2.976828098297119,2.961678981781006,2.944004535675049,2.944004535675049,2.9692535400390625,2.947371482849121,2.89855694770813,2.8766751289367676,2.8657336235046387,2.9423205852508545,2.975144863128662,2.8909826278686523,2.870783805847168,2.9204392433166504,2.8876161575317383,2.8169198036193848,2.7100331783294678,2.710874557495117,2.768946647644043,2.772312879562378,2.7352819442749023,2.642703056335449,2.655327081680298,2.5307669639587402,2.4785852432250977,2.721815824508667,2.7756803035736084,2.8825671672821045,2.935589075088501,2.90360689163208,2.8993988037109375,2.8623671531677246,2.840484857559204,2.8042948246002197,2.840484857559204,2.819443941116333,2.8472182750701904,3.0062856674194336,3.049208164215088,3.0306925773620605,3.041633367538452,3.0601491928100586,3.0500497817993164,3.0887646675109863,3.0163843631744385,3.0315330028533936,3.028168201446533,2.971778392791748,2.7874627113342285,2.811028242111206,2.8446929454803467,2.8017702102661133,2.753797769546509,2.7647383213043213,2.7016162872314453,2.648594856262207,2.6065127849578857,2.6494357585906982,2.6940414905548096,2.6090381145477295,2.583789825439453,2.629237174987793,2.600621461868286,2.5879976749420166,2.580422878265381,2.604830026626587,2.655327081680298,2.76389741897583,2.858158826828003,2.864891290664673,2.869100332260132,2.9212803840637207,3.002077341079712,2.851426124572754,2.7807297706604004,2.9019229412078857,2.9860854148864746,2.996185779571533,3.0508906841278076,3.113171339035034,3.0618319511413574,3.130845308303833,3.062674045562744,3.1106460094451904,3.0954973697662354,3.022275924682617,3.0391087532043457,2.991136074066162,2.983560800552368,3.0062856674194336,3.052574634552002,3.181342840194702,3.078665256500244,2.984402656555176,3.0752997398376465,2.9608373641967773,2.9448459148406982,2.8312270641326904,2.828702211380005,2.9625203609466553,2.935589075088501,2.9456887245178223,2.890141248703003,2.916231870651245,2.8573174476623535,2.874150037765503,2.7697885036468506,2.7706298828125,2.660377264022827,2.6544859409332275,2.5980968475341797,2.562749147415161,2.591364622116089,2.5703234672546387,2.577897548675537,2.5980968475341797,2.6528027057647705,2.6730010509490967,2.678050994873047,2.7192907333374023,2.8152356147766113,3.140104293823242,3.24194073677063,3.225949764251709,3.257089376449585,3.2974870204925537,3.243623971939087,3.2267913818359375,3.2208993434906006,3.2032253742218018,3.2562472820281982,3.2082748413085938,3.2065913677215576,3.2065913677215576,3.2242660522460938,3.258772611618042,3.2941207885742188,3.328627586364746,3.3925905227661133,3.550816774368286,3.5398759841918945,3.5827994346618652,3.62740421295166,3.5255684852600098,3.5137853622436523,3.405215263366699,3.4068989753723145,3.382490634918213,3.4111075401306152,3.4195237159729004,3.5095772743225098,3.463287830352783,3.409423351287842,3.4540300369262695,3.3631339073181152,3.3707096576690674,3.386699676513672,3.369025230407715,3.4489800930023193,3.3917486667633057,3.450662851333618,3.4329891204833984,3.3614501953125,3.2612979412078857,3.2192163467407227,3.26550555229187,3.2924370765686035,3.403531789779663,3.3488261699676514,3.37491774559021,3.4590790271759033,3.484328031539917,3.78731369972229,3.8243441581726074,3.8024628162384033,3.9396462440490723,3.9455392360687256,3.900932550430298,3.9556384086608887,3.9556384086608887,3.967421054840088,3.9101905822753906,4.043168067932129,4.096189498901367,4.123122215270996,4.121438026428223,4.095347881317139,3.953955888748169,3.964895725250244,3.9438564777374268,3.9219729900360107,3.937122106552124,3.9615299701690674,3.9994025230407715,3.9547977447509766,3.9354379177093506,3.9388046264648438,3.9876203536987305,3.9850964546203613,3.972471237182617,4.006135940551758,4.041484832763672,4.037276268005371,3.990985631942749,4.058317184448242,3.9951953887939453,4.002768039703369,3.9059829711914062,3.7797374725341797,3.698943853378296,3.656019449234009,3.728400945663452,3.753647565841675,3.819295644760132,3.7847883701324463,3.646761655807495,3.639188289642334,3.539033889770508,3.6585447788238525,3.6678030490875244,3.5499744415283203,3.6139376163482666,3.697258472442627,3.6551778316497803,3.4481377601623535,3.5078930854797363,3.47170352935791,3.4464550018310547,3.484328031539917,3.37491774559021,3.325261116027832,3.398482322692871,3.47170352935791,3.318528890609741,3.1914422512054443,3.0870814323425293,3.2335238456726074,3.098022222518921,3.1704022884368896,3.1249537467956543,3.0954973697662354,3.125795602798462,3.295804977416992,3.534825086593628,3.3471434116363525,3.2688722610473633,3.3000123500823975,3.2049081325531006,3.114854574203491,3.1409451961517334,3.106437921524048,3.3109540939331055,3.2772886753082275,3.1704022884368896,3.319369316101074,3.443929672241211,3.271397352218628,3.1872341632843018,3.2890713214874268,3.3892242908477783,3.4388811588287354,3.4380385875701904,3.55334210395813,3.502002477645874,3.4060561656951904,3.6114132404327393,3.737657308578491,3.728400945663452,3.7620644569396973,3.732606887817383,3.6854774951934814,3.750281810760498,3.909348964691162,3.880734443664551,3.897566556930542,3.9556384086608887,3.8049874305725098,3.739340305328369,3.624879837036133,3.670327663421631,3.6728522777557373,3.5541820526123047,3.523042917251587,3.5827994346618652,3.628244638442993,3.669485330581665,3.6762185096740723,3.6408700942993164,3.7183001041412354,3.6745352745056152,3.6770598888397217,3.7662713527679443,3.8378100395202637,3.979203939437866,4.035593032836914,3.970787286758423,4.010343551635742,4.052425384521484,4.037276268005371,4.070940971374512,4.1113386154174805,3.9665796756744385,4.0381178855896,4.060841083526611,3.9733121395111084,3.9253389835357666,3.8950400352478027,3.880734443664551,3.982569694519043,4.0381178855896,4.0591583251953125,4.006978511810303,4.044009685516357,4.038958549499512,4.128171920776367,4.230849266052246,4.352885723114014,4.356252193450928,4.304912090301514,4.290606498718262,4.315011978149414,4.313329219818115,4.384025573730469,4.283872604370117,4.181192874908447,4.339418888092041,4.3461527824401855,4.2830305099487305,4.297338485717773,4.215699195861816,4.233373641967773,4.5043768882751465,4.482495307922363,4.463979721069336,4.483338356018066,4.375607967376709,4.400858402252197,4.400858402252197,4.469029426574707,4.437888145446777,4.399175643920898,4.3545684814453125,4.3057541847229,4.460613250732422,4.657553195953369,4.767806529998779,4.629779815673828,4.5784406661987305,4.645771026611328,4.717308521270752,4.67775297164917,4.735825538635254,4.776222229003906,4.836820125579834,4.8140950202941895,4.86375093460083,4.816621780395508,4.746765613555908,4.73666524887085,4.796422481536865,4.763598442077637,4.6676530838012695,4.6331467628479,4.6424031257629395,4.670177936553955,4.649979591369629,4.630621910095215,4.688694000244141,4.695426940917969,4.638195991516113,4.620522499084473,4.663444995880127,4.670177936553955,4.586856842041016,4.742557048797607,4.766964435577393,4.883109092712402,4.851127624511719,4.855335235595703,4.844394207000732,4.784637928009033,4.715626239776611,4.6331467628479,4.62220573425293,4.692902565002441,4.51616096496582,4.397491931915283,4.467346668243408,4.4387311935424805,4.496803283691406,4.531310558319092,4.536360740661621,4.460613250732422,4.4387311935424805,4.520368576049805,4.481655120849609,4.505218505859375,4.463979721069336,4.512794017791748,4.538043022155762,4.522050857543945,4.522894382476807,4.537201404571533,4.655869483947754,4.570865631103516,4.530468940734863,4.4925947189331055,4.3882341384887695,4.408432483673096,4.390758514404297,4.3166961669921875,4.3032307624816895,4.358777046203613,4.359618663787842,4.524576663970947,4.561607360839844,4.614631175994873,4.538043022155762,4.483338356018066,4.558241844177246,4.498486518859863,4.580124378204346,4.654186725616455,4.650820732116699,4.598639965057373,4.600323677062988,4.708051681518555,5.245007514953613,5.487395286560059,5.457096576690674,5.482347011566162,5.542943477630615,5.58670711517334,5.551360607147217,5.6085896492004395,5.571558475494385,5.733151912689209,5.780282497406006,5.707902908325195,5.687702655792236,5.694436550140381,5.714634895324707,5.6422553062438965,5.559776306152344,5.731467247009277,5.882959365844727,5.748300075531006,5.692752361297607,5.7281012535095215,5.65740442276001,5.583339691162109,5.638887882232666,5.689385890960693,5.654038906097412,5.596807479858398,5.606907844543457,5.632155895233154,5.638887882232666,5.541259765625,5.494128704071045,5.551360607147217,5.768499374389648,5.9334564208984375,5.992371559143066,5.990688800811768,6.244858741760254,6.342486381530762,6.034451961517334,5.926723480224609,6.024353504180908,6.063066005706787,6.130397796630859,6.2246599197387695,6.342486381530762,6.440115928649902,6.41991662979126,6.2953572273254395,6.130397796630859,6.273474216461182,6.212875843048096,6.120298385620117,6.231393337249756,6.271790504455566,6.600024700164795,6.763298988342285,6.741419315338135,6.66735315322876,6.741419315338135,6.74310302734375,6.729635238647461,6.650522232055664,6.796964645385742,6.719534873962402,6.581507205963135,6.766664505004883,6.808747291564941,6.987172603607178,6.9939045906066895,7.280057430267334,7.09153413772583,7.027570724487305,7.140349864959717,7.069650173187256,7.0814361572265625,7.004004955291748,7.086483001708984,7.01410436630249,7.057867050170898,6.916476249694824,7.004004955291748,7.071333885192871,6.91142463684082,6.800332546234131,6.854194164276123,6.791915416717529,6.74983549118042,6.987172603607178,6.657255172729492,6.833996772766113,7.197577953338623,7.413034915924072,6.892910003662109,6.712802886962891,6.849145412445068,6.744783401489258,6.655571460723877,6.561310768127441,6.716169834136963,7.015786170959473,7.231243133544922,7.3086724281311035,7.987023830413818,8.320307731628418,8.199112892150879,7.813648700714111,8.355655670166016,8.219311714172363,8.43981647491455,8.606461524963379,8.360705375671387,8.424667358398438,8.114948272705078,8.215947151184082,8.44654655456543,8.475165367126465,8.384271621704102,8.729336738586426,8.651905059814453,8.788249969482422,8.990241050720215,9.172032356262207,9.305006980895996,9.454816818237305,9.599575996398926,9.894143104553223,9.55918025970459,9.485114097595215,9.451451301574707,9.695521354675293,9.528879165649414,9.195595741271973,9.547396659851074,9.535613059997559,9.882362365722656,9.926127433776855,9.602943420410156,9.661856651306152,9.766218185424805,9.783052444458008,9.8486967086792,9.828497886657715,9.550763130187988,9.55412769317627,10.107918739318848,9.784734725952148,9.528879165649414,9.668588638305664,9.808302879333496,9.678691864013672,9.968207359313965,9.737603187561035,9.515414237976074,9.591160774230957,9.878995895385742,9.496899604797363,9.392538070678711,8.884194374084473,8.752900123596191,9.161931037902832,9.067667961120605,9.41441822052002,9.257877349853516,8.919544219970703,8.586260795593262,8.301791191101074,8.441500663757324,8.665372848510742,8.944791793823242,9.387487411499023,9.40263843536377,9.67027473449707,9.695521354675293,9.629874229431152,9.746020317077637,10.040589332580566,10.230794906616211,10.099502563476562,9.783052444458008,9.867213249206543,9.687106132507324,9.798200607299805,9.788103103637695,10.26109504699707,10.262779235839844,10.452982902526855,10.343571662902832,10.654973983764648,10.58427906036377,10.469816207885742,10.486647605895996,10.454669952392578,10.149998664855957,10.11801815032959,9.6012601852417,9.513731956481934,9.443032264709473,9.276391983032227,8.798351287841797,8.773100852966309,9.04073715209961,8.552594184875488,8.636757850646973,8.369123458862305,8.301791191101074,8.495365142822266,8.761317253112793,8.823596954345703,8.348921775817871,8.508830070495605,8.360705375671387,8.261392593383789,8.678837776184082,8.840431213378906,8.752900123596191,8.308523178100586,8.295058250427246,8.276541709899902,8.456647872924805,8.456647872924805,8.264759063720703,7.965139389038086,7.702552795410156,8.017319679260254,7.8877129554748535,7.699187755584717,7.741268634796143,7.788398742675781,7.753049373626709,7.929791450500488,7.980290412902832,7.584725856781006,7.130248069763184,7.194212436676025,7.33897066116333,7.61334228515625,7.298573970794678,7.184111595153809,7.29352331161499,7.889394283294678,7.785031795501709,7.939891815185547,8.256343841552734,7.911276817321777,8.172182083129883,7.907911777496338,8.44654655456543,9.087870597839355,9.064302444458008,8.917861938476562,9.089552879333496,8.734387397766113,8.704087257385254,9.370652198791504,9.370652198791504,9.493531227111816,9.496899604797363,9.436300277709961,9.316790580749512,9.037369728088379,9.289859771728516,9.180445671081543,9.239360809326172,9.400952339172363,9.5372953414917,9.6012601852417,9.533928871154785,9.353821754455566,9.232626914978027,9.29322624206543,9.421150207519531,9.456500053405762,9.278074264526367,9.195595741271973,9.264609336853027,9.491849899291992,9.087870597839355,8.879144668579102,9.072721481323242,8.783199310302734,8.594676971435547,8.623290061950684,9.106386184692383,9.190546989440918,9.252825736999512,9.333623886108398,9.067667961120605,8.786567687988281,8.682205200195312,8.557644844055176,8.222677230834961,8.310206413269043,8.332088470458984,8.465065956115723,8.2799072265625,8.348921775817871,8.274859428405762,8.151981353759766,7.975240707397461,8.005536079406738,7.57462739944458,7.7143378257751465,7.5123467445373535,7.155495643615723,7.2245097160339355,7.4921464920043945,8.069500923156738,7.8877129554748535,7.85236120223999,8.069500923156738,7.645323753356934,7.699187755584717,7.641956806182861,7.746318817138672,7.327187538146973,7.209361553192139,6.800332546234131,6.859244346618652,6.802016258239746,6.527644634246826,6.625272750854492,6.852512359619141,6.628640174865723,6.551210880279541,6.611807823181152,6.778448581695557,6.936674118041992,7.195895671844482,7.29352331161499,7.616707801818848,7.246392250061035,7.312038898468018,7.445015907287598,7.163912773132324,6.992222309112549,6.830629825592041,6.98548698425293,6.904691219329834,6.818846702575684,6.704387187957764,6.637057781219482,7.221144676208496,7.200943470001221,6.97202205657959,7.443334579467773,7.70423698425293,7.599874496459961,7.441650390625,7.478680610656738,7.2733235359191895,7.436600208282471,7.413034915924072,7.325505256652832,7.318772315979004,7.433233737945557,7.281740188598633,7.256489276885986,7.25480842590332,7.421450614929199,7.3844170570373535,7.638591289520264,7.389466762542725,7.394516944885254,7.344022274017334,7.453431129455566,7.330554962158203,7.197577953338623,7.187478065490723,6.936674118041992,6.547844886779785,6.746466159820557,6.329020977020264,6.478830337524414,6.345853805541992,6.106832981109619,5.881276607513428,5.824045181274414,6.066433906555176,6.08663272857666,5.756715297698975,5.758399486541748,6.066433906555176,6.027719974517822,5.938507080078125,5.741567611694336,5.175995349884033,5.085099697113037,4.896574974060059,4.898258209228516,5.6422553062438965,5.110348224639893,4.6676530838012695,5.186094760894775,5.359468460083008,5.58670711517334,5.1271796226501465,4.751815319061279,4.556558132171631,4.331003189086914,4.243474960327148,4.86627721786499,4.9538044929504395,4.9538044929504395,4.6104230880737305,4.5397257804870605,4.671018600463867,4.255255699157715,4.007819175720215,4.2249579429626465,4.120597839355469,3.940487861633301,3.709883213043213,4.179512023925781,3.918606758117676,3.829394578933716,3.738497734069824,3.4607627391815186,2.9456887245178223,3.026484251022339,3.401848554611206,3.479278087615967,3.703151226043701,3.67790150642395,3.257089376449585,3.199859142303467,3.172926902770996,3.3967998027801514,3.580272674560547,4.208125591278076,3.9101905822753906,4.0549492835998535,3.844542980194092,4.061682224273682,3.8916749954223633,4.324269771575928,4.320903778076172,4.105448246002197,4.140795707702637,3.8950400352478027,3.7334487438201904,3.9236562252044678,3.8950400352478027,3.6947333812713623,3.726715564727783,3.6459197998046875,3.9034578800201416,4.011185646057129,3.9590060710906982,3.8058297634124756,4.3057541847229,4.398332595825195,4.287238121032715,4.147529125213623,3.9438564777374268,4.011185646057129,4.154261589050293,3.879892349243164,4.112180233001709,4.095347881317139,4.344468116760254,4.470713138580322,4.4387311935424805,4.73666524887085,4.4303154945373535,4.171093940734863,4.285554885864258,4.3124871253967285,4.374767303466797,4.563291549682617,4.714784622192383,4.615472793579102,4.5279436111450195,4.462296485900879,4.543092727661133,4.4185309410095215,4.211492538452148,4.186244010925293,4.482495307922363,4.490911960601807,4.413481712341309,4.605373382568359,4.765281677246094,4.544776439666748,4.531310558319092,4.391599655151367,4.373085021972656,4.595273494720459,3.9489057064056396,3.7671139240264893,3.854642629623413,4.243474960327148,4.251891136169434,4.275454998016357,4.319220066070557,4.108814716339111,4.199710845947266,4.179512023925781,4.278822422027588,4.1828765869140625,4.4808125495910645,4.553193092346191,4.517843723297119,4.411798477172852,4.68448543548584,4.556558132171631,4.71646785736084,4.746765613555908,5.066583633422852,5.01271915435791,4.817462921142578,4.923507213592529,5.106980800628662,5.457096576690674,5.435214996337891,5.300554275512695,5.369568347930908,4.999253749847412,4.852810382843018,4.780430793762207,5.016086101531982,5.026185035705566,5.133913040161133,5.270256996154785,5.130547523498535,4.994204044342041,5.06489896774292,5.076683044433594,4.938657283782959,4.938657283782959,4.896574974060059,4.630621910095215,4.529626846313477,4.398332595825195,4.487544536590576,4.4185309410095215,4.319220066070557,4.371400833129883,4.455563545227051,4.423581123352051,4.3461527824401855,4.455563545227051,3.7671139240264893,3.7957284450531006,3.932072162628174,3.704833745956421,3.960688591003418,4.199710845947266,4.3427863121032715,4.093664646148682,4.068416118621826,4.1155476570129395,4.021285533905029,4.095347881317139,4.208125591278076,4.199710845947266,4.14247989654541,4.060000419616699,3.9842529296875,3.8697922229766846,3.911874294281006,3.8378100395202637,3.8630592823028564,3.6964168548583984,3.6795854568481445,3.6745352745056152,3.738497734069824,3.7317657470703125,3.7317657470703125,3.704833745956421,3.7805793285369873,3.5466084480285645,3.541557788848877,3.443929672241211,3.524725914001465,3.482644557952881,3.4405641555786133,3.5398759841918945,3.6408700942993164,3.6425540447235107,3.728400945663452,3.6964168548583984,3.7603819370269775,3.8580095767974854,3.9758379459381104,4.022968292236328,4.0650482177734375,3.960688591003418,3.8378100395202637,3.6812679767608643,3.615621566772461,3.684634208679199,3.847909927368164,4.110498428344727,4.0650482177734375,4.127329349517822,4.235057353973389,4.066731929779053,4.157629489898682,4.315854072570801,4.431998252868652,4.450512886047363,4.223273277282715,4.1306962966918945,4.238423824310303,3.940487861633301,3.893357753753662,3.7974131107330322,3.7755303382873535,3.7974131107330322,3.8748419284820557,3.9505887031555176,4.006135940551758,3.9253389835357666,3.9489057064056396,4.031384468078613,4.049899578094482,4.196342945098877,4.2165422439575195,4.211492538452148,4.157629489898682,4.307437419891357,4.265355587005615,4.3461527824401855,4.3427863121032715,4.509427070617676,4.423581123352051,4.416849613189697,4.487544536590576,4.415164947509766,4.38318395614624,4.411798477172852,4.509427070617676,4.455563545227051,4.379818916320801,4.322587490081787,4.381500244140625,4.4808125495910645,4.416849613189697,4.6070556640625,4.538043022155762,4.521210670471191,4.602006912231445,4.7400336265563965,4.686169624328613,4.6676530838012695,4.7400336265563965,4.3175368309021,4.265355587005615,4.248525142669678,4.169410705566406,4.053267478942871,4.140795707702637,4.078515529632568,4.132379531860352,4.0886149406433105,4.07178258895874,4.036435604095459,3.9960362911224365,4.07178258895874,4.145844459533691,4.2922868728637695,4.238423824310303,4.112180233001709,4.144162178039551,3.9876203536987305,4.10713005065918,4.034750461578369,4.0549492835998535,4.123962879180908,4.290606498718262,4.319220066070557,4.255255699157715,4.309121608734131,4.261988639831543,4.108814716339111,4.0128679275512695,3.6812679767608643,3.5937390327453613,3.590372323989868,3.6913673877716064,3.5937390327453613,3.5045268535614014,3.565124034881592,3.656019449234009,3.750281810760498,3.7553319931030273,3.777215003967285,3.8125617504119873,3.7839467525482178,3.8075132369995117,3.7401819229125977,3.704833745956421,3.704833745956421,3.743548631668091,3.7317657470703125,3.7317657470703125,3.6930506229400635,3.854642629623413,3.9590060710906982,4.044851303100586,3.443929672241211,3.4153149127960205,3.4203646183013916,3.4961111545562744,3.4994781017303467,3.450662851333618,3.450662851333618,3.5028438568115234,3.452345609664917,3.43719744682312,3.371551513671875,3.35471773147583,3.305903911590576,3.3564014434814453,3.3429346084594727,3.3277857303619385,3.35471773147583,3.405215263366699,3.452345609664917,3.3833322525024414,3.3917486667633057,3.3143200874328613,3.167876720428467,3.2267913818359375,3.258772611618042,3.2267913818359375,3.196492910385132,3.245307445526123,3.2688722610473633,3.250356435775757,3.211641788482666,3.1762938499450684,3.1746106147766113,2.947371482849121,2.895190477371216,2.944004535675049,2.944004535675049,3.0046017169952393,2.994502305984497,3.04331636428833,3.1089627742767334,3.039950132369995,3.076982021331787,3.257089376449585,3.2335238456726074,3.26550555229187,3.267188549041748,3.3429346084594727,3.5617573261260986,3.55334210395813,3.63582181930542,3.7368156909942627,3.6543362140655518,3.6661195755004883,3.703151226043701,3.664435625076294,3.6728522777557373,3.6880016326904297,3.7704806327819824,3.8108789920806885,3.788996458053589,3.8176121711730957,3.8916749954223633,3.9219729900360107,3.9505887031555176,3.982569694519043,4.031384468078613,4.110498428344727,4.176142692565918,4.258624076843262,4.275454998016357,4.231691360473633,4.2131757736206055,4.245156764984131,4.285554885864258,4.1306962966918945,4.160994052886963,4.206442832946777,4.091981410980225,4.231691360473633,4.164361000061035,4.125646591186523,3.9017746448516846,3.800779342651367,3.9219729900360107,3.8613762855529785,3.8950400352478027,3.8176121711730957,3.67790150642395,3.7082009315490723,3.6038384437561035,3.580272674560547,3.470862627029419,3.5853235721588135,3.581956386566162,3.6880016326904297,3.6459197998046875,3.8681085109710693,3.836127281188965,3.6795854568481445,3.725034236907959,3.8176121711730957,3.664435625076294,3.5583906173706055,3.533142566680908,3.533142566680908,3.5735397338867188,3.6459197998046875,3.6829519271850586,3.486011028289795,3.305903911590576,3.258772611618042,3.2335238456726074,3.1746106147766113,3.169559955596924,3.179659843444824,3.0921313762664795,3.115696668624878,3.1560940742492676,3.083714723587036,3.162827491760254,3.20995831489563,3.0752997398376465,3.0971803665161133,3.1560940742492676,3.172926902770996,3.2032253742218018,3.2520391941070557,3.2840213775634766,3.2840213775634766,3.2857046127319336,3.1897592544555664,3.26550555229187,3.3328347206115723,3.309269666671753,3.3648176193237305,3.450662851333618,3.5163087844848633,3.4153149127960205,3.368185043334961,3.3227367401123047,3.37491774559021,3.55334210395813,3.477595090866089,3.5785906314849854,3.556708574295044,3.529775619506836,3.528092384338379,3.45571231842041,3.3429346084594727,3.3176863193511963,3.2941207885742188,3.337886333465576,3.3698668479919434,3.49442720413208,3.2082748413085938,3.1661932468414307,3.1005468368530273,3.0870814323425293,3.1005468368530273,3.0870814323425293,3.0853981971740723,3.0079681873321533,3.0180678367614746,3.076982021331787,3.114013195037842,3.199859142303467,3.1560940742492676,3.125795602798462,3.093813896179199,3.0719313621520996,3.1392624378204346,3.13252854347229,3.1291615962982178,3.26550555229187,3.260455846786499,3.2924370765686035,3.2789714336395264,3.2823381423950195,3.2890713214874268,3.3530349731445312,3.3362021446228027,3.3463006019592285,3.3160030841827393,3.3176863193511963,3.3665010929107666,3.347985029220581,3.4068989753723145,3.401848554611206,3.3530349731445312,3.3799662590026855,3.4287807941436768,3.3328347206115723,3.2402570247650146,3.167876720428467,3.083714723587036,3.0752997398376465,3.1005468368530273,3.1914422512054443,3.2049081325531006,3.220057964324951,3.2368907928466797,3.26550555229187,3.2621383666992188,3.267188549041748,3.307586193084717,3.250356435775757,3.295804977416992,3.2907536029815674,3.3580849170684814,3.3648176193237305,3.45571231842041,3.398482322692871,3.390065908432007,3.5516576766967773,3.506211519241333,3.487694501876831,3.5095772743225098,3.534825086593628,3.4338302612304688,3.386699676513672,3.430464029312134,3.401848554611206,3.4254143238067627,3.450662851333618,3.386699676513672,3.3530349731445312,3.4119482040405273,3.560074806213379,3.590372323989868,3.576906681060791,3.6088883876800537,3.5886895656585693,3.6425540447235107,3.743548631668091,3.689682960510254,3.659386157989502,3.6290879249572754,3.6543362140655518,3.6476035118103027,3.5785906314849854,3.6425540447235107,3.6526529788970947,3.7401819229125977,3.745232343673706,3.790679693222046,3.788996458053589,3.8630592823028564,3.851276397705078,3.8563263416290283,3.78731369972229,3.684634208679199,3.4725453853607178,3.4961111545562744,3.484328031539917,3.398482322692871,3.479278087615967,3.467496395111084,3.4287807941436768,3.4287807941436768,3.443929672241211,3.5365095138549805,3.517993450164795,3.5499744415283203,3.5449249744415283,3.541557788848877,3.5466084480285645,3.531458616256714,3.5466084480285645,3.4590790271759033,3.3362021446228027,3.2823381423950195,3.37491774559021,3.390065908432007,3.3698668479919434,3.3160030841827393,3.4287807941436768,3.4136321544647217,3.344618320465088,3.3732330799102783,3.4119482040405273,3.385017156600952,3.3580849170684814,3.312636375427246,3.312636375427246,3.2840213775634766,3.3412516117095947,3.3580849170684814,3.319369316101074,3.3160030841827393,3.38838267326355,3.37491774559021,3.3176863193511963,3.3362021446228027,3.326103448867798,3.295804977416992,3.3277857303619385,3.3362021446228027,3.45571231842041,3.4573967456817627,3.531458616256714,3.528092384338379,3.566807508468628,3.5381925106048584,3.55334210395813,3.657702684402466,3.656019449234009,3.698101043701172,3.7570154666900635,3.8091959953308105,3.790679693222046,3.8580095767974854,3.7990965843200684,3.9691035747528076,4.022968292236328,4.044851303100586,4.007819175720215,3.9977197647094727,4.006135940551758,4.268723011016846,4.277139186859131,4.443781852722168,4.400016784667969,4.470713138580322,4.43536376953125,4.467346668243408,4.458930969238281,4.425264835357666,4.413481712341309,4.410116195678711,4.322587490081787,4.339418888092041,4.352885723114014,4.322587490081787,4.3545684814453125,4.285554885864258,4.288921356201172,4.339418888092041,4.3427863121032715,4.364668369293213,4.497644424438477,4.457246780395508,4.43536376953125,4.490911960601807,4.598639965057373,4.692902565002441,4.655869483947754,4.649137020111084,4.671018600463867,4.671018600463867,4.748449802398682,4.709734916687012,4.62388801574707,4.588540077209473,4.499327182769775,4.472395896911621,4.406749725341797,4.421898365020752,4.460613250732422,4.420215606689453,4.4185309410095215,4.448830604553223,4.396650791168213,4.410116195678711,4.450512886047363,4.511110782623291,4.630621910095215,4.467346668243408,4.420215606689453,4.396650791168213,4.341102600097656,4.43536376953125,4.374767303466797,4.489229679107666,4.532993793487549,4.612105846405029,4.596956253051758,4.581806659698486,4.519527435302734,4.368034839630127,4.176142692565918,4.078515529632568,4.011185646057129,3.970787286758423,3.942172050476074,3.990985631942749,3.918606758117676,3.9253389835357666,3.9505887031555176,3.9775195121765137,3.9994025230407715,3.9556384086608887,3.9657371044158936,3.9691035747528076,3.8899922370910645,3.8563263416290283,3.846226692199707,3.6829519271850586,3.725034236907959,3.4607627391815186,3.5954225063323975,3.4573967456817627,3.6088883876800537,3.487694501876831,3.526409864425659,3.6004717350006104,3.443929672241211,3.607205390930176,3.6307711601257324,3.6375038623809814,3.800779342651367,3.930389881134033,3.78731369972229,3.834444522857666,3.888308048248291,3.932072162628174,4.028018474578857,3.878209114074707,3.728400945663452,3.8394935131073,3.9085066318511963,3.8563263416290283,3.893357753753662,3.9085066318511963,3.900090456008911,4.024651050567627,4.147529125213623,4.189610004425049,4.078515529632568,4.036435604095459,3.9455392360687256,3.8058297634124756,3.788996458053589,3.974153757095337,4.019601345062256,3.9590060710906982,4.0381178855896,3.888308048248291,3.8664262294769287,4.004451751708984,4.017918586730957,4.049899578094482,4.095347881317139,4.137429714202881,4.194660663604736,4.3175368309021,4.245156764984131,4.235057353973389,4.080197811126709,4.20475959777832,4.186244010925293,4.218225955963135,4.2148590087890625,4.3057541847229,4.309121608734131,4.2148590087890625,4.361300468444824,4.410116195678711,4.304070949554443,4.2148590087890625,4.2249579429626465,4.347836017608643,4.324269771575928,4.283872604370117,4.315854072570801,4.194660663604736,4.140795707702637,4.236741065979004,4.147529125213623,3.9657371044158936,3.790679693222046,3.6913673877716064,3.7805793285369873,3.8243441581726074,3.7755303382873535,3.7216672897338867,3.620671510696411,3.7637476921081543,3.829394578933716,3.8916749954223633,3.932072162628174,3.9085066318511963,3.985936403274536,3.9287071228027344,3.9876203536987305,3.967421054840088,4.073465824127197,4.159310817718506,4.051583290100098,3.953955888748169,3.9893040657043457,3.9287071228027344,3.8159282207489014,3.9505887031555176,3.962371826171875,4.004451751708984,4.026335716247559,4.026335716247559,4.051583290100098,4.0987138748168945,4.061682224273682,4.004451751708984,4.061682224273682,4.251891136169434,4.186244010925293,4.0381178855896,4.078515529632568,4.103764533996582,4.070099353790283,3.957322597503662,3.9101905822753906,4.043168067932129,4.181192874908447,4.132379531860352,4.167727947235107,4.166044235229492,4.208125591278076,4.157629489898682,4.093664646148682,3.9960362911224365,3.932072162628174,3.9236562252044678,3.916923999786377,3.979203939437866,3.940487861633301,3.9943528175354004,4.122280597686768,4.053267478942871,3.851276397705078,3.8613762855529785,3.8681085109710693,3.8394935131073,3.903881311416626,3.927603006362915,3.9479353427886963,3.8920207023620605,3.946241617202759,3.8513545989990234,3.897104263305664,3.9530181884765625,3.859825849533081,4.039432525634766,4.044516086578369,4.093652725219727,4.0309600830078125,4.0495991706848145,4.10212516784668,4.0495991706848145,4.027571678161621,4.0309600830078125,3.9818224906921387,4.03434944152832,3.991987943649292,4.058069705963135,4.0682373046875,4.1800665855407715,3.9242141246795654,4.002155780792236,4.032654762268066,4.025877952575684,3.9801290035247803,3.827633857727051,3.7005538940429688,3.8056046962738037,3.7344419956207275,3.719191551208496,3.681914806365967,3.702247381210327,3.6293892860412598,3.6039726734161377,3.6531097888946533,3.597195863723755,3.676832914352417,3.7530813217163086,3.7768023014068604,3.7768023014068604,3.792050838470459,3.7903571128845215,3.7751073837280273,3.8259387016296387,3.8259387016296387,3.8428826332092285,3.8564372062683105,3.8733818531036377,3.8581323623657227,3.8089945316314697,3.6988589763641357,3.573474168777466,3.5768637657165527,3.5429747104644775,3.5700855255126953,3.444700241088867,3.5378923416137695,3.493837594985962,3.531114339828491,3.1380162239074707,3.2312066555023193,3.2159576416015625,3.226123571395874,3.232901096343994,3.2738895416259766,3.33366322517395,3.3661105632781982,3.3575713634490967,3.275596857070923,3.279012441635132,3.279012441635132,3.33707857131958,3.3046298027038574,3.2106995582580566,3.2499794960021973,3.1218936443328857,3.171419858932495,3.092860221862793,3.029670000076294,3.04504132270813,3.1116456985473633,3.137263774871826,3.0979843139648438,2.998929977416992,3.021131992340088,2.9357407093048096,2.985266923904419,3.043333053588867,3.041625738143921,3.1355555057525635,3.0706584453582764,3.137263774871826,3.1201858520507812,3.0962753295898438,2.9920990467071533,2.9972221851348877,2.9391558170318604,2.92037034034729,2.8742594718933105,2.8298561573028564,2.858888626098633,2.886214256286621,2.869135856628418,2.7837443351745605,2.7564191818237305,2.686398983001709,2.693230390548706,2.727386951446533,2.7564191818237305,2.7359254360198975,2.7359254360198975,2.7444651126861572,2.689814805984497,2.7154324054718018,2.734218120574951,2.8708431720733643,2.8571813106536865,2.8742594718933105,3.029670000076294,3.055288076400757,2.951111078262329,2.9118313789367676,3.0706584453582764,3.171419858932495,3.3285398483276367,3.3285398483276367,3.2089920043945312,3.2277777194976807,3.1879711151123047,3.1412415504455566,3.139512300491333,3.2208549976348877,3.3160438537597656,3.302198648452759,3.5323832035064697,3.5566139221191406,3.644878625869751,3.7487220764160156,3.736607789993286,3.7677602767944336,3.819680690765381,3.873333215713501,4.006598949432373,3.8577582836151123,3.8819873332977295,3.9512155055999756,3.9356393814086914,3.8594865798950195,3.830066204071045,3.6137261390686035,3.655264139175415,3.6206490993499756,3.6344940662384033,3.676032543182373,3.691607713699341,3.6864168643951416,3.8716037273406982,3.9944825172424316,4.023905277252197,4.151978969573975,3.973714828491211,3.956407308578491,3.9408302307128906,3.9425618648529053,3.9719839096069336,3.9702532291412354,4.056789398193359,4.001406192779541,4.0152506828308105,3.997945785522461,4.029098033905029,4.105249404907227,3.9806370735168457,3.9512155055999756,4.084481239318848,4.120824813842773,4.105249404907227,4.13986349105835,4.04986572265625,3.897563934326172,3.826604127883911,3.9962143898010254,4.025636196136475,4.063711166381836,4.240243434906006,4.421968936920166,4.4860053062438965,4.581194877624512,4.686769008636475,4.685036659240723,4.685037136077881,4.660581111907959,4.618656158447266,4.578479290008545,4.585466384887695,4.512098789215088,4.520833969116211,4.536555290222168,4.653594017028809,4.768886089324951,4.793342590332031,4.840507507324219,4.861468315124512,4.823038101196289,4.805569171905518,4.807316303253174,4.8422532081604,4.812556743621826,4.564504623413086,4.466681480407715,4.468428611755371,4.347896575927734,4.309465408325195,4.285009384155273,4.3828325271606445,4.48240327835083,4.255312919616699,4.332173824310303,4.323440074920654,4.050931453704834,3.949615478515625,3.9810595512390137,4.061413288116455,4.01948881149292,4.0456929206848145,4.029971122741699,4.103338241577148,4.066654682159424,4.073641777038574,4.043946743011475,4.099843978881836,4.1417694091796875,4.153995513916016,4.195921421051025,4.129540920257568,4.05267858505249,4.31295919418335,4.410782337188721,4.683290958404541,4.402048587799072,4.438732624053955,4.552276134490967,4.576733589172363,4.515593528747559,4.547037124633789,4.498125076293945,4.43174409866333,4.454452991485596,4.42475700378418,4.3199462890625,4.335669040679932,4.298985004425049,4.330428123474121,4.409035682678223,4.377594470977783,4.247775077819824,4.157698154449463,4.291930198669434,4.311359882354736,4.33432149887085,4.3572821617126465,4.461488723754883,4.500345706939697,4.530372142791748,4.487982273101807,4.495046615600586,4.5427350997924805,4.457956790924072,4.495046615600586,4.457956790924072,4.532138824462891,4.4826836585998535,4.655774116516113,4.671669960021973,4.940136432647705,5.256290912628174,5.34106969833374,5.342835903167725,5.279251575469971,5.291615962982178,5.344602584838867,5.277485370635986,5.282784461975098,5.595405578613281,5.655457019805908,5.542418956756592,5.704911231994629,5.787925720214844,5.772029399871826,5.78085994720459,5.743769645690918,5.862105846405029,6.04579496383667,6.0475592613220215,6.114677429199219,6.105847358703613,6.1641316413879395,6.1358723640441895,6.413169860839844,6.561532020568848,6.568596363067627,6.586259365081787,6.5597662925720215,6.5509352684021,6.7787766456604,6.759349346160889,6.824698448181152,6.886517524719238,6.720492839813232,7.022516250610352,6.845893383026123,6.496182441711426,6.4025702476501465,6.360182285308838,5.671353816986084,5.602470874786377,5.620132923126221,5.916859149932861,5.905283451080322,6.126108646392822,6.320220947265625,6.208027362823486,6.165287494659424,6.544608116149902,6.2311787605285645,6.717350006103516,6.516113758087158,6.683513641357422,6.947077751159668,6.856255054473877,6.849132061004639,6.861597061157227,7.2907819747924805,7.262287139892578,7.105576515197754,7.134067058563232,7.1910552978515625,7.278316020965576,7.484893321990967,7.516949653625488,7.509824752807617,7.547224521636963,7.65585470199585,7.5917463302612305,7.602427959442139,7.554346084594727,7.586403846740723,7.687911510467529,7.74311637878418,7.807227611541748,7.74311637878418,7.76983118057251,7.7395548820495605,7.661195755004883,7.554346084594727,7.700377941131592,7.908735275268555,8.156270980834961,8.08325481414795,8.353948593139648,8.736828804016113,8.900666236877441,8.973681449890137,8.955873489379883,8.724364280700684,8.526689529418945,8.635318756103516,8.720800399780273,8.811623573303223,8.76888370513916,8.670937538146973,8.492851257324219,8.473260879516602,8.49463176727295,8.590800285339355,8.480388641357422,9.244368553161621,9.192723274230957,9.328070640563965,8.792032241821289,8.886418342590332,9.071756362915039,8.991175651550293,8.948198318481445,8.889103889465332,9.168456077575684,8.883736610412598,8.971478462219238,9.014455795288086,8.874777793884277,8.855082511901855,9.392295837402344,9.33320426940918,9.422738075256348,9.200688362121582,9.283061981201172,8.851503372192383,8.91954517364502,9.141595840454102,9.096829414367676,9.030571937561035,8.890897750854492,8.890897750854492,9.170247077941895,9.010875701904297,8.921338081359863,9.078922271728516,8.8783597946167,8.831804275512695,8.957151412963867,9.292015075683594,9.232922554016113,9.272318840026855,9.186365127563477,9.250829696655273,9.431690216064453,9.648368835449219,9.786253929138184,9.805951118469238,9.754019737243652,9.813115119934082,9.827439308166504,9.743277549743652,9.929511070251465,9.888324737548828,9.816696166992188,9.85788345336914,9.902649879455566,10.128278732299805,10.036951065063477,9.637622833251953,9.934882164001465,9.916977882385254,10.199909210205078,10.312723159790039,10.284071922302246,10.122908592224121,9.856090545654297,9.524808883666992,9.39050579071045,8.73868465423584,8.928503036499023,8.756591796875,8.641987800598145,8.554243087768555,8.640195846557617,8.459197044372559,8.275495529174805,8.243080139160156,8.12781810760498,8.118814468383789,8.208861351013184,8.243080139160156,8.142226219177246,8.214264869689941,8.516828536987305,8.664508819580078,8.821192741394043,8.992289543151855,8.981483459472656,8.869821548461914,9.098543167114258,9.179590225219727,9.06972885131836,8.832000732421875,8.87342357635498,8.871620178222656,8.941861152648926,8.868019104003906,8.675315856933594,7.949519634246826,8.167438507080078,8.09900188446045,8.198054313659668,8.162038803100586,6.539355278015137,6.658219814300537,6.7986955642700195,6.780684471130371,6.8815412521362305,7.068841457366943,6.888742923736572,6.577175617218018,6.72125244140625,6.492528438568115,6.316032409667969,6.359256267547607,6.316032409667969,6.092710971832275,6.11432409286499,6.260201930999756,6.366459846496582,6.39347505569458,6.5591654777526855,6.4384989738464355,6.575372695922852,6.458309173583984,6.413286209106445,6.508736610412598,6.411483287811279,6.41868782043457,6.404281139373779,6.492528438568115,6.928366184234619,6.856326580047607,6.708646297454834,6.719451904296875,6.697840213775635,6.726654052734375,6.978791236877441,6.967984199523926,6.937370300292969,6.935568809509277,6.9319682121276855,6.933769226074219,6.743032932281494,7.08090877532959,7.220783233642578,6.973734378814697,6.832041263580322,6.982815265655518,6.870188236236572,6.922869682312012,6.86474084854126,7.066377639770508,6.781178951263428,7.378823757171631,7.466015815734863,7.734867572784424,7.8783745765686035,8.063663482666016,7.7820963859558105,7.905623912811279,7.945587635040283,7.843858242034912,7.4860005378723145,7.360657215118408,7.478732109069824,7.529596328735352,7.4006218910217285,7.53323221206665,7.442401885986328,7.678555011749268,7.249846935272217,7.304344654083252,7.151754379272461,7.327960014343262,7.329774379730225,7.20806884765625,7.131771087646484,7.251664638519287,6.930136203765869,6.841126441955566,6.510512351989746,6.543210983276367,6.641305923461914,6.688535213470459,6.875638961791992,6.623138427734375,6.51596212387085,6.579541206359863,6.717598915100098,6.61768913269043,6.710333347320557,6.699434280395508,6.98099946975708,6.773913383483887,6.941035747528076,6.933769702911377,6.875638961791992,6.699717998504639,6.701549053192139,6.827993392944336,6.723538398742676,6.8316569328308105,6.692387580871582,6.833491325378418,6.915955066680908,6.652069568634033,6.778514862060547,6.912290573120117,7.383248329162598,7.330105781555176,7.3227739334106445,7.350265026092529,7.403406620025635,7.374085426330566,7.368588447570801,7.4345574378967285,7.394242286682129,7.41623592376709,7.4217329025268555,7.489534854888916,7.652629852294922,7.621478080749512,7.63063907623291,7.65812873840332,7.656294345855713,7.557338714599609,7.656294345855713,7.517024517059326,7.612314224243164,7.559174060821533,7.8487114906311035,7.852375507354736,8.079609870910645,8.195058822631836,8.44794750213623,8.370980262756348,8.444281578063965,7.958662033081055,7.905519485473633,7.69111442565918,7.553673267364502,7.639802932739258,7.57383394241333,7.604983329772949,7.489534854888916,7.458381652832031,7.63063907623291,7.500528812408447,7.575664520263672,7.665458679199219,7.264133453369141,7.449221611022949,7.491367340087891,7.57383394241333,7.419898509979248,7.861538887023926,7.7717437744140625,7.837714672088623,7.878030300140381,7.911016941070557,7.792830467224121,8.079058647155762,8.038436889648438,8.206480026245117,8.354209899902344,8.176932334899902,7.970108985900879,7.966415882110596,8.117838859558105,8.053208351135254,8.034741401672363,8.28218936920166,8.128920555114746,8.167698860168457,8.010732650756836,8.010732650756836,7.826071262359619,7.971957206726074,7.7669782638549805,7.7632856369018555,7.7669782638549805,7.608165740966797,7.4567437171936035,7.549074172973633,7.471515655517578,7.3053178787231445,7.203752517700195,7.320089817047119,7.0726399421691895,7.074487209320068,6.869511127471924,6.869511127471924,7.1021881103515625,7.244377613067627,7.360715866088867,7.50844669342041,7.517683029174805,7.4973673820495605,7.619246482849121,7.761438369750977,7.72081184387207,7.576773643493652,7.669105529785156,7.770672798156738,7.896242618560791,7.887009143829346,7.890702247619629,7.947948455810547,8.260030746459961,8.06797981262207,7.892552375793457,7.848230838775635,8.016275405883789,8.210172653198242,8.19909381866455,8.143692970275879,8.128920555114746,8.053208351135254,8.101218223571777,7.04437780380249,7.0257720947265625,6.9587883949279785,6.921576023101807,7.035076141357422,6.666668891906738,6.612709999084473,6.811798095703125,6.897387504577637,6.962510108947754,6.5475873947143555,6.618290901184082,6.201508522033691,6.309426307678223,6.009861946105957,6.127083778381348,5.9391584396362305,6.08242654800415,6.158713340759277,6.419203281402588,6.348498344421387,6.4433913230896,6.212671279907227,6.261048793792725,6.261048793792725,6.2945404052734375,6.28895902633667,6.28895902633667,6.46013879776001,6.268490314483643,6.195926666259766,6.268490314483643,6.004280090332031,6.283377170562744,6.097311973571777,6.737372398376465,6.411760330200195,6.763422012329102,6.7113237380981445,6.8545918464660645,6.906689643859863,6.9587883949279785,7.10019588470459,7.122523784637451,6.997862815856934,6.74853515625,6.558750629425049,6.852731704711914,6.977395057678223,6.815517902374268,6.828545093536377,6.83970832824707,6.917853355407715,7.077868938446045,6.981115341186523,6.930878162384033,6.949484825134277,6.951345443725586,6.977395057678223,6.982977390289307,6.975533962249756,6.949484825134277,6.9104132652282715,6.936460018157959,6.889944553375244,6.878780364990234,7.195087432861328,7.196951389312744,7.448135852813721,7.442554473876953,7.472324371337891,7.596988201141357,7.563497066497803,7.345799922943115,7.3830132484436035,7.642134189605713,7.715360641479492,7.681563377380371,7.72099494934082,7.659031391143799,7.683441162109375,7.762302875518799,7.681563377380371,7.4750189781188965,7.283497333526611,7.202756404876709,7.076952934265137,7.127649784088135,7.093852519989014,7.172713279724121,7.204635143280029,7.131404876708984,7.268476486206055,7.50881814956665,7.585803031921387,7.5895586013793945,7.585803031921387,7.6778106689453125,7.687198162078857,7.446855545043945,7.57078218460083,7.525717258453369,7.555759906768799,7.57078218460083,7.644012451171875,7.5632710456848145,7.583924293518066,7.384891986846924,7.2365546226501465,7.354848861694336,7.533227443695068,7.514450550079346,7.34733772277832,7.418689250946045,7.546371936798096,7.465630531311035,7.332314968109131,7.3604817390441895,7.354848861694336,7.521963596343994,7.555759906768799,7.568904399871826,7.536982536315918,7.655278205871582,7.660909652709961,7.544495105743408,7.411180019378662,7.683441162109375,8.150981903076172,8.162249565124512,8.256133079528809,8.20919132232666,8.265521049499512,8.28805160522461,8.149852752685547,8.121458053588867,8.111990928649902,8.140390396118164,8.132816314697266,8.049521446228027,8.047627449035645,8.146068572998047,8.176359176635742,8.157427787780762,8.308877944946289,8.397854804992676,8.433821678161621,8.26533317565918,8.337275505065918,8.096847534179688,8.132816314697266,8.35241985321045,8.246404647827148,8.390280723571777,8.714003562927246,8.659104347229004,8.878702163696289,8.89006233215332,8.96389389038086,8.84652042388916,8.787835121154785,8.941176414489746,8.835161209106445,8.865453720092773,8.886277198791504,8.935498237609863,8.886277198791504,8.611775398254395,8.57959270477295,8.572020530700684,8.683713912963867,8.738615989685059,8.679926872253418,8.50954818725586,8.626919746398926,8.782156944274902,8.585271835327148,8.551196098327637,8.672356605529785,8.655316352844238,8.636385917663574,8.727255821228027,8.980931282043457,8.88817024230957,8.89574146270752,8.793514251708984,8.562554359436035,8.486832618713379,8.132816314697266,8.308877944946289,8.587164878845215,8.746187210083008,8.043840408325195,8.041949272155762,7.795843601226807,7.915110111236572,7.896180152893066,7.877084255218506,7.980201721191406,7.980201721191406,8.087137222290039,8.169249534606934,8.243725776672363,8.211261749267578,8.398404121398926,8.327747344970703,8.071861267089844,7.966833591461182,7.896178245544434,7.844620704650879,7.867534160614014,7.829343795776367,7.695672035217285,7.72049617767334,7.869443893432617,7.737682819366455,7.92482328414917,8.11196231842041,8.276188850402832,8.295283317565918,8.398404121398926,8.480513572692871,8.390765190124512,8.310562133789062,8.220808982849121,8.38885498046875,8.490062713623047,8.539711952209473,8.612276077270508,8.791779518127441,8.971281051635742,8.660017013549805,8.530163764953613,8.44996166229248,8.698208808898926,8.728760719299316,8.797508239746094,8.818512916564941,8.927360534667969,8.946456909179688,8.963642120361328,8.940726280212402,8.688660621643066,8.772683143615723,8.512978553771973,8.503430366516113,7.099876403808594,7.273650646209717,7.096057891845703,7.220181465148926,7.344306468963623,7.497073173522949,7.181990623474121,7.239278793334961,6.99675989151001,6.876454830169678,6.68931245803833,6.695102691650391,6.534960746765137,6.324652671813965,6.424983501434326,6.380605697631836,6.509878635406494,6.25905179977417,6.176087379455566,5.788272857666016,5.840367317199707,5.892461776733398,5.8963212966918945,5.604978084564209,5.5490241050720215,5.547094821929932,5.518153667449951,5.547094821929932,5.473776340484619,5.493070602416992,5.485353469848633,5.49500036239624,5.410106182098389,5.462200164794922,5.5509538650512695,5.473776340484619,5.489212512969971,5.473776340484619,5.668648719787598,5.37923526763916,5.197869300842285,4.935467720031738,4.947044372558594,4.921962738037109,4.860220432281494,4.879512786865234,4.9528326988220215,4.835136890411377,5.028079509735107,5.045444488525391,4.960549831390381,5.057020664215088,5.172786712646484,5.001068115234375,5.0493035316467285,5.211376190185547,5.176646709442139,5.381165027618408,5.232598304748535,5.141915798187256,5.145774841308594,5.205587387084961,5.402387619018555,5.545165538787842,5.641635894775391,5.439047336578369,5.635847091674805,5.680224895477295,5.767049312591553,5.780554294586182,5.892461776733398,5.94648551940918,5.969638824462891,6.037168979644775,6.311147212982178,6.0945305824279785,5.998907566070557,5.8779144287109375,6.106240272521973,5.940362453460693,6.000859260559082,6.178444862365723,6.0067138671875,6.227232933044434,6.119900226593018,6.016469955444336,6.020374298095703,5.889623165130615,5.926702499389648,5.907186031341553,5.872059345245361,6.149172306060791,6.197959899902344,6.192105770111084,6.115996837615967,6.03598690032959,5.91109037399292,5.872059345245361,5.682765007019043,5.754970073699951,5.831078052520752,5.872059345245361,6.141366958618164,6.176494121551514,6.203814506530762,6.2857770919799805,6.332612991333008,6.418478965759277,6.305293083190918,6.400915145874023,6.400915145874023,6.50239372253418,6.514102935791016,6.420431613922119,6.400915145874023,6.31505012512207,6.108191013336182,5.998907566070557,5.875962734222412,5.872059345245361,5.891575813293457,5.955974102020264,5.698376655578613,5.678861618041992,5.606656074523926,5.663249492645264,5.553964614868164,5.470050811767578,5.571528434753418,5.557868003845215,5.555916786193848,5.600801467895508,5.80180549621582,5.850592613220215,5.620316028594971,5.678861618041992,5.649589538574219,5.637879848480225,5.587141036987305,5.628659248352051,5.626681327819824,5.581210136413574,5.391412734985352,5.24511194229126,5.146259307861328,5.086947441101074,5.1660284996032715,5.12648868560791,5.16998291015625,5.219408988952637,5.108694553375244,5.1403279304504395,5.205570697784424,5.0098419189453125,5.04147481918335,5.150212287902832,5.221386432647705,5.254997253417969,5.3498945236206055,5.199638843536377,5.233248710632324,5.205570697784424,5.4111833572387695,5.624704837799072,5.682039260864258,5.703786849975586,5.6583147048950195,5.5337605476379395,5.968711853027344,5.968711853027344,6.152577877044678,6.130829334259033,6.091289043426514,6.105127811431885,6.178278923034668,6.192117214202881,6.16246223449707,6.118967533111572,6.0003437995910645,5.780891418457031,5.859973907470703,5.863928318023682,5.939055919647217,5.88962984085083,5.857996940612793,5.960803031921387,6.150600433349609,6.1980485916137695,6.273177146911621,6.16246223449707,6.093265533447266,6.16246223449707,6.271199703216553,6.2197957038879395,6.344350337982178,6.269221782684326,6.358189582824707,5.682039260864258,5.727511882781982,5.632613182067871,5.612842082977295,5.54166841506958,5.612842082977295,5.608888626098633,5.634929656982422,5.564818382263184,5.4446282386779785,5.416584014892578,5.406567573547363,5.414581298828125,5.4586501121521,5.426599979400635,5.5888566970825195,5.552799701690674,5.634929656982422,5.662973880767822,5.646948337554932,5.5367751121521,5.4947075843811035,5.5067267417907715,5.436615467071533,5.526758193969727,5.564818382263184,5.434611797332764,5.448634624481201,5.34446907043457,5.34446907043457,5.37451696395874,5.218269348144531,5.232291221618652,5.102085590362549,5.084056377410889,4.947841644287109,4.971879482269287,5.007936477661133,5.029972076416016,5.009939193725586,5.035980701446533,4.957857131958008,4.961863040924072,4.8056159019470215,4.7875871658325195,4.817634582519531,4.719478607177734,4.192645072937012,4.172612190246582,4.152580261230469,4.25474214553833,4.188637733459473,4.312834739685059,4.3809428215026855,4.471085071563721,4.6052985191345215,4.5371904373168945,4.619319915771484,4.6994476318359375,4.6994476318359375,4.6994476318359375,4.829654216766357,5.220272541046143,5.172196388244629,5.037982940673828,4.979024410247803,5.019686222076416,5.009520530700684,4.934296607971191,4.985123634338379,5.060347557067871,5.2738213539123535,5.27992057800293,5.29008674621582,5.371409893035889,5.3653106689453125,5.139638423919678,5.151835918426514,5.1681013107299805,5.265688896179199,5.310417652130127,5.3653106689453125,5.094910621643066,5.166068077087402,5.27585506439209,5.1376051902771,5.151835918426514,5.1355719566345215,5.157936096191406,5.2697553634643555,5.082711696624756,4.985123634338379,4.979024410247803,5.009520530700684,5.003421783447266,5.025785446166992,4.621201515197754,4.745219707489014,4.775716781616211,4.739119529724121,4.794013500213623,4.865171909332275,4.852972984313965,4.913965225219727,4.924130916595459,4.942429065704346,4.915998458862305,4.979024410247803,4.940395355224609,4.956660270690918,5.02985143661499,5.01765251159668,5.0074872970581055,5.040017127990723,5.162002086639404,5.21689510345459,5.157936096191406,5.233160018920898,5.241292476654053,5.1681013107299805,5.1985979080200195,5.330748081207275,5.33888053894043,5.196564197540283,5.342947006225586,5.391740322113037,4.968859672546387,4.976991176605225,5.078644752502441,5.139638423919678,5.064414024353027,5.015620231628418,5.082711696624756,5.082711696624756,5.19832181930542,4.9939398765563965,5.070324420928955,5.093034267425537,5.008391380310059,5.086840629577637,4.929941177368164,4.956779956817627,4.97329568862915,4.9464569091796875,4.273441314697266,4.304408073425293,4.484017372131348,4.53149938583374,4.636786937713623,4.655367374420166,4.5418219566345215,4.537693023681641,4.492274761199951,4.508790493011475,4.471630096435547,4.517047882080078,4.5645318031311035,4.556272983551025,4.6202712059021,4.725559711456299,4.715237617492676,4.702850818634033,4.7874932289123535,4.7874932289123535,4.793686389923096,4.83084774017334,4.882458686828613,4.768913269042969,4.68427038192749,4.702850818634033,4.839105606079102,4.948521137237549,4.865942478179932,4.954714775085449,5.0331645011901855,5.055873394012451,5.150838851928711,5.026971340179443,4.96090841293335,5.029036045074463,5.05174446105957,4.921683311462402,4.90929651260376,5.000133514404297,4.9650373458862305,4.67807674407959,4.688398838043213,4.876266002655029,4.587240695953369,4.659496784210205,4.5707244873046875,4.702850818634033,4.680140972137451,4.720034599304199,4.598254680633545,4.627650260925293,4.486972808837891,4.62135124206543,4.558360576629639,4.615051746368408,4.541563034057617,4.455477237701416,4.3231987953186035,4.3672919273376465,4.333697319030762,4.29590368270874,4.312701225280762,4.33579683303833,4.436580181121826,4.489072322845459,4.516368389129639,4.5373640060424805,4.5373640060424805,4.535264492034912,4.516368389129639,4.434481620788574,4.390388011932373,4.386188983917236,4.400886535644531,4.4071855545043945,4.442880153656006,4.413484573364258,4.468075275421143,4.4281816482543945,4.4827728271484375,4.430282115936279,4.363092422485352,4.3672919273376465,4.463876724243164,4.417684555053711,4.55626106262207,4.514267921447754,4.554161548614502,4.484872817993164,4.489072322845459,4.547863006591797,4.60455322265625,4.654945373535156,4.606653213500977,4.636049270629883,4.507968902587891,4.568859577178955,4.587756156921387,4.394587993621826,4.491171836853027,4.430282115936279,4.455477237701416,4.40508508682251,4.543663501739502,4.510068893432617,4.57305908203125,4.073339462280273,4.020848751068115,3.936861753463745,3.945261240005493,3.8843703269958496,3.9200644493103027,3.9767556190490723,4.060741901397705,4.037182807922363,4.101434230804443,4.112143516540527,4.182820796966553,4.287765979766846,4.300616264343262,4.345592975616455,4.319892406463623,4.324175834655762,4.304900169372559,4.259923458099365,4.285624027252197,4.377719402313232,4.422696113586426,4.465530872344971,4.452681064605713,4.424837589263916,4.3841447830200195,4.328458786010742,4.337026596069336,4.3948540687561035,4.287765979766846,4.315608501434326,4.332742691040039,4.195671558380127,4.176396369934082,4.221372604370117,4.1571197509765625,4.210663318634033,4.294190883636475,4.294190883636475,4.3113250732421875,4.343451499938965,4.2749152183532715,4.199955463409424,4.178537845611572,4.1421284675598145,4.020048141479492,4.002914905548096,3.9836394786834717,3.9643633365631104,3.876552104949951,3.8187246322631836,3.6645193099975586,3.683795690536499,3.760897636413574,3.518880844116211,3.469621419906616,3.4674792289733887,3.426785945892334,3.4653375148773193,3.4931800365448,3.5210227966308594,3.5831334590911865,3.720205068588257,3.7309138774871826,3.8915436267852783,4.073592185974121,4.1806793212890625,4.095493316650391,4.0998616218566895,4.2374701499938965,4.209074974060059,4.152284145355225,4.069282054901123,4.193784713745117,4.165389060974121,4.174126625061035,4.078019142150879,4.014674663543701,4.0059380531311035,4.07583475112915,4.01685905456543,3.9862797260284424,4.029964923858643,3.995016574859619,4.043069839477539,3.9862797260284424,3.9688057899475098,3.9207522869110107,3.9884636402130127,3.975358724594116,4.001569747924805,4.080203056335449,4.2003374099731445,4.270233631134033,4.2986297607421875,4.35978889465332,3.8792507648468018,3.748195171356201,3.8224599361419678,3.9010937213897705,3.960068941116333,3.833380699157715,3.8006174564361572,3.7088782787323,3.6782989501953125,3.7263524532318115,3.7460107803344727,3.72853684425354,3.671746015548706,3.638981819152832,3.5450587272644043,3.4183714389801025,3.525400161743164,3.5974807739257812,3.457688331604004,3.5319533348083496,3.4511351585388184,3.4030814170837402,3.542874336242676,3.5843753814697266,3.582190990447998,3.4642410278320312,3.4271085262298584,3.411818504333496,3.4882681369781494,3.5122947692871094,3.40089750289917,3.4271085262298584,3.4882681369781494,3.564342975616455,3.5911929607391357,3.593430280685425,3.566580295562744,3.499455451965332,3.546442747116089,3.4793179035186768,3.4927427768707275,3.4591803550720215,3.4256179332733154,3.450230360031128,3.3137426376342773,3.2376673221588135,3.1369800567626953,3.0944671630859375,3.020629644393921,3.1414546966552734,3.105654716491699,3.166067361831665,2.8237295150756836,2.868479013442993,2.910991907119751,2.9848294258117676,3.034054756164551,3.004967212677002,3.0161542892456055,3.0609049797058105,3.0967049598693848,3.0497171878814697,3.0452420711517334,3.0899922847747803,3.11907958984375,3.056429386138916,3.025104522705078,2.881904363632202,2.9535043239593506,3.0004918575286865,3.0116796493530273,3.058666944503784,3.101179599761963,3.054192066192627,3.0989420413970947,3.009442090988159,2.8707168102264404,2.9087541103363037,2.8841419219970703,2.861766815185547,2.893092155456543,2.9154670238494873,2.8438668251037598,2.9669294357299805,3.022867202758789,3.0318171977996826,3.0474796295166016,2.7879292964935303,2.8595290184020996,2.834916830062866,2.846104383468628,2.850579023361206,2.834916830062866,2.9199419021606445,3.002729654312134,2.9535043239593506,3.069854497909546,3.1862049102783203,3.2667548656463623,3.226480007171631,3.24214243888855,3.2510924339294434,3.2832584381103516,3.228116512298584,3.062689781188965,2.9524054527282715,3.2074382305145264,3.492339611053467,3.6187071800231934,3.6095166206359863,3.568160057067871,3.5658626556396484,3.471661329269409,3.439495086669922,3.3544843196868896,3.418816566467285,3.3475911617279053,3.253389835357666,3.228116512298584,3.3613767623901367,3.480851411819458,3.5543744564056396,3.4142212867736816,3.377459764480591,3.4670662879943848,3.5107202529907227,3.4969348907470703,3.349889039993286,3.349889039993286,3.428007125854492,3.464768409729004,3.421114206314087,3.395840644836426,3.333805799484253,3.402733564376831,3.4073288440704346,3.377459764480591,3.3108296394348145,3.384352684020996,3.359079122543335,3.411923885345459,3.4142212867736816,3.473958730697632,3.5038273334503174,3.4946370124816895,3.5199103355407715,3.4946370124816895,3.561267375946045,3.542886734008789,3.4969348907470703,3.5222082138061523,3.6416831016540527,3.788728952407837,3.901310920715332,3.850764036178589,3.8025143146514893,3.3797576427459717,3.2235209941864014,3.244199514389038,3.1201295852661133,3.0489044189453125,3.228116512298584,3.735884428024292,3.708313226699829,3.7060153484344482,3.676146984100342,3.7129082679748535,3.8277878761291504,3.9150967597961426,3.857656955718994,3.904672622680664,3.8788137435913086,3.9023220539093018,3.8764631748199463,3.8835155963897705,3.6484360694885254,3.7659757137298584,3.664891481399536,3.6554882526397705,3.5896661281585693,3.5920166969299316,3.495634078979492,3.507388114929199,3.483880043029785,3.4509692192077637,3.5214929580688477,3.469775438308716,3.4862310886383057,3.4462673664093018,3.4791786670684814,3.4979848861694336,3.594367504119873,3.601419687271118,3.5402991771698,3.4627227783203125,3.5544040203094482,3.5896661281585693,3.542649984359741,3.394549608230591,3.2229416370391846,3.4157071113586426,3.448618173599243,3.4321627616882324,3.6084725856781006,3.669593095779419,3.52384352684021,3.5144402980804443,3.5026865005493164,3.493283271789551,3.441565990447998,3.2629053592681885,3.2629053592681885,3.0466318130493164,3.0865955352783203,3.0066685676574707,3.0630877017974854,2.886777877807617,3.2229416370391846,3.1735751628875732,3.4274611473083496,3.46037220954895,3.528545379638672,3.4392149448394775,3.2111876010894775,3.260554552078247,3.1735751628875732,3.1876797676086426,3.2158894538879395,3.1989636421203613,3.131260633468628,3.1989636421203613,3.092573404312134,3.0853195190429688,3.0587217807769775,3.0780653953552246,3.0417962074279785,3.0055267810821533,2.8918824195861816,2.8217616081237793,2.998272657394409,2.945077657699585,2.969257116317749,3.0514678955078125,3.160276174545288,3.136096715927124,3.684973955154419,3.7430050373077393,3.822798013687134,3.863903045654297,3.85906720161438,3.8324697017669678,3.7816925048828125,3.7550947666168213,3.7913644313812256,3.8131260871887207,3.851813554763794,3.692228078842163,3.7430050373077393,3.8203799724578857,3.84455943107605,3.7478411197662354,2.727461099624634,2.7081172466278076,2.741968870162964,2.7177891731262207,2.749222755432129,2.8507771492004395,2.783074378967285,2.773402452468872,2.744386911392212,2.732296943664551,2.792746067047119,2.773402452468872,2.739550828933716,2.763730525970459,2.7081172466278076,2.7081172466278076,2.6670119762420654,2.749222755432129,2.792746067047119,2.8145077228546143,2.8217616081237793,2.8290154933929443,2.8411052227020264,2.797581911087036,2.8048360347747803,2.795164108276367,2.8024179935455322,2.6525044441223145,2.722625255584717,2.773402452468872,2.799999952316284,2.737499952316284,2.765000104904175,2.7674999237060547,2.740000009536743,2.625,2.637500047683716,2.612499952316284,2.5350000858306885,2.5875000953674316,2.572499990463257,2.547499895095825,2.5399999618530273,2.5924999713897705,2.5250000953674316,2.4075000286102295,2.507499933242798,2.4649999141693115,2.484999895095825,2.4549999237060547,2.492500066757202,2.440000057220459,2.3299999237060547,2.234999895095825,2.2699999809265137,2.234999895095825,2.192500114440918,2.1624999046325684,2.2225000858306885,2.252500057220459,2.237499952316284,2.2225000858306885,2.190000057220459,2.1624999046325684,2.127500057220459,2.192500114440918,2.242500066757202,2.2125000953674316,2.192500114440918,2.172499895095825,2.130000114440918,2.119999885559082,2.065000057220459,2.132499933242798,2.172499895095825,2.1675000190734863,2.1524999141693115,2.015000104904175,2.0325000286102295,1.975000023841858,1.9249999523162842,1.9550000429153442,1.934999942779541,1.8925000429153442,1.899999976158142,1.8949999809265137,1.8674999475479126,1.9550000429153442,1.2599999904632568,1.2825000286102295,1.2549999952316284,1.3600000143051147,1.4299999475479126,1.375,1.4249999523162842,1.4075000286102295,1.4249999523162842,1.4325000047683716,1.4075000286102295,1.3825000524520874,1.3550000190734863,1.3424999713897705,1.3624999523162842,1.3674999475479126,1.3849999904632568,1.3674999475479126,1.340000033378601,1.3450000286102295,1.3274999856948853,1.3799999952316284,1.3624999523162842,1.3274999856948853,1.2949999570846558,1.2100000381469727,1.2274999618530273,1.1875,1.1575000286102295,1.0950000286102295,1.0499999523162842,1.0800000429153442,1.034999966621399,1.0225000381469727,1.0199999809265137,0.9950000047683716,1.002500057220459,1.0299999713897705,1.0075000524520874,1.0049999952316284,0.9599999785423279,0.9449999928474426,0.9275000095367432,0.9524999856948853,0.9524999856948853,0.9725000262260437,0.8974999785423279,0.8774999976158142,0.8675000071525574,0.8299999833106995,0.8025000095367432,0.8299999833106995,0.8450000286102295,0.8550000190734863,0.8849999904632568,0.9674999713897705,0.9125000238418579,0.9549999833106995,0.925000011920929,0.9700000286102295,1.0575000047683716,0.9925000071525574,0.9524999856948853,0.9950000047683716,1.0575000047683716,1.0774999856948853,1.190000057220459,1.2725000381469727,1.1475000381469727,1.1449999809265137,1.1024999618530273,1.087499976158142,1.0824999809265137,1.149999976158142,1.1100000143051147,1.1749999523162842,1.2549999952316284,1.252500057220459,1.2999999523162842,1.3200000524520874,1.3350000381469727,1.3799999952316284,1.3949999809265137,1.3300000429153442,1.3550000190734863,1.3875000476837158,1.372499942779541,1.3075000047683716,1.247499942779541,1.2625000476837158,1.3424999713897705,1.3949999809265137,1.402500033378601,1.4700000286102295,1.5075000524520874,1.4850000143051147,1.4824999570846558,1.597499966621399,1.6074999570846558,1.6050000190734863,1.587499976158142,1.5475000143051147,1.4524999856948853,1.4325000047683716,1.3600000143051147,1.4600000381469727,1.462499976158142,1.4774999618530273,1.5225000381469727,1.5549999475479126,1.5225000381469727,1.5049999952316284,1.4800000190734863,1.4850000143051147,1.4950000047683716,1.4700000286102295,1.4049999713897705,1.375,1.3650000095367432,1.375,1.4149999618530273,1.5075000524520874,1.524999976158142,1.587499976158142,1.5850000381469727,1.5425000190734863,1.5299999713897705,1.6074999570846558,1.600000023841858,1.6699999570846558,1.5824999809265137,1.627500057220459,1.3825000524520874,1.3949999809265137,1.3624999523162842,1.375,1.5149999856948853,1.5399999618530273,1.5149999856948853,1.497499942779541,1.402500033378601,1.3600000143051147,1.350000023841858,1.475000023841858,1.5325000286102295,1.5199999809265137,1.5774999856948853,1.4700000286102295,1.462499976158142,1.3799999952316284,1.4299999475479126,1.3875000476837158,1.3574999570846558,1.3574999570846558,1.1775000095367432,1.152500033378601,1.1549999713897705,1.1875,1.1475000381469727,1.1399999856948853,1.1549999713897705,1.0800000429153442,1.0700000524520874,1.0525000095367432,1.0325000286102295,0.9825000166893005,0.9599999785423279,0.987500011920929,1.0175000429153442,1.0449999570846558,1.034999966621399,0.9524999856948853,0.9850000143051147,1.0049999952316284,1.0475000143051147,1.027500033378601,1.0049999952316284,1.0149999856948853,1.037500023841858,1.034999966621399,1.0099999904632568,0.925000011920929,0.8899999856948853,0.8475000262260437,0.8675000071525574,0.8999999761581421,0.9574999809265137,0.9075000286102295,0.9424999952316284,0.9900000095367432,0.9800000190734863,0.925000011920929,1.0575000047683716,1.034999966621399,0.9950000047683716,1.1475000381469727,1.0924999713897705,1.0575000047683716,0.9424999952316284,1.0475000143051147,0.9399999976158142,0.9524999856948853,1.0399999618530273,1.0425000190734863,1.1024999618530273,1.0549999475479126,0.9125000238418579,0.875,0.8125,0.7124999761581421,0.699999988079071,0.7724999785423279,0.8174999952316284,0.8525000214576721,0.9725000262260437,1.184999942779541,1.4874999523162842,1.3174999952316284,1.2575000524520874,1.2200000286102295,1.402500033378601,1.1950000524520874,1.222499966621399,1.1749999523162842,1.1924999952316284,1.4550000429153442,1.409999966621399,1.5099999904632568,1.4325000047683716,1.5125000476837158,1.3700000047683716,1.347499966621399,1.2324999570846558,1.2174999713897705,1.2450000047683716,1.190000057220459,1.1349999904632568,1.0525000095367432,1.0325000286102295,1.0549999475479126,1.1449999809265137,1.1100000143051147,1.1074999570846558,1.1100000143051147,1.0449999570846558,1.1050000190734863,1.1725000143051147,1.0824999809265137,1.0149999856948853,1.0325000286102295,1.0449999570846558,1.1100000143051147,1.1174999475479126,1.034999966621399,1.252500057220459,1.2400000095367432,1.2675000429153442,1.0924999713897705,1.1799999475479126,1.1725000143051147,1.159999966621399,1.190000057220459,1.2374999523162842,1.2200000286102295,1.2174999713897705,1.2074999809265137,1.1024999618530273,1.1150000095367432,1.087499976158142,1.0950000286102295,1.0850000381469727,1.1100000143051147,1.0724999904632568,1.059999942779541,1.0225000381469727,1.065000057220459,1.0525000095367432,1.0850000381469727,1.065000057220459,1.0199999809265137,1.0475000143051147,1.0425000190734863,0.9900000095367432,0.9624999761581421,1.002500057220459,1.027500033378601,1.027500033378601,1.0075000524520874,1.002500057220459,0.9850000143051147,1.0149999856948853,1.024999976158142,1.002500057220459,1.037500023841858,1.1074999570846558,1.1575000286102295,1.1074999570846558,1.0399999618530273,1.0824999809265137,1.087499976158142,1.1299999952316284,1.159999966621399,1.1875,1.1575000286102295,1.2024999856948853,1.1799999475479126,1.152500033378601,1.2575000524520874,1.2174999713897705,1.2450000047683716,1.277500033378601,1.3125,1.347499966621399,1.6699999570846558,1.912500023841858,1.9275000095367432,1.9550000429153442,1.912500023841858,1.9249999523162842,1.837499976158142,1.5575000047683716,1.5225000381469727,1.7274999618530273,1.7725000381469727,2.1700000762939453,2.299999952316284,2.367500066757202,2.1875,2.640000104904175,2.509999990463257,2.2850000858306885,2.505000114440918,2.5225000381469727,2.5875000953674316,2.549999952316284,2.442500114440918,2.3475000858306885,2.365000009536743,2.2825000286102295,2.3399999141693115,3.372499942779541,3.005000114440918,2.950000047683716,2.9700000286102295,3.0625,3.4574999809265137,3.327500104904175,3.4774999618530273,3.4649999141693115,3.5250000953674316,3.7274999618530273,3.75,3.362499952316284,3.172499895095825,2.9549999237060547,2.932499885559082,2.617500066757202,2.6875,2.8924999237060547,2.7274999618530273,2.862499952316284,2.9649999141693115,2.872499942779541,2.7750000953674316,2.9375,2.7825000286102295,2.752500057220459,3.015000104904175,2.9075000286102295,2.8924999237060547,3.115000009536743,3.177500009536743,3.4749999046325684,3.4175000190734863,3.6875,4.019999980926514,4.139999866485596,3.950000047683716,4.144999980926514,4.03000020980835,4.224999904632568,4.087500095367432,4.235000133514404,3.4149999618530273,3.5299999713897705,3.327500104904175,3.180000066757202,3.4625000953674316,3.4625000953674316,3.7074999809265137,3.9075000286102295,3.882499933242798,4.864999771118164,5.142499923706055,5.037499904632568,5.247499942779541,4.84499979019165,4.815000057220459,4.710000038146973,4.3125,4.34250020980835,4.590000152587891,4.519999980926514,4.422500133514404,4.985000133514404,4.987500190734863,7.849999904632568,9.977499961853027,8.875,9.84000015258789,9.779999732971191,10.757499694824219,16.252500534057617,19.197500228881836,36.994998931884766,86.87750244140625,48.400001525878906,81.25,56.25,22.5,23.102500915527344,13.375,15.942500114440918,15.0,12.577500343322754,12.800000190734863,12.774999618530273,13.100000381469727,12.3774995803833,11.484999656677246,10.172499656677246,10.147500038146973,11.5,11.242500305175781,22.927499771118164,27.1825008392334,25.434999465942383,30.100000381469727,29.545000076293945,31.045000076293945,33.087501525878906,34.435001373291016,48.625,61.724998474121094,66.25,65.0,66.125,55.03499984741211,52.04249954223633,52.45249938964844,50.4375,50.067501068115234,48.622501373291016,45.4375,30.084999084472656,45.9375,45.25,45.32500076293945,48.6150016784668,47.45500183105469,47.86249923706055,46.73749923706055,46.125,44.49250030517578,42.564998626708984,39.59000015258789,35.272499084472656,35.247501373291016,41.63249969482422,39.11000061035156,38.67250061035156,41.092498779296875,39.63249969482422,39.627498626708984,37.79249954223633,37.79499816894531,42.23249816894531,44.442501068115234,44.64500045776367,44.04750061035156,43.397499084472656,40.54999923706055,40.182498931884766,39.869998931884766,40.252498626708984,40.27750015258789,35.80500030517578,36.72999954223633,36.1974983215332,41.125,39.97999954223633,45.150001525878906,45.16749954223633,42.20750045776367,42.622501373291016,44.1974983215332,45.002498626708984,52.35749816894531,60.63999938964844,63.532501220703125,55.5,62.255001068115234,70.55999755859375,64.54499816894531,62.09000015258789,70.00250244140625,75.0,75.63999938964844,55.09749984741211,58.334999084472656,57.36000061035156],\"type\":\"scatter\",\"xaxis\":\"x\",\"yaxis\":\"y\"},{\"name\":\"Revenue\",\"x\":[\"2020-04-30T00:00:00\",\"2020-01-31T00:00:00\",\"2019-10-31T00:00:00\",\"2019-07-31T00:00:00\",\"2019-04-30T00:00:00\",\"2019-01-31T00:00:00\",\"2018-10-31T00:00:00\",\"2018-07-31T00:00:00\",\"2018-04-30T00:00:00\",\"2018-01-31T00:00:00\",\"2017-10-31T00:00:00\",\"2017-07-31T00:00:00\",\"2017-04-30T00:00:00\",\"2017-01-31T00:00:00\",\"2016-10-31T00:00:00\",\"2016-07-31T00:00:00\",\"2016-04-30T00:00:00\",\"2016-01-31T00:00:00\",\"2015-10-31T00:00:00\",\"2015-07-31T00:00:00\",\"2015-04-30T00:00:00\",\"2015-01-31T00:00:00\",\"2014-10-31T00:00:00\",\"2014-07-31T00:00:00\",\"2014-04-30T00:00:00\",\"2014-01-31T00:00:00\",\"2013-10-31T00:00:00\",\"2013-07-31T00:00:00\",\"2013-04-30T00:00:00\",\"2013-01-31T00:00:00\",\"2012-10-31T00:00:00\",\"2012-07-31T00:00:00\",\"2012-04-30T00:00:00\",\"2012-01-31T00:00:00\",\"2011-10-31T00:00:00\",\"2011-07-31T00:00:00\",\"2011-04-30T00:00:00\",\"2011-01-31T00:00:00\",\"2010-10-31T00:00:00\",\"2010-07-31T00:00:00\",\"2010-04-30T00:00:00\",\"2010-01-31T00:00:00\",\"2009-10-31T00:00:00\",\"2009-07-31T00:00:00\",\"2009-04-30T00:00:00\",\"2009-01-31T00:00:00\",\"2008-10-31T00:00:00\",\"2008-07-31T00:00:00\",\"2008-04-30T00:00:00\",\"2008-01-31T00:00:00\",\"2007-10-31T00:00:00\",\"2007-07-31T00:00:00\",\"2007-04-30T00:00:00\",\"2007-01-31T00:00:00\",\"2006-10-31T00:00:00\",\"2006-07-31T00:00:00\",\"2006-04-30T00:00:00\",\"2006-01-31T00:00:00\",\"2005-10-31T00:00:00\",\"2005-07-31T00:00:00\",\"2005-04-30T00:00:00\",\"2005-01-31T00:00:00\"],\"y\":[1021.0,2194.0,1439.0,1286.0,1548.0,3063.0,1935.0,1501.0,1786.0,2825.0,1989.0,1688.0,2046.0,2403.0,1959.0,1632.0,1972.0,3525.0,2016.0,1762.0,2061.0,3476.0,2092.0,1731.0,1996.0,3684.0,2107.0,1384.0,1865.0,3562.0,1773.0,1550.0,2002.0,3579.0,1947.0,1744.0,2281.0,3693.0,1899.0,1799.0,2083.0,3524.0,1835.0,1739.0,1981.0,3492.0,1696.0,1804.0,1814.0,2866.0,1611.0,1338.0,1279.0,2304.0,1012.0,963.0,1040.0,1667.0,534.0,416.0,475.0,709.0],\"type\":\"scatter\",\"xaxis\":\"x2\",\"yaxis\":\"y2\"}],                        {\"template\":{\"data\":{\"histogram2dcontour\":[{\"type\":\"histogram2dcontour\",\"colorbar\":{\"outlinewidth\":0,\"ticks\":\"\"},\"colorscale\":[[0.0,\"#0d0887\"],[0.1111111111111111,\"#46039f\"],[0.2222222222222222,\"#7201a8\"],[0.3333333333333333,\"#9c179e\"],[0.4444444444444444,\"#bd3786\"],[0.5555555555555556,\"#d8576b\"],[0.6666666666666666,\"#ed7953\"],[0.7777777777777778,\"#fb9f3a\"],[0.8888888888888888,\"#fdca26\"],[1.0,\"#f0f921\"]]}],\"choropleth\":[{\"type\":\"choropleth\",\"colorbar\":{\"outlinewidth\":0,\"ticks\":\"\"}}],\"histogram2d\":[{\"type\":\"histogram2d\",\"colorbar\":{\"outlinewidth\":0,\"ticks\":\"\"},\"colorscale\":[[0.0,\"#0d0887\"],[0.1111111111111111,\"#46039f\"],[0.2222222222222222,\"#7201a8\"],[0.3333333333333333,\"#9c179e\"],[0.4444444444444444,\"#bd3786\"],[0.5555555555555556,\"#d8576b\"],[0.6666666666666666,\"#ed7953\"],[0.7777777777777778,\"#fb9f3a\"],[0.8888888888888888,\"#fdca26\"],[1.0,\"#f0f921\"]]}],\"heatmap\":[{\"type\":\"heatmap\",\"colorbar\":{\"outlinewidth\":0,\"ticks\":\"\"},\"colorscale\":[[0.0,\"#0d0887\"],[0.1111111111111111,\"#46039f\"],[0.2222222222222222,\"#7201a8\"],[0.3333333333333333,\"#9c179e\"],[0.4444444444444444,\"#bd3786\"],[0.5555555555555556,\"#d8576b\"],[0.6666666666666666,\"#ed7953\"],[0.7777777777777778,\"#fb9f3a\"],[0.8888888888888888,\"#fdca26\"],[1.0,\"#f0f921\"]]}],\"heatmapgl\":[{\"type\":\"heatmapgl\",\"colorbar\":{\"outlinewidth\":0,\"ticks\":\"\"},\"colorscale\":[[0.0,\"#0d0887\"],[0.1111111111111111,\"#46039f\"],[0.2222222222222222,\"#7201a8\"],[0.3333333333333333,\"#9c179e\"],[0.4444444444444444,\"#bd3786\"],[0.5555555555555556,\"#d8576b\"],[0.6666666666666666,\"#ed7953\"],[0.7777777777777778,\"#fb9f3a\"],[0.8888888888888888,\"#fdca26\"],[1.0,\"#f0f921\"]]}],\"contourcarpet\":[{\"type\":\"contourcarpet\",\"colorbar\":{\"outlinewidth\":0,\"ticks\":\"\"}}],\"contour\":[{\"type\":\"contour\",\"colorbar\":{\"outlinewidth\":0,\"ticks\":\"\"},\"colorscale\":[[0.0,\"#0d0887\"],[0.1111111111111111,\"#46039f\"],[0.2222222222222222,\"#7201a8\"],[0.3333333333333333,\"#9c179e\"],[0.4444444444444444,\"#bd3786\"],[0.5555555555555556,\"#d8576b\"],[0.6666666666666666,\"#ed7953\"],[0.7777777777777778,\"#fb9f3a\"],[0.8888888888888888,\"#fdca26\"],[1.0,\"#f0f921\"]]}],\"surface\":[{\"type\":\"surface\",\"colorbar\":{\"outlinewidth\":0,\"ticks\":\"\"},\"colorscale\":[[0.0,\"#0d0887\"],[0.1111111111111111,\"#46039f\"],[0.2222222222222222,\"#7201a8\"],[0.3333333333333333,\"#9c179e\"],[0.4444444444444444,\"#bd3786\"],[0.5555555555555556,\"#d8576b\"],[0.6666666666666666,\"#ed7953\"],[0.7777777777777778,\"#fb9f3a\"],[0.8888888888888888,\"#fdca26\"],[1.0,\"#f0f921\"]]}],\"mesh3d\":[{\"type\":\"mesh3d\",\"colorbar\":{\"outlinewidth\":0,\"ticks\":\"\"}}],\"scatter\":[{\"fillpattern\":{\"fillmode\":\"overlay\",\"size\":10,\"solidity\":0.2},\"type\":\"scatter\"}],\"parcoords\":[{\"type\":\"parcoords\",\"line\":{\"colorbar\":{\"outlinewidth\":0,\"ticks\":\"\"}}}],\"scatterpolargl\":[{\"type\":\"scatterpolargl\",\"marker\":{\"colorbar\":{\"outlinewidth\":0,\"ticks\":\"\"}}}],\"bar\":[{\"error_x\":{\"color\":\"#2a3f5f\"},\"error_y\":{\"color\":\"#2a3f5f\"},\"marker\":{\"line\":{\"color\":\"#E5ECF6\",\"width\":0.5},\"pattern\":{\"fillmode\":\"overlay\",\"size\":10,\"solidity\":0.2}},\"type\":\"bar\"}],\"scattergeo\":[{\"type\":\"scattergeo\",\"marker\":{\"colorbar\":{\"outlinewidth\":0,\"ticks\":\"\"}}}],\"scatterpolar\":[{\"type\":\"scatterpolar\",\"marker\":{\"colorbar\":{\"outlinewidth\":0,\"ticks\":\"\"}}}],\"histogram\":[{\"marker\":{\"pattern\":{\"fillmode\":\"overlay\",\"size\":10,\"solidity\":0.2}},\"type\":\"histogram\"}],\"scattergl\":[{\"type\":\"scattergl\",\"marker\":{\"colorbar\":{\"outlinewidth\":0,\"ticks\":\"\"}}}],\"scatter3d\":[{\"type\":\"scatter3d\",\"line\":{\"colorbar\":{\"outlinewidth\":0,\"ticks\":\"\"}},\"marker\":{\"colorbar\":{\"outlinewidth\":0,\"ticks\":\"\"}}}],\"scattermapbox\":[{\"type\":\"scattermapbox\",\"marker\":{\"colorbar\":{\"outlinewidth\":0,\"ticks\":\"\"}}}],\"scatterternary\":[{\"type\":\"scatterternary\",\"marker\":{\"colorbar\":{\"outlinewidth\":0,\"ticks\":\"\"}}}],\"scattercarpet\":[{\"type\":\"scattercarpet\",\"marker\":{\"colorbar\":{\"outlinewidth\":0,\"ticks\":\"\"}}}],\"carpet\":[{\"aaxis\":{\"endlinecolor\":\"#2a3f5f\",\"gridcolor\":\"white\",\"linecolor\":\"white\",\"minorgridcolor\":\"white\",\"startlinecolor\":\"#2a3f5f\"},\"baxis\":{\"endlinecolor\":\"#2a3f5f\",\"gridcolor\":\"white\",\"linecolor\":\"white\",\"minorgridcolor\":\"white\",\"startlinecolor\":\"#2a3f5f\"},\"type\":\"carpet\"}],\"table\":[{\"cells\":{\"fill\":{\"color\":\"#EBF0F8\"},\"line\":{\"color\":\"white\"}},\"header\":{\"fill\":{\"color\":\"#C8D4E3\"},\"line\":{\"color\":\"white\"}},\"type\":\"table\"}],\"barpolar\":[{\"marker\":{\"line\":{\"color\":\"#E5ECF6\",\"width\":0.5},\"pattern\":{\"fillmode\":\"overlay\",\"size\":10,\"solidity\":0.2}},\"type\":\"barpolar\"}],\"pie\":[{\"automargin\":true,\"type\":\"pie\"}]},\"layout\":{\"autotypenumbers\":\"strict\",\"colorway\":[\"#636efa\",\"#EF553B\",\"#00cc96\",\"#ab63fa\",\"#FFA15A\",\"#19d3f3\",\"#FF6692\",\"#B6E880\",\"#FF97FF\",\"#FECB52\"],\"font\":{\"color\":\"#2a3f5f\"},\"hovermode\":\"closest\",\"hoverlabel\":{\"align\":\"left\"},\"paper_bgcolor\":\"white\",\"plot_bgcolor\":\"#E5ECF6\",\"polar\":{\"bgcolor\":\"#E5ECF6\",\"angularaxis\":{\"gridcolor\":\"white\",\"linecolor\":\"white\",\"ticks\":\"\"},\"radialaxis\":{\"gridcolor\":\"white\",\"linecolor\":\"white\",\"ticks\":\"\"}},\"ternary\":{\"bgcolor\":\"#E5ECF6\",\"aaxis\":{\"gridcolor\":\"white\",\"linecolor\":\"white\",\"ticks\":\"\"},\"baxis\":{\"gridcolor\":\"white\",\"linecolor\":\"white\",\"ticks\":\"\"},\"caxis\":{\"gridcolor\":\"white\",\"linecolor\":\"white\",\"ticks\":\"\"}},\"coloraxis\":{\"colorbar\":{\"outlinewidth\":0,\"ticks\":\"\"}},\"colorscale\":{\"sequential\":[[0.0,\"#0d0887\"],[0.1111111111111111,\"#46039f\"],[0.2222222222222222,\"#7201a8\"],[0.3333333333333333,\"#9c179e\"],[0.4444444444444444,\"#bd3786\"],[0.5555555555555556,\"#d8576b\"],[0.6666666666666666,\"#ed7953\"],[0.7777777777777778,\"#fb9f3a\"],[0.8888888888888888,\"#fdca26\"],[1.0,\"#f0f921\"]],\"sequentialminus\":[[0.0,\"#0d0887\"],[0.1111111111111111,\"#46039f\"],[0.2222222222222222,\"#7201a8\"],[0.3333333333333333,\"#9c179e\"],[0.4444444444444444,\"#bd3786\"],[0.5555555555555556,\"#d8576b\"],[0.6666666666666666,\"#ed7953\"],[0.7777777777777778,\"#fb9f3a\"],[0.8888888888888888,\"#fdca26\"],[1.0,\"#f0f921\"]],\"diverging\":[[0,\"#8e0152\"],[0.1,\"#c51b7d\"],[0.2,\"#de77ae\"],[0.3,\"#f1b6da\"],[0.4,\"#fde0ef\"],[0.5,\"#f7f7f7\"],[0.6,\"#e6f5d0\"],[0.7,\"#b8e186\"],[0.8,\"#7fbc41\"],[0.9,\"#4d9221\"],[1,\"#276419\"]]},\"xaxis\":{\"gridcolor\":\"white\",\"linecolor\":\"white\",\"ticks\":\"\",\"title\":{\"standoff\":15},\"zerolinecolor\":\"white\",\"automargin\":true,\"zerolinewidth\":2},\"yaxis\":{\"gridcolor\":\"white\",\"linecolor\":\"white\",\"ticks\":\"\",\"title\":{\"standoff\":15},\"zerolinecolor\":\"white\",\"automargin\":true,\"zerolinewidth\":2},\"scene\":{\"xaxis\":{\"backgroundcolor\":\"#E5ECF6\",\"gridcolor\":\"white\",\"linecolor\":\"white\",\"showbackground\":true,\"ticks\":\"\",\"zerolinecolor\":\"white\",\"gridwidth\":2},\"yaxis\":{\"backgroundcolor\":\"#E5ECF6\",\"gridcolor\":\"white\",\"linecolor\":\"white\",\"showbackground\":true,\"ticks\":\"\",\"zerolinecolor\":\"white\",\"gridwidth\":2},\"zaxis\":{\"backgroundcolor\":\"#E5ECF6\",\"gridcolor\":\"white\",\"linecolor\":\"white\",\"showbackground\":true,\"ticks\":\"\",\"zerolinecolor\":\"white\",\"gridwidth\":2}},\"shapedefaults\":{\"line\":{\"color\":\"#2a3f5f\"}},\"annotationdefaults\":{\"arrowcolor\":\"#2a3f5f\",\"arrowhead\":0,\"arrowwidth\":1},\"geo\":{\"bgcolor\":\"white\",\"landcolor\":\"#E5ECF6\",\"subunitcolor\":\"white\",\"showland\":true,\"showlakes\":true,\"lakecolor\":\"white\"},\"title\":{\"x\":0.05},\"mapbox\":{\"style\":\"light\"}}},\"xaxis\":{\"anchor\":\"y\",\"domain\":[0.0,1.0],\"matches\":\"x2\",\"showticklabels\":false,\"title\":{\"text\":\"Date\"},\"rangeslider\":{\"visible\":true}},\"yaxis\":{\"anchor\":\"x\",\"domain\":[0.6499999999999999,0.9999999999999999],\"title\":{\"text\":\"Price ($US)\"}},\"xaxis2\":{\"anchor\":\"y2\",\"domain\":[0.0,1.0],\"title\":{\"text\":\"Date\"}},\"yaxis2\":{\"anchor\":\"x2\",\"domain\":[0.0,0.35],\"title\":{\"text\":\"Revenue ($US Millions)\"}},\"annotations\":[{\"font\":{\"size\":16},\"showarrow\":false,\"text\":\"Historical Share Price\",\"x\":0.5,\"xanchor\":\"center\",\"xref\":\"paper\",\"y\":0.9999999999999999,\"yanchor\":\"bottom\",\"yref\":\"paper\"},{\"font\":{\"size\":16},\"showarrow\":false,\"text\":\"Historical Revenue\",\"x\":0.5,\"xanchor\":\"center\",\"xref\":\"paper\",\"y\":0.35,\"yanchor\":\"bottom\",\"yref\":\"paper\"}],\"showlegend\":false,\"height\":900,\"title\":{\"text\":\"GameStop\"}},                        {\"responsive\": true}                    ).then(function(){\n",
              "                            \n",
              "var gd = document.getElementById('fa395df6-604c-49fe-9484-5343619139e8');\n",
              "var x = new MutationObserver(function (mutations, observer) {{\n",
              "        var display = window.getComputedStyle(gd).display;\n",
              "        if (!display || display === 'none') {{\n",
              "            console.log([gd, 'removed!']);\n",
              "            Plotly.purge(gd);\n",
              "            observer.disconnect();\n",
              "        }}\n",
              "}});\n",
              "\n",
              "// Listen for the removal of the full notebook cells\n",
              "var notebookContainer = gd.closest('#notebook-container');\n",
              "if (notebookContainer) {{\n",
              "    x.observe(notebookContainer, {childList: true});\n",
              "}}\n",
              "\n",
              "// Listen for the clearing of the current output cell\n",
              "var outputEl = gd.closest('.output');\n",
              "if (outputEl) {{\n",
              "    x.observe(outputEl, {childList: true});\n",
              "}}\n",
              "\n",
              "                        })                };                            </script>        </div>\n",
              "</body>\n",
              "</html>"
            ]
          },
          "metadata": {}
        }
      ],
      "source": [
        "make_graph(gme_data, gme_revenue, 'GameStop')"
      ],
      "execution_count": 70
    },
    {
      "cell_type": "markdown",
      "metadata": {
        "id": "90719df3-5716-43b1-853f-d71b18da37db"
      },
      "source": [
        "<h2>About the Authors:</h2>\n",
        "\n",
        "<a href=\"https://www.linkedin.com/in/joseph-s-50398b136/\">Joseph Santarcangelo</a> has a PhD in Electrical Engineering, his research focused on using machine learning, signal processing, and computer vision to determine how videos impact human cognition. Joseph has been working for IBM since he completed his PhD.\n"
      ]
    },
    {
      "cell_type": "markdown",
      "metadata": {
        "id": "1680e1e8-45cd-4f15-95ec-8b6afde9a8e1"
      },
      "source": [
        "## <h3 align=\"center\"> © IBM Corporation 2020. All rights reserved. <h3/>\n",
        "\n",
        "```toggle ## Change Log\n",
        "```\n",
        "```toggle | Date (YYYY-MM-DD) | Version | Changed By    | Change Description        |\n",
        "```\n",
        "```toggle | ----------------- | ------- | ------------- | ------------------------- |\n",
        "```\n",
        "```toggle | 2022-02-28        | 1.2     | Lakshmi Holla | Changed the URL of GameStop |\n",
        "```\n",
        "```toggle | 2020-11-10        | 1.1     | Malika Singla | Deleted the Optional part |\n",
        "```\n",
        "```toggle | 2020-08-27        | 1.0     | Malika Singla | Added lab to GitLab       |\n",
        "```\n"
      ]
    }
  ],
  "metadata": {
    "kernelspec": {
      "display_name": "Python 3 (ipykernel)",
      "language": "python",
      "name": "python3"
    },
    "language_info": {
      "codemirror_mode": {
        "name": "ipython",
        "version": 3
      },
      "file_extension": ".py",
      "mimetype": "text/x-python",
      "name": "python",
      "nbconvert_exporter": "python",
      "pygments_lexer": "ipython3",
      "version": "3.11.9"
    },
    "prev_pub_hash": "3eff379447b11bb93fcfe9128340484c280bbca92c51ece98405a1f05537425b",
    "colab": {
      "provenance": []
    }
  },
  "nbformat": 4,
  "nbformat_minor": 0
}